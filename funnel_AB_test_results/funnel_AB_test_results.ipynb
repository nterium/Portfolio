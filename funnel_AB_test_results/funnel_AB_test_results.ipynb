{
 "cells": [
  {
   "cell_type": "markdown",
   "metadata": {},
   "source": [
    "# Оценка результатов А/В теста ```recommender_system_test```\n",
    "\n"
   ]
  },
  {
   "cell_type": "markdown",
   "metadata": {},
   "source": [
    "Тест проводился с целью оценки эффективность новой платежной воронки."
   ]
  },
  {
   "cell_type": "markdown",
   "metadata": {},
   "source": [
    "**Техническое задание**\n",
    "\n",
    "- Название теста: ```recommender_system_test```;\n",
    "\n",
    "- Группы: А (контрольная), B (новая платёжная воронка);\n",
    "\n",
    "- Дата запуска: 2020-12-07;\n",
    "\n",
    "- Дата остановки набора новых пользователей: 2020-12-21;\n",
    "\n",
    "- Дата остановки: 2021-01-04;\n",
    "\n",
    "- Аудитория: 15% новых пользователей из региона EU;\n",
    "\n",
    "- Назначение теста: тестирование изменений, связанных с внедрением улучшенной рекомендательной системы;\n",
    "\n",
    "- Количество участников теста: 6000\n",
    "\n",
    "- Ожидаемый эффект: за 14 дней с момента регистрации в системе пользователи покажут улучшение каждой метрики не менее, чем на 10%:\n",
    "\n",
    "     - конверсии в просмотр карточек товаров — событие product_page\n",
    "     - просмотры корзины — product_cart\n",
    "     - покупки — purchase."
   ]
  },
  {
   "cell_type": "markdown",
   "metadata": {},
   "source": [
    "**В оценку результатов теста входит:**\n",
    "1. Оценка соответствия теста ТЗ\n",
    "2. Оценка корректности проведения теста\n",
    "3. Исследовательский анализ данных\n",
    "4. Статистическая обработка и анализ результатов теста"
   ]
  },
  {
   "cell_type": "markdown",
   "metadata": {},
   "source": [
    "##  1. Описание данных"
   ]
  },
  {
   "cell_type": "markdown",
   "metadata": {},
   "source": [
    "`ab_project_marketing_events.csv` — календарь маркетинговых событий на 2020 год.\n",
    "\n",
    "Структура файла:\n",
    "\n",
    "- `name` — название маркетингового события;\n",
    "- `regions` — регионы, в которых будет проводиться рекламная кампания;\n",
    "- `start_dt` — дата начала кампании;\n",
    "- `finish_dt` — дата завершения кампании."
   ]
  },
  {
   "cell_type": "markdown",
   "metadata": {},
   "source": [
    "`final_ab_new_users.csv` — пользователи, зарегистрировавшиеся с 7 по 21 декабря 2020 года.\n",
    "\n",
    "Структура файла:\n",
    "\n",
    "- `user_id` — идентификатор пользователя;\n",
    "- `first_date` — дата регистрации;\n",
    "- `region` — регион пользователя;\n",
    "- `device` — устройство, с которого происходила регистрация."
   ]
  },
  {
   "cell_type": "markdown",
   "metadata": {},
   "source": [
    "`final_ab_events.csv` — действия новых пользователей в период с 7 декабря 2020 по 4 января 2021 года.\n",
    "\n",
    "Структура файла:\n",
    "\n",
    "- `user_id` — идентификатор пользователя;\n",
    "- `event_dt` — дата и время покупки;\n",
    "- `event_name` — тип события;\n",
    "- `details` — дополнительные данные о событии. Например, для покупок, `purchase,` в этом поле хранится стоимость покупки в долларах."
   ]
  },
  {
   "cell_type": "markdown",
   "metadata": {},
   "source": [
    "`final_ab_participants.csv` — таблица участников тестов.\n",
    "\n",
    "Структура файла:\n",
    "\n",
    "- `user_id` — идентификатор пользователя;\n",
    "- `ab_test` — название теста;\n",
    "- `group` — группа пользователя."
   ]
  },
  {
   "cell_type": "markdown",
   "metadata": {},
   "source": [
    "## 2. Загрузка данных и библиотек"
   ]
  },
  {
   "cell_type": "code",
   "execution_count": 1,
   "metadata": {},
   "outputs": [],
   "source": [
    "import pandas as pd\n",
    "import numpy as np\n",
    "import seaborn as sns\n",
    "import matplotlib.pyplot as plt\n",
    "import plotly.express as px\n",
    "import math as mth\n",
    "from scipy import stats as st\n",
    "import plotly.io as pio\n",
    "pio.renderers.default = \"browser\""
   ]
  },
  {
   "cell_type": "code",
   "execution_count": 2,
   "metadata": {},
   "outputs": [],
   "source": [
    "# календарь маркетинговых событий на 2020 год\n",
    "\n",
    "ads = pd.read_csv(r\"C:\\Users\\N\\OneDrive\\Desktop\\study\\ipynb\\my projects\\final_project\\AB-test\\ab_project_marketing_events.csv\")"
   ]
  },
  {
   "cell_type": "code",
   "execution_count": 3,
   "metadata": {},
   "outputs": [],
   "source": [
    "# все пользователи, зарегистрировавшиеся в интернет-магазине в период с 7 по 21 декабря 2020 года\n",
    "\n",
    "new_users = pd.read_csv(r\"C:\\Users\\N\\OneDrive\\Desktop\\study\\ipynb\\my projects\\final_project\\AB-test\\final_ab_new_users.csv\")"
   ]
  },
  {
   "cell_type": "code",
   "execution_count": 4,
   "metadata": {},
   "outputs": [],
   "source": [
    "# все события новых пользователей в период с 7 декабря 2020 по 4 января 2021 года\n",
    "\n",
    "events = pd.read_csv(r\"C:\\Users\\N\\OneDrive\\Desktop\\study\\ipynb\\my projects\\final_project\\AB-test\\final_ab_events.csv\")"
   ]
  },
  {
   "cell_type": "code",
   "execution_count": 5,
   "metadata": {},
   "outputs": [],
   "source": [
    "# таблица участников тестов\n",
    "\n",
    "groups = pd.read_csv(r\"C:\\Users\\N\\OneDrive\\Desktop\\study\\ipynb\\my projects\\final_project\\AB-test\\final_ab_participants.csv\")"
   ]
  },
  {
   "cell_type": "code",
   "execution_count": 6,
   "metadata": {},
   "outputs": [],
   "source": [
    "def df_info(df):\n",
    "    \n",
    "    \"\"\"Функция выводит размер и информацию о датафрейме head(), info(), информацию о явных дубликатах\"\"\"\n",
    "    \n",
    "    display(df.head())\n",
    "    print('\\nРазмер датасета', df.shape[0], '\\n')\n",
    "    print('Пропуски в данных и типы данных:\\n')\n",
    "    df.info()\n",
    "    print('\\nЯвные дубликаты:', df.duplicated().sum())"
   ]
  },
  {
   "cell_type": "markdown",
   "metadata": {},
   "source": [
    "### 2.1. Датасет ```ads```"
   ]
  },
  {
   "cell_type": "code",
   "execution_count": 7,
   "metadata": {},
   "outputs": [
    {
     "data": {
      "text/html": [
       "<div>\n",
       "<style scoped>\n",
       "    .dataframe tbody tr th:only-of-type {\n",
       "        vertical-align: middle;\n",
       "    }\n",
       "\n",
       "    .dataframe tbody tr th {\n",
       "        vertical-align: top;\n",
       "    }\n",
       "\n",
       "    .dataframe thead th {\n",
       "        text-align: right;\n",
       "    }\n",
       "</style>\n",
       "<table border=\"1\" class=\"dataframe\">\n",
       "  <thead>\n",
       "    <tr style=\"text-align: right;\">\n",
       "      <th></th>\n",
       "      <th>name</th>\n",
       "      <th>regions</th>\n",
       "      <th>start_dt</th>\n",
       "      <th>finish_dt</th>\n",
       "    </tr>\n",
       "  </thead>\n",
       "  <tbody>\n",
       "    <tr>\n",
       "      <th>0</th>\n",
       "      <td>Christmas&amp;New Year Promo</td>\n",
       "      <td>EU, N.America</td>\n",
       "      <td>2020-12-25</td>\n",
       "      <td>2021-01-03</td>\n",
       "    </tr>\n",
       "    <tr>\n",
       "      <th>1</th>\n",
       "      <td>St. Valentine's Day Giveaway</td>\n",
       "      <td>EU, CIS, APAC, N.America</td>\n",
       "      <td>2020-02-14</td>\n",
       "      <td>2020-02-16</td>\n",
       "    </tr>\n",
       "    <tr>\n",
       "      <th>2</th>\n",
       "      <td>St. Patric's Day Promo</td>\n",
       "      <td>EU, N.America</td>\n",
       "      <td>2020-03-17</td>\n",
       "      <td>2020-03-19</td>\n",
       "    </tr>\n",
       "    <tr>\n",
       "      <th>3</th>\n",
       "      <td>Easter Promo</td>\n",
       "      <td>EU, CIS, APAC, N.America</td>\n",
       "      <td>2020-04-12</td>\n",
       "      <td>2020-04-19</td>\n",
       "    </tr>\n",
       "    <tr>\n",
       "      <th>4</th>\n",
       "      <td>4th of July Promo</td>\n",
       "      <td>N.America</td>\n",
       "      <td>2020-07-04</td>\n",
       "      <td>2020-07-11</td>\n",
       "    </tr>\n",
       "  </tbody>\n",
       "</table>\n",
       "</div>"
      ],
      "text/plain": [
       "                           name                   regions    start_dt  \\\n",
       "0      Christmas&New Year Promo             EU, N.America  2020-12-25   \n",
       "1  St. Valentine's Day Giveaway  EU, CIS, APAC, N.America  2020-02-14   \n",
       "2        St. Patric's Day Promo             EU, N.America  2020-03-17   \n",
       "3                  Easter Promo  EU, CIS, APAC, N.America  2020-04-12   \n",
       "4             4th of July Promo                 N.America  2020-07-04   \n",
       "\n",
       "    finish_dt  \n",
       "0  2021-01-03  \n",
       "1  2020-02-16  \n",
       "2  2020-03-19  \n",
       "3  2020-04-19  \n",
       "4  2020-07-11  "
      ]
     },
     "metadata": {},
     "output_type": "display_data"
    },
    {
     "name": "stdout",
     "output_type": "stream",
     "text": [
      "\n",
      "Размер датасета 14 \n",
      "\n",
      "Пропуски в данных и типы данных:\n",
      "\n",
      "<class 'pandas.core.frame.DataFrame'>\n",
      "RangeIndex: 14 entries, 0 to 13\n",
      "Data columns (total 4 columns):\n",
      " #   Column     Non-Null Count  Dtype \n",
      "---  ------     --------------  ----- \n",
      " 0   name       14 non-null     object\n",
      " 1   regions    14 non-null     object\n",
      " 2   start_dt   14 non-null     object\n",
      " 3   finish_dt  14 non-null     object\n",
      "dtypes: object(4)\n",
      "memory usage: 576.0+ bytes\n",
      "\n",
      "Явные дубликаты: 0\n"
     ]
    }
   ],
   "source": [
    "df_info(ads)"
   ]
  },
  {
   "cell_type": "markdown",
   "metadata": {},
   "source": [
    "**Пропусков в данных нет, явных дубликатов нет.**"
   ]
  },
  {
   "cell_type": "code",
   "execution_count": 8,
   "metadata": {},
   "outputs": [],
   "source": [
    "# меняем тип данных\n",
    "\n",
    "ads['start_dt'] = pd.to_datetime(ads['start_dt'], format='%Y-%m-%d')\n",
    "ads['finish_dt'] = pd.to_datetime(ads['finish_dt'], format='%Y-%m-%d')"
   ]
  },
  {
   "cell_type": "code",
   "execution_count": 9,
   "metadata": {},
   "outputs": [
    {
     "data": {
      "text/plain": [
       "name                 object\n",
       "regions              object\n",
       "start_dt     datetime64[ns]\n",
       "finish_dt    datetime64[ns]\n",
       "dtype: object"
      ]
     },
     "execution_count": 9,
     "metadata": {},
     "output_type": "execute_result"
    }
   ],
   "source": [
    "# check\n",
    "\n",
    "ads.dtypes"
   ]
  },
  {
   "cell_type": "markdown",
   "metadata": {},
   "source": [
    "### 2.2. Датасет ```new_users```"
   ]
  },
  {
   "cell_type": "code",
   "execution_count": 10,
   "metadata": {},
   "outputs": [
    {
     "data": {
      "text/html": [
       "<div>\n",
       "<style scoped>\n",
       "    .dataframe tbody tr th:only-of-type {\n",
       "        vertical-align: middle;\n",
       "    }\n",
       "\n",
       "    .dataframe tbody tr th {\n",
       "        vertical-align: top;\n",
       "    }\n",
       "\n",
       "    .dataframe thead th {\n",
       "        text-align: right;\n",
       "    }\n",
       "</style>\n",
       "<table border=\"1\" class=\"dataframe\">\n",
       "  <thead>\n",
       "    <tr style=\"text-align: right;\">\n",
       "      <th></th>\n",
       "      <th>user_id</th>\n",
       "      <th>first_date</th>\n",
       "      <th>region</th>\n",
       "      <th>device</th>\n",
       "    </tr>\n",
       "  </thead>\n",
       "  <tbody>\n",
       "    <tr>\n",
       "      <th>0</th>\n",
       "      <td>D72A72121175D8BE</td>\n",
       "      <td>2020-12-07</td>\n",
       "      <td>EU</td>\n",
       "      <td>PC</td>\n",
       "    </tr>\n",
       "    <tr>\n",
       "      <th>1</th>\n",
       "      <td>F1C668619DFE6E65</td>\n",
       "      <td>2020-12-07</td>\n",
       "      <td>N.America</td>\n",
       "      <td>Android</td>\n",
       "    </tr>\n",
       "    <tr>\n",
       "      <th>2</th>\n",
       "      <td>2E1BF1D4C37EA01F</td>\n",
       "      <td>2020-12-07</td>\n",
       "      <td>EU</td>\n",
       "      <td>PC</td>\n",
       "    </tr>\n",
       "    <tr>\n",
       "      <th>3</th>\n",
       "      <td>50734A22C0C63768</td>\n",
       "      <td>2020-12-07</td>\n",
       "      <td>EU</td>\n",
       "      <td>iPhone</td>\n",
       "    </tr>\n",
       "    <tr>\n",
       "      <th>4</th>\n",
       "      <td>E1BDDCE0DAFA2679</td>\n",
       "      <td>2020-12-07</td>\n",
       "      <td>N.America</td>\n",
       "      <td>iPhone</td>\n",
       "    </tr>\n",
       "  </tbody>\n",
       "</table>\n",
       "</div>"
      ],
      "text/plain": [
       "            user_id  first_date     region   device\n",
       "0  D72A72121175D8BE  2020-12-07         EU       PC\n",
       "1  F1C668619DFE6E65  2020-12-07  N.America  Android\n",
       "2  2E1BF1D4C37EA01F  2020-12-07         EU       PC\n",
       "3  50734A22C0C63768  2020-12-07         EU   iPhone\n",
       "4  E1BDDCE0DAFA2679  2020-12-07  N.America   iPhone"
      ]
     },
     "metadata": {},
     "output_type": "display_data"
    },
    {
     "name": "stdout",
     "output_type": "stream",
     "text": [
      "\n",
      "Размер датасета 61733 \n",
      "\n",
      "Пропуски в данных и типы данных:\n",
      "\n",
      "<class 'pandas.core.frame.DataFrame'>\n",
      "RangeIndex: 61733 entries, 0 to 61732\n",
      "Data columns (total 4 columns):\n",
      " #   Column      Non-Null Count  Dtype \n",
      "---  ------      --------------  ----- \n",
      " 0   user_id     61733 non-null  object\n",
      " 1   first_date  61733 non-null  object\n",
      " 2   region      61733 non-null  object\n",
      " 3   device      61733 non-null  object\n",
      "dtypes: object(4)\n",
      "memory usage: 1.9+ MB\n",
      "\n",
      "Явные дубликаты: 0\n"
     ]
    }
   ],
   "source": [
    "df_info(new_users)"
   ]
  },
  {
   "cell_type": "markdown",
   "metadata": {},
   "source": [
    "**Данные полные, явных дубликатов нет.**"
   ]
  },
  {
   "cell_type": "code",
   "execution_count": 11,
   "metadata": {},
   "outputs": [],
   "source": [
    "# меняем тип данных\n",
    "\n",
    "new_users['first_date'] = pd.to_datetime(new_users['first_date'], format='%Y-%m-%d')"
   ]
  },
  {
   "cell_type": "code",
   "execution_count": 12,
   "metadata": {},
   "outputs": [
    {
     "data": {
      "text/plain": [
       "user_id               object\n",
       "first_date    datetime64[ns]\n",
       "region                object\n",
       "device                object\n",
       "dtype: object"
      ]
     },
     "execution_count": 12,
     "metadata": {},
     "output_type": "execute_result"
    }
   ],
   "source": [
    "# check\n",
    "\n",
    "new_users.dtypes"
   ]
  },
  {
   "cell_type": "markdown",
   "metadata": {},
   "source": [
    "### 2.3. Датасет ```events```"
   ]
  },
  {
   "cell_type": "code",
   "execution_count": 13,
   "metadata": {},
   "outputs": [
    {
     "data": {
      "text/html": [
       "<div>\n",
       "<style scoped>\n",
       "    .dataframe tbody tr th:only-of-type {\n",
       "        vertical-align: middle;\n",
       "    }\n",
       "\n",
       "    .dataframe tbody tr th {\n",
       "        vertical-align: top;\n",
       "    }\n",
       "\n",
       "    .dataframe thead th {\n",
       "        text-align: right;\n",
       "    }\n",
       "</style>\n",
       "<table border=\"1\" class=\"dataframe\">\n",
       "  <thead>\n",
       "    <tr style=\"text-align: right;\">\n",
       "      <th></th>\n",
       "      <th>user_id</th>\n",
       "      <th>event_dt</th>\n",
       "      <th>event_name</th>\n",
       "      <th>details</th>\n",
       "    </tr>\n",
       "  </thead>\n",
       "  <tbody>\n",
       "    <tr>\n",
       "      <th>0</th>\n",
       "      <td>E1BDDCE0DAFA2679</td>\n",
       "      <td>2020-12-07 20:22:03</td>\n",
       "      <td>purchase</td>\n",
       "      <td>99.99</td>\n",
       "    </tr>\n",
       "    <tr>\n",
       "      <th>1</th>\n",
       "      <td>7B6452F081F49504</td>\n",
       "      <td>2020-12-07 09:22:53</td>\n",
       "      <td>purchase</td>\n",
       "      <td>9.99</td>\n",
       "    </tr>\n",
       "    <tr>\n",
       "      <th>2</th>\n",
       "      <td>9CD9F34546DF254C</td>\n",
       "      <td>2020-12-07 12:59:29</td>\n",
       "      <td>purchase</td>\n",
       "      <td>4.99</td>\n",
       "    </tr>\n",
       "    <tr>\n",
       "      <th>3</th>\n",
       "      <td>96F27A054B191457</td>\n",
       "      <td>2020-12-07 04:02:40</td>\n",
       "      <td>purchase</td>\n",
       "      <td>4.99</td>\n",
       "    </tr>\n",
       "    <tr>\n",
       "      <th>4</th>\n",
       "      <td>1FD7660FDF94CA1F</td>\n",
       "      <td>2020-12-07 10:15:09</td>\n",
       "      <td>purchase</td>\n",
       "      <td>4.99</td>\n",
       "    </tr>\n",
       "  </tbody>\n",
       "</table>\n",
       "</div>"
      ],
      "text/plain": [
       "            user_id             event_dt event_name  details\n",
       "0  E1BDDCE0DAFA2679  2020-12-07 20:22:03   purchase    99.99\n",
       "1  7B6452F081F49504  2020-12-07 09:22:53   purchase     9.99\n",
       "2  9CD9F34546DF254C  2020-12-07 12:59:29   purchase     4.99\n",
       "3  96F27A054B191457  2020-12-07 04:02:40   purchase     4.99\n",
       "4  1FD7660FDF94CA1F  2020-12-07 10:15:09   purchase     4.99"
      ]
     },
     "metadata": {},
     "output_type": "display_data"
    },
    {
     "name": "stdout",
     "output_type": "stream",
     "text": [
      "\n",
      "Размер датасета 440317 \n",
      "\n",
      "Пропуски в данных и типы данных:\n",
      "\n",
      "<class 'pandas.core.frame.DataFrame'>\n",
      "RangeIndex: 440317 entries, 0 to 440316\n",
      "Data columns (total 4 columns):\n",
      " #   Column      Non-Null Count   Dtype  \n",
      "---  ------      --------------   -----  \n",
      " 0   user_id     440317 non-null  object \n",
      " 1   event_dt    440317 non-null  object \n",
      " 2   event_name  440317 non-null  object \n",
      " 3   details     62740 non-null   float64\n",
      "dtypes: float64(1), object(3)\n",
      "memory usage: 13.4+ MB\n",
      "\n",
      "Явные дубликаты: 0\n"
     ]
    }
   ],
   "source": [
    "df_info(events)"
   ]
  },
  {
   "cell_type": "code",
   "execution_count": 14,
   "metadata": {},
   "outputs": [
    {
     "data": {
      "text/plain": [
       "array([ 99.99,   9.99,   4.99, 499.99,    nan])"
      ]
     },
     "execution_count": 14,
     "metadata": {},
     "output_type": "execute_result"
    }
   ],
   "source": [
    "# смотрим уникальные данные в колонке с пропусками\n",
    "\n",
    "events['details'].unique()"
   ]
  },
  {
   "cell_type": "markdown",
   "metadata": {},
   "source": [
    "**Явных дубликатов нет, пропуски есть в колонке ```details```, которая содержит дополнительную информацию о событиях, то есть ее может и не быть. Наличие пропусков объяснимо и логично.**"
   ]
  },
  {
   "cell_type": "code",
   "execution_count": 15,
   "metadata": {},
   "outputs": [],
   "source": [
    "# меняем тип данных\n",
    "\n",
    "events['event_dt'] = pd.to_datetime(events['event_dt'], format='%Y-%m-%d %H:%M:%S')"
   ]
  },
  {
   "cell_type": "code",
   "execution_count": 16,
   "metadata": {},
   "outputs": [
    {
     "data": {
      "text/plain": [
       "user_id               object\n",
       "event_dt      datetime64[ns]\n",
       "event_name            object\n",
       "details              float64\n",
       "dtype: object"
      ]
     },
     "execution_count": 16,
     "metadata": {},
     "output_type": "execute_result"
    }
   ],
   "source": [
    "# check\n",
    "\n",
    "events.dtypes"
   ]
  },
  {
   "cell_type": "markdown",
   "metadata": {},
   "source": [
    "### 2.4. Датасет ```groups```"
   ]
  },
  {
   "cell_type": "code",
   "execution_count": 17,
   "metadata": {},
   "outputs": [
    {
     "data": {
      "text/html": [
       "<div>\n",
       "<style scoped>\n",
       "    .dataframe tbody tr th:only-of-type {\n",
       "        vertical-align: middle;\n",
       "    }\n",
       "\n",
       "    .dataframe tbody tr th {\n",
       "        vertical-align: top;\n",
       "    }\n",
       "\n",
       "    .dataframe thead th {\n",
       "        text-align: right;\n",
       "    }\n",
       "</style>\n",
       "<table border=\"1\" class=\"dataframe\">\n",
       "  <thead>\n",
       "    <tr style=\"text-align: right;\">\n",
       "      <th></th>\n",
       "      <th>user_id</th>\n",
       "      <th>group</th>\n",
       "      <th>ab_test</th>\n",
       "    </tr>\n",
       "  </thead>\n",
       "  <tbody>\n",
       "    <tr>\n",
       "      <th>0</th>\n",
       "      <td>D1ABA3E2887B6A73</td>\n",
       "      <td>A</td>\n",
       "      <td>recommender_system_test</td>\n",
       "    </tr>\n",
       "    <tr>\n",
       "      <th>1</th>\n",
       "      <td>A7A3664BD6242119</td>\n",
       "      <td>A</td>\n",
       "      <td>recommender_system_test</td>\n",
       "    </tr>\n",
       "    <tr>\n",
       "      <th>2</th>\n",
       "      <td>DABC14FDDFADD29E</td>\n",
       "      <td>A</td>\n",
       "      <td>recommender_system_test</td>\n",
       "    </tr>\n",
       "    <tr>\n",
       "      <th>3</th>\n",
       "      <td>04988C5DF189632E</td>\n",
       "      <td>A</td>\n",
       "      <td>recommender_system_test</td>\n",
       "    </tr>\n",
       "    <tr>\n",
       "      <th>4</th>\n",
       "      <td>482F14783456D21B</td>\n",
       "      <td>B</td>\n",
       "      <td>recommender_system_test</td>\n",
       "    </tr>\n",
       "  </tbody>\n",
       "</table>\n",
       "</div>"
      ],
      "text/plain": [
       "            user_id group                  ab_test\n",
       "0  D1ABA3E2887B6A73     A  recommender_system_test\n",
       "1  A7A3664BD6242119     A  recommender_system_test\n",
       "2  DABC14FDDFADD29E     A  recommender_system_test\n",
       "3  04988C5DF189632E     A  recommender_system_test\n",
       "4  482F14783456D21B     B  recommender_system_test"
      ]
     },
     "metadata": {},
     "output_type": "display_data"
    },
    {
     "name": "stdout",
     "output_type": "stream",
     "text": [
      "\n",
      "Размер датасета 18268 \n",
      "\n",
      "Пропуски в данных и типы данных:\n",
      "\n",
      "<class 'pandas.core.frame.DataFrame'>\n",
      "RangeIndex: 18268 entries, 0 to 18267\n",
      "Data columns (total 3 columns):\n",
      " #   Column   Non-Null Count  Dtype \n",
      "---  ------   --------------  ----- \n",
      " 0   user_id  18268 non-null  object\n",
      " 1   group    18268 non-null  object\n",
      " 2   ab_test  18268 non-null  object\n",
      "dtypes: object(3)\n",
      "memory usage: 428.3+ KB\n",
      "\n",
      "Явные дубликаты: 0\n"
     ]
    }
   ],
   "source": [
    "df_info(groups)"
   ]
  },
  {
   "cell_type": "markdown",
   "metadata": {},
   "source": [
    "**Пропусков и явных дубликатов нет.**"
   ]
  },
  {
   "cell_type": "markdown",
   "metadata": {},
   "source": [
    "## 3. Оценка корректности проведения теста"
   ]
  },
  {
   "cell_type": "markdown",
   "metadata": {},
   "source": [
    "### 3.1. Оценка соответствия теста ТЗ"
   ]
  },
  {
   "cell_type": "markdown",
   "metadata": {},
   "source": [
    "**Техническое задание**\n",
    "\n",
    "- Название теста: ```recommender_system_test```;\n",
    "\n",
    "- Группы: А (контрольная), B (новая платёжная воронка);\n",
    "\n",
    "- Дата запуска: 2020-12-07;\n",
    "\n",
    "- Дата остановки набора новых пользователей: 2020-12-21;\n",
    "\n",
    "- Дата остановки: 2021-01-04;\n",
    "\n",
    "- Аудитория: 15% новых пользователей из региона EU;\n",
    "\n",
    "- Назначение теста: тестирование изменений, связанных с внедрением улучшенной рекомендательной системы;\n",
    "\n",
    "- Количество участников теста: 6000\n",
    "\n",
    "- Ожидаемый эффект: за 14 дней с момента регистрации в системе пользователи покажут улучшение каждой метрики не менее, чем на 10%:\n",
    "\n",
    "     - конверсии в просмотр карточек товаров — событие product_page\n",
    "     - просмотры корзины — product_cart\n",
    "     - покупки — purchase."
   ]
  },
  {
   "cell_type": "code",
   "execution_count": 18,
   "metadata": {},
   "outputs": [],
   "source": [
    "# выделим из датасета с группами участников информацию про нужный А/В-тест\n",
    "\n",
    "groups_ab = groups.query('ab_test == \"recommender_system_test\"')"
   ]
  },
  {
   "cell_type": "code",
   "execution_count": 19,
   "metadata": {},
   "outputs": [],
   "source": [
    "# составим список пользователей,попавших в тест\n",
    "\n",
    "users_from_test = groups_ab['user_id'].unique()"
   ]
  },
  {
   "cell_type": "markdown",
   "metadata": {},
   "source": [
    "#### Проверим временные рамки набора пользователей"
   ]
  },
  {
   "cell_type": "code",
   "execution_count": 20,
   "metadata": {
    "scrolled": true
   },
   "outputs": [],
   "source": [
    "# функция для удаления пересекающихся пользователей из датасетов\n",
    "\n",
    "def del_extra_users(df, users_lst, delete):\n",
    "    \n",
    "    \"\"\"Функция получает датасет и список с ID пользователей, возвращает измененнный датасет.\n",
    "    Если параметр delete = False, то остаются только ID из списка.\n",
    "    Если параметр delete = True, то все ID из списка удаляются из датасета\"\"\"\n",
    "    \n",
    "    print('Количество пользователей до удаления:', df.shape[0])\n",
    "    \n",
    "    if delete:\n",
    "        df = df.query('user_id not in @users_lst')\n",
    "    else:\n",
    "        df = df.query('user_id in @users_lst')\n",
    "    print('Количество пользователей после удаления:', df.shape[0])\n",
    "    return df"
   ]
  },
  {
   "cell_type": "code",
   "execution_count": 21,
   "metadata": {},
   "outputs": [
    {
     "name": "stdout",
     "output_type": "stream",
     "text": [
      "Количество пользователей до удаления: 61733\n",
      "Количество пользователей после удаления: 6701\n"
     ]
    }
   ],
   "source": [
    "# обрежем датасет с новыми пользователями до тех пользователей, которые вошли в тест\n",
    "\n",
    "new_users_in_test = del_extra_users(new_users, users_from_test, False)"
   ]
  },
  {
   "cell_type": "code",
   "execution_count": 22,
   "metadata": {},
   "outputs": [
    {
     "name": "stdout",
     "output_type": "stream",
     "text": [
      "Начало набора новых пользователей: 2020-12-07 00:00:00\n"
     ]
    }
   ],
   "source": [
    "print('Начало набора новых пользователей:', new_users_in_test['first_date'].min())"
   ]
  },
  {
   "cell_type": "code",
   "execution_count": 23,
   "metadata": {
    "scrolled": false
   },
   "outputs": [
    {
     "name": "stdout",
     "output_type": "stream",
     "text": [
      "Окончание набора новых пользователей: 2020-12-21 00:00:00\n"
     ]
    }
   ],
   "source": [
    "print('Окончание набора новых пользователей:', new_users_in_test['first_date'].max())"
   ]
  },
  {
   "cell_type": "markdown",
   "metadata": {},
   "source": [
    "**Время начала и окончания набора новых пользователей соответствует ТЗ.**"
   ]
  },
  {
   "cell_type": "markdown",
   "metadata": {},
   "source": [
    "#### Проверим временные рамки проведения теста"
   ]
  },
  {
   "cell_type": "code",
   "execution_count": 24,
   "metadata": {},
   "outputs": [
    {
     "name": "stdout",
     "output_type": "stream",
     "text": [
      "Количество пользователей до удаления: 440317\n",
      "Количество пользователей после удаления: 24698\n"
     ]
    }
   ],
   "source": [
    "# обрежем датасет с событиями до тех пользователей, которые вошли в тест\n",
    "\n",
    "events_in_test = del_extra_users(events, users_from_test, False)"
   ]
  },
  {
   "cell_type": "code",
   "execution_count": 25,
   "metadata": {},
   "outputs": [
    {
     "name": "stdout",
     "output_type": "stream",
     "text": [
      "Время начала теста 2020-12-07 00:05:57\n"
     ]
    }
   ],
   "source": [
    "print('Время начала теста', events_in_test['event_dt'].min())"
   ]
  },
  {
   "cell_type": "code",
   "execution_count": 26,
   "metadata": {
    "scrolled": true
   },
   "outputs": [
    {
     "name": "stdout",
     "output_type": "stream",
     "text": [
      "Время окончания теста 2020-12-30 12:42:57\n"
     ]
    }
   ],
   "source": [
    "print('Время окончания теста', events_in_test['event_dt'].max())"
   ]
  },
  {
   "cell_type": "markdown",
   "metadata": {},
   "source": [
    "**После нового года про тест, похоже, забыли. Требование ТЗ не выполнено.**"
   ]
  },
  {
   "cell_type": "markdown",
   "metadata": {},
   "source": [
    "#### Проверим долю пользователей из европейского региона, вошедших в тест"
   ]
  },
  {
   "cell_type": "code",
   "execution_count": 27,
   "metadata": {},
   "outputs": [
    {
     "name": "stdout",
     "output_type": "stream",
     "text": [
      "Доля новых пользователей из Европы, вошедших в тест: 13.73 %\n"
     ]
    }
   ],
   "source": [
    "eu_ratio = (\n",
    "            round(new_users_in_test.query('region == \"EU\"')['user_id'].nunique() \n",
    "            / new_users.query('region == \"EU\"')['user_id'].nunique() \n",
    "            * 100,\n",
    "                  2)\n",
    "            )\n",
    "print('Доля новых пользователей из Европы, вошедших в тест:',eu_ratio,'%')"
   ]
  },
  {
   "cell_type": "markdown",
   "metadata": {},
   "source": [
    "**По ТЗ нужно было набрать 15% пользователей из EU. Набрали около 12%. Требование ТЗ не выполнено/"
   ]
  },
  {
   "cell_type": "markdown",
   "metadata": {},
   "source": [
    "#### Проверим число участников теста"
   ]
  },
  {
   "cell_type": "code",
   "execution_count": 28,
   "metadata": {
    "scrolled": true
   },
   "outputs": [
    {
     "data": {
      "text/plain": [
       "6701"
      ]
     },
     "execution_count": 28,
     "metadata": {},
     "output_type": "execute_result"
    }
   ],
   "source": [
    "# посмотрим количество участников теста\n",
    "\n",
    "groups_ab['user_id'].nunique()"
   ]
  },
  {
   "cell_type": "markdown",
   "metadata": {},
   "source": [
    "Количество участников теста соответствует ТЗ."
   ]
  },
  {
   "cell_type": "markdown",
   "metadata": {},
   "source": [
    "По ТЗ мы должны оценить поведение пользователей в течение 14 дней, так как тест закончили раньше, то в тест должны войти только те пользователи, которые закончили свой 14-дневный период к 29.12 23:59:59. То есть это те пользователи, которые пришли в период с 07.12.2020 по 15.12.2020."
   ]
  },
  {
   "cell_type": "code",
   "execution_count": 29,
   "metadata": {},
   "outputs": [],
   "source": [
    "# список новых пользователей, пришедших после 15.12.2020\n",
    "\n",
    "new_users_late = new_users.query('first_date > \"2020-12-16\"')['user_id'].unique()"
   ]
  },
  {
   "cell_type": "code",
   "execution_count": 30,
   "metadata": {},
   "outputs": [
    {
     "name": "stdout",
     "output_type": "stream",
     "text": [
      "2387 пользователей, не прошедних 14дневный период, попали в тест\n"
     ]
    }
   ],
   "source": [
    "# смотрим, попали ли данные пользователи в тест\n",
    "\n",
    "count = 0\n",
    "for i in new_users_late:\n",
    "    if i in users_from_test:\n",
    "        count += 1\n",
    "if count == 0:\n",
    "    print('Все пользователи в тесте прошли 14дневный период')\n",
    "else:\n",
    "    print(count, 'пользователей, не прошедних 14дневный период, попали в тест')"
   ]
  },
  {
   "cell_type": "markdown",
   "metadata": {},
   "source": [
    "То есть, необходимо сократить количество пользователей, участвовавших в тесте на 2387, тогда, останется всего чуть больше 4000, хотя по ТЗ нам требуется 6000."
   ]
  },
  {
   "cell_type": "markdown",
   "metadata": {},
   "source": [
    "Есть второй вариант: можно **сократить горизонт анализ до 10 дней** (максимально возможный срок жизни пользователей, зарегистрировавшихся до 20.12.2020 включительно; 30.12.2020 придется отбросить, так как данные представлены не за полный день).\n",
    "Таким образом, мы сохраним в тесте всех отобранных пользователей."
   ]
  },
  {
   "cell_type": "markdown",
   "metadata": {},
   "source": [
    "В любом случае, условия ТЗ будут не выполнены, но можно будет оценить результат."
   ]
  },
  {
   "cell_type": "markdown",
   "metadata": {},
   "source": [
    "Так как чем больше пользователей, тем точнее тест, посмотрим, что произойдет с воронкой на **горозонте анализа 10 дней**."
   ]
  },
  {
   "cell_type": "code",
   "execution_count": 31,
   "metadata": {},
   "outputs": [],
   "source": [
    "# выделяем пользователей, совершавших события до 30.12.2020\n",
    "\n",
    "events_in_test = events_in_test.query('event_dt < \"2020-12-30\"')"
   ]
  },
  {
   "cell_type": "markdown",
   "metadata": {},
   "source": [
    "**Это события для пользователей, пришедших с 07.12.2020 по 20.12.2020 включительно, участвовавших в тесте в течение 10 дней.** \n",
    "\n",
    "**С этим датасетом будем работать дальше.**"
   ]
  },
  {
   "cell_type": "markdown",
   "metadata": {},
   "source": [
    "Проверим временные рамки после удаления всех пользователей."
   ]
  },
  {
   "cell_type": "code",
   "execution_count": 32,
   "metadata": {},
   "outputs": [
    {
     "name": "stdout",
     "output_type": "stream",
     "text": [
      "Время начала теста 2020-12-07 00:05:57\n"
     ]
    }
   ],
   "source": [
    "print('Время начала теста', events_in_test['event_dt'].min())"
   ]
  },
  {
   "cell_type": "code",
   "execution_count": 33,
   "metadata": {
    "scrolled": true
   },
   "outputs": [
    {
     "name": "stdout",
     "output_type": "stream",
     "text": [
      "Время окончание теста: 2020-12-29 23:38:29\n"
     ]
    }
   ],
   "source": [
    "print('Время окончание теста:', events_in_test['event_dt'].max())"
   ]
  },
  {
   "cell_type": "markdown",
   "metadata": {
    "scrolled": false
   },
   "source": [
    "**Итак, тест продолжался с 07.12.2020 до 29.12.2020 включительно.**"
   ]
  },
  {
   "cell_type": "markdown",
   "metadata": {},
   "source": [
    "### 3.2. Оценка корректности деления на группы"
   ]
  },
  {
   "cell_type": "markdown",
   "metadata": {},
   "source": [
    "#### Оценка количества пользователей в каждой группе"
   ]
  },
  {
   "cell_type": "code",
   "execution_count": 34,
   "metadata": {},
   "outputs": [
    {
     "data": {
      "text/html": [
       "<div>\n",
       "<style scoped>\n",
       "    .dataframe tbody tr th:only-of-type {\n",
       "        vertical-align: middle;\n",
       "    }\n",
       "\n",
       "    .dataframe tbody tr th {\n",
       "        vertical-align: top;\n",
       "    }\n",
       "\n",
       "    .dataframe thead th {\n",
       "        text-align: right;\n",
       "    }\n",
       "</style>\n",
       "<table border=\"1\" class=\"dataframe\">\n",
       "  <thead>\n",
       "    <tr style=\"text-align: right;\">\n",
       "      <th></th>\n",
       "      <th>user_id</th>\n",
       "    </tr>\n",
       "    <tr>\n",
       "      <th>group</th>\n",
       "      <th></th>\n",
       "    </tr>\n",
       "  </thead>\n",
       "  <tbody>\n",
       "    <tr>\n",
       "      <th>A</th>\n",
       "      <td>3824</td>\n",
       "    </tr>\n",
       "    <tr>\n",
       "      <th>B</th>\n",
       "      <td>2877</td>\n",
       "    </tr>\n",
       "  </tbody>\n",
       "</table>\n",
       "</div>"
      ],
      "text/plain": [
       "       user_id\n",
       "group         \n",
       "A         3824\n",
       "B         2877"
      ]
     },
     "execution_count": 34,
     "metadata": {},
     "output_type": "execute_result"
    }
   ],
   "source": [
    "groups_ab.groupby('group').agg({'user_id':'nunique'})"
   ]
  },
  {
   "cell_type": "markdown",
   "metadata": {},
   "source": [
    "**Группа А содержит больше пользователей на 25%, но это допустимо, так как группа А - контрольная.**"
   ]
  },
  {
   "cell_type": "markdown",
   "metadata": {},
   "source": [
    "#### Оценка пересечения пользователей в группах"
   ]
  },
  {
   "cell_type": "code",
   "execution_count": 35,
   "metadata": {},
   "outputs": [
    {
     "data": {
      "text/plain": [
       "0"
      ]
     },
     "execution_count": 35,
     "metadata": {},
     "output_type": "execute_result"
    }
   ],
   "source": [
    "# смотрим пересечение групп по пользователям\n",
    "\n",
    "len(groups_ab.query('group == \"A\"').merge(groups_ab.query('group == \"B\"'), on='user_id'))"
   ]
  },
  {
   "cell_type": "markdown",
   "metadata": {},
   "source": [
    "**Пользователи в каждой группе уникальны.**"
   ]
  },
  {
   "cell_type": "markdown",
   "metadata": {},
   "source": [
    "#### Оценка пересечения с конкурирующим тестом"
   ]
  },
  {
   "cell_type": "code",
   "execution_count": 36,
   "metadata": {},
   "outputs": [
    {
     "data": {
      "text/html": [
       "<div>\n",
       "<style scoped>\n",
       "    .dataframe tbody tr th:only-of-type {\n",
       "        vertical-align: middle;\n",
       "    }\n",
       "\n",
       "    .dataframe tbody tr th {\n",
       "        vertical-align: top;\n",
       "    }\n",
       "\n",
       "    .dataframe thead th {\n",
       "        text-align: right;\n",
       "    }\n",
       "</style>\n",
       "<table border=\"1\" class=\"dataframe\">\n",
       "  <thead>\n",
       "    <tr style=\"text-align: right;\">\n",
       "      <th></th>\n",
       "      <th>user_id</th>\n",
       "    </tr>\n",
       "    <tr>\n",
       "      <th>ab_test</th>\n",
       "      <th></th>\n",
       "    </tr>\n",
       "  </thead>\n",
       "  <tbody>\n",
       "    <tr>\n",
       "      <th>interface_eu_test</th>\n",
       "      <td>11567</td>\n",
       "    </tr>\n",
       "    <tr>\n",
       "      <th>recommender_system_test</th>\n",
       "      <td>6701</td>\n",
       "    </tr>\n",
       "  </tbody>\n",
       "</table>\n",
       "</div>"
      ],
      "text/plain": [
       "                         user_id\n",
       "ab_test                         \n",
       "interface_eu_test          11567\n",
       "recommender_system_test     6701"
      ]
     },
     "execution_count": 36,
     "metadata": {},
     "output_type": "execute_result"
    }
   ],
   "source": [
    "# смотрим, какие конкурирующие тесты имеются\n",
    "\n",
    "groups.groupby('ab_test').agg({'user_id':'nunique'})"
   ]
  },
  {
   "cell_type": "markdown",
   "metadata": {},
   "source": [
    "Итак, имеются два теста. Необходимо посмотреть, пересекаются ли в них пользователи."
   ]
  },
  {
   "cell_type": "code",
   "execution_count": 37,
   "metadata": {},
   "outputs": [],
   "source": [
    "# выделим конкурирующий тест в отдельный датасет\n",
    "\n",
    "interface_test = groups.query('ab_test == \"interface_eu_test\"')"
   ]
  },
  {
   "cell_type": "code",
   "execution_count": 38,
   "metadata": {},
   "outputs": [
    {
     "data": {
      "text/plain": [
       "1602"
      ]
     },
     "execution_count": 38,
     "metadata": {},
     "output_type": "execute_result"
    }
   ],
   "source": [
    "# ищем количество пересекающихся пользователей\n",
    "\n",
    "tests = groups_ab.merge(interface_test, on='user_id', suffixes=('_ab', '_eu'))\n",
    "len(tests)"
   ]
  },
  {
   "cell_type": "markdown",
   "metadata": {},
   "source": [
    "Есть пересечение со вторым тестом. Для чистоты картины удалим пользователей, которые попали в группу В конкурирующего теста. Пользователей из группы А конкурирующего теста можно оставить, так как на них изменения не применялись."
   ]
  },
  {
   "cell_type": "code",
   "execution_count": 39,
   "metadata": {},
   "outputs": [],
   "source": [
    "# составляем список всех пользователей, что вошли в В группу конкурирующего теста\n",
    "\n",
    "users_from_another_test = tests.query('group_eu == \"B\"')['user_id'].unique()"
   ]
  },
  {
   "cell_type": "code",
   "execution_count": 40,
   "metadata": {},
   "outputs": [
    {
     "name": "stdout",
     "output_type": "stream",
     "text": [
      "Количество пользователей до удаления: 6701\n",
      "Количество пользователей после удаления: 5918\n"
     ]
    }
   ],
   "source": [
    "# удаляем пересекающихся пользователей из датасета с группами\n",
    "\n",
    "groups_ab = del_extra_users(groups_ab, users_from_another_test, True)"
   ]
  },
  {
   "cell_type": "code",
   "execution_count": 41,
   "metadata": {},
   "outputs": [
    {
     "name": "stdout",
     "output_type": "stream",
     "text": [
      "Количество пользователей до удаления: 6701\n",
      "Количество пользователей после удаления: 5918\n"
     ]
    }
   ],
   "source": [
    "# удаляем пересекающихся пользователей из датасета с новыми пользователями\n",
    "\n",
    "new_users_in_test = del_extra_users(new_users_in_test, users_from_another_test, True)"
   ]
  },
  {
   "cell_type": "code",
   "execution_count": 42,
   "metadata": {
    "scrolled": true
   },
   "outputs": [
    {
     "name": "stdout",
     "output_type": "stream",
     "text": [
      "Количество пользователей до удаления: 24694\n",
      "Количество пользователей после удаления: 21838\n"
     ]
    }
   ],
   "source": [
    "# удаляем пересекающихся пользователей из датасета с событиями\n",
    "\n",
    "events_in_test = del_extra_users(events_in_test, users_from_another_test, True)"
   ]
  },
  {
   "cell_type": "markdown",
   "metadata": {},
   "source": [
    "Пользователей осталось чуть меньше 6000, но зато данные будут более чистые."
   ]
  },
  {
   "cell_type": "markdown",
   "metadata": {},
   "source": [
    "#### Посмортим равномерность и подобие деления пользователей"
   ]
  },
  {
   "cell_type": "code",
   "execution_count": 43,
   "metadata": {
    "scrolled": false
   },
   "outputs": [
    {
     "data": {
      "text/plain": [
       "5918"
      ]
     },
     "execution_count": 43,
     "metadata": {},
     "output_type": "execute_result"
    }
   ],
   "source": [
    "# добавим информацию о группах в датасет с пользователями\n",
    "\n",
    "users = new_users_in_test.merge(groups_ab, on='user_id', how='inner')\n",
    "users.shape[0]"
   ]
  },
  {
   "cell_type": "code",
   "execution_count": 44,
   "metadata": {
    "scrolled": true
   },
   "outputs": [
    {
     "data": {
      "text/html": [
       "<div>\n",
       "<style scoped>\n",
       "    .dataframe tbody tr th:only-of-type {\n",
       "        vertical-align: middle;\n",
       "    }\n",
       "\n",
       "    .dataframe tbody tr th {\n",
       "        vertical-align: top;\n",
       "    }\n",
       "\n",
       "    .dataframe thead th {\n",
       "        text-align: right;\n",
       "    }\n",
       "</style>\n",
       "<table border=\"1\" class=\"dataframe\">\n",
       "  <thead>\n",
       "    <tr style=\"text-align: right;\">\n",
       "      <th></th>\n",
       "      <th>user_id</th>\n",
       "    </tr>\n",
       "    <tr>\n",
       "      <th>group</th>\n",
       "      <th></th>\n",
       "    </tr>\n",
       "  </thead>\n",
       "  <tbody>\n",
       "    <tr>\n",
       "      <th>A</th>\n",
       "      <td>3385</td>\n",
       "    </tr>\n",
       "    <tr>\n",
       "      <th>B</th>\n",
       "      <td>2533</td>\n",
       "    </tr>\n",
       "  </tbody>\n",
       "</table>\n",
       "</div>"
      ],
      "text/plain": [
       "       user_id\n",
       "group         \n",
       "A         3385\n",
       "B         2533"
      ]
     },
     "execution_count": 44,
     "metadata": {},
     "output_type": "execute_result"
    }
   ],
   "source": [
    "# смотрим распределение пользвателей по группам\n",
    "\n",
    "users.groupby('group').agg({'user_id':'nunique'})"
   ]
  },
  {
   "cell_type": "markdown",
   "metadata": {},
   "source": [
    "Пользователей в А группе на 25% больше. Посмотрим, как набирались группы."
   ]
  },
  {
   "cell_type": "code",
   "execution_count": 45,
   "metadata": {},
   "outputs": [
    {
     "data": {
      "text/html": [
       "<div>\n",
       "<style scoped>\n",
       "    .dataframe tbody tr th:only-of-type {\n",
       "        vertical-align: middle;\n",
       "    }\n",
       "\n",
       "    .dataframe tbody tr th {\n",
       "        vertical-align: top;\n",
       "    }\n",
       "\n",
       "    .dataframe thead th {\n",
       "        text-align: right;\n",
       "    }\n",
       "</style>\n",
       "<table border=\"1\" class=\"dataframe\">\n",
       "  <thead>\n",
       "    <tr style=\"text-align: right;\">\n",
       "      <th></th>\n",
       "      <th>first_date</th>\n",
       "      <th>group</th>\n",
       "      <th>user_id</th>\n",
       "    </tr>\n",
       "  </thead>\n",
       "  <tbody>\n",
       "    <tr>\n",
       "      <th>0</th>\n",
       "      <td>2020-12-07</td>\n",
       "      <td>A</td>\n",
       "      <td>321</td>\n",
       "    </tr>\n",
       "    <tr>\n",
       "      <th>1</th>\n",
       "      <td>2020-12-07</td>\n",
       "      <td>B</td>\n",
       "      <td>237</td>\n",
       "    </tr>\n",
       "    <tr>\n",
       "      <th>2</th>\n",
       "      <td>2020-12-08</td>\n",
       "      <td>A</td>\n",
       "      <td>183</td>\n",
       "    </tr>\n",
       "    <tr>\n",
       "      <th>3</th>\n",
       "      <td>2020-12-08</td>\n",
       "      <td>B</td>\n",
       "      <td>134</td>\n",
       "    </tr>\n",
       "    <tr>\n",
       "      <th>4</th>\n",
       "      <td>2020-12-09</td>\n",
       "      <td>A</td>\n",
       "      <td>126</td>\n",
       "    </tr>\n",
       "    <tr>\n",
       "      <th>5</th>\n",
       "      <td>2020-12-09</td>\n",
       "      <td>B</td>\n",
       "      <td>96</td>\n",
       "    </tr>\n",
       "  </tbody>\n",
       "</table>\n",
       "</div>"
      ],
      "text/plain": [
       "  first_date group  user_id\n",
       "0 2020-12-07     A      321\n",
       "1 2020-12-07     B      237\n",
       "2 2020-12-08     A      183\n",
       "3 2020-12-08     B      134\n",
       "4 2020-12-09     A      126\n",
       "5 2020-12-09     B       96"
      ]
     },
     "execution_count": 45,
     "metadata": {},
     "output_type": "execute_result"
    }
   ],
   "source": [
    "# смотрим распределение пользователей по группам и датам\n",
    "\n",
    "new_users_by_date = (\n",
    "                        users\n",
    "                            .groupby(['first_date','group'], as_index=False)\n",
    "                            .agg({'user_id':'nunique'})\n",
    ")\n",
    "new_users_by_date.head(6)"
   ]
  },
  {
   "cell_type": "code",
   "execution_count": 46,
   "metadata": {},
   "outputs": [
    {
     "data": {
      "image/jpeg": "[encoded data removed]"
     },
     "metadata": {},
     "output_type": "display_data"
    }
   ],
   "source": [
    "# визуализируем привлечение новых пользователей в динамике\n",
    "\n",
    "fig = px.line(new_users_by_date,\n",
    "              x='first_date',\n",
    "              y='user_id',\n",
    "              color='group',\n",
    "             height=400,\n",
    "             width=600,\n",
    "             title='Количество новых пользователей в динамике по дням',\n",
    "             labels={'first_date': 'Дата привлечения',\n",
    "                     'user_id': 'Количество новых пользователей'})\n",
    "fig.show(renderer='jpeg')"
   ]
  },
  {
   "cell_type": "markdown",
   "metadata": {},
   "source": [
    "**В среднем мы видим, что пользователей приходили равномерно меньше в группу В.**"
   ]
  },
  {
   "cell_type": "code",
   "execution_count": 47,
   "metadata": {},
   "outputs": [
    {
     "data": {
      "text/html": [
       "<div>\n",
       "<style scoped>\n",
       "    .dataframe tbody tr th:only-of-type {\n",
       "        vertical-align: middle;\n",
       "    }\n",
       "\n",
       "    .dataframe tbody tr th {\n",
       "        vertical-align: top;\n",
       "    }\n",
       "\n",
       "    .dataframe thead th {\n",
       "        text-align: right;\n",
       "    }\n",
       "</style>\n",
       "<table border=\"1\" class=\"dataframe\">\n",
       "  <thead>\n",
       "    <tr style=\"text-align: right;\">\n",
       "      <th>device</th>\n",
       "      <th>Android</th>\n",
       "      <th>Mac</th>\n",
       "      <th>PC</th>\n",
       "      <th>iPhone</th>\n",
       "    </tr>\n",
       "    <tr>\n",
       "      <th>group</th>\n",
       "      <th></th>\n",
       "      <th></th>\n",
       "      <th></th>\n",
       "      <th></th>\n",
       "    </tr>\n",
       "  </thead>\n",
       "  <tbody>\n",
       "    <tr>\n",
       "      <th>A</th>\n",
       "      <td>1488</td>\n",
       "      <td>314</td>\n",
       "      <td>883</td>\n",
       "      <td>700</td>\n",
       "    </tr>\n",
       "    <tr>\n",
       "      <th>B</th>\n",
       "      <td>1168</td>\n",
       "      <td>220</td>\n",
       "      <td>612</td>\n",
       "      <td>533</td>\n",
       "    </tr>\n",
       "  </tbody>\n",
       "</table>\n",
       "</div>"
      ],
      "text/plain": [
       "device  Android  Mac   PC  iPhone\n",
       "group                            \n",
       "A          1488  314  883     700\n",
       "B          1168  220  612     533"
      ]
     },
     "execution_count": 47,
     "metadata": {},
     "output_type": "execute_result"
    }
   ],
   "source": [
    "# смотрим распределение пользвателей по группам и устройствам\n",
    "\n",
    "users.pivot_table(columns=['device'], index=['group'], values='user_id', aggfunc='nunique')"
   ]
  },
  {
   "cell_type": "markdown",
   "metadata": {},
   "source": [
    "С устройствами аналогично - в группу В набирали примерно на 30% меньше юзеров."
   ]
  },
  {
   "cell_type": "code",
   "execution_count": 48,
   "metadata": {},
   "outputs": [
    {
     "data": {
      "text/html": [
       "<div>\n",
       "<style scoped>\n",
       "    .dataframe tbody tr th:only-of-type {\n",
       "        vertical-align: middle;\n",
       "    }\n",
       "\n",
       "    .dataframe tbody tr th {\n",
       "        vertical-align: top;\n",
       "    }\n",
       "\n",
       "    .dataframe thead th {\n",
       "        text-align: right;\n",
       "    }\n",
       "</style>\n",
       "<table border=\"1\" class=\"dataframe\">\n",
       "  <thead>\n",
       "    <tr style=\"text-align: right;\">\n",
       "      <th></th>\n",
       "      <th>first_date</th>\n",
       "      <th>group</th>\n",
       "      <th>device</th>\n",
       "      <th>user_id</th>\n",
       "    </tr>\n",
       "  </thead>\n",
       "  <tbody>\n",
       "    <tr>\n",
       "      <th>0</th>\n",
       "      <td>2020-12-07</td>\n",
       "      <td>A</td>\n",
       "      <td>Android</td>\n",
       "      <td>134</td>\n",
       "    </tr>\n",
       "    <tr>\n",
       "      <th>1</th>\n",
       "      <td>2020-12-07</td>\n",
       "      <td>A</td>\n",
       "      <td>Mac</td>\n",
       "      <td>25</td>\n",
       "    </tr>\n",
       "    <tr>\n",
       "      <th>2</th>\n",
       "      <td>2020-12-07</td>\n",
       "      <td>A</td>\n",
       "      <td>PC</td>\n",
       "      <td>79</td>\n",
       "    </tr>\n",
       "    <tr>\n",
       "      <th>3</th>\n",
       "      <td>2020-12-07</td>\n",
       "      <td>A</td>\n",
       "      <td>iPhone</td>\n",
       "      <td>83</td>\n",
       "    </tr>\n",
       "    <tr>\n",
       "      <th>4</th>\n",
       "      <td>2020-12-07</td>\n",
       "      <td>B</td>\n",
       "      <td>Android</td>\n",
       "      <td>114</td>\n",
       "    </tr>\n",
       "  </tbody>\n",
       "</table>\n",
       "</div>"
      ],
      "text/plain": [
       "  first_date group   device  user_id\n",
       "0 2020-12-07     A  Android      134\n",
       "1 2020-12-07     A      Mac       25\n",
       "2 2020-12-07     A       PC       79\n",
       "3 2020-12-07     A   iPhone       83\n",
       "4 2020-12-07     B  Android      114"
      ]
     },
     "execution_count": 48,
     "metadata": {},
     "output_type": "execute_result"
    }
   ],
   "source": [
    "# смотрим распределение пользвателей по устройствам, группам и датам\n",
    "\n",
    "new_users_by_device = (users\n",
    "                       .groupby(['first_date','group','device'], as_index=False)\n",
    "                       .agg({'user_id':'nunique'})\n",
    "                      )\n",
    "new_users_by_device.head()"
   ]
  },
  {
   "cell_type": "code",
   "execution_count": 49,
   "metadata": {
    "scrolled": false
   },
   "outputs": [
    {
     "data": {
      "image/jpeg": "[encoded data removed]"
     },
     "metadata": {},
     "output_type": "display_data"
    },
    {
     "data": {
      "image/jpeg": "[encoded data removed]"
     },
     "metadata": {},
     "output_type": "display_data"
    },
    {
     "data": {
      "image/jpeg": "[encoded data removed]"
     },
     "metadata": {},
     "output_type": "display_data"
    },
    {
     "data": {
      "image/jpeg": "[encoded data removed]"
     },
     "metadata": {},
     "output_type": "display_data"
    }
   ],
   "source": [
    "# визуализируем новых пользователей в динамике в зависимости от устройства\n",
    "\n",
    "for i in users['device'].unique():\n",
    "    fig = px.line(new_users_by_device.query('device == @i'),\n",
    "              x='first_date',\n",
    "              y='user_id',\n",
    "              color='group',\n",
    "             height=400,\n",
    "             width=700,\n",
    "             title='Количество новых пользователей в динамике по дням для ' + i,\n",
    "             labels={'first_date': 'Дата привлечения',\n",
    "                     'user_id': 'Количество новых пользователей'})\n",
    "    fig.show(renderer='jpeg')"
   ]
  },
  {
   "cell_type": "markdown",
   "metadata": {},
   "source": [
    "Сохраняется та же тенденция и для каждого устройства в отдельности: в группу А набирают пропорционально больше устройств."
   ]
  },
  {
   "cell_type": "markdown",
   "metadata": {},
   "source": [
    "### 3.3. Пересечение теста с маркетинговыми активностями <a id='bonferroni'></a>"
   ]
  },
  {
   "cell_type": "markdown",
   "metadata": {},
   "source": [
    "Посмотрим, какие активности запранированы на период с 07.12.2020 по 04.01.2021."
   ]
  },
  {
   "cell_type": "code",
   "execution_count": 50,
   "metadata": {},
   "outputs": [
    {
     "data": {
      "text/html": [
       "<div>\n",
       "<style scoped>\n",
       "    .dataframe tbody tr th:only-of-type {\n",
       "        vertical-align: middle;\n",
       "    }\n",
       "\n",
       "    .dataframe tbody tr th {\n",
       "        vertical-align: top;\n",
       "    }\n",
       "\n",
       "    .dataframe thead th {\n",
       "        text-align: right;\n",
       "    }\n",
       "</style>\n",
       "<table border=\"1\" class=\"dataframe\">\n",
       "  <thead>\n",
       "    <tr style=\"text-align: right;\">\n",
       "      <th></th>\n",
       "      <th>name</th>\n",
       "      <th>regions</th>\n",
       "      <th>start_dt</th>\n",
       "      <th>finish_dt</th>\n",
       "    </tr>\n",
       "  </thead>\n",
       "  <tbody>\n",
       "    <tr>\n",
       "      <th>0</th>\n",
       "      <td>Christmas&amp;New Year Promo</td>\n",
       "      <td>EU, N.America</td>\n",
       "      <td>2020-12-25</td>\n",
       "      <td>2021-01-03</td>\n",
       "    </tr>\n",
       "    <tr>\n",
       "      <th>10</th>\n",
       "      <td>CIS New Year Gift Lottery</td>\n",
       "      <td>CIS</td>\n",
       "      <td>2020-12-30</td>\n",
       "      <td>2021-01-07</td>\n",
       "    </tr>\n",
       "  </tbody>\n",
       "</table>\n",
       "</div>"
      ],
      "text/plain": [
       "                         name        regions   start_dt  finish_dt\n",
       "0    Christmas&New Year Promo  EU, N.America 2020-12-25 2021-01-03\n",
       "10  CIS New Year Gift Lottery            CIS 2020-12-30 2021-01-07"
      ]
     },
     "execution_count": 50,
     "metadata": {},
     "output_type": "execute_result"
    }
   ],
   "source": [
    "ads.query('start_dt >= \"2020-12-07\" and start_dt <= \"2021-01-04\"')"
   ]
  },
  {
   "cell_type": "markdown",
   "metadata": {},
   "source": [
    "Мы видим запланированное промо с 25 декабря по 3 января, которое будет проводится в нашем целевом регионе - Европе. К тому моменту когорты уже набраны, поэтому на привлечение пользователей данное промо влиять не будет. Однако, может влиять на следующие этапы воронки. Так как у нас есть конрольная группа, данное временное явление не должно помешать сделать выводы. Хотя на будущее стоит учитывать сезонность и различные праздники, так как в целом они влияют на поведение пользователя.\n",
    "\n",
    "Вторая акция - лотерея - проводится в СНГ, что не может повлиять на наших пользователей."
   ]
  },
  {
   "cell_type": "markdown",
   "metadata": {},
   "source": [
    "## 4. Исследовательский анализ данных"
   ]
  },
  {
   "cell_type": "markdown",
   "metadata": {},
   "source": [
    "### 4.1. Изучим неактивных пользователей"
   ]
  },
  {
   "cell_type": "code",
   "execution_count": 51,
   "metadata": {
    "scrolled": false
   },
   "outputs": [
    {
     "data": {
      "text/plain": [
       "3244"
      ]
     },
     "execution_count": 51,
     "metadata": {},
     "output_type": "execute_result"
    }
   ],
   "source": [
    "# посмотрим, все ли привлеченные пользователи совершали действия\n",
    "\n",
    "# количество уникальных пользователей, совершивших хотя бы одно действие\n",
    "\n",
    "events_in_test['user_id'].nunique()"
   ]
  },
  {
   "cell_type": "code",
   "execution_count": 52,
   "metadata": {},
   "outputs": [
    {
     "data": {
      "text/plain": [
       "5918"
      ]
     },
     "execution_count": 52,
     "metadata": {},
     "output_type": "execute_result"
    }
   ],
   "source": [
    "# количество пользователей, отобранных для теста\n",
    "\n",
    "groups_ab['user_id'].nunique()"
   ]
  },
  {
   "cell_type": "markdown",
   "metadata": {},
   "source": [
    "Вот это сюрприз! Больше половины отобранных для теста пользователей (55%) не совершили ни одного действия. Стоит проанализировать этих пользователей и понять, стоит их учитывать при обработке результатов теста или нет."
   ]
  },
  {
   "cell_type": "code",
   "execution_count": 53,
   "metadata": {
    "scrolled": false
   },
   "outputs": [
    {
     "data": {
      "text/html": [
       "<div>\n",
       "<style scoped>\n",
       "    .dataframe tbody tr th:only-of-type {\n",
       "        vertical-align: middle;\n",
       "    }\n",
       "\n",
       "    .dataframe tbody tr th {\n",
       "        vertical-align: top;\n",
       "    }\n",
       "\n",
       "    .dataframe thead th {\n",
       "        text-align: right;\n",
       "    }\n",
       "</style>\n",
       "<table border=\"1\" class=\"dataframe\">\n",
       "  <thead>\n",
       "    <tr style=\"text-align: right;\">\n",
       "      <th></th>\n",
       "      <th>group</th>\n",
       "      <th>user_id_no_events</th>\n",
       "      <th>user_id_with_events</th>\n",
       "      <th>percent_of_nonactive_users</th>\n",
       "    </tr>\n",
       "  </thead>\n",
       "  <tbody>\n",
       "    <tr>\n",
       "      <th>0</th>\n",
       "      <td>A</td>\n",
       "      <td>963</td>\n",
       "      <td>3385</td>\n",
       "      <td>28.4</td>\n",
       "    </tr>\n",
       "    <tr>\n",
       "      <th>1</th>\n",
       "      <td>B</td>\n",
       "      <td>1711</td>\n",
       "      <td>2533</td>\n",
       "      <td>67.5</td>\n",
       "    </tr>\n",
       "  </tbody>\n",
       "</table>\n",
       "</div>"
      ],
      "text/plain": [
       "  group  user_id_no_events  user_id_with_events  percent_of_nonactive_users\n",
       "0     A                963                 3385                        28.4\n",
       "1     B               1711                 2533                        67.5"
      ]
     },
     "execution_count": 53,
     "metadata": {},
     "output_type": "execute_result"
    }
   ],
   "source": [
    "# оценим количество неактивных юзеров в каждой группе \n",
    "\n",
    "users_in_test = events_in_test['user_id'].unique()\n",
    "no_events = (\n",
    "            groups_ab\n",
    "             .query('user_id not in @users_in_test')\n",
    "             .groupby('group', as_index=False)\n",
    "             .agg({'user_id':'nunique'})\n",
    "             .merge(users\n",
    "                    .groupby('group', as_index=False)\n",
    "                    .agg({'user_id':'nunique'}), on='group', suffixes=('_no_events', '_with_events'))\n",
    "            )\n",
    "no_events['percent_of_nonactive_users'] = round(no_events['user_id_no_events'] / no_events['user_id_with_events'] * 100, 1)\n",
    "no_events"
   ]
  },
  {
   "cell_type": "markdown",
   "metadata": {},
   "source": [
    "Из группы B почти 70% пользователей не совершали больше никаких действий. Нужно разбираться, возможно, это техническая ошибка. Так как целевые метрики в тесте касаются пользователей внутри воронки, придется оставить в тесте только тех польхователей, которые совершали действия."
   ]
  },
  {
   "cell_type": "code",
   "execution_count": 54,
   "metadata": {},
   "outputs": [],
   "source": [
    "# составляем датасет с пользователями, которые не совершали никаких действий\n",
    "\n",
    "nonactive_users = users.query('user_id not in @users_in_test')"
   ]
  },
  {
   "cell_type": "code",
   "execution_count": 55,
   "metadata": {},
   "outputs": [
    {
     "data": {
      "text/html": [
       "<div>\n",
       "<style scoped>\n",
       "    .dataframe tbody tr th:only-of-type {\n",
       "        vertical-align: middle;\n",
       "    }\n",
       "\n",
       "    .dataframe tbody tr th {\n",
       "        vertical-align: top;\n",
       "    }\n",
       "\n",
       "    .dataframe thead th {\n",
       "        text-align: right;\n",
       "    }\n",
       "</style>\n",
       "<table border=\"1\" class=\"dataframe\">\n",
       "  <thead>\n",
       "    <tr style=\"text-align: right;\">\n",
       "      <th></th>\n",
       "      <th>first_date</th>\n",
       "      <th>group</th>\n",
       "      <th>user_id</th>\n",
       "    </tr>\n",
       "  </thead>\n",
       "  <tbody>\n",
       "    <tr>\n",
       "      <th>0</th>\n",
       "      <td>2020-12-07</td>\n",
       "      <td>A</td>\n",
       "      <td>184</td>\n",
       "    </tr>\n",
       "    <tr>\n",
       "      <th>1</th>\n",
       "      <td>2020-12-07</td>\n",
       "      <td>B</td>\n",
       "      <td>78</td>\n",
       "    </tr>\n",
       "    <tr>\n",
       "      <th>2</th>\n",
       "      <td>2020-12-08</td>\n",
       "      <td>A</td>\n",
       "      <td>94</td>\n",
       "    </tr>\n",
       "    <tr>\n",
       "      <th>3</th>\n",
       "      <td>2020-12-08</td>\n",
       "      <td>B</td>\n",
       "      <td>96</td>\n",
       "    </tr>\n",
       "    <tr>\n",
       "      <th>4</th>\n",
       "      <td>2020-12-09</td>\n",
       "      <td>A</td>\n",
       "      <td>56</td>\n",
       "    </tr>\n",
       "  </tbody>\n",
       "</table>\n",
       "</div>"
      ],
      "text/plain": [
       "  first_date group  user_id\n",
       "0 2020-12-07     A      184\n",
       "1 2020-12-07     B       78\n",
       "2 2020-12-08     A       94\n",
       "3 2020-12-08     B       96\n",
       "4 2020-12-09     A       56"
      ]
     },
     "execution_count": 55,
     "metadata": {},
     "output_type": "execute_result"
    }
   ],
   "source": [
    "# посмотрим, как неактивные пользователи распределеяются по датам\n",
    "\n",
    "nonactive_by_date = nonactive_users.groupby(['first_date', 'group'], as_index=False).agg({'user_id':'nunique'})\n",
    "nonactive_by_date.head()"
   ]
  },
  {
   "cell_type": "code",
   "execution_count": 56,
   "metadata": {},
   "outputs": [
    {
     "data": {
      "image/jpeg": "[encoded data removed]"
     },
     "metadata": {},
     "output_type": "display_data"
    }
   ],
   "source": [
    "fig = px.line(nonactive_by_date,\n",
    "              x='first_date',\n",
    "              y='user_id',\n",
    "              color='group',\n",
    "             title='Количество неактивных пользователей в динамике по дням',\n",
    "              labels={'first_date': 'Дата привлечения',\n",
    "                     'user_id': 'Количество новых пользователей'},\n",
    "             width=700,\n",
    "             height=400\n",
    "             )\n",
    "fig.show(renderer='jpeg')"
   ]
  },
  {
   "cell_type": "markdown",
   "metadata": {},
   "source": [
    "Пользователи из группы А с 13.12 перестали оставаться неактивными. Возможно, тут имеет место либо техническая ошибка, либо некорректно велись логи."
   ]
  },
  {
   "cell_type": "code",
   "execution_count": 57,
   "metadata": {},
   "outputs": [
    {
     "data": {
      "image/jpeg": "[encoded data removed]"
     },
     "metadata": {},
     "output_type": "display_data"
    }
   ],
   "source": [
    "# посмотрим, как неактивные пользователи распределяются по устройствам\n",
    "\n",
    "nonactive_by_device = nonactive_users.groupby(['group','device'], as_index=False).agg({'user_id':'nunique'})\n",
    "\n",
    "fig =px.bar(\n",
    "                nonactive_by_device,\n",
    "                x='device', \n",
    "                y='user_id', \n",
    "                color='group',\n",
    "                barmode='group',\n",
    "                text_auto=True,\n",
    "                color_discrete_sequence=px.colors.qualitative.Set2,\n",
    "                title='Распределение неактивных пользователей по устройствам',\n",
    "                labels={'device':'Устройство', 'user_id':'Количество неактивных пользователей'})\n",
    "\n",
    "fig.show(renderer='jpeg')"
   ]
  },
  {
   "cell_type": "markdown",
   "metadata": {},
   "source": [
    "Вне зависимости от используемого девайса пользователи из В группы примерно в 2 раза чаще остаются неактивными. То есть девайс не влияет на активность пользователя."
   ]
  },
  {
   "cell_type": "markdown",
   "metadata": {},
   "source": [
    "**Похоже, такой перекос в активности новых пользователей связан с технической ошибкой или некорректным ведением логов. Чтобы некорректные данные не повлияли на результат нашего АВ-теста, неактивных пользователей в конечные расчеты брать не будем.**"
   ]
  },
  {
   "cell_type": "markdown",
   "metadata": {},
   "source": [
    "### 4.2. Количество событий на пользователя"
   ]
  },
  {
   "cell_type": "code",
   "execution_count": 58,
   "metadata": {},
   "outputs": [],
   "source": [
    "# добавим в датасет с событиями информацию о группе, в которую попал пользователь\n",
    "\n",
    "events_in_test.loc[events_in_test['user_id'].isin(groups_ab.query('group == \"A\"')['user_id'].unique()), 'group'] = 'A'\n",
    "events_in_test.loc[events_in_test['user_id'].isin(groups_ab.query('group == \"B\"')['user_id'].unique()), 'group'] = 'B'"
   ]
  },
  {
   "cell_type": "code",
   "execution_count": 59,
   "metadata": {},
   "outputs": [
    {
     "data": {
      "text/html": [
       "<div>\n",
       "<style scoped>\n",
       "    .dataframe tbody tr th:only-of-type {\n",
       "        vertical-align: middle;\n",
       "    }\n",
       "\n",
       "    .dataframe tbody tr th {\n",
       "        vertical-align: top;\n",
       "    }\n",
       "\n",
       "    .dataframe thead th {\n",
       "        text-align: right;\n",
       "    }\n",
       "</style>\n",
       "<table border=\"1\" class=\"dataframe\">\n",
       "  <thead>\n",
       "    <tr style=\"text-align: right;\">\n",
       "      <th></th>\n",
       "      <th>user_id</th>\n",
       "      <th>event_dt</th>\n",
       "      <th>event_name</th>\n",
       "      <th>details</th>\n",
       "      <th>group</th>\n",
       "    </tr>\n",
       "  </thead>\n",
       "  <tbody>\n",
       "    <tr>\n",
       "      <th>5</th>\n",
       "      <td>831887FE7F2D6CBA</td>\n",
       "      <td>2020-12-07 06:50:29</td>\n",
       "      <td>purchase</td>\n",
       "      <td>4.99</td>\n",
       "      <td>A</td>\n",
       "    </tr>\n",
       "    <tr>\n",
       "      <th>17</th>\n",
       "      <td>3C5DD0288AC4FE23</td>\n",
       "      <td>2020-12-07 19:42:40</td>\n",
       "      <td>purchase</td>\n",
       "      <td>4.99</td>\n",
       "      <td>A</td>\n",
       "    </tr>\n",
       "    <tr>\n",
       "      <th>58</th>\n",
       "      <td>49EA242586C87836</td>\n",
       "      <td>2020-12-07 06:31:24</td>\n",
       "      <td>purchase</td>\n",
       "      <td>99.99</td>\n",
       "      <td>B</td>\n",
       "    </tr>\n",
       "    <tr>\n",
       "      <th>71</th>\n",
       "      <td>2B06EB547B7AAD08</td>\n",
       "      <td>2020-12-07 21:36:38</td>\n",
       "      <td>purchase</td>\n",
       "      <td>4.99</td>\n",
       "      <td>A</td>\n",
       "    </tr>\n",
       "    <tr>\n",
       "      <th>74</th>\n",
       "      <td>A640F31CAC7823A6</td>\n",
       "      <td>2020-12-07 18:48:26</td>\n",
       "      <td>purchase</td>\n",
       "      <td>4.99</td>\n",
       "      <td>B</td>\n",
       "    </tr>\n",
       "  </tbody>\n",
       "</table>\n",
       "</div>"
      ],
      "text/plain": [
       "             user_id            event_dt event_name  details group\n",
       "5   831887FE7F2D6CBA 2020-12-07 06:50:29   purchase     4.99     A\n",
       "17  3C5DD0288AC4FE23 2020-12-07 19:42:40   purchase     4.99     A\n",
       "58  49EA242586C87836 2020-12-07 06:31:24   purchase    99.99     B\n",
       "71  2B06EB547B7AAD08 2020-12-07 21:36:38   purchase     4.99     A\n",
       "74  A640F31CAC7823A6 2020-12-07 18:48:26   purchase     4.99     B"
      ]
     },
     "execution_count": 59,
     "metadata": {},
     "output_type": "execute_result"
    }
   ],
   "source": [
    "events_in_test.head()"
   ]
  },
  {
   "cell_type": "code",
   "execution_count": 60,
   "metadata": {
    "scrolled": true
   },
   "outputs": [
    {
     "data": {
      "image/png": "[encoded data removed]",
      "text/plain": [
       "<Figure size 720x360 with 1 Axes>"
      ]
     },
     "metadata": {},
     "output_type": "display_data"
    }
   ],
   "source": [
    "# посмотрим, сколько событий совершают пользователи в группах\n",
    "\n",
    "events_by_users = events_in_test.groupby(['group','user_id'], as_index=False).agg({'event_name':'count'})\n",
    "\n",
    "sns.set(rc={'figure.figsize':(10,5)})\n",
    "ax = sns.boxplot(x='event_name', y='group', data=events_by_users, orient=\"h\", palette=\"Set2\", width=0.5, fliersize=2)\n",
    "ax.set_title('Распределение событий по группам')\n",
    "ax.set(xlabel='Количество событий')\n",
    "ax.set(ylabel='Группа');"
   ]
  },
  {
   "cell_type": "code",
   "execution_count": 61,
   "metadata": {
    "scrolled": false
   },
   "outputs": [
    {
     "data": {
      "text/html": [
       "<div>\n",
       "<style scoped>\n",
       "    .dataframe tbody tr th:only-of-type {\n",
       "        vertical-align: middle;\n",
       "    }\n",
       "\n",
       "    .dataframe tbody tr th {\n",
       "        vertical-align: top;\n",
       "    }\n",
       "\n",
       "    .dataframe thead th {\n",
       "        text-align: right;\n",
       "    }\n",
       "</style>\n",
       "<table border=\"1\" class=\"dataframe\">\n",
       "  <thead>\n",
       "    <tr style=\"text-align: right;\">\n",
       "      <th></th>\n",
       "      <th>event_name</th>\n",
       "    </tr>\n",
       "    <tr>\n",
       "      <th>group</th>\n",
       "      <th></th>\n",
       "    </tr>\n",
       "  </thead>\n",
       "  <tbody>\n",
       "    <tr>\n",
       "      <th>A</th>\n",
       "      <td>6.0</td>\n",
       "    </tr>\n",
       "    <tr>\n",
       "      <th>B</th>\n",
       "      <td>5.0</td>\n",
       "    </tr>\n",
       "  </tbody>\n",
       "</table>\n",
       "</div>"
      ],
      "text/plain": [
       "       event_name\n",
       "group            \n",
       "A             6.0\n",
       "B             5.0"
      ]
     },
     "execution_count": 61,
     "metadata": {},
     "output_type": "execute_result"
    }
   ],
   "source": [
    "# сгруппируем данные по группам\n",
    "\n",
    "events_by_users.groupby('group').agg({'event_name':'median'})"
   ]
  },
  {
   "cell_type": "markdown",
   "metadata": {},
   "source": [
    "События по группам распределены неравномерно. \n",
    "\n",
    "**Пользователи в контрольной группе совершают в среднем на 1 событие больше**."
   ]
  },
  {
   "cell_type": "markdown",
   "metadata": {},
   "source": [
    "### 4.3. Динамика количества событий по группам"
   ]
  },
  {
   "cell_type": "code",
   "execution_count": 62,
   "metadata": {},
   "outputs": [],
   "source": [
    "# создадим колонку с датой и сгруппируем данные по датам и группам\n",
    "\n",
    "events_in_test['date'] = events_in_test['event_dt'].dt.date\n",
    "events_by_date = events_in_test.groupby(['date','group'], as_index=False).agg({'event_name':'count'})\n",
    "events_by_date.columns = ['date', 'group', 'events_count']"
   ]
  },
  {
   "cell_type": "code",
   "execution_count": 63,
   "metadata": {
    "scrolled": false
   },
   "outputs": [
    {
     "data": {
      "image/jpeg": "[encoded data removed]"
     },
     "metadata": {},
     "output_type": "display_data"
    }
   ],
   "source": [
    "# строим количество событий в динамике по группам\n",
    "\n",
    "fig = px.line(events_by_date,\n",
    "              x='date',\n",
    "              y='events_count',\n",
    "              color='group',\n",
    "              markers=True,\n",
    "              height=500,\n",
    "              width=700,\n",
    "             title='Количество событий в динамике по группам',\n",
    "             labels={'date': 'Дата',\n",
    "                     'events_count': 'Количество событий'})\n",
    "fig.show(renderer='jpeg')"
   ]
  },
  {
   "cell_type": "markdown",
   "metadata": {},
   "source": [
    "Сначала первую неделю до 13.12 событий в группе B хоть и было меньше, но сопоставимо  меньше. \n",
    "Дальше случился резкий скачок в группе А. \n",
    "После 21.12.2020 наблюдается резкое падение в контрольной группе А. В тестовой группе изменения не так заметны.\n",
    "Складыввается впечатление, что либо перепутали группы, либо на контрольную группу было оказано какое-то влияние, вызвывшее пик.\n",
    "\n",
    "**Однако очевидно, что на протяжении всего теста количество событий меньше в группе В.**"
   ]
  },
  {
   "cell_type": "markdown",
   "metadata": {},
   "source": [
    "Чтобы оценить динамику, посмотрим также изменение количества событий на одного пользователя."
   ]
  },
  {
   "cell_type": "code",
   "execution_count": 64,
   "metadata": {
    "scrolled": true
   },
   "outputs": [
    {
     "data": {
      "text/html": [
       "<div>\n",
       "<style scoped>\n",
       "    .dataframe tbody tr th:only-of-type {\n",
       "        vertical-align: middle;\n",
       "    }\n",
       "\n",
       "    .dataframe tbody tr th {\n",
       "        vertical-align: top;\n",
       "    }\n",
       "\n",
       "    .dataframe thead th {\n",
       "        text-align: right;\n",
       "    }\n",
       "</style>\n",
       "<table border=\"1\" class=\"dataframe\">\n",
       "  <thead>\n",
       "    <tr style=\"text-align: right;\">\n",
       "      <th></th>\n",
       "      <th>date</th>\n",
       "      <th>group</th>\n",
       "      <th>events_count</th>\n",
       "      <th>users_count</th>\n",
       "      <th>avg_ev_per_user</th>\n",
       "    </tr>\n",
       "  </thead>\n",
       "  <tbody>\n",
       "    <tr>\n",
       "      <th>0</th>\n",
       "      <td>2020-12-07</td>\n",
       "      <td>A</td>\n",
       "      <td>276</td>\n",
       "      <td>128</td>\n",
       "      <td>2.2</td>\n",
       "    </tr>\n",
       "    <tr>\n",
       "      <th>1</th>\n",
       "      <td>2020-12-07</td>\n",
       "      <td>B</td>\n",
       "      <td>337</td>\n",
       "      <td>152</td>\n",
       "      <td>2.2</td>\n",
       "    </tr>\n",
       "    <tr>\n",
       "      <th>2</th>\n",
       "      <td>2020-12-08</td>\n",
       "      <td>A</td>\n",
       "      <td>311</td>\n",
       "      <td>146</td>\n",
       "      <td>2.1</td>\n",
       "    </tr>\n",
       "    <tr>\n",
       "      <th>3</th>\n",
       "      <td>2020-12-08</td>\n",
       "      <td>B</td>\n",
       "      <td>221</td>\n",
       "      <td>105</td>\n",
       "      <td>2.1</td>\n",
       "    </tr>\n",
       "    <tr>\n",
       "      <th>4</th>\n",
       "      <td>2020-12-09</td>\n",
       "      <td>A</td>\n",
       "      <td>345</td>\n",
       "      <td>157</td>\n",
       "      <td>2.2</td>\n",
       "    </tr>\n",
       "  </tbody>\n",
       "</table>\n",
       "</div>"
      ],
      "text/plain": [
       "         date group  events_count  users_count  avg_ev_per_user\n",
       "0  2020-12-07     A           276          128              2.2\n",
       "1  2020-12-07     B           337          152              2.2\n",
       "2  2020-12-08     A           311          146              2.1\n",
       "3  2020-12-08     B           221          105              2.1\n",
       "4  2020-12-09     A           345          157              2.2"
      ]
     },
     "execution_count": 64,
     "metadata": {},
     "output_type": "execute_result"
    }
   ],
   "source": [
    "# посмотрим, как меняется среднее количество событий на одного пользователя со временем\n",
    "\n",
    "events_by_date_per_user = (events_in_test\n",
    "                           .groupby(['date','group'], as_index=False)\n",
    "                           .agg({'event_name':'count', 'user_id':'nunique'})\n",
    "                          )\n",
    "events_by_date_per_user.columns = ['date', 'group', 'events_count', 'users_count']\n",
    "events_by_date_per_user['avg_ev_per_user'] = round(events_by_date_per_user['events_count'] /\n",
    "                                                   events_by_date_per_user['users_count'],\n",
    "                                                   1)\n",
    "events_by_date_per_user.head()"
   ]
  },
  {
   "cell_type": "code",
   "execution_count": 65,
   "metadata": {
    "scrolled": false
   },
   "outputs": [
    {
     "data": {
      "image/jpeg": "[encoded data removed]"
     },
     "metadata": {},
     "output_type": "display_data"
    }
   ],
   "source": [
    "# визуализируем количество событий на пользователя в динамике по группам\n",
    "\n",
    "fig = px.line(events_by_date_per_user,\n",
    "              x='date',\n",
    "              y='avg_ev_per_user',\n",
    "              color='group',\n",
    "              markers=True,\n",
    "              height=500,\n",
    "              width=700,\n",
    "             title='Количество событий на пользователя в динамике по группам',\n",
    "             labels={'date': 'Дата',\n",
    "                     'avg_ev_per_user': 'Количество событий на пользователя'})\n",
    "fig.show(renderer='jpeg')"
   ]
  },
  {
   "cell_type": "markdown",
   "metadata": {},
   "source": [
    "**Тут очевидно, что в среднем пользователи группы В менее активны, чем пользователи контрольной группы.**"
   ]
  },
  {
   "cell_type": "markdown",
   "metadata": {},
   "source": [
    "### 4.4. Конверсия в воронке по группам"
   ]
  },
  {
   "cell_type": "code",
   "execution_count": 66,
   "metadata": {
    "scrolled": true
   },
   "outputs": [
    {
     "data": {
      "text/html": [
       "<div>\n",
       "<style scoped>\n",
       "    .dataframe tbody tr th:only-of-type {\n",
       "        vertical-align: middle;\n",
       "    }\n",
       "\n",
       "    .dataframe tbody tr th {\n",
       "        vertical-align: top;\n",
       "    }\n",
       "\n",
       "    .dataframe thead th {\n",
       "        text-align: right;\n",
       "    }\n",
       "</style>\n",
       "<table border=\"1\" class=\"dataframe\">\n",
       "  <thead>\n",
       "    <tr style=\"text-align: right;\">\n",
       "      <th></th>\n",
       "      <th>A</th>\n",
       "      <th>B</th>\n",
       "      <th>difference, %</th>\n",
       "    </tr>\n",
       "    <tr>\n",
       "      <th>event_name</th>\n",
       "      <th></th>\n",
       "      <th></th>\n",
       "      <th></th>\n",
       "    </tr>\n",
       "  </thead>\n",
       "  <tbody>\n",
       "    <tr>\n",
       "      <th>cr_for_product_page, %</th>\n",
       "      <td>64.9</td>\n",
       "      <td>55.8</td>\n",
       "      <td>-14.021572</td>\n",
       "    </tr>\n",
       "    <tr>\n",
       "      <th>cr_for_product_cart, %</th>\n",
       "      <td>46.3</td>\n",
       "      <td>49.0</td>\n",
       "      <td>5.831533</td>\n",
       "    </tr>\n",
       "    <tr>\n",
       "      <th>cr_for_purchase, %</th>\n",
       "      <td>106.2</td>\n",
       "      <td>100.4</td>\n",
       "      <td>-5.461394</td>\n",
       "    </tr>\n",
       "  </tbody>\n",
       "</table>\n",
       "</div>"
      ],
      "text/plain": [
       "                            A      B  difference, %\n",
       "event_name                                         \n",
       "cr_for_product_page, %   64.9   55.8     -14.021572\n",
       "cr_for_product_cart, %   46.3   49.0       5.831533\n",
       "cr_for_purchase, %      106.2  100.4      -5.461394"
      ]
     },
     "execution_count": 66,
     "metadata": {},
     "output_type": "execute_result"
    }
   ],
   "source": [
    "# построим сравнительную таблицу с воронками для двух групп\n",
    "\n",
    "funnels = events_in_test.pivot_table(columns='event_name', index='group', values='user_id', aggfunc='nunique')\n",
    "funnels['cr_for_product_page, %'] = round(funnels['product_page'] / funnels['login'] * 100, 1)\n",
    "funnels['cr_for_product_cart, %'] = round(funnels['product_cart'] / funnels['product_page'] * 100, 1)\n",
    "funnels['cr_for_purchase, %'] = round(funnels['purchase'] / funnels['product_cart'] * 100, 1)\n",
    "funnels = funnels.T.drop(index=['login','product_cart','product_page','purchase'])\n",
    "funnels.columns = ['A','B']\n",
    "funnels['difference, %'] = ((funnels['B'] - funnels['A']) / funnels['A']) * 100\n",
    "funnels"
   ]
  },
  {
   "cell_type": "markdown",
   "metadata": {},
   "source": [
    "Мы видим, что:\n",
    "\n",
    "- конверсия в product_page снизилась почти на 14%;\n",
    "- конверсия в product_cart увеличилась на 5,8%, но нужно проверить это отличие на статистическую значимость;\n",
    "- конверсия в purchase уменьшилась на 5,5%, но нужно проверить это отличие на статистическую значимость.\n",
    "\n",
    "Также стоит отметить, что мы имеем особенность данных. Количество покупок в обеих группах выше, чем посещение корзины. Это может быть особенность приложения, где пользователь может купить в обход корзины, но скорее всего дело в задержках в логах. Мы будем оценивать изменение, поэтому оставим так.\n"
   ]
  },
  {
   "cell_type": "markdown",
   "metadata": {},
   "source": [
    "## 5. Оценка результатов АВ-теста"
   ]
  },
  {
   "cell_type": "code",
   "execution_count": 67,
   "metadata": {},
   "outputs": [],
   "source": [
    "# разделим датасет с событиями по группам\n",
    "\n",
    "events_a = events_in_test.query('group == \"A\"')\n",
    "events_b = events_in_test.query('group == \"B\"')"
   ]
  },
  {
   "cell_type": "code",
   "execution_count": 68,
   "metadata": {},
   "outputs": [],
   "source": [
    "# функция для построения воронки для группы\n",
    "\n",
    "def funnel_for_group(group):\n",
    "    \n",
    "    '''Функция принимает группу из АВ теста и строит воронку, рассчитывая и конверсию, и конверсию по этапам воронки.\n",
    "       Возвращает воронку.'''\n",
    "    \n",
    "    funnel = (\n",
    "                group\n",
    "                    .groupby('event_name',as_index=False)\n",
    "                    .agg({'user_id':'nunique'})\n",
    "                    .sort_values(by='user_id', ascending=False)\n",
    "                    .reset_index(drop=True)\n",
    "                )\n",
    "    funnel['cr, %'] = round(funnel['user_id'] / group['user_id'].nunique() * 100, 2)\n",
    "    funnel['stage_conversion, %'] = (\n",
    "                                    round(funnel['user_id'] \n",
    "                                            / funnel.shift(1,\n",
    "                                                           fill_value=group['user_id']\n",
    "                                                           .nunique()\n",
    "                                                          )['user_id']\n",
    "                                            * 100, \n",
    "                                              1)\n",
    "                                    )\n",
    "    return funnel"
   ]
  },
  {
   "cell_type": "code",
   "execution_count": 69,
   "metadata": {},
   "outputs": [],
   "source": [
    "# функция для расчета статистической значимости конверсии в группах\n",
    "\n",
    "def get_z_test(group_a, group_b, alpha, m):\n",
    "    \n",
    "    '''Функция принимает 2 группы из АВ теста, уровень значимости alpha,\n",
    "         показатель m, который равен:\n",
    "                                     - поправке Бонферрони при множественном сравнении;\n",
    "                                     - 1, при одиночном сравнении.\n",
    "         Функция проводит сравнение долей в воронках.\n",
    "         Функция возвращает датасет с данными о результатах сравнения.'''\n",
    "    \n",
    "    # создаем воронки для групп\n",
    "    funnel_a = funnel_for_group(group_a).drop(0).reset_index(drop=True)\n",
    "    funnel_b = funnel_for_group(group_b).drop(0).reset_index(drop=True)\n",
    "    \n",
    "    # создаем датафрейм для записи результатов\n",
    "    z_test = pd.DataFrame(data=None, index=funnel_a['event_name'], columns=['p_value', 'result'], dtype=None, copy=None)\n",
    "    \n",
    "    # перебираем все этапы воронки\n",
    "    for i in range(0, z_test.shape[0]):\n",
    "        \n",
    "        # создаем списки успехов и попыток\n",
    "        successes = [funnel_a['user_id'][i], funnel_b['user_id'][i]]\n",
    "        trials = [group_a['user_id'].nunique(), group_b['user_id'].nunique()]\n",
    "\n",
    "        # пропорция успехов в первой группе:\n",
    "        p1 = successes[0]/trials[0]\n",
    "\n",
    "        # пропорция успехов во второй группе:\n",
    "        p2 = successes[1]/trials[1]\n",
    "\n",
    "        # пропорция успехов в комбинированном датасете:\n",
    "        p_combined = (successes[0] + successes[1]) / (trials[0] + trials[1])\n",
    "\n",
    "        # разница пропорций в датасетах\n",
    "        difference = p1 - p2 \n",
    "\n",
    "        # считаем статистику в ст.отклонениях стандартного нормального распределения\n",
    "        z_value = difference / mth.sqrt(p_combined * (1 - p_combined) * (1/trials[0] + 1/trials[1]))\n",
    "\n",
    "        # задаем стандартное нормальное распределение (среднее 0, ст.отклонение 1)\n",
    "        distr = st.norm(0, 1)  \n",
    "        \n",
    "        # рассчитываем p-value\n",
    "        p_value = (1 - distr.cdf(abs(z_value))) * 2\n",
    "        \n",
    "        # записываем p-value в результирующую таблицу\n",
    "        z_test['p_value'][i] = p_value\n",
    "        \n",
    "        # оцениваем результат проверки гипотезы и выводим в результирующую таблицу\n",
    "        if p_value < alpha/m:\n",
    "            z_test['result'][i] = 'Отвергаем нулевую гипотезу: между долями есть значимая разница'\n",
    "        else:\n",
    "            z_test['result'][i] = 'Не получилось отвергнуть нулевую гипотезу, нет оснований считать конверсию различной'\n",
    "            \n",
    "    print('Результат статистической проверки гипотезы:')\n",
    "    \n",
    "    return z_test"
   ]
  },
  {
   "cell_type": "markdown",
   "metadata": {},
   "source": [
    "Мы собираемся проводить множественное сравнение долей - 3. Для того, чтобы снизить вероятность ошибки первого рода, используем поправку Бонферрони m = 3."
   ]
  },
  {
   "cell_type": "code",
   "execution_count": 70,
   "metadata": {
    "scrolled": false
   },
   "outputs": [
    {
     "name": "stdout",
     "output_type": "stream",
     "text": [
      "Результат статистической проверки гипотезы:\n"
     ]
    },
    {
     "data": {
      "text/html": [
       "<div>\n",
       "<style scoped>\n",
       "    .dataframe tbody tr th:only-of-type {\n",
       "        vertical-align: middle;\n",
       "    }\n",
       "\n",
       "    .dataframe tbody tr th {\n",
       "        vertical-align: top;\n",
       "    }\n",
       "\n",
       "    .dataframe thead th {\n",
       "        text-align: right;\n",
       "    }\n",
       "</style>\n",
       "<table border=\"1\" class=\"dataframe\">\n",
       "  <thead>\n",
       "    <tr style=\"text-align: right;\">\n",
       "      <th></th>\n",
       "      <th>p_value</th>\n",
       "      <th>result</th>\n",
       "    </tr>\n",
       "    <tr>\n",
       "      <th>event_name</th>\n",
       "      <th></th>\n",
       "      <th></th>\n",
       "    </tr>\n",
       "  </thead>\n",
       "  <tbody>\n",
       "    <tr>\n",
       "      <th>product_page</th>\n",
       "      <td>0.000004</td>\n",
       "      <td>Отвергаем нулевую гипотезу: между долями есть ...</td>\n",
       "    </tr>\n",
       "    <tr>\n",
       "      <th>purchase</th>\n",
       "      <td>0.01765</td>\n",
       "      <td>Не получилось отвергнуть нулевую гипотезу, нет...</td>\n",
       "    </tr>\n",
       "    <tr>\n",
       "      <th>product_cart</th>\n",
       "      <td>0.144121</td>\n",
       "      <td>Не получилось отвергнуть нулевую гипотезу, нет...</td>\n",
       "    </tr>\n",
       "  </tbody>\n",
       "</table>\n",
       "</div>"
      ],
      "text/plain": [
       "               p_value                                             result\n",
       "event_name                                                               \n",
       "product_page  0.000004  Отвергаем нулевую гипотезу: между долями есть ...\n",
       "purchase       0.01765  Не получилось отвергнуть нулевую гипотезу, нет...\n",
       "product_cart  0.144121  Не получилось отвергнуть нулевую гипотезу, нет..."
      ]
     },
     "execution_count": 70,
     "metadata": {},
     "output_type": "execute_result"
    }
   ],
   "source": [
    "# проводим оцекну статистической значимости различий между новой и старой воронкой\n",
    "\n",
    "get_z_test(events_a, events_b, 0.05,3)"
   ]
  },
  {
   "cell_type": "markdown",
   "metadata": {},
   "source": [
    "Итак, статистически значимых различий в конверсии в product_cart и purchase нет.\n",
    "Различия в конверсиях в product_page значимы, но данная конверсия уменьшилась почти на 14%, хотя предполагалось, что она увеличиться на 10%."
   ]
  },
  {
   "cell_type": "markdown",
   "metadata": {},
   "source": [
    "В целом, тест показал, что новая рекомендательная система повлияла на воронку в отрицательную сторону, и применять ее не стоит."
   ]
  },
  {
   "cell_type": "markdown",
   "metadata": {},
   "source": [
    "## Выводы"
   ]
  },
  {
   "cell_type": "markdown",
   "metadata": {},
   "source": [
    "Была проведена оценка результатов А/В-теста  оценку результатов теста ```recommender_system_test```.\n",
    "\n",
    "Оценка включала следующие этапы:\n",
    "\n",
    "1. Оценка соответствия теста ТЗ\n",
    "2. Оценка корректности проведения теста\n",
    "3. Исследовательский анализ данных\n",
    "4. Статистическая обработка и анализ результатов теста"
   ]
  },
  {
   "cell_type": "markdown",
   "metadata": {},
   "source": [
    "### Оценка соответствия теста техническому заданию"
   ]
  },
  {
   "cell_type": "markdown",
   "metadata": {},
   "source": [
    "1.1. Название теста: recommender_system_test;\n",
    "\n",
    "1.2. Группы: А (контрольная), B (новая платёжная воронка);\n",
    "\n",
    "1.3. Дата запуска: 2020-12-07 - **соттветствует**\n",
    "\n",
    "1.4. Дата остановки набора новых пользователей: 2020-12-21 - **соответствует**\n",
    "\n",
    "1.5. Дата остановки: 2021-01-04 - **НЕ соттветствует**, *тест окончен 29.12.2020*\n",
    "\n",
    "1.6. Аудитория: 15% новых пользователей из региона EU - **соответствует**\n",
    "\n",
    "1.7. Назначение теста: тестирование изменений, связанных с внедрением улучшенной рекомендательной системы;\n",
    "\n",
    "1.8. Количество участников теста: 6000 - **НЕ соответствует.** *Фактически в тесте участвовали 3244 пользователя в обеих группах суммарно.*\n",
    "\n",
    "1.9. Ожидаемый эффект: за 14 дней с момента регистрации в системе пользователи покажут улучшение каждой метрики не менее, чем на 10%:\n",
    "\n",
    "- конверсии в просмотр карточек товаров — событие product_page\n",
    "- просмотры корзины — product_cart\n",
    "- покупки — purchase.\n",
    "\n",
    "**НЕ соответствует.** *Было принято решение сократить горизонт анализ до 10 дней (максимально возможный срок жизни пользователей, зарегистрировавшихся до 20.12.2020 включительно. Таким образом, мы сохраним в тесте всех отобранных пользователей.*\n"
   ]
  },
  {
   "cell_type": "markdown",
   "metadata": {},
   "source": [
    "**Итак, тест проводился с отклонением от технического задания.**"
   ]
  },
  {
   "cell_type": "markdown",
   "metadata": {},
   "source": [
    "### Оценка корректности проведения теста"
   ]
  },
  {
   "cell_type": "markdown",
   "metadata": {},
   "source": [
    "#### Оценка корректности деления на группы\n",
    "\n",
    "Пользователи в группах не пересекаются, пользователей в контрольной группе больше, чем в тестовой, но это допустимо.\n",
    "\n",
    "Было обнаружено пересечение аудитории с параллельным тестом  ```interface_eu_test```. Для чистоты картины пользователи, которые попали в группу В конкурирующего теста были удалены. Пользователей из группы А конкурирующего теста остались, так как на них никакие изменения не применялись.\n",
    "\n",
    "Исследование аудитории показало, что группы подобны.\n",
    "\n",
    "#### Пересечение теста с маркетинговыми активностями\n",
    "\n",
    "С 25 декабря по 3 января запланированное промо, которое будет проводиться в нашем целевом регионе - Европе. К тому моменту когорты уже набраны, поэтому на привлечение пользователей данное промо влиять не будет. Однако, может влиять на следующие этапы воронки. Так как у нас есть конрольная группа, данное временное явление не должно помешать сделать выводы. Хотя на будущее стоит учитывать сезонность и различные праздники, так как в целом они влияют на поведение пользователя."
   ]
  },
  {
   "cell_type": "markdown",
   "metadata": {},
   "source": [
    "### Исследовательский анализ данных\n",
    "\n",
    "Больше половины отобранных для теста пользователей (55%) не совершили ни одного действия.\n",
    "Из группы B почти 70% вновь зарегистрированных пользователей не совершали больше никаких действий. \n",
    "\n",
    "**Похоже, такой перекос в активности новых пользователей связан с технической ошибкой или некорректным ведением логов. Чтобы некорректные данные не повлияли на результат АВ-теста, неактивных пользователей в конечные расчеты не брали, за счет чего количество пользователей в тесте сократилось с 5918 до 3244 пользователей.**\n",
    "\n",
    "События по группам распределены неравномерно. Пользователи в контрольной группе совершили почти в 4 раза больше событий.\n",
    "Количество событий на пользователя в контрольной группе выше - 7 против 6.\n",
    "\n",
    "В динамике на протяжении всего теста количество событий меньше в группе В.\n",
    "\n",
    "Складыввается впечатление, что либо перепутали группы, либо на контрольную группу было оказано какое-то влияние."
   ]
  },
  {
   "cell_type": "markdown",
   "metadata": {},
   "source": [
    "### Статистическая обработка и анализ результатов теста\n",
    "\n",
    "При сравнении двух воронок выяснили:\n",
    "\n",
    "- конверсия в product_page **снизилась почти на 14%** - это **статистически значимый результат**;\n",
    "- конверсия в product_cart **увеличилась на 5,8%**, но **не имеет статистической значимости**;\n",
    "- конверсия в purchase **уменьшилась на 5,5%**, но **не имеет статистической значимости**.\n",
    "\n",
    "Также стоит отметить, что мы имеем особенность данных. Количество покупок в обеих группах выше, чем посещение корзины. Это может быть особенность приложения, где пользователь может купить в обход корзины (например, кнопка \"купить в один клик\"), или дело может быть в задержках в логах."
   ]
  },
  {
   "cell_type": "markdown",
   "metadata": {},
   "source": [
    "**В целом, тест показал, что новая рекомендательная система повлияла на воронку в отрицательную сторону, и применять ее не стоит, однако, в связи с несоответствием с ТЗ, некоторыми странностями в данных и пересечение с маркетинговыми активностями и Рождеством и Новым Годом, рекомендуется провести данный АВ-тест повторно, так как полученным результатам доверять не стоит.**"
   ]
  },
  {
   "cell_type": "markdown",
   "metadata": {},
   "source": [
    "## Рекомендации"
   ]
  },
  {
   "cell_type": "markdown",
   "metadata": {},
   "source": [
    "1. Стоит поднять логи и понять, почему так много пользователей остаются неактивными.\n",
    "2. Не стоит планировать А/В-тест в высокий сезон маркетинговой активности (праздники и т.д.), так как это может влиять на поведение пользователей.\n",
    "3. Необходимо следить, чтобы пользователи не попадали в параллельные А/В-тесты.\n",
    "4. Необходимо следить за выполнением требований ТЗ.\n",
    "5. Данные А/В-тест необходимо повторить."
   ]
  }
 ],
 "metadata": {
  "ExecuteTimeLog": [
   {
    "duration": 4,
    "start_time": "2023-01-03T11:57:56.595Z"
   },
   {
    "duration": 434,
    "start_time": "2023-01-03T11:58:59.298Z"
   },
   {
    "duration": 2460,
    "start_time": "2023-01-03T12:08:29.887Z"
   },
   {
    "duration": 28,
    "start_time": "2023-01-03T12:12:56.221Z"
   },
   {
    "duration": 104,
    "start_time": "2023-01-03T12:12:57.885Z"
   },
   {
    "duration": 664,
    "start_time": "2023-01-03T12:12:59.415Z"
   },
   {
    "duration": 50,
    "start_time": "2023-01-03T12:13:01.597Z"
   },
   {
    "duration": 20,
    "start_time": "2023-01-03T12:13:25.303Z"
   },
   {
    "duration": 17,
    "start_time": "2023-01-03T12:14:03.547Z"
   },
   {
    "duration": 12,
    "start_time": "2023-01-03T12:14:17.012Z"
   },
   {
    "duration": 8,
    "start_time": "2023-01-03T12:14:36.979Z"
   },
   {
    "duration": 4,
    "start_time": "2023-01-03T12:21:54.983Z"
   },
   {
    "duration": 18,
    "start_time": "2023-01-03T12:22:20.793Z"
   },
   {
    "duration": 7,
    "start_time": "2023-01-03T12:22:34.057Z"
   },
   {
    "duration": 14,
    "start_time": "2023-01-03T12:22:36.300Z"
   },
   {
    "duration": 4,
    "start_time": "2023-01-03T12:22:45.094Z"
   },
   {
    "duration": 22,
    "start_time": "2023-01-03T12:22:47.860Z"
   },
   {
    "duration": 90,
    "start_time": "2023-01-03T12:23:06.024Z"
   },
   {
    "duration": 3,
    "start_time": "2023-01-03T12:23:15.477Z"
   },
   {
    "duration": 18,
    "start_time": "2023-01-03T12:23:17.482Z"
   },
   {
    "duration": 4,
    "start_time": "2023-01-03T12:23:23.701Z"
   },
   {
    "duration": 17,
    "start_time": "2023-01-03T12:23:25.669Z"
   },
   {
    "duration": 3,
    "start_time": "2023-01-03T12:23:51.710Z"
   },
   {
    "duration": 17,
    "start_time": "2023-01-03T12:23:53.472Z"
   },
   {
    "duration": 5,
    "start_time": "2023-01-03T12:24:32.735Z"
   },
   {
    "duration": 22,
    "start_time": "2023-01-03T12:24:34.532Z"
   },
   {
    "duration": 5,
    "start_time": "2023-01-03T12:25:15.169Z"
   },
   {
    "duration": 17,
    "start_time": "2023-01-03T12:25:17.020Z"
   },
   {
    "duration": 4,
    "start_time": "2023-01-03T12:25:33.628Z"
   },
   {
    "duration": 3,
    "start_time": "2023-01-03T12:25:53.706Z"
   },
   {
    "duration": 3,
    "start_time": "2023-01-03T12:26:21.205Z"
   },
   {
    "duration": 4,
    "start_time": "2023-01-03T12:26:29.569Z"
   },
   {
    "duration": 3,
    "start_time": "2023-01-03T12:26:47.322Z"
   },
   {
    "duration": 18,
    "start_time": "2023-01-03T12:26:50.691Z"
   },
   {
    "duration": 4,
    "start_time": "2023-01-03T12:27:07.944Z"
   },
   {
    "duration": 19,
    "start_time": "2023-01-03T12:27:09.887Z"
   },
   {
    "duration": 3,
    "start_time": "2023-01-03T12:27:23.745Z"
   },
   {
    "duration": 3,
    "start_time": "2023-01-03T12:28:03.712Z"
   },
   {
    "duration": 19,
    "start_time": "2023-01-03T12:28:07.433Z"
   },
   {
    "duration": 4,
    "start_time": "2023-01-03T12:28:26.089Z"
   },
   {
    "duration": 17,
    "start_time": "2023-01-03T12:28:29.316Z"
   },
   {
    "duration": 3,
    "start_time": "2023-01-03T12:28:35.735Z"
   },
   {
    "duration": 16,
    "start_time": "2023-01-03T12:28:37.512Z"
   },
   {
    "duration": 84,
    "start_time": "2023-01-03T12:29:21.365Z"
   },
   {
    "duration": 4,
    "start_time": "2023-01-03T12:38:38.504Z"
   },
   {
    "duration": 29,
    "start_time": "2023-01-03T12:38:40.307Z"
   },
   {
    "duration": 3,
    "start_time": "2023-01-03T12:38:57.681Z"
   },
   {
    "duration": 4,
    "start_time": "2023-01-03T12:39:42.084Z"
   },
   {
    "duration": 4,
    "start_time": "2023-01-03T12:39:49.001Z"
   },
   {
    "duration": 19,
    "start_time": "2023-01-03T12:39:51.284Z"
   },
   {
    "duration": 7,
    "start_time": "2023-01-03T12:49:27.270Z"
   },
   {
    "duration": 5,
    "start_time": "2023-01-03T12:50:28.420Z"
   },
   {
    "duration": 6,
    "start_time": "2023-01-03T12:50:53.473Z"
   },
   {
    "duration": 98,
    "start_time": "2023-01-03T12:51:15.896Z"
   },
   {
    "duration": 13,
    "start_time": "2023-01-03T12:51:21.083Z"
   },
   {
    "duration": 8,
    "start_time": "2023-01-03T12:51:23.876Z"
   },
   {
    "duration": 10,
    "start_time": "2023-01-03T12:51:33.779Z"
   },
   {
    "duration": 9,
    "start_time": "2023-01-03T12:51:37.078Z"
   },
   {
    "duration": 8,
    "start_time": "2023-01-03T12:52:04.113Z"
   },
   {
    "duration": 9,
    "start_time": "2023-01-03T12:52:06.531Z"
   },
   {
    "duration": 8,
    "start_time": "2023-01-03T12:52:18.890Z"
   },
   {
    "duration": 9,
    "start_time": "2023-01-03T12:52:21.435Z"
   },
   {
    "duration": 10,
    "start_time": "2023-01-03T12:52:24.188Z"
   },
   {
    "duration": 12,
    "start_time": "2023-01-03T12:52:58.949Z"
   },
   {
    "duration": 5,
    "start_time": "2023-01-03T12:53:12.987Z"
   },
   {
    "duration": 83,
    "start_time": "2023-01-03T12:54:47.030Z"
   },
   {
    "duration": 22,
    "start_time": "2023-01-03T12:56:52.818Z"
   },
   {
    "duration": 5,
    "start_time": "2023-01-03T12:57:12.808Z"
   },
   {
    "duration": 5,
    "start_time": "2023-01-03T12:57:27.943Z"
   },
   {
    "duration": 5,
    "start_time": "2023-01-03T12:57:45.280Z"
   },
   {
    "duration": 388,
    "start_time": "2023-01-03T13:04:39.292Z"
   },
   {
    "duration": 7,
    "start_time": "2023-01-03T13:06:08.377Z"
   },
   {
    "duration": 7,
    "start_time": "2023-01-03T13:06:53.841Z"
   },
   {
    "duration": 81,
    "start_time": "2023-01-03T13:14:38.281Z"
   },
   {
    "duration": 6,
    "start_time": "2023-01-03T13:14:49.608Z"
   },
   {
    "duration": 5,
    "start_time": "2023-01-03T13:14:55.504Z"
   },
   {
    "duration": 5,
    "start_time": "2023-01-03T13:15:14.476Z"
   },
   {
    "duration": 10,
    "start_time": "2023-01-03T13:15:34.492Z"
   },
   {
    "duration": 9,
    "start_time": "2023-01-03T13:15:55.713Z"
   },
   {
    "duration": 10,
    "start_time": "2023-01-03T13:16:32.489Z"
   },
   {
    "duration": 55,
    "start_time": "2023-01-03T13:17:18.410Z"
   },
   {
    "duration": 6,
    "start_time": "2023-01-03T13:17:20.371Z"
   },
   {
    "duration": 5,
    "start_time": "2023-01-03T13:48:50.917Z"
   },
   {
    "duration": 4,
    "start_time": "2023-01-03T13:49:01.825Z"
   },
   {
    "duration": 4,
    "start_time": "2023-01-03T13:49:10.051Z"
   },
   {
    "duration": 7,
    "start_time": "2023-01-03T13:49:43.982Z"
   },
   {
    "duration": 4,
    "start_time": "2023-01-03T13:50:05.938Z"
   },
   {
    "duration": 6,
    "start_time": "2023-01-03T13:54:56.232Z"
   },
   {
    "duration": 13,
    "start_time": "2023-01-03T13:55:05.448Z"
   },
   {
    "duration": 4,
    "start_time": "2023-01-03T13:55:36.275Z"
   },
   {
    "duration": 4,
    "start_time": "2023-01-03T13:56:01.700Z"
   },
   {
    "duration": 76,
    "start_time": "2023-01-03T13:59:33.302Z"
   },
   {
    "duration": 12,
    "start_time": "2023-01-03T13:59:37.523Z"
   },
   {
    "duration": 96,
    "start_time": "2023-01-03T14:00:40.482Z"
   },
   {
    "duration": 6,
    "start_time": "2023-01-03T14:01:00.882Z"
   },
   {
    "duration": 8,
    "start_time": "2023-01-03T14:02:16.054Z"
   },
   {
    "duration": 77,
    "start_time": "2023-01-03T14:02:47.570Z"
   },
   {
    "duration": 4,
    "start_time": "2023-01-03T14:02:50.674Z"
   },
   {
    "duration": 6,
    "start_time": "2023-01-03T14:03:21.003Z"
   },
   {
    "duration": 8,
    "start_time": "2023-01-03T14:13:48.928Z"
   },
   {
    "duration": 68,
    "start_time": "2023-01-03T14:14:26.512Z"
   },
   {
    "duration": 2697,
    "start_time": "2023-01-03T14:15:31.904Z"
   },
   {
    "duration": 2669,
    "start_time": "2023-01-03T14:16:18.459Z"
   },
   {
    "duration": 7,
    "start_time": "2023-01-03T14:16:23.652Z"
   },
   {
    "duration": 62,
    "start_time": "2023-01-03T14:16:25.463Z"
   },
   {
    "duration": 2569,
    "start_time": "2023-01-03T14:16:27.141Z"
   },
   {
    "duration": 2792,
    "start_time": "2023-01-03T14:17:29.648Z"
   },
   {
    "duration": 3,
    "start_time": "2023-01-03T14:18:05.657Z"
   },
   {
    "duration": 2,
    "start_time": "2023-01-03T14:59:19.436Z"
   },
   {
    "duration": 4,
    "start_time": "2023-01-03T15:01:54.061Z"
   },
   {
    "duration": 33,
    "start_time": "2023-01-03T15:02:01.525Z"
   },
   {
    "duration": 11,
    "start_time": "2023-01-03T15:02:09.354Z"
   },
   {
    "duration": 1024,
    "start_time": "2023-01-03T15:02:21.370Z"
   },
   {
    "duration": 525,
    "start_time": "2023-01-03T15:02:26.767Z"
   },
   {
    "duration": 55,
    "start_time": "2023-01-03T15:02:56.274Z"
   },
   {
    "duration": 57,
    "start_time": "2023-01-03T15:03:11.878Z"
   },
   {
    "duration": 24,
    "start_time": "2023-01-03T16:26:49.815Z"
   },
   {
    "duration": 4,
    "start_time": "2023-01-03T16:28:54.077Z"
   },
   {
    "duration": 11,
    "start_time": "2023-01-03T16:28:59.807Z"
   },
   {
    "duration": 1304,
    "start_time": "2023-01-04T06:20:11.359Z"
   },
   {
    "duration": 63,
    "start_time": "2023-01-04T06:20:12.665Z"
   },
   {
    "duration": 168,
    "start_time": "2023-01-04T06:20:12.729Z"
   },
   {
    "duration": 555,
    "start_time": "2023-01-04T06:20:12.898Z"
   },
   {
    "duration": 60,
    "start_time": "2023-01-04T06:20:13.455Z"
   },
   {
    "duration": 3,
    "start_time": "2023-01-04T06:20:13.517Z"
   },
   {
    "duration": 25,
    "start_time": "2023-01-04T06:20:13.522Z"
   },
   {
    "duration": 5,
    "start_time": "2023-01-04T06:20:13.548Z"
   },
   {
    "duration": 8,
    "start_time": "2023-01-04T06:20:13.555Z"
   },
   {
    "duration": 68,
    "start_time": "2023-01-04T06:20:13.565Z"
   },
   {
    "duration": 13,
    "start_time": "2023-01-04T06:20:13.634Z"
   },
   {
    "duration": 4,
    "start_time": "2023-01-04T06:20:13.649Z"
   },
   {
    "duration": 323,
    "start_time": "2023-01-04T06:20:13.654Z"
   },
   {
    "duration": 8,
    "start_time": "2023-01-04T06:20:13.980Z"
   },
   {
    "duration": 106,
    "start_time": "2023-01-04T06:20:13.989Z"
   },
   {
    "duration": 5,
    "start_time": "2023-01-04T06:20:14.097Z"
   },
   {
    "duration": 5,
    "start_time": "2023-01-04T06:20:14.104Z"
   },
   {
    "duration": 3,
    "start_time": "2023-01-04T06:20:14.121Z"
   },
   {
    "duration": 9,
    "start_time": "2023-01-04T06:20:14.125Z"
   },
   {
    "duration": 3,
    "start_time": "2023-01-04T06:20:14.136Z"
   },
   {
    "duration": 55,
    "start_time": "2023-01-04T06:20:14.140Z"
   },
   {
    "duration": 2362,
    "start_time": "2023-01-04T06:20:14.197Z"
   },
   {
    "duration": 5,
    "start_time": "2023-01-04T06:20:16.561Z"
   },
   {
    "duration": 19,
    "start_time": "2023-01-04T06:20:16.568Z"
   },
   {
    "duration": 353,
    "start_time": "2023-01-04T06:20:16.589Z"
   },
   {
    "duration": 26,
    "start_time": "2023-01-04T06:20:16.945Z"
   },
   {
    "duration": 12,
    "start_time": "2023-01-04T06:20:16.973Z"
   },
   {
    "duration": 8,
    "start_time": "2023-01-04T06:21:06.598Z"
   },
   {
    "duration": 12,
    "start_time": "2023-01-04T06:21:50.178Z"
   },
   {
    "duration": 9,
    "start_time": "2023-01-04T06:22:10.568Z"
   },
   {
    "duration": 5,
    "start_time": "2023-01-04T06:23:00.854Z"
   },
   {
    "duration": 7,
    "start_time": "2023-01-04T06:23:21.034Z"
   },
   {
    "duration": 8,
    "start_time": "2023-01-04T06:24:27.955Z"
   },
   {
    "duration": 147,
    "start_time": "2023-01-04T06:30:31.083Z"
   },
   {
    "duration": 5,
    "start_time": "2023-01-04T06:30:42.658Z"
   },
   {
    "duration": 6,
    "start_time": "2023-01-04T06:30:45.387Z"
   },
   {
    "duration": 4,
    "start_time": "2023-01-04T06:31:32.204Z"
   },
   {
    "duration": 290,
    "start_time": "2023-01-04T06:31:38.040Z"
   },
   {
    "duration": 19,
    "start_time": "2023-01-04T06:36:02.540Z"
   },
   {
    "duration": 8,
    "start_time": "2023-01-04T06:36:21.201Z"
   },
   {
    "duration": 4,
    "start_time": "2023-01-04T06:37:39.178Z"
   },
   {
    "duration": 4,
    "start_time": "2023-01-04T06:38:07.783Z"
   },
   {
    "duration": 38,
    "start_time": "2023-01-04T06:48:57.623Z"
   },
   {
    "duration": 5,
    "start_time": "2023-01-04T06:49:01.601Z"
   },
   {
    "duration": 5,
    "start_time": "2023-01-04T06:49:04.003Z"
   },
   {
    "duration": 4,
    "start_time": "2023-01-04T06:49:52.484Z"
   },
   {
    "duration": 4,
    "start_time": "2023-01-04T06:50:00.734Z"
   },
   {
    "duration": 43,
    "start_time": "2023-01-04T06:50:54.511Z"
   },
   {
    "duration": 12,
    "start_time": "2023-01-04T06:51:31.680Z"
   },
   {
    "duration": 21,
    "start_time": "2023-01-04T06:53:09.469Z"
   },
   {
    "duration": 6,
    "start_time": "2023-01-04T06:54:40.938Z"
   },
   {
    "duration": 13,
    "start_time": "2023-01-04T07:01:46.274Z"
   },
   {
    "duration": 11,
    "start_time": "2023-01-04T07:03:11.232Z"
   },
   {
    "duration": 54,
    "start_time": "2023-01-04T07:06:30.745Z"
   },
   {
    "duration": 10,
    "start_time": "2023-01-04T07:06:36.805Z"
   },
   {
    "duration": 3355,
    "start_time": "2023-01-04T07:06:47.248Z"
   },
   {
    "duration": 3597,
    "start_time": "2023-01-04T07:07:00.962Z"
   },
   {
    "duration": 10,
    "start_time": "2023-01-04T07:07:39.565Z"
   },
   {
    "duration": 3108,
    "start_time": "2023-01-04T07:07:41.589Z"
   },
   {
    "duration": 692,
    "start_time": "2023-01-04T09:35:39.708Z"
   },
   {
    "duration": 17,
    "start_time": "2023-01-04T09:36:02.164Z"
   },
   {
    "duration": 816,
    "start_time": "2023-01-04T09:36:19.968Z"
   },
   {
    "duration": 9,
    "start_time": "2023-01-04T09:36:54.826Z"
   },
   {
    "duration": 8,
    "start_time": "2023-01-04T09:37:01.363Z"
   },
   {
    "duration": 25,
    "start_time": "2023-01-04T09:47:09.444Z"
   },
   {
    "duration": 94,
    "start_time": "2023-01-04T09:47:33.759Z"
   },
   {
    "duration": 28,
    "start_time": "2023-01-04T09:47:51.263Z"
   },
   {
    "duration": 12,
    "start_time": "2023-01-04T09:53:25.179Z"
   },
   {
    "duration": 5,
    "start_time": "2023-01-04T09:53:38.220Z"
   },
   {
    "duration": 5,
    "start_time": "2023-01-04T09:54:04.870Z"
   },
   {
    "duration": 4,
    "start_time": "2023-01-04T09:54:17.347Z"
   },
   {
    "duration": 3,
    "start_time": "2023-01-04T09:54:28.866Z"
   },
   {
    "duration": 4,
    "start_time": "2023-01-04T09:56:47.629Z"
   },
   {
    "duration": 9,
    "start_time": "2023-01-04T09:58:13.166Z"
   },
   {
    "duration": 14,
    "start_time": "2023-01-04T09:58:20.563Z"
   },
   {
    "duration": 15,
    "start_time": "2023-01-04T10:01:14.271Z"
   },
   {
    "duration": 11,
    "start_time": "2023-01-04T10:01:40.986Z"
   },
   {
    "duration": 10,
    "start_time": "2023-01-04T10:02:59.571Z"
   },
   {
    "duration": 8,
    "start_time": "2023-01-04T10:03:08.111Z"
   },
   {
    "duration": 4,
    "start_time": "2023-01-04T10:05:27.203Z"
   },
   {
    "duration": 3,
    "start_time": "2023-01-04T10:05:43.097Z"
   },
   {
    "duration": 8,
    "start_time": "2023-01-04T10:08:08.057Z"
   },
   {
    "duration": 9,
    "start_time": "2023-01-04T10:39:08.951Z"
   },
   {
    "duration": 11,
    "start_time": "2023-01-04T10:42:22.581Z"
   },
   {
    "duration": 7,
    "start_time": "2023-01-04T10:57:24.934Z"
   },
   {
    "duration": 5,
    "start_time": "2023-01-04T10:57:46.373Z"
   },
   {
    "duration": 10,
    "start_time": "2023-01-04T10:58:46.888Z"
   },
   {
    "duration": 6,
    "start_time": "2023-01-04T10:58:59.565Z"
   },
   {
    "duration": 19,
    "start_time": "2023-01-04T10:59:49.273Z"
   },
   {
    "duration": 11,
    "start_time": "2023-01-04T11:00:38.066Z"
   },
   {
    "duration": 14,
    "start_time": "2023-01-04T11:04:05.285Z"
   },
   {
    "duration": 46,
    "start_time": "2023-01-04T11:05:22.756Z"
   },
   {
    "duration": 11,
    "start_time": "2023-01-04T11:05:46.353Z"
   },
   {
    "duration": 10,
    "start_time": "2023-01-04T11:06:02.640Z"
   },
   {
    "duration": 12,
    "start_time": "2023-01-04T11:06:17.548Z"
   },
   {
    "duration": 8,
    "start_time": "2023-01-04T11:06:42.813Z"
   },
   {
    "duration": 13,
    "start_time": "2023-01-04T11:07:38.817Z"
   },
   {
    "duration": 7,
    "start_time": "2023-01-04T11:08:26.171Z"
   },
   {
    "duration": 5,
    "start_time": "2023-01-04T11:10:24.549Z"
   },
   {
    "duration": 6,
    "start_time": "2023-01-04T11:10:36.413Z"
   },
   {
    "duration": 9,
    "start_time": "2023-01-04T11:12:27.885Z"
   },
   {
    "duration": 6,
    "start_time": "2023-01-04T11:15:19.993Z"
   },
   {
    "duration": 6,
    "start_time": "2023-01-04T11:15:23.446Z"
   },
   {
    "duration": 1131,
    "start_time": "2023-01-04T11:15:31.583Z"
   },
   {
    "duration": 26,
    "start_time": "2023-01-04T11:15:32.716Z"
   },
   {
    "duration": 63,
    "start_time": "2023-01-04T11:15:32.743Z"
   },
   {
    "duration": 423,
    "start_time": "2023-01-04T11:15:32.809Z"
   },
   {
    "duration": 24,
    "start_time": "2023-01-04T11:15:33.234Z"
   },
   {
    "duration": 3,
    "start_time": "2023-01-04T11:15:33.259Z"
   },
   {
    "duration": 27,
    "start_time": "2023-01-04T11:15:33.264Z"
   },
   {
    "duration": 4,
    "start_time": "2023-01-04T11:15:33.292Z"
   },
   {
    "duration": 11,
    "start_time": "2023-01-04T11:15:33.298Z"
   },
   {
    "duration": 47,
    "start_time": "2023-01-04T11:15:33.312Z"
   },
   {
    "duration": 12,
    "start_time": "2023-01-04T11:15:33.360Z"
   },
   {
    "duration": 4,
    "start_time": "2023-01-04T11:15:33.374Z"
   },
   {
    "duration": 322,
    "start_time": "2023-01-04T11:15:33.380Z"
   },
   {
    "duration": 6,
    "start_time": "2023-01-04T11:15:33.704Z"
   },
   {
    "duration": 116,
    "start_time": "2023-01-04T11:15:33.712Z"
   },
   {
    "duration": 7,
    "start_time": "2023-01-04T11:15:33.830Z"
   },
   {
    "duration": 23,
    "start_time": "2023-01-04T11:15:33.838Z"
   },
   {
    "duration": 7,
    "start_time": "2023-01-04T11:15:33.862Z"
   },
   {
    "duration": 6,
    "start_time": "2023-01-04T11:15:33.870Z"
   },
   {
    "duration": 11,
    "start_time": "2023-01-04T11:15:33.877Z"
   },
   {
    "duration": 7,
    "start_time": "2023-01-04T11:15:33.890Z"
   },
   {
    "duration": 13,
    "start_time": "2023-01-04T11:15:33.922Z"
   },
   {
    "duration": 51,
    "start_time": "2023-01-04T11:15:33.937Z"
   },
   {
    "duration": 4,
    "start_time": "2023-01-04T11:15:33.990Z"
   },
   {
    "duration": 13,
    "start_time": "2023-01-04T11:15:33.995Z"
   },
   {
    "duration": 334,
    "start_time": "2023-01-04T11:15:34.009Z"
   },
   {
    "duration": 5,
    "start_time": "2023-01-04T11:15:34.345Z"
   },
   {
    "duration": 15,
    "start_time": "2023-01-04T11:15:34.353Z"
   },
   {
    "duration": 3196,
    "start_time": "2023-01-04T11:15:34.370Z"
   },
   {
    "duration": 22,
    "start_time": "2023-01-04T11:15:37.567Z"
   },
   {
    "duration": 4,
    "start_time": "2023-01-04T11:15:37.591Z"
   },
   {
    "duration": 7,
    "start_time": "2023-01-04T11:15:37.597Z"
   },
   {
    "duration": 18,
    "start_time": "2023-01-04T11:15:37.606Z"
   },
   {
    "duration": 12,
    "start_time": "2023-01-04T11:15:37.625Z"
   },
   {
    "duration": 12,
    "start_time": "2023-01-04T11:15:37.638Z"
   },
   {
    "duration": 8,
    "start_time": "2023-01-04T11:15:37.651Z"
   },
   {
    "duration": 6,
    "start_time": "2023-01-04T11:15:37.661Z"
   },
   {
    "duration": 15,
    "start_time": "2023-01-04T11:15:37.668Z"
   },
   {
    "duration": 7,
    "start_time": "2023-01-04T11:15:37.684Z"
   },
   {
    "duration": 10,
    "start_time": "2023-01-04T11:15:37.692Z"
   },
   {
    "duration": 26,
    "start_time": "2023-01-04T11:15:37.703Z"
   },
   {
    "duration": 136,
    "start_time": "2023-01-04T12:15:17.035Z"
   },
   {
    "duration": 9,
    "start_time": "2023-01-04T12:15:21.853Z"
   },
   {
    "duration": 3,
    "start_time": "2023-01-04T12:28:42.784Z"
   },
   {
    "duration": 4,
    "start_time": "2023-01-04T12:28:58.219Z"
   },
   {
    "duration": 3,
    "start_time": "2023-01-04T12:29:04.297Z"
   },
   {
    "duration": 6,
    "start_time": "2023-01-04T12:30:37.293Z"
   },
   {
    "duration": 8,
    "start_time": "2023-01-04T12:30:51.476Z"
   },
   {
    "duration": 3,
    "start_time": "2023-01-04T12:33:12.133Z"
   },
   {
    "duration": 3,
    "start_time": "2023-01-04T12:33:27.572Z"
   },
   {
    "duration": 28,
    "start_time": "2023-01-04T12:36:23.453Z"
   },
   {
    "duration": 15,
    "start_time": "2023-01-04T12:36:32.508Z"
   },
   {
    "duration": 12,
    "start_time": "2023-01-04T12:43:30.976Z"
   },
   {
    "duration": 9,
    "start_time": "2023-01-04T12:45:48.067Z"
   },
   {
    "duration": 12,
    "start_time": "2023-01-04T12:45:52.043Z"
   },
   {
    "duration": 6,
    "start_time": "2023-01-04T12:48:10.843Z"
   },
   {
    "duration": 11,
    "start_time": "2023-01-04T12:49:23.249Z"
   },
   {
    "duration": 11,
    "start_time": "2023-01-04T12:49:27.064Z"
   },
   {
    "duration": 11,
    "start_time": "2023-01-04T12:49:44.603Z"
   },
   {
    "duration": 6,
    "start_time": "2023-01-04T12:51:07.616Z"
   },
   {
    "duration": 6,
    "start_time": "2023-01-04T12:51:12.851Z"
   },
   {
    "duration": 8,
    "start_time": "2023-01-04T12:51:25.307Z"
   },
   {
    "duration": 6,
    "start_time": "2023-01-04T12:53:49.174Z"
   },
   {
    "duration": 6,
    "start_time": "2023-01-04T12:55:57.342Z"
   },
   {
    "duration": 48,
    "start_time": "2023-01-04T12:58:48.093Z"
   },
   {
    "duration": 3,
    "start_time": "2023-01-04T12:59:00.600Z"
   },
   {
    "duration": 3,
    "start_time": "2023-01-04T12:59:18.618Z"
   },
   {
    "duration": 3,
    "start_time": "2023-01-04T13:00:19.711Z"
   },
   {
    "duration": 7,
    "start_time": "2023-01-04T13:01:04.106Z"
   },
   {
    "duration": 3,
    "start_time": "2023-01-04T13:01:28.887Z"
   },
   {
    "duration": 1187,
    "start_time": "2023-01-04T13:01:35.722Z"
   },
   {
    "duration": 27,
    "start_time": "2023-01-04T13:01:36.910Z"
   },
   {
    "duration": 60,
    "start_time": "2023-01-04T13:01:36.938Z"
   },
   {
    "duration": 436,
    "start_time": "2023-01-04T13:01:37.000Z"
   },
   {
    "duration": 24,
    "start_time": "2023-01-04T13:01:37.439Z"
   },
   {
    "duration": 3,
    "start_time": "2023-01-04T13:01:37.465Z"
   },
   {
    "duration": 26,
    "start_time": "2023-01-04T13:01:37.470Z"
   },
   {
    "duration": 4,
    "start_time": "2023-01-04T13:01:37.498Z"
   },
   {
    "duration": 8,
    "start_time": "2023-01-04T13:01:37.504Z"
   },
   {
    "duration": 47,
    "start_time": "2023-01-04T13:01:37.522Z"
   },
   {
    "duration": 11,
    "start_time": "2023-01-04T13:01:37.571Z"
   },
   {
    "duration": 4,
    "start_time": "2023-01-04T13:01:37.584Z"
   },
   {
    "duration": 337,
    "start_time": "2023-01-04T13:01:37.590Z"
   },
   {
    "duration": 7,
    "start_time": "2023-01-04T13:01:37.929Z"
   },
   {
    "duration": 107,
    "start_time": "2023-01-04T13:01:37.937Z"
   },
   {
    "duration": 5,
    "start_time": "2023-01-04T13:01:38.045Z"
   },
   {
    "duration": 28,
    "start_time": "2023-01-04T13:01:38.052Z"
   },
   {
    "duration": 6,
    "start_time": "2023-01-04T13:01:38.082Z"
   },
   {
    "duration": 12,
    "start_time": "2023-01-04T13:01:38.089Z"
   },
   {
    "duration": 28,
    "start_time": "2023-01-04T13:01:38.102Z"
   },
   {
    "duration": 4,
    "start_time": "2023-01-04T13:01:38.131Z"
   },
   {
    "duration": 9,
    "start_time": "2023-01-04T13:01:38.137Z"
   },
   {
    "duration": 42,
    "start_time": "2023-01-04T13:01:38.148Z"
   },
   {
    "duration": 4,
    "start_time": "2023-01-04T13:01:38.192Z"
   },
   {
    "duration": 26,
    "start_time": "2023-01-04T13:01:38.198Z"
   },
   {
    "duration": 328,
    "start_time": "2023-01-04T13:01:38.226Z"
   },
   {
    "duration": 7,
    "start_time": "2023-01-04T13:01:38.556Z"
   },
   {
    "duration": 14,
    "start_time": "2023-01-04T13:01:38.567Z"
   },
   {
    "duration": 3206,
    "start_time": "2023-01-04T13:01:38.582Z"
   },
   {
    "duration": 31,
    "start_time": "2023-01-04T13:01:41.790Z"
   },
   {
    "duration": 5,
    "start_time": "2023-01-04T13:01:41.822Z"
   },
   {
    "duration": 8,
    "start_time": "2023-01-04T13:01:41.829Z"
   },
   {
    "duration": 5,
    "start_time": "2023-01-04T13:01:41.838Z"
   },
   {
    "duration": 6,
    "start_time": "2023-01-04T13:01:41.844Z"
   },
   {
    "duration": 10,
    "start_time": "2023-01-04T13:01:41.851Z"
   },
   {
    "duration": 10,
    "start_time": "2023-01-04T13:01:41.862Z"
   },
   {
    "duration": 9,
    "start_time": "2023-01-04T13:01:41.874Z"
   },
   {
    "duration": 11,
    "start_time": "2023-01-04T13:01:41.885Z"
   },
   {
    "duration": 5,
    "start_time": "2023-01-04T13:01:41.897Z"
   },
   {
    "duration": 10,
    "start_time": "2023-01-04T13:01:41.921Z"
   },
   {
    "duration": 6,
    "start_time": "2023-01-04T13:01:41.933Z"
   },
   {
    "duration": 6,
    "start_time": "2023-01-04T13:01:41.940Z"
   },
   {
    "duration": 6,
    "start_time": "2023-01-04T13:01:41.947Z"
   },
   {
    "duration": 19,
    "start_time": "2023-01-04T13:01:41.954Z"
   },
   {
    "duration": 5,
    "start_time": "2023-01-04T13:01:41.975Z"
   },
   {
    "duration": 5,
    "start_time": "2023-01-04T13:01:41.981Z"
   },
   {
    "duration": 14,
    "start_time": "2023-01-04T13:01:41.988Z"
   },
   {
    "duration": 4,
    "start_time": "2023-01-04T13:03:35.182Z"
   },
   {
    "duration": 8,
    "start_time": "2023-01-04T13:03:40.422Z"
   },
   {
    "duration": 1146,
    "start_time": "2023-01-04T13:03:48.387Z"
   },
   {
    "duration": 27,
    "start_time": "2023-01-04T13:03:49.535Z"
   },
   {
    "duration": 60,
    "start_time": "2023-01-04T13:03:49.563Z"
   },
   {
    "duration": 426,
    "start_time": "2023-01-04T13:03:49.625Z"
   },
   {
    "duration": 25,
    "start_time": "2023-01-04T13:03:50.053Z"
   },
   {
    "duration": 4,
    "start_time": "2023-01-04T13:03:50.079Z"
   },
   {
    "duration": 23,
    "start_time": "2023-01-04T13:03:50.084Z"
   },
   {
    "duration": 4,
    "start_time": "2023-01-04T13:03:50.108Z"
   },
   {
    "duration": 21,
    "start_time": "2023-01-04T13:03:50.114Z"
   },
   {
    "duration": 52,
    "start_time": "2023-01-04T13:03:50.136Z"
   },
   {
    "duration": 12,
    "start_time": "2023-01-04T13:03:50.189Z"
   },
   {
    "duration": 8,
    "start_time": "2023-01-04T13:03:50.202Z"
   },
   {
    "duration": 336,
    "start_time": "2023-01-04T13:03:50.212Z"
   },
   {
    "duration": 5,
    "start_time": "2023-01-04T13:03:50.551Z"
   },
   {
    "duration": 119,
    "start_time": "2023-01-04T13:03:50.558Z"
   },
   {
    "duration": 5,
    "start_time": "2023-01-04T13:03:50.679Z"
   },
   {
    "duration": 22,
    "start_time": "2023-01-04T13:03:50.685Z"
   },
   {
    "duration": 6,
    "start_time": "2023-01-04T13:03:50.720Z"
   },
   {
    "duration": 7,
    "start_time": "2023-01-04T13:03:50.727Z"
   },
   {
    "duration": 11,
    "start_time": "2023-01-04T13:03:50.735Z"
   },
   {
    "duration": 4,
    "start_time": "2023-01-04T13:03:50.747Z"
   },
   {
    "duration": 5,
    "start_time": "2023-01-04T13:03:50.752Z"
   },
   {
    "duration": 41,
    "start_time": "2023-01-04T13:03:50.758Z"
   },
   {
    "duration": 5,
    "start_time": "2023-01-04T13:03:50.820Z"
   },
   {
    "duration": 12,
    "start_time": "2023-01-04T13:03:50.826Z"
   },
   {
    "duration": 356,
    "start_time": "2023-01-04T13:03:50.839Z"
   },
   {
    "duration": 6,
    "start_time": "2023-01-04T13:03:51.197Z"
   },
   {
    "duration": 16,
    "start_time": "2023-01-04T13:03:51.205Z"
   },
   {
    "duration": 3242,
    "start_time": "2023-01-04T13:03:51.222Z"
   },
   {
    "duration": 23,
    "start_time": "2023-01-04T13:03:54.465Z"
   },
   {
    "duration": 5,
    "start_time": "2023-01-04T13:03:54.489Z"
   },
   {
    "duration": 9,
    "start_time": "2023-01-04T13:03:54.495Z"
   },
   {
    "duration": 16,
    "start_time": "2023-01-04T13:03:54.505Z"
   },
   {
    "duration": 6,
    "start_time": "2023-01-04T13:03:54.522Z"
   },
   {
    "duration": 6,
    "start_time": "2023-01-04T13:03:54.530Z"
   },
   {
    "duration": 7,
    "start_time": "2023-01-04T13:03:54.537Z"
   },
   {
    "duration": 23,
    "start_time": "2023-01-04T13:03:54.545Z"
   },
   {
    "duration": 14,
    "start_time": "2023-01-04T13:03:54.570Z"
   },
   {
    "duration": 5,
    "start_time": "2023-01-04T13:03:54.585Z"
   },
   {
    "duration": 17,
    "start_time": "2023-01-04T13:03:54.591Z"
   },
   {
    "duration": 5,
    "start_time": "2023-01-04T13:03:54.621Z"
   },
   {
    "duration": 7,
    "start_time": "2023-01-04T13:03:54.628Z"
   },
   {
    "duration": 11,
    "start_time": "2023-01-04T13:03:54.636Z"
   },
   {
    "duration": 7,
    "start_time": "2023-01-04T13:03:54.648Z"
   },
   {
    "duration": 7,
    "start_time": "2023-01-04T13:03:54.656Z"
   },
   {
    "duration": 19,
    "start_time": "2023-01-04T13:03:54.664Z"
   },
   {
    "duration": 3,
    "start_time": "2023-01-04T13:04:12.055Z"
   },
   {
    "duration": 9,
    "start_time": "2023-01-04T13:04:43.196Z"
   },
   {
    "duration": 6,
    "start_time": "2023-01-04T13:05:53.610Z"
   },
   {
    "duration": 5,
    "start_time": "2023-01-04T13:12:19.597Z"
   },
   {
    "duration": 4,
    "start_time": "2023-01-04T13:12:25.825Z"
   },
   {
    "duration": 7,
    "start_time": "2023-01-04T13:12:28.037Z"
   },
   {
    "duration": 1203,
    "start_time": "2023-01-04T13:12:49.913Z"
   },
   {
    "duration": 30,
    "start_time": "2023-01-04T13:12:51.118Z"
   },
   {
    "duration": 59,
    "start_time": "2023-01-04T13:12:51.149Z"
   },
   {
    "duration": 491,
    "start_time": "2023-01-04T13:12:51.210Z"
   },
   {
    "duration": 30,
    "start_time": "2023-01-04T13:12:51.702Z"
   },
   {
    "duration": 4,
    "start_time": "2023-01-04T13:12:51.739Z"
   },
   {
    "duration": 24,
    "start_time": "2023-01-04T13:12:51.744Z"
   },
   {
    "duration": 4,
    "start_time": "2023-01-04T13:12:51.769Z"
   },
   {
    "duration": 15,
    "start_time": "2023-01-04T13:12:51.775Z"
   },
   {
    "duration": 60,
    "start_time": "2023-01-04T13:12:51.793Z"
   },
   {
    "duration": 11,
    "start_time": "2023-01-04T13:12:51.855Z"
   },
   {
    "duration": 4,
    "start_time": "2023-01-04T13:12:51.868Z"
   },
   {
    "duration": 367,
    "start_time": "2023-01-04T13:12:51.874Z"
   },
   {
    "duration": 7,
    "start_time": "2023-01-04T13:12:52.243Z"
   },
   {
    "duration": 115,
    "start_time": "2023-01-04T13:12:52.251Z"
   },
   {
    "duration": 5,
    "start_time": "2023-01-04T13:12:52.368Z"
   },
   {
    "duration": 26,
    "start_time": "2023-01-04T13:12:52.375Z"
   },
   {
    "duration": 21,
    "start_time": "2023-01-04T13:12:52.402Z"
   },
   {
    "duration": 5,
    "start_time": "2023-01-04T13:12:52.425Z"
   },
   {
    "duration": 19,
    "start_time": "2023-01-04T13:12:52.432Z"
   },
   {
    "duration": 3,
    "start_time": "2023-01-04T13:12:52.452Z"
   },
   {
    "duration": 7,
    "start_time": "2023-01-04T13:12:52.457Z"
   },
   {
    "duration": 40,
    "start_time": "2023-01-04T13:12:52.466Z"
   },
   {
    "duration": 5,
    "start_time": "2023-01-04T13:12:52.523Z"
   },
   {
    "duration": 15,
    "start_time": "2023-01-04T13:12:52.530Z"
   },
   {
    "duration": 360,
    "start_time": "2023-01-04T13:12:52.547Z"
   },
   {
    "duration": 5,
    "start_time": "2023-01-04T13:12:52.909Z"
   },
   {
    "duration": 16,
    "start_time": "2023-01-04T13:12:52.917Z"
   },
   {
    "duration": 3422,
    "start_time": "2023-01-04T13:12:52.935Z"
   },
   {
    "duration": 21,
    "start_time": "2023-01-04T13:12:56.359Z"
   },
   {
    "duration": 4,
    "start_time": "2023-01-04T13:12:56.382Z"
   },
   {
    "duration": 7,
    "start_time": "2023-01-04T13:12:56.388Z"
   },
   {
    "duration": 22,
    "start_time": "2023-01-04T13:12:56.399Z"
   },
   {
    "duration": 35,
    "start_time": "2023-01-04T13:12:56.423Z"
   },
   {
    "duration": 24,
    "start_time": "2023-01-04T13:12:56.460Z"
   },
   {
    "duration": 21,
    "start_time": "2023-01-04T13:12:56.486Z"
   },
   {
    "duration": 41,
    "start_time": "2023-01-04T13:12:56.509Z"
   },
   {
    "duration": 34,
    "start_time": "2023-01-04T13:12:56.551Z"
   },
   {
    "duration": 11,
    "start_time": "2023-01-04T13:12:56.587Z"
   },
   {
    "duration": 34,
    "start_time": "2023-01-04T13:12:56.599Z"
   },
   {
    "duration": 15,
    "start_time": "2023-01-04T13:12:56.635Z"
   },
   {
    "duration": 21,
    "start_time": "2023-01-04T13:12:56.652Z"
   },
   {
    "duration": 44,
    "start_time": "2023-01-04T13:12:56.674Z"
   },
   {
    "duration": 50,
    "start_time": "2023-01-04T13:12:56.720Z"
   },
   {
    "duration": 23,
    "start_time": "2023-01-04T13:12:56.772Z"
   },
   {
    "duration": 47,
    "start_time": "2023-01-04T13:12:56.796Z"
   },
   {
    "duration": 1248,
    "start_time": "2023-01-04T13:15:50.296Z"
   },
   {
    "duration": 25,
    "start_time": "2023-01-04T13:15:51.546Z"
   },
   {
    "duration": 68,
    "start_time": "2023-01-04T13:15:51.573Z"
   },
   {
    "duration": 469,
    "start_time": "2023-01-04T13:15:51.643Z"
   },
   {
    "duration": 33,
    "start_time": "2023-01-04T13:15:52.113Z"
   },
   {
    "duration": 3,
    "start_time": "2023-01-04T13:15:52.148Z"
   },
   {
    "duration": 22,
    "start_time": "2023-01-04T13:15:52.152Z"
   },
   {
    "duration": 4,
    "start_time": "2023-01-04T13:15:52.176Z"
   },
   {
    "duration": 13,
    "start_time": "2023-01-04T13:15:52.181Z"
   },
   {
    "duration": 62,
    "start_time": "2023-01-04T13:15:52.196Z"
   },
   {
    "duration": 11,
    "start_time": "2023-01-04T13:15:52.259Z"
   },
   {
    "duration": 4,
    "start_time": "2023-01-04T13:15:52.271Z"
   },
   {
    "duration": 377,
    "start_time": "2023-01-04T13:15:52.277Z"
   },
   {
    "duration": 5,
    "start_time": "2023-01-04T13:15:52.656Z"
   },
   {
    "duration": 113,
    "start_time": "2023-01-04T13:15:52.663Z"
   },
   {
    "duration": 9,
    "start_time": "2023-01-04T13:15:52.778Z"
   },
   {
    "duration": 36,
    "start_time": "2023-01-04T13:15:52.789Z"
   },
   {
    "duration": 11,
    "start_time": "2023-01-04T13:15:52.827Z"
   },
   {
    "duration": 13,
    "start_time": "2023-01-04T13:15:52.840Z"
   },
   {
    "duration": 14,
    "start_time": "2023-01-04T13:15:52.854Z"
   },
   {
    "duration": 4,
    "start_time": "2023-01-04T13:15:52.869Z"
   },
   {
    "duration": 7,
    "start_time": "2023-01-04T13:15:52.874Z"
   },
   {
    "duration": 61,
    "start_time": "2023-01-04T13:15:52.882Z"
   },
   {
    "duration": 4,
    "start_time": "2023-01-04T13:15:52.945Z"
   },
   {
    "duration": 6,
    "start_time": "2023-01-04T13:15:52.951Z"
   },
   {
    "duration": 345,
    "start_time": "2023-01-04T13:15:52.958Z"
   },
   {
    "duration": 5,
    "start_time": "2023-01-04T13:15:53.305Z"
   },
   {
    "duration": 22,
    "start_time": "2023-01-04T13:15:53.313Z"
   },
   {
    "duration": 3508,
    "start_time": "2023-01-04T13:15:53.337Z"
   },
   {
    "duration": 22,
    "start_time": "2023-01-04T13:15:56.847Z"
   },
   {
    "duration": 4,
    "start_time": "2023-01-04T13:15:56.871Z"
   },
   {
    "duration": 5,
    "start_time": "2023-01-04T13:15:56.876Z"
   },
   {
    "duration": 5,
    "start_time": "2023-01-04T13:15:56.883Z"
   },
   {
    "duration": 12,
    "start_time": "2023-01-04T13:15:56.889Z"
   },
   {
    "duration": 20,
    "start_time": "2023-01-04T13:15:56.902Z"
   },
   {
    "duration": 15,
    "start_time": "2023-01-04T13:15:56.924Z"
   },
   {
    "duration": 12,
    "start_time": "2023-01-04T13:15:56.941Z"
   },
   {
    "duration": 13,
    "start_time": "2023-01-04T13:15:56.955Z"
   },
   {
    "duration": 4,
    "start_time": "2023-01-04T13:15:56.969Z"
   },
   {
    "duration": 11,
    "start_time": "2023-01-04T13:15:56.974Z"
   },
   {
    "duration": 5,
    "start_time": "2023-01-04T13:15:56.987Z"
   },
   {
    "duration": 5,
    "start_time": "2023-01-04T13:15:56.993Z"
   },
   {
    "duration": 24,
    "start_time": "2023-01-04T13:15:56.999Z"
   },
   {
    "duration": 10,
    "start_time": "2023-01-04T13:15:57.025Z"
   },
   {
    "duration": 13,
    "start_time": "2023-01-04T13:15:57.037Z"
   },
   {
    "duration": 12,
    "start_time": "2023-01-04T13:15:57.052Z"
   },
   {
    "duration": 4,
    "start_time": "2023-01-04T13:17:55.028Z"
   },
   {
    "duration": 6,
    "start_time": "2023-01-04T13:18:12.530Z"
   },
   {
    "duration": 7,
    "start_time": "2023-01-04T13:18:16.503Z"
   },
   {
    "duration": 10,
    "start_time": "2023-01-04T13:18:22.939Z"
   },
   {
    "duration": 44,
    "start_time": "2023-01-04T13:21:47.263Z"
   },
   {
    "duration": 4,
    "start_time": "2023-01-04T13:21:58.324Z"
   },
   {
    "duration": 9,
    "start_time": "2023-01-04T13:23:21.149Z"
   },
   {
    "duration": 31,
    "start_time": "2023-01-04T13:24:36.876Z"
   },
   {
    "duration": 135,
    "start_time": "2023-01-04T13:24:44.140Z"
   },
   {
    "duration": 10,
    "start_time": "2023-01-04T13:24:50.179Z"
   },
   {
    "duration": 1137,
    "start_time": "2023-01-04T13:24:56.163Z"
   },
   {
    "duration": 26,
    "start_time": "2023-01-04T13:24:57.302Z"
   },
   {
    "duration": 60,
    "start_time": "2023-01-04T13:24:57.329Z"
   },
   {
    "duration": 440,
    "start_time": "2023-01-04T13:24:57.391Z"
   },
   {
    "duration": 24,
    "start_time": "2023-01-04T13:24:57.833Z"
   },
   {
    "duration": 4,
    "start_time": "2023-01-04T13:24:57.859Z"
   },
   {
    "duration": 29,
    "start_time": "2023-01-04T13:24:57.864Z"
   },
   {
    "duration": 4,
    "start_time": "2023-01-04T13:24:57.895Z"
   },
   {
    "duration": 12,
    "start_time": "2023-01-04T13:24:57.901Z"
   },
   {
    "duration": 52,
    "start_time": "2023-01-04T13:24:57.914Z"
   },
   {
    "duration": 12,
    "start_time": "2023-01-04T13:24:57.968Z"
   },
   {
    "duration": 7,
    "start_time": "2023-01-04T13:24:57.981Z"
   },
   {
    "duration": 340,
    "start_time": "2023-01-04T13:24:57.990Z"
   },
   {
    "duration": 6,
    "start_time": "2023-01-04T13:24:58.334Z"
   },
   {
    "duration": 110,
    "start_time": "2023-01-04T13:24:58.341Z"
   },
   {
    "duration": 5,
    "start_time": "2023-01-04T13:24:58.452Z"
   },
   {
    "duration": 30,
    "start_time": "2023-01-04T13:24:58.459Z"
   },
   {
    "duration": 8,
    "start_time": "2023-01-04T13:24:58.490Z"
   },
   {
    "duration": 8,
    "start_time": "2023-01-04T13:24:58.500Z"
   },
   {
    "duration": 13,
    "start_time": "2023-01-04T13:24:58.510Z"
   },
   {
    "duration": 16,
    "start_time": "2023-01-04T13:24:58.524Z"
   },
   {
    "duration": 8,
    "start_time": "2023-01-04T13:24:58.541Z"
   },
   {
    "duration": 17,
    "start_time": "2023-01-04T13:24:58.550Z"
   },
   {
    "duration": 53,
    "start_time": "2023-01-04T13:24:58.569Z"
   },
   {
    "duration": 102,
    "start_time": "2023-01-04T13:24:58.624Z"
   },
   {
    "duration": 0,
    "start_time": "2023-01-04T13:24:58.728Z"
   },
   {
    "duration": 0,
    "start_time": "2023-01-04T13:24:58.729Z"
   },
   {
    "duration": 0,
    "start_time": "2023-01-04T13:24:58.730Z"
   },
   {
    "duration": 0,
    "start_time": "2023-01-04T13:24:58.731Z"
   },
   {
    "duration": 0,
    "start_time": "2023-01-04T13:24:58.732Z"
   },
   {
    "duration": 0,
    "start_time": "2023-01-04T13:24:58.733Z"
   },
   {
    "duration": 0,
    "start_time": "2023-01-04T13:24:58.735Z"
   },
   {
    "duration": 0,
    "start_time": "2023-01-04T13:24:58.736Z"
   },
   {
    "duration": 0,
    "start_time": "2023-01-04T13:24:58.737Z"
   },
   {
    "duration": 0,
    "start_time": "2023-01-04T13:24:58.738Z"
   },
   {
    "duration": 0,
    "start_time": "2023-01-04T13:24:58.739Z"
   },
   {
    "duration": 0,
    "start_time": "2023-01-04T13:24:58.741Z"
   },
   {
    "duration": 0,
    "start_time": "2023-01-04T13:24:58.742Z"
   },
   {
    "duration": 0,
    "start_time": "2023-01-04T13:24:58.744Z"
   },
   {
    "duration": 0,
    "start_time": "2023-01-04T13:24:58.744Z"
   },
   {
    "duration": 0,
    "start_time": "2023-01-04T13:24:58.745Z"
   },
   {
    "duration": 0,
    "start_time": "2023-01-04T13:24:58.746Z"
   },
   {
    "duration": 0,
    "start_time": "2023-01-04T13:24:58.747Z"
   },
   {
    "duration": 0,
    "start_time": "2023-01-04T13:24:58.749Z"
   },
   {
    "duration": 0,
    "start_time": "2023-01-04T13:24:58.750Z"
   },
   {
    "duration": 0,
    "start_time": "2023-01-04T13:24:58.751Z"
   },
   {
    "duration": 3,
    "start_time": "2023-01-04T13:25:07.965Z"
   },
   {
    "duration": 4,
    "start_time": "2023-01-04T13:25:17.288Z"
   },
   {
    "duration": 4,
    "start_time": "2023-01-04T13:25:49.826Z"
   },
   {
    "duration": 3,
    "start_time": "2023-01-04T13:26:26.035Z"
   },
   {
    "duration": 10,
    "start_time": "2023-01-04T13:26:28.347Z"
   },
   {
    "duration": 5,
    "start_time": "2023-01-04T13:26:30.923Z"
   },
   {
    "duration": 4,
    "start_time": "2023-01-04T13:26:34.190Z"
   },
   {
    "duration": 4,
    "start_time": "2023-01-04T13:26:58.639Z"
   },
   {
    "duration": 4,
    "start_time": "2023-01-04T13:27:05.793Z"
   },
   {
    "duration": 30,
    "start_time": "2023-01-04T13:27:12.252Z"
   },
   {
    "duration": 4,
    "start_time": "2023-01-04T13:27:14.702Z"
   },
   {
    "duration": 4,
    "start_time": "2023-01-04T13:27:19.061Z"
   },
   {
    "duration": 1197,
    "start_time": "2023-01-04T13:29:32.508Z"
   },
   {
    "duration": 26,
    "start_time": "2023-01-04T13:29:33.707Z"
   },
   {
    "duration": 62,
    "start_time": "2023-01-04T13:29:33.734Z"
   },
   {
    "duration": 442,
    "start_time": "2023-01-04T13:29:33.798Z"
   },
   {
    "duration": 23,
    "start_time": "2023-01-04T13:29:34.242Z"
   },
   {
    "duration": 4,
    "start_time": "2023-01-04T13:29:34.267Z"
   },
   {
    "duration": 34,
    "start_time": "2023-01-04T13:29:34.273Z"
   },
   {
    "duration": 14,
    "start_time": "2023-01-04T13:29:34.309Z"
   },
   {
    "duration": 18,
    "start_time": "2023-01-04T13:29:34.324Z"
   },
   {
    "duration": 60,
    "start_time": "2023-01-04T13:29:34.344Z"
   },
   {
    "duration": 11,
    "start_time": "2023-01-04T13:29:34.407Z"
   },
   {
    "duration": 28,
    "start_time": "2023-01-04T13:29:34.420Z"
   },
   {
    "duration": 325,
    "start_time": "2023-01-04T13:29:34.449Z"
   },
   {
    "duration": 7,
    "start_time": "2023-01-04T13:29:34.776Z"
   },
   {
    "duration": 104,
    "start_time": "2023-01-04T13:29:34.785Z"
   },
   {
    "duration": 5,
    "start_time": "2023-01-04T13:29:34.890Z"
   },
   {
    "duration": 46,
    "start_time": "2023-01-04T13:29:34.897Z"
   },
   {
    "duration": 22,
    "start_time": "2023-01-04T13:29:34.945Z"
   },
   {
    "duration": 40,
    "start_time": "2023-01-04T13:29:34.969Z"
   },
   {
    "duration": 26,
    "start_time": "2023-01-04T13:29:35.011Z"
   },
   {
    "duration": 33,
    "start_time": "2023-01-04T13:29:35.039Z"
   },
   {
    "duration": 15,
    "start_time": "2023-01-04T13:29:35.074Z"
   },
   {
    "duration": 24,
    "start_time": "2023-01-04T13:29:35.090Z"
   },
   {
    "duration": 59,
    "start_time": "2023-01-04T13:29:35.115Z"
   },
   {
    "duration": 4,
    "start_time": "2023-01-04T13:29:35.175Z"
   },
   {
    "duration": 50,
    "start_time": "2023-01-04T13:29:35.181Z"
   },
   {
    "duration": 404,
    "start_time": "2023-01-04T13:29:35.233Z"
   },
   {
    "duration": 5,
    "start_time": "2023-01-04T13:29:35.641Z"
   },
   {
    "duration": 23,
    "start_time": "2023-01-04T13:29:35.648Z"
   },
   {
    "duration": 3203,
    "start_time": "2023-01-04T13:29:35.672Z"
   },
   {
    "duration": 22,
    "start_time": "2023-01-04T13:29:38.877Z"
   },
   {
    "duration": 8,
    "start_time": "2023-01-04T13:29:38.900Z"
   },
   {
    "duration": 27,
    "start_time": "2023-01-04T13:29:38.909Z"
   },
   {
    "duration": 26,
    "start_time": "2023-01-04T13:29:38.937Z"
   },
   {
    "duration": 42,
    "start_time": "2023-01-04T13:29:38.964Z"
   },
   {
    "duration": 53,
    "start_time": "2023-01-04T13:29:39.007Z"
   },
   {
    "duration": 29,
    "start_time": "2023-01-04T13:29:39.061Z"
   },
   {
    "duration": 34,
    "start_time": "2023-01-04T13:29:39.092Z"
   },
   {
    "duration": 36,
    "start_time": "2023-01-04T13:29:39.127Z"
   },
   {
    "duration": 8,
    "start_time": "2023-01-04T13:29:39.165Z"
   },
   {
    "duration": 27,
    "start_time": "2023-01-04T13:29:39.174Z"
   },
   {
    "duration": 29,
    "start_time": "2023-01-04T13:29:39.202Z"
   },
   {
    "duration": 22,
    "start_time": "2023-01-04T13:29:39.232Z"
   },
   {
    "duration": 32,
    "start_time": "2023-01-04T13:29:39.256Z"
   },
   {
    "duration": 20,
    "start_time": "2023-01-04T13:29:39.289Z"
   },
   {
    "duration": 17,
    "start_time": "2023-01-04T13:29:39.311Z"
   },
   {
    "duration": 32,
    "start_time": "2023-01-04T13:33:58.365Z"
   },
   {
    "duration": 6,
    "start_time": "2023-01-04T13:35:03.808Z"
   },
   {
    "duration": 19,
    "start_time": "2023-01-04T13:35:19.472Z"
   },
   {
    "duration": 1139,
    "start_time": "2023-01-04T13:35:26.154Z"
   },
   {
    "duration": 26,
    "start_time": "2023-01-04T13:35:27.295Z"
   },
   {
    "duration": 62,
    "start_time": "2023-01-04T13:35:27.323Z"
   },
   {
    "duration": 447,
    "start_time": "2023-01-04T13:35:27.387Z"
   },
   {
    "duration": 24,
    "start_time": "2023-01-04T13:35:27.835Z"
   },
   {
    "duration": 3,
    "start_time": "2023-01-04T13:35:27.861Z"
   },
   {
    "duration": 43,
    "start_time": "2023-01-04T13:35:27.866Z"
   },
   {
    "duration": 14,
    "start_time": "2023-01-04T13:35:27.911Z"
   },
   {
    "duration": 42,
    "start_time": "2023-01-04T13:35:27.926Z"
   },
   {
    "duration": 63,
    "start_time": "2023-01-04T13:35:27.971Z"
   },
   {
    "duration": 11,
    "start_time": "2023-01-04T13:35:28.036Z"
   },
   {
    "duration": 11,
    "start_time": "2023-01-04T13:35:28.049Z"
   },
   {
    "duration": 365,
    "start_time": "2023-01-04T13:35:28.062Z"
   },
   {
    "duration": 7,
    "start_time": "2023-01-04T13:35:28.429Z"
   },
   {
    "duration": 141,
    "start_time": "2023-01-04T13:35:28.437Z"
   },
   {
    "duration": 4,
    "start_time": "2023-01-04T13:35:28.580Z"
   },
   {
    "duration": 42,
    "start_time": "2023-01-04T13:35:28.586Z"
   },
   {
    "duration": 8,
    "start_time": "2023-01-04T13:35:28.630Z"
   },
   {
    "duration": 12,
    "start_time": "2023-01-04T13:35:28.640Z"
   },
   {
    "duration": 18,
    "start_time": "2023-01-04T13:35:28.654Z"
   },
   {
    "duration": 25,
    "start_time": "2023-01-04T13:35:28.673Z"
   },
   {
    "duration": 5,
    "start_time": "2023-01-04T13:35:28.700Z"
   },
   {
    "duration": 24,
    "start_time": "2023-01-04T13:35:28.706Z"
   },
   {
    "duration": 60,
    "start_time": "2023-01-04T13:35:28.732Z"
   },
   {
    "duration": 4,
    "start_time": "2023-01-04T13:35:28.794Z"
   },
   {
    "duration": 24,
    "start_time": "2023-01-04T13:35:28.800Z"
   },
   {
    "duration": 340,
    "start_time": "2023-01-04T13:35:28.826Z"
   },
   {
    "duration": 6,
    "start_time": "2023-01-04T13:35:29.169Z"
   },
   {
    "duration": 38,
    "start_time": "2023-01-04T13:35:29.176Z"
   },
   {
    "duration": 3123,
    "start_time": "2023-01-04T13:35:29.215Z"
   },
   {
    "duration": 6,
    "start_time": "2023-01-04T13:35:32.340Z"
   },
   {
    "duration": 8,
    "start_time": "2023-01-04T13:35:32.347Z"
   },
   {
    "duration": 8,
    "start_time": "2023-01-04T13:35:32.357Z"
   },
   {
    "duration": 9,
    "start_time": "2023-01-04T13:35:32.367Z"
   },
   {
    "duration": 18,
    "start_time": "2023-01-04T13:35:32.377Z"
   },
   {
    "duration": 5,
    "start_time": "2023-01-04T13:35:32.396Z"
   },
   {
    "duration": 4,
    "start_time": "2023-01-04T13:35:32.402Z"
   },
   {
    "duration": 10,
    "start_time": "2023-01-04T13:35:32.408Z"
   },
   {
    "duration": 11,
    "start_time": "2023-01-04T13:35:32.421Z"
   },
   {
    "duration": 4,
    "start_time": "2023-01-04T13:35:32.434Z"
   },
   {
    "duration": 13,
    "start_time": "2023-01-04T13:35:32.440Z"
   },
   {
    "duration": 5,
    "start_time": "2023-01-04T13:35:32.455Z"
   },
   {
    "duration": 17,
    "start_time": "2023-01-04T13:35:32.461Z"
   },
   {
    "duration": 14,
    "start_time": "2023-01-04T13:35:32.480Z"
   },
   {
    "duration": 19,
    "start_time": "2023-01-04T13:35:32.521Z"
   },
   {
    "duration": 10,
    "start_time": "2023-01-04T13:35:32.541Z"
   },
   {
    "duration": 6,
    "start_time": "2023-01-04T13:36:48.913Z"
   },
   {
    "duration": 8,
    "start_time": "2023-01-04T13:36:59.490Z"
   },
   {
    "duration": 9,
    "start_time": "2023-01-04T13:37:08.369Z"
   },
   {
    "duration": 212,
    "start_time": "2023-01-04T13:43:54.645Z"
   },
   {
    "duration": 240,
    "start_time": "2023-01-04T13:44:17.881Z"
   },
   {
    "duration": 231,
    "start_time": "2023-01-04T13:44:27.315Z"
   },
   {
    "duration": 262,
    "start_time": "2023-01-04T13:45:04.355Z"
   },
   {
    "duration": 254,
    "start_time": "2023-01-04T13:45:18.971Z"
   },
   {
    "duration": 141,
    "start_time": "2023-01-04T13:47:26.657Z"
   },
   {
    "duration": 248,
    "start_time": "2023-01-04T13:47:34.481Z"
   },
   {
    "duration": 5,
    "start_time": "2023-01-04T13:50:24.028Z"
   },
   {
    "duration": 4,
    "start_time": "2023-01-04T13:50:32.812Z"
   },
   {
    "duration": 10,
    "start_time": "2023-01-04T13:51:31.067Z"
   },
   {
    "duration": 1212,
    "start_time": "2023-01-04T13:51:38.597Z"
   },
   {
    "duration": 27,
    "start_time": "2023-01-04T13:51:39.810Z"
   },
   {
    "duration": 61,
    "start_time": "2023-01-04T13:51:39.838Z"
   },
   {
    "duration": 441,
    "start_time": "2023-01-04T13:51:39.901Z"
   },
   {
    "duration": 24,
    "start_time": "2023-01-04T13:51:40.344Z"
   },
   {
    "duration": 3,
    "start_time": "2023-01-04T13:51:40.370Z"
   },
   {
    "duration": 22,
    "start_time": "2023-01-04T13:51:40.374Z"
   },
   {
    "duration": 5,
    "start_time": "2023-01-04T13:51:40.397Z"
   },
   {
    "duration": 19,
    "start_time": "2023-01-04T13:51:40.403Z"
   },
   {
    "duration": 50,
    "start_time": "2023-01-04T13:51:40.424Z"
   },
   {
    "duration": 11,
    "start_time": "2023-01-04T13:51:40.476Z"
   },
   {
    "duration": 4,
    "start_time": "2023-01-04T13:51:40.489Z"
   },
   {
    "duration": 344,
    "start_time": "2023-01-04T13:51:40.495Z"
   },
   {
    "duration": 6,
    "start_time": "2023-01-04T13:51:40.840Z"
   },
   {
    "duration": 108,
    "start_time": "2023-01-04T13:51:40.848Z"
   },
   {
    "duration": 4,
    "start_time": "2023-01-04T13:51:40.958Z"
   },
   {
    "duration": 25,
    "start_time": "2023-01-04T13:51:40.964Z"
   },
   {
    "duration": 6,
    "start_time": "2023-01-04T13:51:40.991Z"
   },
   {
    "duration": 23,
    "start_time": "2023-01-04T13:51:40.998Z"
   },
   {
    "duration": 4,
    "start_time": "2023-01-04T13:51:41.022Z"
   },
   {
    "duration": 14,
    "start_time": "2023-01-04T13:51:41.028Z"
   },
   {
    "duration": 3,
    "start_time": "2023-01-04T13:51:41.044Z"
   },
   {
    "duration": 9,
    "start_time": "2023-01-04T13:51:41.048Z"
   },
   {
    "duration": 46,
    "start_time": "2023-01-04T13:51:41.058Z"
   },
   {
    "duration": 4,
    "start_time": "2023-01-04T13:51:41.120Z"
   },
   {
    "duration": 20,
    "start_time": "2023-01-04T13:51:41.125Z"
   },
   {
    "duration": 312,
    "start_time": "2023-01-04T13:51:41.147Z"
   },
   {
    "duration": 6,
    "start_time": "2023-01-04T13:51:41.462Z"
   },
   {
    "duration": 25,
    "start_time": "2023-01-04T13:51:41.469Z"
   },
   {
    "duration": 3205,
    "start_time": "2023-01-04T13:51:41.496Z"
   },
   {
    "duration": 6,
    "start_time": "2023-01-04T13:51:44.702Z"
   },
   {
    "duration": 17,
    "start_time": "2023-01-04T13:51:44.710Z"
   },
   {
    "duration": 9,
    "start_time": "2023-01-04T13:51:44.728Z"
   },
   {
    "duration": 6,
    "start_time": "2023-01-04T13:51:44.739Z"
   },
   {
    "duration": 8,
    "start_time": "2023-01-04T13:51:44.746Z"
   },
   {
    "duration": 9,
    "start_time": "2023-01-04T13:51:44.755Z"
   },
   {
    "duration": 6,
    "start_time": "2023-01-04T13:51:44.765Z"
   },
   {
    "duration": 11,
    "start_time": "2023-01-04T13:51:44.773Z"
   },
   {
    "duration": 18,
    "start_time": "2023-01-04T13:51:44.786Z"
   },
   {
    "duration": 16,
    "start_time": "2023-01-04T13:51:44.806Z"
   },
   {
    "duration": 14,
    "start_time": "2023-01-04T13:51:44.823Z"
   },
   {
    "duration": 7,
    "start_time": "2023-01-04T13:51:44.838Z"
   },
   {
    "duration": 13,
    "start_time": "2023-01-04T13:51:44.846Z"
   },
   {
    "duration": 6,
    "start_time": "2023-01-04T13:51:44.861Z"
   },
   {
    "duration": 13,
    "start_time": "2023-01-04T13:51:44.868Z"
   },
   {
    "duration": 11,
    "start_time": "2023-01-04T13:51:44.882Z"
   },
   {
    "duration": 404,
    "start_time": "2023-01-04T13:51:44.895Z"
   },
   {
    "duration": 4,
    "start_time": "2023-01-04T13:53:35.182Z"
   },
   {
    "duration": 3,
    "start_time": "2023-01-04T13:53:37.255Z"
   },
   {
    "duration": 4,
    "start_time": "2023-01-04T13:54:15.733Z"
   },
   {
    "duration": 18,
    "start_time": "2023-01-04T13:57:15.123Z"
   },
   {
    "duration": 46,
    "start_time": "2023-01-04T13:57:56.559Z"
   },
   {
    "duration": 23,
    "start_time": "2023-01-04T13:58:02.983Z"
   },
   {
    "duration": 17,
    "start_time": "2023-01-04T14:05:18.413Z"
   },
   {
    "duration": 14,
    "start_time": "2023-01-04T14:06:26.224Z"
   },
   {
    "duration": 20,
    "start_time": "2023-01-04T14:06:33.814Z"
   },
   {
    "duration": 22,
    "start_time": "2023-01-04T14:06:51.265Z"
   },
   {
    "duration": 28,
    "start_time": "2023-01-04T14:06:55.968Z"
   },
   {
    "duration": 130,
    "start_time": "2023-01-04T14:07:35.166Z"
   },
   {
    "duration": 240,
    "start_time": "2023-01-04T14:07:43.547Z"
   },
   {
    "duration": 178,
    "start_time": "2023-01-04T14:07:50.209Z"
   },
   {
    "duration": 96,
    "start_time": "2023-01-04T14:08:26.168Z"
   },
   {
    "duration": 182,
    "start_time": "2023-01-04T14:09:20.588Z"
   },
   {
    "duration": 12,
    "start_time": "2023-01-04T14:10:31.979Z"
   },
   {
    "duration": 150,
    "start_time": "2023-01-04T14:13:09.583Z"
   },
   {
    "duration": 20,
    "start_time": "2023-01-04T14:13:20.467Z"
   },
   {
    "duration": 9,
    "start_time": "2023-01-04T14:13:29.357Z"
   },
   {
    "duration": 11,
    "start_time": "2023-01-04T14:13:40.508Z"
   },
   {
    "duration": 9,
    "start_time": "2023-01-04T14:14:46.353Z"
   },
   {
    "duration": 8,
    "start_time": "2023-01-04T14:14:54.261Z"
   },
   {
    "duration": 18,
    "start_time": "2023-01-04T14:19:21.341Z"
   },
   {
    "duration": 84540,
    "start_time": "2023-01-04T14:23:12.665Z"
   },
   {
    "duration": 359,
    "start_time": "2023-01-04T14:26:49.294Z"
   },
   {
    "duration": 477,
    "start_time": "2023-01-04T14:26:58.537Z"
   },
   {
    "duration": 475,
    "start_time": "2023-01-04T14:27:09.109Z"
   },
   {
    "duration": 455,
    "start_time": "2023-01-04T14:27:29.340Z"
   },
   {
    "duration": 15,
    "start_time": "2023-01-04T14:30:23.857Z"
   },
   {
    "duration": 18,
    "start_time": "2023-01-04T14:30:40.106Z"
   },
   {
    "duration": 10,
    "start_time": "2023-01-04T14:32:55.487Z"
   },
   {
    "duration": 15,
    "start_time": "2023-01-04T14:33:04.571Z"
   },
   {
    "duration": 110,
    "start_time": "2023-01-04T14:33:15.950Z"
   },
   {
    "duration": 104,
    "start_time": "2023-01-04T14:34:47.744Z"
   },
   {
    "duration": 4,
    "start_time": "2023-01-04T14:37:09.489Z"
   },
   {
    "duration": 12,
    "start_time": "2023-01-04T14:37:14.137Z"
   },
   {
    "duration": 14,
    "start_time": "2023-01-04T14:38:56.088Z"
   },
   {
    "duration": 14,
    "start_time": "2023-01-04T14:39:07.947Z"
   },
   {
    "duration": 11,
    "start_time": "2023-01-04T14:39:16.969Z"
   },
   {
    "duration": 11,
    "start_time": "2023-01-04T14:42:20.178Z"
   },
   {
    "duration": 14,
    "start_time": "2023-01-04T14:42:32.481Z"
   },
   {
    "duration": 10,
    "start_time": "2023-01-04T14:42:49.258Z"
   },
   {
    "duration": 14,
    "start_time": "2023-01-04T14:43:40.525Z"
   },
   {
    "duration": 11,
    "start_time": "2023-01-04T14:44:40.159Z"
   },
   {
    "duration": 16,
    "start_time": "2023-01-04T14:44:48.814Z"
   },
   {
    "duration": 8,
    "start_time": "2023-01-04T14:55:32.541Z"
   },
   {
    "duration": 9,
    "start_time": "2023-01-04T14:55:36.588Z"
   },
   {
    "duration": 9,
    "start_time": "2023-01-04T14:57:02.701Z"
   },
   {
    "duration": 7,
    "start_time": "2023-01-04T14:57:03.860Z"
   },
   {
    "duration": 25,
    "start_time": "2023-01-04T15:00:15.042Z"
   },
   {
    "duration": 95,
    "start_time": "2023-01-04T15:00:37.911Z"
   },
   {
    "duration": 81,
    "start_time": "2023-01-04T15:06:56.717Z"
   },
   {
    "duration": 8,
    "start_time": "2023-01-04T15:07:06.844Z"
   },
   {
    "duration": 147,
    "start_time": "2023-01-04T15:07:37.609Z"
   },
   {
    "duration": 152,
    "start_time": "2023-01-04T15:08:47.379Z"
   },
   {
    "duration": 11,
    "start_time": "2023-01-04T15:08:53.185Z"
   },
   {
    "duration": 160,
    "start_time": "2023-01-04T15:09:46.141Z"
   },
   {
    "duration": 178,
    "start_time": "2023-01-04T15:09:52.708Z"
   },
   {
    "duration": 159,
    "start_time": "2023-01-04T15:10:26.933Z"
   },
   {
    "duration": 8,
    "start_time": "2023-01-04T15:10:29.456Z"
   },
   {
    "duration": 7,
    "start_time": "2023-01-04T15:10:39.151Z"
   },
   {
    "duration": 5869,
    "start_time": "2023-01-04T15:13:28.760Z"
   },
   {
    "duration": 5753,
    "start_time": "2023-01-04T15:14:11.881Z"
   },
   {
    "duration": 97,
    "start_time": "2023-01-04T15:16:47.483Z"
   },
   {
    "duration": 20,
    "start_time": "2023-01-04T15:17:46.581Z"
   },
   {
    "duration": 7,
    "start_time": "2023-01-04T15:17:49.763Z"
   },
   {
    "duration": 45,
    "start_time": "2023-01-04T15:17:58.209Z"
   },
   {
    "duration": 12,
    "start_time": "2023-01-04T15:40:17.114Z"
   },
   {
    "duration": 10,
    "start_time": "2023-01-04T15:40:41.982Z"
   },
   {
    "duration": 17,
    "start_time": "2023-01-04T15:40:49.122Z"
   },
   {
    "duration": 834,
    "start_time": "2023-01-04T15:42:24.877Z"
   },
   {
    "duration": 785,
    "start_time": "2023-01-04T15:43:08.619Z"
   },
   {
    "duration": 793,
    "start_time": "2023-01-04T15:43:26.770Z"
   },
   {
    "duration": 721,
    "start_time": "2023-01-04T15:43:51.075Z"
   },
   {
    "duration": 11,
    "start_time": "2023-01-04T15:47:29.193Z"
   },
   {
    "duration": 10,
    "start_time": "2023-01-04T15:47:38.218Z"
   },
   {
    "duration": 21,
    "start_time": "2023-01-04T15:47:51.513Z"
   },
   {
    "duration": 12,
    "start_time": "2023-01-04T15:47:59.557Z"
   },
   {
    "duration": 209,
    "start_time": "2023-01-04T15:49:06.833Z"
   },
   {
    "duration": 22,
    "start_time": "2023-01-04T15:49:28.979Z"
   },
   {
    "duration": 22,
    "start_time": "2023-01-04T15:49:53.559Z"
   },
   {
    "duration": 32,
    "start_time": "2023-01-04T15:50:05.755Z"
   },
   {
    "duration": 17,
    "start_time": "2023-01-04T15:50:24.530Z"
   },
   {
    "duration": 7,
    "start_time": "2023-01-04T15:50:35.168Z"
   },
   {
    "duration": 18,
    "start_time": "2023-01-04T15:50:59.804Z"
   },
   {
    "duration": 7,
    "start_time": "2023-01-04T15:51:01.876Z"
   },
   {
    "duration": 8,
    "start_time": "2023-01-04T15:51:19.900Z"
   },
   {
    "duration": 9,
    "start_time": "2023-01-04T15:52:03.325Z"
   },
   {
    "duration": 21,
    "start_time": "2023-01-04T15:52:49.137Z"
   },
   {
    "duration": 19,
    "start_time": "2023-01-04T15:53:20.887Z"
   },
   {
    "duration": 4,
    "start_time": "2023-01-04T15:53:32.224Z"
   },
   {
    "duration": 6,
    "start_time": "2023-01-04T15:54:00.449Z"
   },
   {
    "duration": 10,
    "start_time": "2023-01-04T15:55:11.071Z"
   },
   {
    "duration": 8,
    "start_time": "2023-01-04T15:55:19.457Z"
   },
   {
    "duration": 207,
    "start_time": "2023-01-04T15:58:44.166Z"
   },
   {
    "duration": 18,
    "start_time": "2023-01-04T16:00:35.254Z"
   },
   {
    "duration": 44,
    "start_time": "2023-01-04T16:00:53.225Z"
   },
   {
    "duration": 1207,
    "start_time": "2023-01-04T16:01:05.806Z"
   },
   {
    "duration": 27,
    "start_time": "2023-01-04T16:01:07.015Z"
   },
   {
    "duration": 66,
    "start_time": "2023-01-04T16:01:07.043Z"
   },
   {
    "duration": 444,
    "start_time": "2023-01-04T16:01:07.111Z"
   },
   {
    "duration": 24,
    "start_time": "2023-01-04T16:01:07.557Z"
   },
   {
    "duration": 4,
    "start_time": "2023-01-04T16:01:07.583Z"
   },
   {
    "duration": 23,
    "start_time": "2023-01-04T16:01:07.588Z"
   },
   {
    "duration": 24,
    "start_time": "2023-01-04T16:01:07.613Z"
   },
   {
    "duration": 31,
    "start_time": "2023-01-04T16:01:07.638Z"
   },
   {
    "duration": 52,
    "start_time": "2023-01-04T16:01:07.671Z"
   },
   {
    "duration": 11,
    "start_time": "2023-01-04T16:01:07.724Z"
   },
   {
    "duration": 4,
    "start_time": "2023-01-04T16:01:07.737Z"
   },
   {
    "duration": 345,
    "start_time": "2023-01-04T16:01:07.743Z"
   },
   {
    "duration": 6,
    "start_time": "2023-01-04T16:01:08.090Z"
   },
   {
    "duration": 109,
    "start_time": "2023-01-04T16:01:08.098Z"
   },
   {
    "duration": 5,
    "start_time": "2023-01-04T16:01:08.209Z"
   },
   {
    "duration": 26,
    "start_time": "2023-01-04T16:01:08.215Z"
   },
   {
    "duration": 6,
    "start_time": "2023-01-04T16:01:08.243Z"
   },
   {
    "duration": 8,
    "start_time": "2023-01-04T16:01:08.250Z"
   },
   {
    "duration": 7,
    "start_time": "2023-01-04T16:01:08.260Z"
   },
   {
    "duration": 21,
    "start_time": "2023-01-04T16:01:08.268Z"
   },
   {
    "duration": 4,
    "start_time": "2023-01-04T16:01:08.290Z"
   },
   {
    "duration": 25,
    "start_time": "2023-01-04T16:01:08.296Z"
   },
   {
    "duration": 45,
    "start_time": "2023-01-04T16:01:08.323Z"
   },
   {
    "duration": 4,
    "start_time": "2023-01-04T16:01:08.369Z"
   },
   {
    "duration": 19,
    "start_time": "2023-01-04T16:01:08.375Z"
   },
   {
    "duration": 346,
    "start_time": "2023-01-04T16:01:08.395Z"
   },
   {
    "duration": 4,
    "start_time": "2023-01-04T16:01:08.744Z"
   },
   {
    "duration": 13,
    "start_time": "2023-01-04T16:01:08.750Z"
   },
   {
    "duration": 3173,
    "start_time": "2023-01-04T16:01:08.764Z"
   },
   {
    "duration": 6,
    "start_time": "2023-01-04T16:01:11.939Z"
   },
   {
    "duration": 5,
    "start_time": "2023-01-04T16:01:11.947Z"
   },
   {
    "duration": 4,
    "start_time": "2023-01-04T16:01:11.953Z"
   },
   {
    "duration": 9,
    "start_time": "2023-01-04T16:01:11.959Z"
   },
   {
    "duration": 4,
    "start_time": "2023-01-04T16:01:11.970Z"
   },
   {
    "duration": 9,
    "start_time": "2023-01-04T16:01:11.975Z"
   },
   {
    "duration": 6,
    "start_time": "2023-01-04T16:01:11.985Z"
   },
   {
    "duration": 7,
    "start_time": "2023-01-04T16:01:11.993Z"
   },
   {
    "duration": 24,
    "start_time": "2023-01-04T16:01:12.001Z"
   },
   {
    "duration": 10,
    "start_time": "2023-01-04T16:01:12.026Z"
   },
   {
    "duration": 14,
    "start_time": "2023-01-04T16:01:12.037Z"
   },
   {
    "duration": 5,
    "start_time": "2023-01-04T16:01:12.053Z"
   },
   {
    "duration": 11,
    "start_time": "2023-01-04T16:01:12.059Z"
   },
   {
    "duration": 5,
    "start_time": "2023-01-04T16:01:12.072Z"
   },
   {
    "duration": 7,
    "start_time": "2023-01-04T16:01:12.078Z"
   },
   {
    "duration": 35,
    "start_time": "2023-01-04T16:01:12.086Z"
   },
   {
    "duration": 9,
    "start_time": "2023-01-04T16:01:12.123Z"
   },
   {
    "duration": 17,
    "start_time": "2023-01-04T16:01:12.134Z"
   },
   {
    "duration": 186,
    "start_time": "2023-01-04T16:01:12.153Z"
   },
   {
    "duration": 10,
    "start_time": "2023-01-04T16:01:12.340Z"
   },
   {
    "duration": 7,
    "start_time": "2023-01-04T16:01:12.351Z"
   },
   {
    "duration": 182,
    "start_time": "2023-01-04T16:01:12.360Z"
   },
   {
    "duration": 15,
    "start_time": "2023-01-04T16:01:12.544Z"
   },
   {
    "duration": 7,
    "start_time": "2023-01-04T16:01:12.560Z"
   },
   {
    "duration": 166,
    "start_time": "2023-01-04T16:01:12.568Z"
   },
   {
    "duration": 0,
    "start_time": "2023-01-04T16:01:12.735Z"
   },
   {
    "duration": 16,
    "start_time": "2023-01-04T16:02:30.757Z"
   },
   {
    "duration": 15,
    "start_time": "2023-01-04T16:02:40.449Z"
   },
   {
    "duration": 15,
    "start_time": "2023-01-04T16:02:43.399Z"
   },
   {
    "duration": 46,
    "start_time": "2023-01-04T16:02:47.209Z"
   },
   {
    "duration": 14,
    "start_time": "2023-01-04T16:02:58.051Z"
   },
   {
    "duration": 43,
    "start_time": "2023-01-04T16:03:00.122Z"
   },
   {
    "duration": 7,
    "start_time": "2023-01-04T16:03:21.530Z"
   },
   {
    "duration": 18,
    "start_time": "2023-01-04T16:04:19.198Z"
   },
   {
    "duration": 14,
    "start_time": "2023-01-04T16:04:28.684Z"
   },
   {
    "duration": 16,
    "start_time": "2023-01-04T16:04:42.829Z"
   },
   {
    "duration": 6,
    "start_time": "2023-01-04T16:04:44.906Z"
   },
   {
    "duration": 1211,
    "start_time": "2023-01-04T16:04:50.709Z"
   },
   {
    "duration": 26,
    "start_time": "2023-01-04T16:04:51.921Z"
   },
   {
    "duration": 70,
    "start_time": "2023-01-04T16:04:51.948Z"
   },
   {
    "duration": 456,
    "start_time": "2023-01-04T16:04:52.020Z"
   },
   {
    "duration": 26,
    "start_time": "2023-01-04T16:04:52.477Z"
   },
   {
    "duration": 4,
    "start_time": "2023-01-04T16:04:52.504Z"
   },
   {
    "duration": 38,
    "start_time": "2023-01-04T16:04:52.509Z"
   },
   {
    "duration": 5,
    "start_time": "2023-01-04T16:04:52.548Z"
   },
   {
    "duration": 11,
    "start_time": "2023-01-04T16:04:52.555Z"
   },
   {
    "duration": 62,
    "start_time": "2023-01-04T16:04:52.568Z"
   },
   {
    "duration": 12,
    "start_time": "2023-01-04T16:04:52.632Z"
   },
   {
    "duration": 5,
    "start_time": "2023-01-04T16:04:52.645Z"
   },
   {
    "duration": 364,
    "start_time": "2023-01-04T16:04:52.652Z"
   },
   {
    "duration": 8,
    "start_time": "2023-01-04T16:04:53.017Z"
   },
   {
    "duration": 107,
    "start_time": "2023-01-04T16:04:53.026Z"
   },
   {
    "duration": 4,
    "start_time": "2023-01-04T16:04:53.135Z"
   },
   {
    "duration": 44,
    "start_time": "2023-01-04T16:04:53.141Z"
   },
   {
    "duration": 6,
    "start_time": "2023-01-04T16:04:53.186Z"
   },
   {
    "duration": 7,
    "start_time": "2023-01-04T16:04:53.193Z"
   },
   {
    "duration": 10,
    "start_time": "2023-01-04T16:04:53.201Z"
   },
   {
    "duration": 31,
    "start_time": "2023-01-04T16:04:53.212Z"
   },
   {
    "duration": 3,
    "start_time": "2023-01-04T16:04:53.245Z"
   },
   {
    "duration": 11,
    "start_time": "2023-01-04T16:04:53.249Z"
   },
   {
    "duration": 44,
    "start_time": "2023-01-04T16:04:53.261Z"
   },
   {
    "duration": 4,
    "start_time": "2023-01-04T16:04:53.306Z"
   },
   {
    "duration": 10,
    "start_time": "2023-01-04T16:04:53.311Z"
   },
   {
    "duration": 336,
    "start_time": "2023-01-04T16:04:53.322Z"
   },
   {
    "duration": 5,
    "start_time": "2023-01-04T16:04:53.662Z"
   },
   {
    "duration": 21,
    "start_time": "2023-01-04T16:04:53.668Z"
   },
   {
    "duration": 3150,
    "start_time": "2023-01-04T16:04:53.691Z"
   },
   {
    "duration": 7,
    "start_time": "2023-01-04T16:04:56.843Z"
   },
   {
    "duration": 23,
    "start_time": "2023-01-04T16:04:56.851Z"
   },
   {
    "duration": 17,
    "start_time": "2023-01-04T16:04:56.876Z"
   },
   {
    "duration": 8,
    "start_time": "2023-01-04T16:04:56.895Z"
   },
   {
    "duration": 12,
    "start_time": "2023-01-04T16:04:56.904Z"
   },
   {
    "duration": 6,
    "start_time": "2023-01-04T16:04:56.918Z"
   },
   {
    "duration": 7,
    "start_time": "2023-01-04T16:04:56.925Z"
   },
   {
    "duration": 19,
    "start_time": "2023-01-04T16:04:56.933Z"
   },
   {
    "duration": 9,
    "start_time": "2023-01-04T16:04:56.954Z"
   },
   {
    "duration": 12,
    "start_time": "2023-01-04T16:04:56.964Z"
   },
   {
    "duration": 15,
    "start_time": "2023-01-04T16:04:56.977Z"
   },
   {
    "duration": 6,
    "start_time": "2023-01-04T16:04:56.993Z"
   },
   {
    "duration": 19,
    "start_time": "2023-01-04T16:04:57.000Z"
   },
   {
    "duration": 10,
    "start_time": "2023-01-04T16:04:57.020Z"
   },
   {
    "duration": 9,
    "start_time": "2023-01-04T16:04:57.031Z"
   },
   {
    "duration": 6,
    "start_time": "2023-01-04T16:04:57.042Z"
   },
   {
    "duration": 22,
    "start_time": "2023-01-04T16:04:57.050Z"
   },
   {
    "duration": 11,
    "start_time": "2023-01-04T16:04:57.074Z"
   },
   {
    "duration": 183,
    "start_time": "2023-01-04T16:04:57.087Z"
   },
   {
    "duration": 9,
    "start_time": "2023-01-04T16:04:57.272Z"
   },
   {
    "duration": 6,
    "start_time": "2023-01-04T16:04:57.283Z"
   },
   {
    "duration": 179,
    "start_time": "2023-01-04T16:04:57.290Z"
   },
   {
    "duration": 15,
    "start_time": "2023-01-04T16:04:57.471Z"
   },
   {
    "duration": 14,
    "start_time": "2023-01-04T16:04:57.487Z"
   },
   {
    "duration": 29,
    "start_time": "2023-01-04T16:04:57.503Z"
   },
   {
    "duration": 7,
    "start_time": "2023-01-04T16:04:57.533Z"
   },
   {
    "duration": 49,
    "start_time": "2023-01-04T16:04:57.541Z"
   },
   {
    "duration": 8,
    "start_time": "2023-01-04T16:05:55.353Z"
   },
   {
    "duration": 15,
    "start_time": "2023-01-04T16:06:23.258Z"
   },
   {
    "duration": 4,
    "start_time": "2023-01-04T16:06:38.643Z"
   },
   {
    "duration": 4,
    "start_time": "2023-01-04T16:06:47.322Z"
   },
   {
    "duration": 13,
    "start_time": "2023-01-04T16:07:59.542Z"
   },
   {
    "duration": 4,
    "start_time": "2023-01-04T16:08:25.161Z"
   },
   {
    "duration": 3,
    "start_time": "2023-01-04T16:08:34.909Z"
   },
   {
    "duration": 1415,
    "start_time": "2023-01-05T10:15:21.054Z"
   },
   {
    "duration": 65,
    "start_time": "2023-01-05T10:15:22.471Z"
   },
   {
    "duration": 191,
    "start_time": "2023-01-05T10:15:22.539Z"
   },
   {
    "duration": 622,
    "start_time": "2023-01-05T10:15:22.732Z"
   },
   {
    "duration": 62,
    "start_time": "2023-01-05T10:15:23.356Z"
   },
   {
    "duration": 4,
    "start_time": "2023-01-05T10:15:23.420Z"
   },
   {
    "duration": 37,
    "start_time": "2023-01-05T10:15:23.425Z"
   },
   {
    "duration": 17,
    "start_time": "2023-01-05T10:15:23.464Z"
   },
   {
    "duration": 19,
    "start_time": "2023-01-05T10:15:23.482Z"
   },
   {
    "duration": 63,
    "start_time": "2023-01-05T10:15:23.504Z"
   },
   {
    "duration": 13,
    "start_time": "2023-01-05T10:15:23.569Z"
   },
   {
    "duration": 8,
    "start_time": "2023-01-05T10:15:23.584Z"
   },
   {
    "duration": 362,
    "start_time": "2023-01-05T10:15:23.593Z"
   },
   {
    "duration": 7,
    "start_time": "2023-01-05T10:15:23.956Z"
   },
   {
    "duration": 129,
    "start_time": "2023-01-05T10:15:23.964Z"
   },
   {
    "duration": 4,
    "start_time": "2023-01-05T10:15:24.095Z"
   },
   {
    "duration": 36,
    "start_time": "2023-01-05T10:15:24.101Z"
   },
   {
    "duration": 6,
    "start_time": "2023-01-05T10:15:24.139Z"
   },
   {
    "duration": 12,
    "start_time": "2023-01-05T10:15:24.146Z"
   },
   {
    "duration": 18,
    "start_time": "2023-01-05T10:15:24.160Z"
   },
   {
    "duration": 21,
    "start_time": "2023-01-05T10:15:24.180Z"
   },
   {
    "duration": 4,
    "start_time": "2023-01-05T10:15:24.202Z"
   },
   {
    "duration": 10,
    "start_time": "2023-01-05T10:15:24.208Z"
   },
   {
    "duration": 57,
    "start_time": "2023-01-05T10:15:24.220Z"
   },
   {
    "duration": 4,
    "start_time": "2023-01-05T10:15:24.279Z"
   },
   {
    "duration": 11,
    "start_time": "2023-01-05T10:15:24.284Z"
   },
   {
    "duration": 362,
    "start_time": "2023-01-05T10:15:24.296Z"
   },
   {
    "duration": 5,
    "start_time": "2023-01-05T10:15:24.662Z"
   },
   {
    "duration": 24,
    "start_time": "2023-01-05T10:15:24.669Z"
   },
   {
    "duration": 3399,
    "start_time": "2023-01-05T10:15:24.695Z"
   },
   {
    "duration": 7,
    "start_time": "2023-01-05T10:15:28.095Z"
   },
   {
    "duration": 9,
    "start_time": "2023-01-05T10:15:28.104Z"
   },
   {
    "duration": 21,
    "start_time": "2023-01-05T10:15:28.114Z"
   },
   {
    "duration": 5,
    "start_time": "2023-01-05T10:15:28.137Z"
   },
   {
    "duration": 19,
    "start_time": "2023-01-05T10:15:28.143Z"
   },
   {
    "duration": 12,
    "start_time": "2023-01-05T10:15:28.163Z"
   },
   {
    "duration": 19,
    "start_time": "2023-01-05T10:15:28.177Z"
   },
   {
    "duration": 22,
    "start_time": "2023-01-05T10:15:28.198Z"
   },
   {
    "duration": 15,
    "start_time": "2023-01-05T10:15:28.221Z"
   },
   {
    "duration": 16,
    "start_time": "2023-01-05T10:15:28.238Z"
   },
   {
    "duration": 24,
    "start_time": "2023-01-05T10:15:28.255Z"
   },
   {
    "duration": 6,
    "start_time": "2023-01-05T10:15:28.281Z"
   },
   {
    "duration": 16,
    "start_time": "2023-01-05T10:15:28.289Z"
   },
   {
    "duration": 6,
    "start_time": "2023-01-05T10:15:28.307Z"
   },
   {
    "duration": 21,
    "start_time": "2023-01-05T10:15:28.314Z"
   },
   {
    "duration": 8,
    "start_time": "2023-01-05T10:15:28.336Z"
   },
   {
    "duration": 11,
    "start_time": "2023-01-05T10:15:28.346Z"
   },
   {
    "duration": 12,
    "start_time": "2023-01-05T10:15:28.359Z"
   },
   {
    "duration": 214,
    "start_time": "2023-01-05T10:15:28.373Z"
   },
   {
    "duration": 10,
    "start_time": "2023-01-05T10:15:28.589Z"
   },
   {
    "duration": 9,
    "start_time": "2023-01-05T10:15:28.601Z"
   },
   {
    "duration": 206,
    "start_time": "2023-01-05T10:15:28.611Z"
   },
   {
    "duration": 26,
    "start_time": "2023-01-05T10:15:28.818Z"
   },
   {
    "duration": 16,
    "start_time": "2023-01-05T10:15:28.845Z"
   },
   {
    "duration": 16,
    "start_time": "2023-01-05T10:15:28.863Z"
   },
   {
    "duration": 71,
    "start_time": "2023-01-05T10:15:28.881Z"
   },
   {
    "duration": 46,
    "start_time": "2023-01-05T10:29:51.976Z"
   },
   {
    "duration": 1412,
    "start_time": "2023-01-05T10:29:58.355Z"
   },
   {
    "duration": 75,
    "start_time": "2023-01-05T10:29:59.770Z"
   },
   {
    "duration": 215,
    "start_time": "2023-01-05T10:29:59.847Z"
   },
   {
    "duration": 1653,
    "start_time": "2023-01-05T10:30:00.064Z"
   },
   {
    "duration": 117,
    "start_time": "2023-01-05T10:30:01.720Z"
   },
   {
    "duration": 4,
    "start_time": "2023-01-05T10:30:01.838Z"
   },
   {
    "duration": 145,
    "start_time": "2023-01-05T10:30:01.844Z"
   },
   {
    "duration": 18,
    "start_time": "2023-01-05T10:30:01.991Z"
   },
   {
    "duration": 19,
    "start_time": "2023-01-05T10:30:02.010Z"
   },
   {
    "duration": 61,
    "start_time": "2023-01-05T10:30:02.030Z"
   },
   {
    "duration": 13,
    "start_time": "2023-01-05T10:30:02.093Z"
   },
   {
    "duration": 17,
    "start_time": "2023-01-05T10:30:02.108Z"
   },
   {
    "duration": 369,
    "start_time": "2023-01-05T10:30:02.126Z"
   },
   {
    "duration": 8,
    "start_time": "2023-01-05T10:30:02.498Z"
   },
   {
    "duration": 115,
    "start_time": "2023-01-05T10:30:02.507Z"
   },
   {
    "duration": 4,
    "start_time": "2023-01-05T10:30:02.624Z"
   },
   {
    "duration": 59,
    "start_time": "2023-01-05T10:30:02.630Z"
   },
   {
    "duration": 7,
    "start_time": "2023-01-05T10:30:02.692Z"
   },
   {
    "duration": 10,
    "start_time": "2023-01-05T10:30:02.700Z"
   },
   {
    "duration": 8,
    "start_time": "2023-01-05T10:30:02.711Z"
   },
   {
    "duration": 27,
    "start_time": "2023-01-05T10:30:02.721Z"
   },
   {
    "duration": 6,
    "start_time": "2023-01-05T10:30:02.749Z"
   },
   {
    "duration": 21,
    "start_time": "2023-01-05T10:30:02.757Z"
   },
   {
    "duration": 68,
    "start_time": "2023-01-05T10:30:02.779Z"
   },
   {
    "duration": 4,
    "start_time": "2023-01-05T10:30:02.849Z"
   },
   {
    "duration": 36,
    "start_time": "2023-01-05T10:30:02.855Z"
   },
   {
    "duration": 394,
    "start_time": "2023-01-05T10:30:02.893Z"
   },
   {
    "duration": 7,
    "start_time": "2023-01-05T10:30:03.289Z"
   },
   {
    "duration": 21,
    "start_time": "2023-01-05T10:30:03.298Z"
   },
   {
    "duration": 2754,
    "start_time": "2023-01-05T10:30:03.321Z"
   },
   {
    "duration": 6,
    "start_time": "2023-01-05T10:30:06.077Z"
   },
   {
    "duration": 6,
    "start_time": "2023-01-05T10:30:06.084Z"
   },
   {
    "duration": 9,
    "start_time": "2023-01-05T10:30:06.092Z"
   },
   {
    "duration": 7,
    "start_time": "2023-01-05T10:30:06.103Z"
   },
   {
    "duration": 8,
    "start_time": "2023-01-05T10:30:06.112Z"
   },
   {
    "duration": 7,
    "start_time": "2023-01-05T10:30:06.121Z"
   },
   {
    "duration": 8,
    "start_time": "2023-01-05T10:30:06.130Z"
   },
   {
    "duration": 6,
    "start_time": "2023-01-05T10:30:06.140Z"
   },
   {
    "duration": 7,
    "start_time": "2023-01-05T10:30:06.147Z"
   },
   {
    "duration": 29,
    "start_time": "2023-01-05T10:30:06.156Z"
   },
   {
    "duration": 14,
    "start_time": "2023-01-05T10:30:06.189Z"
   },
   {
    "duration": 5,
    "start_time": "2023-01-05T10:30:06.204Z"
   },
   {
    "duration": 13,
    "start_time": "2023-01-05T10:30:06.211Z"
   },
   {
    "duration": 7,
    "start_time": "2023-01-05T10:30:06.226Z"
   },
   {
    "duration": 9,
    "start_time": "2023-01-05T10:30:06.235Z"
   },
   {
    "duration": 7,
    "start_time": "2023-01-05T10:30:06.278Z"
   },
   {
    "duration": 15,
    "start_time": "2023-01-05T10:30:06.286Z"
   },
   {
    "duration": 13,
    "start_time": "2023-01-05T10:30:06.302Z"
   },
   {
    "duration": 196,
    "start_time": "2023-01-05T10:30:06.317Z"
   },
   {
    "duration": 9,
    "start_time": "2023-01-05T10:30:06.515Z"
   },
   {
    "duration": 16,
    "start_time": "2023-01-05T10:30:06.525Z"
   },
   {
    "duration": 182,
    "start_time": "2023-01-05T10:30:06.543Z"
   },
   {
    "duration": 17,
    "start_time": "2023-01-05T10:30:06.727Z"
   },
   {
    "duration": 1248,
    "start_time": "2023-01-05T10:30:06.746Z"
   },
   {
    "duration": 1,
    "start_time": "2023-01-05T10:30:07.995Z"
   },
   {
    "duration": 0,
    "start_time": "2023-01-05T10:30:07.997Z"
   },
   {
    "duration": 0,
    "start_time": "2023-01-05T10:30:07.998Z"
   },
   {
    "duration": 9,
    "start_time": "2023-01-05T10:32:12.008Z"
   },
   {
    "duration": 8,
    "start_time": "2023-01-05T10:32:27.300Z"
   },
   {
    "duration": 11,
    "start_time": "2023-01-05T10:33:22.040Z"
   },
   {
    "duration": 10,
    "start_time": "2023-01-05T10:33:44.220Z"
   },
   {
    "duration": 1157,
    "start_time": "2023-01-05T10:33:52.301Z"
   },
   {
    "duration": 27,
    "start_time": "2023-01-05T10:33:53.460Z"
   },
   {
    "duration": 58,
    "start_time": "2023-01-05T10:33:53.489Z"
   },
   {
    "duration": 449,
    "start_time": "2023-01-05T10:33:53.550Z"
   },
   {
    "duration": 29,
    "start_time": "2023-01-05T10:33:54.001Z"
   },
   {
    "duration": 5,
    "start_time": "2023-01-05T10:33:54.032Z"
   },
   {
    "duration": 36,
    "start_time": "2023-01-05T10:33:54.039Z"
   },
   {
    "duration": 6,
    "start_time": "2023-01-05T10:33:54.077Z"
   },
   {
    "duration": 19,
    "start_time": "2023-01-05T10:33:54.085Z"
   },
   {
    "duration": 53,
    "start_time": "2023-01-05T10:33:54.107Z"
   },
   {
    "duration": 18,
    "start_time": "2023-01-05T10:33:54.161Z"
   },
   {
    "duration": 9,
    "start_time": "2023-01-05T10:33:54.180Z"
   },
   {
    "duration": 322,
    "start_time": "2023-01-05T10:33:54.190Z"
   },
   {
    "duration": 6,
    "start_time": "2023-01-05T10:33:54.515Z"
   },
   {
    "duration": 102,
    "start_time": "2023-01-05T10:33:54.523Z"
   },
   {
    "duration": 4,
    "start_time": "2023-01-05T10:33:54.627Z"
   },
   {
    "duration": 29,
    "start_time": "2023-01-05T10:33:54.633Z"
   },
   {
    "duration": 18,
    "start_time": "2023-01-05T10:33:54.664Z"
   },
   {
    "duration": 6,
    "start_time": "2023-01-05T10:33:54.684Z"
   },
   {
    "duration": 7,
    "start_time": "2023-01-05T10:33:54.692Z"
   },
   {
    "duration": 16,
    "start_time": "2023-01-05T10:33:54.700Z"
   },
   {
    "duration": 3,
    "start_time": "2023-01-05T10:33:54.718Z"
   },
   {
    "duration": 9,
    "start_time": "2023-01-05T10:33:54.723Z"
   },
   {
    "duration": 59,
    "start_time": "2023-01-05T10:33:54.734Z"
   },
   {
    "duration": 3,
    "start_time": "2023-01-05T10:33:54.795Z"
   },
   {
    "duration": 9,
    "start_time": "2023-01-05T10:33:54.800Z"
   },
   {
    "duration": 345,
    "start_time": "2023-01-05T10:33:54.811Z"
   },
   {
    "duration": 7,
    "start_time": "2023-01-05T10:33:55.160Z"
   },
   {
    "duration": 14,
    "start_time": "2023-01-05T10:33:55.169Z"
   },
   {
    "duration": 2378,
    "start_time": "2023-01-05T10:33:55.185Z"
   },
   {
    "duration": 13,
    "start_time": "2023-01-05T10:33:57.565Z"
   },
   {
    "duration": 4,
    "start_time": "2023-01-05T10:33:57.579Z"
   },
   {
    "duration": 8,
    "start_time": "2023-01-05T10:33:57.585Z"
   },
   {
    "duration": 7,
    "start_time": "2023-01-05T10:33:57.595Z"
   },
   {
    "duration": 10,
    "start_time": "2023-01-05T10:33:57.603Z"
   },
   {
    "duration": 7,
    "start_time": "2023-01-05T10:33:57.615Z"
   },
   {
    "duration": 11,
    "start_time": "2023-01-05T10:33:57.624Z"
   },
   {
    "duration": 6,
    "start_time": "2023-01-05T10:33:57.636Z"
   },
   {
    "duration": 8,
    "start_time": "2023-01-05T10:33:57.644Z"
   },
   {
    "duration": 26,
    "start_time": "2023-01-05T10:33:57.653Z"
   },
   {
    "duration": 12,
    "start_time": "2023-01-05T10:33:57.681Z"
   },
   {
    "duration": 6,
    "start_time": "2023-01-05T10:33:57.695Z"
   },
   {
    "duration": 15,
    "start_time": "2023-01-05T10:33:57.703Z"
   },
   {
    "duration": 6,
    "start_time": "2023-01-05T10:33:57.719Z"
   },
   {
    "duration": 15,
    "start_time": "2023-01-05T10:33:57.727Z"
   },
   {
    "duration": 33,
    "start_time": "2023-01-05T10:33:57.745Z"
   },
   {
    "duration": 9,
    "start_time": "2023-01-05T10:33:57.780Z"
   },
   {
    "duration": 15,
    "start_time": "2023-01-05T10:33:57.791Z"
   },
   {
    "duration": 192,
    "start_time": "2023-01-05T10:33:57.807Z"
   },
   {
    "duration": 9,
    "start_time": "2023-01-05T10:33:58.001Z"
   },
   {
    "duration": 10,
    "start_time": "2023-01-05T10:33:58.011Z"
   },
   {
    "duration": 184,
    "start_time": "2023-01-05T10:33:58.023Z"
   },
   {
    "duration": 16,
    "start_time": "2023-01-05T10:33:58.209Z"
   },
   {
    "duration": 1283,
    "start_time": "2023-01-05T10:33:58.226Z"
   },
   {
    "duration": 0,
    "start_time": "2023-01-05T10:33:59.511Z"
   },
   {
    "duration": 0,
    "start_time": "2023-01-05T10:33:59.512Z"
   },
   {
    "duration": 0,
    "start_time": "2023-01-05T10:33:59.513Z"
   },
   {
    "duration": 0,
    "start_time": "2023-01-05T10:33:59.514Z"
   },
   {
    "duration": 11,
    "start_time": "2023-01-05T10:34:41.284Z"
   },
   {
    "duration": 11,
    "start_time": "2023-01-05T10:34:55.318Z"
   },
   {
    "duration": 5,
    "start_time": "2023-01-05T10:35:19.992Z"
   },
   {
    "duration": 16,
    "start_time": "2023-01-05T10:36:00.568Z"
   },
   {
    "duration": 4,
    "start_time": "2023-01-05T10:36:20.995Z"
   },
   {
    "duration": 14,
    "start_time": "2023-01-05T10:36:25.329Z"
   },
   {
    "duration": 18,
    "start_time": "2023-01-05T10:36:36.118Z"
   },
   {
    "duration": 51,
    "start_time": "2023-01-05T10:36:39.043Z"
   },
   {
    "duration": 3,
    "start_time": "2023-01-05T10:37:27.237Z"
   },
   {
    "duration": 13,
    "start_time": "2023-01-05T10:38:17.218Z"
   },
   {
    "duration": 5,
    "start_time": "2023-01-05T10:38:46.442Z"
   },
   {
    "duration": 1175,
    "start_time": "2023-01-05T10:39:23.441Z"
   },
   {
    "duration": 27,
    "start_time": "2023-01-05T10:39:24.618Z"
   },
   {
    "duration": 59,
    "start_time": "2023-01-05T10:39:24.646Z"
   },
   {
    "duration": 428,
    "start_time": "2023-01-05T10:39:24.707Z"
   },
   {
    "duration": 24,
    "start_time": "2023-01-05T10:39:25.136Z"
   },
   {
    "duration": 3,
    "start_time": "2023-01-05T10:39:25.162Z"
   },
   {
    "duration": 23,
    "start_time": "2023-01-05T10:39:25.166Z"
   },
   {
    "duration": 4,
    "start_time": "2023-01-05T10:39:25.191Z"
   },
   {
    "duration": 11,
    "start_time": "2023-01-05T10:39:25.197Z"
   },
   {
    "duration": 50,
    "start_time": "2023-01-05T10:39:25.210Z"
   },
   {
    "duration": 26,
    "start_time": "2023-01-05T10:39:25.261Z"
   },
   {
    "duration": 4,
    "start_time": "2023-01-05T10:39:25.289Z"
   },
   {
    "duration": 320,
    "start_time": "2023-01-05T10:39:25.294Z"
   },
   {
    "duration": 6,
    "start_time": "2023-01-05T10:39:25.615Z"
   },
   {
    "duration": 113,
    "start_time": "2023-01-05T10:39:25.622Z"
   },
   {
    "duration": 6,
    "start_time": "2023-01-05T10:39:25.737Z"
   },
   {
    "duration": 37,
    "start_time": "2023-01-05T10:39:25.744Z"
   },
   {
    "duration": 5,
    "start_time": "2023-01-05T10:39:25.783Z"
   },
   {
    "duration": 4,
    "start_time": "2023-01-05T10:39:25.790Z"
   },
   {
    "duration": 6,
    "start_time": "2023-01-05T10:39:25.795Z"
   },
   {
    "duration": 21,
    "start_time": "2023-01-05T10:39:25.803Z"
   },
   {
    "duration": 7,
    "start_time": "2023-01-05T10:39:25.825Z"
   },
   {
    "duration": 6,
    "start_time": "2023-01-05T10:39:25.834Z"
   },
   {
    "duration": 62,
    "start_time": "2023-01-05T10:39:25.842Z"
   },
   {
    "duration": 3,
    "start_time": "2023-01-05T10:39:25.906Z"
   },
   {
    "duration": 10,
    "start_time": "2023-01-05T10:39:25.911Z"
   },
   {
    "duration": 331,
    "start_time": "2023-01-05T10:39:25.922Z"
   },
   {
    "duration": 5,
    "start_time": "2023-01-05T10:39:26.256Z"
   },
   {
    "duration": 17,
    "start_time": "2023-01-05T10:39:26.262Z"
   },
   {
    "duration": 2492,
    "start_time": "2023-01-05T10:39:26.281Z"
   },
   {
    "duration": 7,
    "start_time": "2023-01-05T10:39:28.774Z"
   },
   {
    "duration": 4,
    "start_time": "2023-01-05T10:39:28.783Z"
   },
   {
    "duration": 9,
    "start_time": "2023-01-05T10:39:28.789Z"
   },
   {
    "duration": 12,
    "start_time": "2023-01-05T10:39:28.800Z"
   },
   {
    "duration": 8,
    "start_time": "2023-01-05T10:39:28.814Z"
   },
   {
    "duration": 8,
    "start_time": "2023-01-05T10:39:28.824Z"
   },
   {
    "duration": 13,
    "start_time": "2023-01-05T10:39:28.834Z"
   },
   {
    "duration": 8,
    "start_time": "2023-01-05T10:39:28.849Z"
   },
   {
    "duration": 7,
    "start_time": "2023-01-05T10:39:28.859Z"
   },
   {
    "duration": 14,
    "start_time": "2023-01-05T10:39:28.868Z"
   },
   {
    "duration": 20,
    "start_time": "2023-01-05T10:39:28.883Z"
   },
   {
    "duration": 18,
    "start_time": "2023-01-05T10:39:28.905Z"
   },
   {
    "duration": 18,
    "start_time": "2023-01-05T10:39:28.925Z"
   },
   {
    "duration": 12,
    "start_time": "2023-01-05T10:39:28.945Z"
   },
   {
    "duration": 9,
    "start_time": "2023-01-05T10:39:28.959Z"
   },
   {
    "duration": 9,
    "start_time": "2023-01-05T10:39:28.970Z"
   },
   {
    "duration": 15,
    "start_time": "2023-01-05T10:39:28.980Z"
   },
   {
    "duration": 12,
    "start_time": "2023-01-05T10:39:28.996Z"
   },
   {
    "duration": 190,
    "start_time": "2023-01-05T10:39:29.010Z"
   },
   {
    "duration": 9,
    "start_time": "2023-01-05T10:39:29.202Z"
   },
   {
    "duration": 11,
    "start_time": "2023-01-05T10:39:29.212Z"
   },
   {
    "duration": 197,
    "start_time": "2023-01-05T10:39:29.224Z"
   },
   {
    "duration": 16,
    "start_time": "2023-01-05T10:39:29.423Z"
   },
   {
    "duration": 3,
    "start_time": "2023-01-05T10:39:29.440Z"
   },
   {
    "duration": 9,
    "start_time": "2023-01-05T10:40:34.296Z"
   },
   {
    "duration": 13,
    "start_time": "2023-01-05T10:40:42.796Z"
   },
   {
    "duration": 167,
    "start_time": "2023-01-05T10:42:50.521Z"
   },
   {
    "duration": 10,
    "start_time": "2023-01-05T10:43:02.363Z"
   },
   {
    "duration": 16,
    "start_time": "2023-01-05T10:43:22.809Z"
   },
   {
    "duration": 13,
    "start_time": "2023-01-05T10:43:26.773Z"
   },
   {
    "duration": 3,
    "start_time": "2023-01-05T10:44:09.125Z"
   },
   {
    "duration": 10,
    "start_time": "2023-01-05T10:44:22.139Z"
   },
   {
    "duration": 1232,
    "start_time": "2023-01-05T10:44:29.850Z"
   },
   {
    "duration": 28,
    "start_time": "2023-01-05T10:44:31.084Z"
   },
   {
    "duration": 60,
    "start_time": "2023-01-05T10:44:31.114Z"
   },
   {
    "duration": 428,
    "start_time": "2023-01-05T10:44:31.176Z"
   },
   {
    "duration": 25,
    "start_time": "2023-01-05T10:44:31.605Z"
   },
   {
    "duration": 4,
    "start_time": "2023-01-05T10:44:31.631Z"
   },
   {
    "duration": 46,
    "start_time": "2023-01-05T10:44:31.636Z"
   },
   {
    "duration": 10,
    "start_time": "2023-01-05T10:44:31.683Z"
   },
   {
    "duration": 21,
    "start_time": "2023-01-05T10:44:31.694Z"
   },
   {
    "duration": 62,
    "start_time": "2023-01-05T10:44:31.719Z"
   },
   {
    "duration": 12,
    "start_time": "2023-01-05T10:44:31.782Z"
   },
   {
    "duration": 36,
    "start_time": "2023-01-05T10:44:31.796Z"
   },
   {
    "duration": 367,
    "start_time": "2023-01-05T10:44:31.833Z"
   },
   {
    "duration": 6,
    "start_time": "2023-01-05T10:44:32.201Z"
   },
   {
    "duration": 102,
    "start_time": "2023-01-05T10:44:32.208Z"
   },
   {
    "duration": 5,
    "start_time": "2023-01-05T10:44:32.311Z"
   },
   {
    "duration": 23,
    "start_time": "2023-01-05T10:44:32.318Z"
   },
   {
    "duration": 7,
    "start_time": "2023-01-05T10:44:32.343Z"
   },
   {
    "duration": 4,
    "start_time": "2023-01-05T10:44:32.351Z"
   },
   {
    "duration": 26,
    "start_time": "2023-01-05T10:44:32.357Z"
   },
   {
    "duration": 15,
    "start_time": "2023-01-05T10:44:32.385Z"
   },
   {
    "duration": 3,
    "start_time": "2023-01-05T10:44:32.402Z"
   },
   {
    "duration": 7,
    "start_time": "2023-01-05T10:44:32.406Z"
   },
   {
    "duration": 45,
    "start_time": "2023-01-05T10:44:32.414Z"
   },
   {
    "duration": 4,
    "start_time": "2023-01-05T10:44:32.461Z"
   },
   {
    "duration": 4,
    "start_time": "2023-01-05T10:44:32.479Z"
   },
   {
    "duration": 7,
    "start_time": "2023-01-05T10:44:32.484Z"
   },
   {
    "duration": 17,
    "start_time": "2023-01-05T10:44:32.494Z"
   },
   {
    "duration": 12,
    "start_time": "2023-01-05T10:44:32.512Z"
   },
   {
    "duration": 2562,
    "start_time": "2023-01-05T10:44:32.525Z"
   },
   {
    "duration": 7,
    "start_time": "2023-01-05T10:44:35.089Z"
   },
   {
    "duration": 57,
    "start_time": "2023-01-05T10:44:35.097Z"
   },
   {
    "duration": 44,
    "start_time": "2023-01-05T10:44:35.156Z"
   },
   {
    "duration": 46,
    "start_time": "2023-01-05T10:44:35.202Z"
   },
   {
    "duration": 46,
    "start_time": "2023-01-05T10:44:35.250Z"
   },
   {
    "duration": 57,
    "start_time": "2023-01-05T10:44:35.297Z"
   },
   {
    "duration": 31,
    "start_time": "2023-01-05T10:44:35.356Z"
   },
   {
    "duration": 42,
    "start_time": "2023-01-05T10:44:35.389Z"
   },
   {
    "duration": 38,
    "start_time": "2023-01-05T10:44:35.433Z"
   },
   {
    "duration": 51,
    "start_time": "2023-01-05T10:44:35.473Z"
   },
   {
    "duration": 58,
    "start_time": "2023-01-05T10:44:35.526Z"
   },
   {
    "duration": 17,
    "start_time": "2023-01-05T10:44:35.586Z"
   },
   {
    "duration": 48,
    "start_time": "2023-01-05T10:44:35.605Z"
   },
   {
    "duration": 30,
    "start_time": "2023-01-05T10:44:35.655Z"
   },
   {
    "duration": 55,
    "start_time": "2023-01-05T10:44:35.687Z"
   },
   {
    "duration": 77,
    "start_time": "2023-01-05T10:44:35.744Z"
   },
   {
    "duration": 50,
    "start_time": "2023-01-05T10:44:35.823Z"
   },
   {
    "duration": 46,
    "start_time": "2023-01-05T10:44:35.875Z"
   },
   {
    "duration": 227,
    "start_time": "2023-01-05T10:44:35.923Z"
   },
   {
    "duration": 10,
    "start_time": "2023-01-05T10:44:36.152Z"
   },
   {
    "duration": 30,
    "start_time": "2023-01-05T10:44:36.164Z"
   },
   {
    "duration": 125,
    "start_time": "2023-01-05T10:44:36.196Z"
   },
   {
    "duration": 15,
    "start_time": "2023-01-05T10:44:36.323Z"
   },
   {
    "duration": 32,
    "start_time": "2023-01-05T10:44:36.340Z"
   },
   {
    "duration": 28,
    "start_time": "2023-01-05T10:44:36.374Z"
   },
   {
    "duration": 11,
    "start_time": "2023-01-05T10:47:12.735Z"
   },
   {
    "duration": 18,
    "start_time": "2023-01-05T10:49:02.650Z"
   },
   {
    "duration": 109,
    "start_time": "2023-01-05T10:49:21.354Z"
   },
   {
    "duration": 21,
    "start_time": "2023-01-05T10:49:30.102Z"
   },
   {
    "duration": 24,
    "start_time": "2023-01-05T10:49:52.304Z"
   },
   {
    "duration": 25,
    "start_time": "2023-01-05T10:50:44.034Z"
   },
   {
    "duration": 17,
    "start_time": "2023-01-05T10:51:47.047Z"
   },
   {
    "duration": 16,
    "start_time": "2023-01-05T10:53:09.044Z"
   },
   {
    "duration": 401,
    "start_time": "2023-01-05T10:53:22.401Z"
   },
   {
    "duration": 56,
    "start_time": "2023-01-05T10:54:24.082Z"
   },
   {
    "duration": 55,
    "start_time": "2023-01-05T10:56:42.683Z"
   },
   {
    "duration": 12,
    "start_time": "2023-01-05T10:57:09.120Z"
   },
   {
    "duration": 45,
    "start_time": "2023-01-05T11:00:07.364Z"
   },
   {
    "duration": 28,
    "start_time": "2023-01-05T11:04:03.758Z"
   },
   {
    "duration": 55,
    "start_time": "2023-01-05T11:08:11.967Z"
   },
   {
    "duration": 46,
    "start_time": "2023-01-05T11:08:16.688Z"
   },
   {
    "duration": 64,
    "start_time": "2023-01-05T11:08:22.685Z"
   },
   {
    "duration": 46,
    "start_time": "2023-01-05T11:10:31.884Z"
   },
   {
    "duration": 7,
    "start_time": "2023-01-05T11:23:33.822Z"
   },
   {
    "duration": 9,
    "start_time": "2023-01-05T11:23:58.749Z"
   },
   {
    "duration": 3,
    "start_time": "2023-01-05T11:24:10.165Z"
   },
   {
    "duration": 3,
    "start_time": "2023-01-05T11:24:14.546Z"
   },
   {
    "duration": 13,
    "start_time": "2023-01-05T11:25:07.953Z"
   },
   {
    "duration": 14,
    "start_time": "2023-01-05T11:32:08.130Z"
   },
   {
    "duration": 10,
    "start_time": "2023-01-05T11:32:30.112Z"
   },
   {
    "duration": 12,
    "start_time": "2023-01-05T11:54:17.884Z"
   },
   {
    "duration": 11,
    "start_time": "2023-01-05T11:54:37.819Z"
   },
   {
    "duration": 14,
    "start_time": "2023-01-05T11:54:40.890Z"
   },
   {
    "duration": 74,
    "start_time": "2023-01-05T11:55:52.371Z"
   },
   {
    "duration": 48,
    "start_time": "2023-01-05T11:56:04.255Z"
   },
   {
    "duration": 74,
    "start_time": "2023-01-05T11:57:15.639Z"
   },
   {
    "duration": 69,
    "start_time": "2023-01-05T11:57:42.776Z"
   },
   {
    "duration": 50,
    "start_time": "2023-01-05T11:57:58.300Z"
   },
   {
    "duration": 2,
    "start_time": "2023-01-05T11:58:45.211Z"
   },
   {
    "duration": 9,
    "start_time": "2023-01-05T11:59:47.310Z"
   },
   {
    "duration": 5,
    "start_time": "2023-01-05T12:02:16.795Z"
   },
   {
    "duration": 3,
    "start_time": "2023-01-05T12:03:08.262Z"
   },
   {
    "duration": 14,
    "start_time": "2023-01-05T12:13:43.198Z"
   },
   {
    "duration": 13,
    "start_time": "2023-01-05T12:14:31.232Z"
   },
   {
    "duration": 12,
    "start_time": "2023-01-05T12:17:43.314Z"
   },
   {
    "duration": 16,
    "start_time": "2023-01-05T12:17:51.194Z"
   },
   {
    "duration": 31,
    "start_time": "2023-01-05T12:18:06.075Z"
   },
   {
    "duration": 36,
    "start_time": "2023-01-05T12:18:21.495Z"
   },
   {
    "duration": 11,
    "start_time": "2023-01-05T12:19:40.362Z"
   },
   {
    "duration": 21,
    "start_time": "2023-01-05T12:20:16.000Z"
   },
   {
    "duration": 34,
    "start_time": "2023-01-05T12:20:32.129Z"
   },
   {
    "duration": 6,
    "start_time": "2023-01-05T12:22:54.557Z"
   },
   {
    "duration": 5,
    "start_time": "2023-01-05T12:23:07.715Z"
   },
   {
    "duration": 168,
    "start_time": "2023-01-05T12:23:49.815Z"
   },
   {
    "duration": 21,
    "start_time": "2023-01-05T12:24:34.799Z"
   },
   {
    "duration": 32,
    "start_time": "2023-01-05T12:25:55.224Z"
   },
   {
    "duration": 5,
    "start_time": "2023-01-05T12:26:00.097Z"
   },
   {
    "duration": 5,
    "start_time": "2023-01-05T12:26:04.128Z"
   },
   {
    "duration": 19,
    "start_time": "2023-01-05T12:26:32.006Z"
   },
   {
    "duration": 27,
    "start_time": "2023-01-05T12:26:50.487Z"
   },
   {
    "duration": 35,
    "start_time": "2023-01-05T12:29:26.217Z"
   },
   {
    "duration": 15,
    "start_time": "2023-01-05T12:29:42.672Z"
   },
   {
    "duration": 15,
    "start_time": "2023-01-05T12:43:51.610Z"
   },
   {
    "duration": 15,
    "start_time": "2023-01-05T12:45:58.591Z"
   },
   {
    "duration": 11,
    "start_time": "2023-01-05T12:47:21.001Z"
   },
   {
    "duration": 12,
    "start_time": "2023-01-05T12:48:41.893Z"
   },
   {
    "duration": 20,
    "start_time": "2023-01-05T12:49:25.310Z"
   },
   {
    "duration": 18,
    "start_time": "2023-01-05T12:52:25.016Z"
   },
   {
    "duration": 20,
    "start_time": "2023-01-05T12:53:55.301Z"
   },
   {
    "duration": 159,
    "start_time": "2023-01-05T12:53:57.538Z"
   },
   {
    "duration": 5,
    "start_time": "2023-01-05T12:56:18.408Z"
   },
   {
    "duration": 15,
    "start_time": "2023-01-05T12:56:20.831Z"
   },
   {
    "duration": 14,
    "start_time": "2023-01-05T12:56:24.585Z"
   },
   {
    "duration": 12,
    "start_time": "2023-01-05T12:57:14.238Z"
   },
   {
    "duration": 9,
    "start_time": "2023-01-05T13:00:02.254Z"
   },
   {
    "duration": 14,
    "start_time": "2023-01-05T13:00:09.098Z"
   },
   {
    "duration": 9,
    "start_time": "2023-01-05T13:00:55.485Z"
   },
   {
    "duration": 12,
    "start_time": "2023-01-05T13:01:03.028Z"
   },
   {
    "duration": 13,
    "start_time": "2023-01-05T13:01:12.796Z"
   },
   {
    "duration": 72,
    "start_time": "2023-01-05T13:03:50.892Z"
   },
   {
    "duration": 20,
    "start_time": "2023-01-05T13:03:56.162Z"
   },
   {
    "duration": 22,
    "start_time": "2023-01-05T13:04:52.281Z"
   },
   {
    "duration": 22,
    "start_time": "2023-01-05T13:05:29.843Z"
   },
   {
    "duration": 71,
    "start_time": "2023-01-05T13:07:09.198Z"
   },
   {
    "duration": 26,
    "start_time": "2023-01-05T13:07:12.842Z"
   },
   {
    "duration": 21,
    "start_time": "2023-01-05T13:07:33.120Z"
   },
   {
    "duration": 3,
    "start_time": "2023-01-05T13:08:19.075Z"
   },
   {
    "duration": 35,
    "start_time": "2023-01-05T13:08:24.874Z"
   },
   {
    "duration": 4,
    "start_time": "2023-01-05T13:09:43.311Z"
   },
   {
    "duration": 12,
    "start_time": "2023-01-05T13:09:48.585Z"
   },
   {
    "duration": 37,
    "start_time": "2023-01-05T13:10:05.633Z"
   },
   {
    "duration": 12,
    "start_time": "2023-01-05T13:12:57.385Z"
   },
   {
    "duration": 10,
    "start_time": "2023-01-05T13:13:35.559Z"
   },
   {
    "duration": 1271,
    "start_time": "2023-01-05T13:13:48.138Z"
   },
   {
    "duration": 3,
    "start_time": "2023-01-05T13:13:49.411Z"
   },
   {
    "duration": 42,
    "start_time": "2023-01-05T13:13:49.416Z"
   },
   {
    "duration": 62,
    "start_time": "2023-01-05T13:13:49.460Z"
   },
   {
    "duration": 464,
    "start_time": "2023-01-05T13:13:49.524Z"
   },
   {
    "duration": 25,
    "start_time": "2023-01-05T13:13:49.989Z"
   },
   {
    "duration": 3,
    "start_time": "2023-01-05T13:13:50.016Z"
   },
   {
    "duration": 30,
    "start_time": "2023-01-05T13:13:50.021Z"
   },
   {
    "duration": 5,
    "start_time": "2023-01-05T13:13:50.052Z"
   },
   {
    "duration": 13,
    "start_time": "2023-01-05T13:13:50.059Z"
   },
   {
    "duration": 50,
    "start_time": "2023-01-05T13:13:50.074Z"
   },
   {
    "duration": 12,
    "start_time": "2023-01-05T13:13:50.125Z"
   },
   {
    "duration": 4,
    "start_time": "2023-01-05T13:13:50.138Z"
   },
   {
    "duration": 389,
    "start_time": "2023-01-05T13:13:50.146Z"
   },
   {
    "duration": 6,
    "start_time": "2023-01-05T13:13:50.537Z"
   },
   {
    "duration": 118,
    "start_time": "2023-01-05T13:13:50.545Z"
   },
   {
    "duration": 6,
    "start_time": "2023-01-05T13:13:50.664Z"
   },
   {
    "duration": 26,
    "start_time": "2023-01-05T13:13:50.678Z"
   },
   {
    "duration": 6,
    "start_time": "2023-01-05T13:13:50.706Z"
   },
   {
    "duration": 5,
    "start_time": "2023-01-05T13:13:50.714Z"
   },
   {
    "duration": 14,
    "start_time": "2023-01-05T13:13:50.721Z"
   },
   {
    "duration": 24,
    "start_time": "2023-01-05T13:13:50.736Z"
   },
   {
    "duration": 4,
    "start_time": "2023-01-05T13:13:50.762Z"
   },
   {
    "duration": 4,
    "start_time": "2023-01-05T13:13:50.779Z"
   },
   {
    "duration": 47,
    "start_time": "2023-01-05T13:13:50.785Z"
   },
   {
    "duration": 4,
    "start_time": "2023-01-05T13:13:50.834Z"
   },
   {
    "duration": 38,
    "start_time": "2023-01-05T13:13:50.840Z"
   },
   {
    "duration": 3,
    "start_time": "2023-01-05T13:13:50.880Z"
   },
   {
    "duration": 9,
    "start_time": "2023-01-05T13:13:50.885Z"
   },
   {
    "duration": 15,
    "start_time": "2023-01-05T13:13:50.897Z"
   },
   {
    "duration": 2515,
    "start_time": "2023-01-05T13:13:50.914Z"
   },
   {
    "duration": 7,
    "start_time": "2023-01-05T13:13:53.442Z"
   },
   {
    "duration": 7,
    "start_time": "2023-01-05T13:13:53.451Z"
   },
   {
    "duration": 5,
    "start_time": "2023-01-05T13:13:53.460Z"
   },
   {
    "duration": 11,
    "start_time": "2023-01-05T13:13:53.467Z"
   },
   {
    "duration": 3,
    "start_time": "2023-01-05T13:13:53.480Z"
   },
   {
    "duration": 6,
    "start_time": "2023-01-05T13:13:53.484Z"
   },
   {
    "duration": 8,
    "start_time": "2023-01-05T13:13:53.491Z"
   },
   {
    "duration": 6,
    "start_time": "2023-01-05T13:13:53.500Z"
   },
   {
    "duration": 6,
    "start_time": "2023-01-05T13:13:53.508Z"
   },
   {
    "duration": 10,
    "start_time": "2023-01-05T13:13:53.517Z"
   },
   {
    "duration": 12,
    "start_time": "2023-01-05T13:13:53.528Z"
   },
   {
    "duration": 4,
    "start_time": "2023-01-05T13:13:53.542Z"
   },
   {
    "duration": 38,
    "start_time": "2023-01-05T13:13:53.548Z"
   },
   {
    "duration": 6,
    "start_time": "2023-01-05T13:13:53.588Z"
   },
   {
    "duration": 11,
    "start_time": "2023-01-05T13:13:53.596Z"
   },
   {
    "duration": 9,
    "start_time": "2023-01-05T13:13:53.609Z"
   },
   {
    "duration": 13,
    "start_time": "2023-01-05T13:13:53.620Z"
   },
   {
    "duration": 13,
    "start_time": "2023-01-05T13:13:53.635Z"
   },
   {
    "duration": 9,
    "start_time": "2023-01-05T13:13:53.678Z"
   },
   {
    "duration": 6,
    "start_time": "2023-01-05T13:13:53.689Z"
   },
   {
    "duration": 28,
    "start_time": "2023-01-05T13:13:53.697Z"
   },
   {
    "duration": 16,
    "start_time": "2023-01-05T13:13:53.727Z"
   },
   {
    "duration": 44,
    "start_time": "2023-01-05T13:13:53.745Z"
   },
   {
    "duration": 18,
    "start_time": "2023-01-05T13:13:53.791Z"
   },
   {
    "duration": 398,
    "start_time": "2023-01-05T13:13:53.810Z"
   },
   {
    "duration": 18,
    "start_time": "2023-01-05T13:13:54.210Z"
   },
   {
    "duration": 49,
    "start_time": "2023-01-05T13:13:54.230Z"
   },
   {
    "duration": 13,
    "start_time": "2023-01-05T13:13:54.280Z"
   },
   {
    "duration": 12,
    "start_time": "2023-01-05T13:13:54.294Z"
   },
   {
    "duration": 10,
    "start_time": "2023-01-05T13:13:54.307Z"
   },
   {
    "duration": 16,
    "start_time": "2023-01-05T13:25:53.289Z"
   },
   {
    "duration": 18,
    "start_time": "2023-01-05T13:25:54.907Z"
   },
   {
    "duration": 21,
    "start_time": "2023-01-05T13:26:51.868Z"
   },
   {
    "duration": 49,
    "start_time": "2023-01-05T13:26:58.093Z"
   },
   {
    "duration": 11,
    "start_time": "2023-01-05T13:27:09.968Z"
   },
   {
    "duration": 11,
    "start_time": "2023-01-05T13:27:17.184Z"
   },
   {
    "duration": 15,
    "start_time": "2023-01-05T13:27:22.025Z"
   },
   {
    "duration": 12,
    "start_time": "2023-01-05T13:27:25.793Z"
   },
   {
    "duration": 11,
    "start_time": "2023-01-05T13:27:31.945Z"
   },
   {
    "duration": 11,
    "start_time": "2023-01-05T13:27:34.182Z"
   },
   {
    "duration": 139,
    "start_time": "2023-01-05T13:41:46.231Z"
   },
   {
    "duration": 10,
    "start_time": "2023-01-05T13:42:10.648Z"
   },
   {
    "duration": 5,
    "start_time": "2023-01-05T13:42:29.543Z"
   },
   {
    "duration": 9,
    "start_time": "2023-01-05T13:42:55.757Z"
   },
   {
    "duration": 6,
    "start_time": "2023-01-05T13:42:58.600Z"
   },
   {
    "duration": 89,
    "start_time": "2023-01-05T13:43:28.919Z"
   },
   {
    "duration": 7,
    "start_time": "2023-01-05T13:43:36.418Z"
   },
   {
    "duration": 19,
    "start_time": "2023-01-05T13:44:29.450Z"
   },
   {
    "duration": 4,
    "start_time": "2023-01-05T13:45:12.028Z"
   },
   {
    "duration": 21,
    "start_time": "2023-01-05T13:45:16.823Z"
   },
   {
    "duration": 4,
    "start_time": "2023-01-05T13:45:50.976Z"
   },
   {
    "duration": 3,
    "start_time": "2023-01-05T13:45:54.831Z"
   },
   {
    "duration": 25,
    "start_time": "2023-01-05T13:46:00.376Z"
   },
   {
    "duration": 30,
    "start_time": "2023-01-05T13:46:30.210Z"
   },
   {
    "duration": 29,
    "start_time": "2023-01-05T13:47:17.009Z"
   },
   {
    "duration": 8,
    "start_time": "2023-01-05T13:48:33.987Z"
   },
   {
    "duration": 7,
    "start_time": "2023-01-05T13:49:08.287Z"
   },
   {
    "duration": 1227,
    "start_time": "2023-01-05T13:49:15.245Z"
   },
   {
    "duration": 6,
    "start_time": "2023-01-05T13:49:16.473Z"
   },
   {
    "duration": 35,
    "start_time": "2023-01-05T13:49:16.481Z"
   },
   {
    "duration": 66,
    "start_time": "2023-01-05T13:49:16.518Z"
   },
   {
    "duration": 474,
    "start_time": "2023-01-05T13:49:16.586Z"
   },
   {
    "duration": 28,
    "start_time": "2023-01-05T13:49:17.061Z"
   },
   {
    "duration": 4,
    "start_time": "2023-01-05T13:49:17.090Z"
   },
   {
    "duration": 23,
    "start_time": "2023-01-05T13:49:17.096Z"
   },
   {
    "duration": 6,
    "start_time": "2023-01-05T13:49:17.120Z"
   },
   {
    "duration": 8,
    "start_time": "2023-01-05T13:49:17.127Z"
   },
   {
    "duration": 73,
    "start_time": "2023-01-05T13:49:17.137Z"
   },
   {
    "duration": 11,
    "start_time": "2023-01-05T13:49:17.212Z"
   },
   {
    "duration": 4,
    "start_time": "2023-01-05T13:49:17.225Z"
   },
   {
    "duration": 350,
    "start_time": "2023-01-05T13:49:17.232Z"
   },
   {
    "duration": 5,
    "start_time": "2023-01-05T13:49:17.584Z"
   },
   {
    "duration": 107,
    "start_time": "2023-01-05T13:49:17.590Z"
   },
   {
    "duration": 5,
    "start_time": "2023-01-05T13:49:17.699Z"
   },
   {
    "duration": 24,
    "start_time": "2023-01-05T13:49:17.705Z"
   },
   {
    "duration": 6,
    "start_time": "2023-01-05T13:49:17.730Z"
   },
   {
    "duration": 9,
    "start_time": "2023-01-05T13:49:17.737Z"
   },
   {
    "duration": 7,
    "start_time": "2023-01-05T13:49:17.748Z"
   },
   {
    "duration": 30,
    "start_time": "2023-01-05T13:49:17.757Z"
   },
   {
    "duration": 3,
    "start_time": "2023-01-05T13:49:17.789Z"
   },
   {
    "duration": 10,
    "start_time": "2023-01-05T13:49:17.794Z"
   },
   {
    "duration": 44,
    "start_time": "2023-01-05T13:49:17.805Z"
   },
   {
    "duration": 4,
    "start_time": "2023-01-05T13:49:17.850Z"
   },
   {
    "duration": 23,
    "start_time": "2023-01-05T13:49:17.855Z"
   },
   {
    "duration": 2,
    "start_time": "2023-01-05T13:49:17.880Z"
   },
   {
    "duration": 9,
    "start_time": "2023-01-05T13:49:17.884Z"
   },
   {
    "duration": 11,
    "start_time": "2023-01-05T13:49:17.894Z"
   },
   {
    "duration": 2403,
    "start_time": "2023-01-05T13:49:17.906Z"
   },
   {
    "duration": 7,
    "start_time": "2023-01-05T13:49:20.311Z"
   },
   {
    "duration": 5,
    "start_time": "2023-01-05T13:49:20.320Z"
   },
   {
    "duration": 4,
    "start_time": "2023-01-05T13:49:20.327Z"
   },
   {
    "duration": 6,
    "start_time": "2023-01-05T13:49:20.333Z"
   },
   {
    "duration": 5,
    "start_time": "2023-01-05T13:49:20.341Z"
   },
   {
    "duration": 31,
    "start_time": "2023-01-05T13:49:20.347Z"
   },
   {
    "duration": 4,
    "start_time": "2023-01-05T13:49:20.380Z"
   },
   {
    "duration": 9,
    "start_time": "2023-01-05T13:49:20.386Z"
   },
   {
    "duration": 6,
    "start_time": "2023-01-05T13:49:20.396Z"
   },
   {
    "duration": 9,
    "start_time": "2023-01-05T13:49:20.406Z"
   },
   {
    "duration": 13,
    "start_time": "2023-01-05T13:49:20.416Z"
   },
   {
    "duration": 5,
    "start_time": "2023-01-05T13:49:20.431Z"
   },
   {
    "duration": 14,
    "start_time": "2023-01-05T13:49:20.437Z"
   },
   {
    "duration": 29,
    "start_time": "2023-01-05T13:49:20.453Z"
   },
   {
    "duration": 9,
    "start_time": "2023-01-05T13:49:20.483Z"
   },
   {
    "duration": 10,
    "start_time": "2023-01-05T13:49:20.493Z"
   },
   {
    "duration": 11,
    "start_time": "2023-01-05T13:49:20.505Z"
   },
   {
    "duration": 12,
    "start_time": "2023-01-05T13:49:20.517Z"
   },
   {
    "duration": 12,
    "start_time": "2023-01-05T13:49:20.531Z"
   },
   {
    "duration": 35,
    "start_time": "2023-01-05T13:49:20.544Z"
   },
   {
    "duration": 5,
    "start_time": "2023-01-05T13:49:20.580Z"
   },
   {
    "duration": 19,
    "start_time": "2023-01-05T13:49:20.587Z"
   },
   {
    "duration": 18,
    "start_time": "2023-01-05T13:49:20.608Z"
   },
   {
    "duration": 17,
    "start_time": "2023-01-05T13:49:20.627Z"
   },
   {
    "duration": 350,
    "start_time": "2023-01-05T13:49:20.646Z"
   },
   {
    "duration": 11,
    "start_time": "2023-01-05T13:49:20.997Z"
   },
   {
    "duration": 16,
    "start_time": "2023-01-05T13:49:21.010Z"
   },
   {
    "duration": 52,
    "start_time": "2023-01-05T13:49:21.028Z"
   },
   {
    "duration": 13,
    "start_time": "2023-01-05T13:49:21.081Z"
   },
   {
    "duration": 10,
    "start_time": "2023-01-05T13:49:21.096Z"
   },
   {
    "duration": 86,
    "start_time": "2023-01-05T13:49:21.108Z"
   },
   {
    "duration": 7,
    "start_time": "2023-01-05T13:49:21.196Z"
   },
   {
    "duration": 31,
    "start_time": "2023-01-05T13:49:35.024Z"
   },
   {
    "duration": 8,
    "start_time": "2023-01-05T13:49:37.228Z"
   },
   {
    "duration": 30,
    "start_time": "2023-01-05T13:50:35.372Z"
   },
   {
    "duration": 33,
    "start_time": "2023-01-05T13:52:35.022Z"
   },
   {
    "duration": 27,
    "start_time": "2023-01-05T13:57:06.262Z"
   },
   {
    "duration": 7,
    "start_time": "2023-01-05T13:57:08.646Z"
   },
   {
    "duration": 26,
    "start_time": "2023-01-05T13:57:38.915Z"
   },
   {
    "duration": 7,
    "start_time": "2023-01-05T13:57:41.478Z"
   },
   {
    "duration": 24,
    "start_time": "2023-01-05T13:57:48.901Z"
   },
   {
    "duration": 6,
    "start_time": "2023-01-05T13:57:52.302Z"
   },
   {
    "duration": 31,
    "start_time": "2023-01-05T13:58:04.030Z"
   },
   {
    "duration": 8,
    "start_time": "2023-01-05T13:58:05.426Z"
   },
   {
    "duration": 23,
    "start_time": "2023-01-05T14:00:16.401Z"
   },
   {
    "duration": 7,
    "start_time": "2023-01-05T14:00:20.981Z"
   },
   {
    "duration": 149,
    "start_time": "2023-01-05T14:00:46.344Z"
   },
   {
    "duration": 28,
    "start_time": "2023-01-05T14:00:58.999Z"
   },
   {
    "duration": 1278,
    "start_time": "2023-01-06T05:52:55.462Z"
   },
   {
    "duration": 3,
    "start_time": "2023-01-06T05:52:56.741Z"
   },
   {
    "duration": 70,
    "start_time": "2023-01-06T05:52:56.746Z"
   },
   {
    "duration": 169,
    "start_time": "2023-01-06T05:52:56.818Z"
   },
   {
    "duration": 557,
    "start_time": "2023-01-06T05:52:56.988Z"
   },
   {
    "duration": 61,
    "start_time": "2023-01-06T05:52:57.546Z"
   },
   {
    "duration": 3,
    "start_time": "2023-01-06T05:52:57.609Z"
   },
   {
    "duration": 36,
    "start_time": "2023-01-06T05:52:57.614Z"
   },
   {
    "duration": 12,
    "start_time": "2023-01-06T05:52:57.652Z"
   },
   {
    "duration": 21,
    "start_time": "2023-01-06T05:52:57.666Z"
   },
   {
    "duration": 66,
    "start_time": "2023-01-06T05:52:57.688Z"
   },
   {
    "duration": 11,
    "start_time": "2023-01-06T05:52:57.755Z"
   },
   {
    "duration": 28,
    "start_time": "2023-01-06T05:52:57.767Z"
   },
   {
    "duration": 340,
    "start_time": "2023-01-06T05:52:57.796Z"
   },
   {
    "duration": 6,
    "start_time": "2023-01-06T05:52:58.137Z"
   },
   {
    "duration": 106,
    "start_time": "2023-01-06T05:52:58.145Z"
   },
   {
    "duration": 5,
    "start_time": "2023-01-06T05:52:58.253Z"
   },
   {
    "duration": 24,
    "start_time": "2023-01-06T05:52:58.259Z"
   },
   {
    "duration": 6,
    "start_time": "2023-01-06T05:52:58.284Z"
   },
   {
    "duration": 7,
    "start_time": "2023-01-06T05:52:58.291Z"
   },
   {
    "duration": 5,
    "start_time": "2023-01-06T05:52:58.299Z"
   },
   {
    "duration": 25,
    "start_time": "2023-01-06T05:52:58.305Z"
   },
   {
    "duration": 3,
    "start_time": "2023-01-06T05:52:58.332Z"
   },
   {
    "duration": 8,
    "start_time": "2023-01-06T05:52:58.337Z"
   },
   {
    "duration": 41,
    "start_time": "2023-01-06T05:52:58.346Z"
   },
   {
    "duration": 3,
    "start_time": "2023-01-06T05:52:58.389Z"
   },
   {
    "duration": 29,
    "start_time": "2023-01-06T05:52:58.394Z"
   },
   {
    "duration": 2,
    "start_time": "2023-01-06T05:52:58.427Z"
   },
   {
    "duration": 9,
    "start_time": "2023-01-06T05:52:58.431Z"
   },
   {
    "duration": 14,
    "start_time": "2023-01-06T05:52:58.442Z"
   },
   {
    "duration": 3065,
    "start_time": "2023-01-06T05:52:58.458Z"
   },
   {
    "duration": 6,
    "start_time": "2023-01-06T05:53:01.525Z"
   },
   {
    "duration": 14,
    "start_time": "2023-01-06T05:53:01.532Z"
   },
   {
    "duration": 21,
    "start_time": "2023-01-06T05:53:01.548Z"
   },
   {
    "duration": 31,
    "start_time": "2023-01-06T05:53:01.571Z"
   },
   {
    "duration": 27,
    "start_time": "2023-01-06T05:53:01.603Z"
   },
   {
    "duration": 35,
    "start_time": "2023-01-06T05:53:01.631Z"
   },
   {
    "duration": 32,
    "start_time": "2023-01-06T05:53:01.668Z"
   },
   {
    "duration": 38,
    "start_time": "2023-01-06T05:53:01.702Z"
   },
   {
    "duration": 30,
    "start_time": "2023-01-06T05:53:01.741Z"
   },
   {
    "duration": 23,
    "start_time": "2023-01-06T05:53:01.773Z"
   },
   {
    "duration": 13,
    "start_time": "2023-01-06T05:53:01.798Z"
   },
   {
    "duration": 8,
    "start_time": "2023-01-06T05:53:01.813Z"
   },
   {
    "duration": 16,
    "start_time": "2023-01-06T05:53:01.823Z"
   },
   {
    "duration": 16,
    "start_time": "2023-01-06T05:53:01.840Z"
   },
   {
    "duration": 30,
    "start_time": "2023-01-06T05:53:01.858Z"
   },
   {
    "duration": 15,
    "start_time": "2023-01-06T05:53:01.890Z"
   },
   {
    "duration": 29,
    "start_time": "2023-01-06T05:53:01.907Z"
   },
   {
    "duration": 20,
    "start_time": "2023-01-06T05:53:01.937Z"
   },
   {
    "duration": 21,
    "start_time": "2023-01-06T05:53:01.959Z"
   },
   {
    "duration": 37,
    "start_time": "2023-01-06T05:53:01.981Z"
   },
   {
    "duration": 13,
    "start_time": "2023-01-06T05:53:02.019Z"
   },
   {
    "duration": 25,
    "start_time": "2023-01-06T05:53:02.034Z"
   },
   {
    "duration": 31,
    "start_time": "2023-01-06T05:53:02.060Z"
   },
   {
    "duration": 17,
    "start_time": "2023-01-06T05:53:02.093Z"
   },
   {
    "duration": 357,
    "start_time": "2023-01-06T05:53:02.111Z"
   },
   {
    "duration": 10,
    "start_time": "2023-01-06T05:53:02.470Z"
   },
   {
    "duration": 42,
    "start_time": "2023-01-06T05:53:02.481Z"
   },
   {
    "duration": 12,
    "start_time": "2023-01-06T05:53:02.524Z"
   },
   {
    "duration": 18,
    "start_time": "2023-01-06T05:53:02.538Z"
   },
   {
    "duration": 69,
    "start_time": "2023-01-06T05:53:02.557Z"
   },
   {
    "duration": 26,
    "start_time": "2023-01-06T05:53:02.628Z"
   },
   {
    "duration": 6,
    "start_time": "2023-01-06T05:53:02.655Z"
   },
   {
    "duration": 1151,
    "start_time": "2023-01-06T06:56:41.252Z"
   },
   {
    "duration": 3,
    "start_time": "2023-01-06T06:56:42.404Z"
   },
   {
    "duration": 37,
    "start_time": "2023-01-06T06:56:42.408Z"
   },
   {
    "duration": 63,
    "start_time": "2023-01-06T06:56:42.446Z"
   },
   {
    "duration": 439,
    "start_time": "2023-01-06T06:56:42.511Z"
   },
   {
    "duration": 25,
    "start_time": "2023-01-06T06:56:42.951Z"
   },
   {
    "duration": 3,
    "start_time": "2023-01-06T06:56:42.978Z"
   },
   {
    "duration": 44,
    "start_time": "2023-01-06T06:56:42.982Z"
   },
   {
    "duration": 12,
    "start_time": "2023-01-06T06:56:43.028Z"
   },
   {
    "duration": 36,
    "start_time": "2023-01-06T06:56:43.042Z"
   },
   {
    "duration": 64,
    "start_time": "2023-01-06T06:56:43.079Z"
   },
   {
    "duration": 11,
    "start_time": "2023-01-06T06:56:43.145Z"
   },
   {
    "duration": 19,
    "start_time": "2023-01-06T06:56:43.157Z"
   },
   {
    "duration": 320,
    "start_time": "2023-01-06T06:56:43.178Z"
   },
   {
    "duration": 6,
    "start_time": "2023-01-06T06:56:43.500Z"
   },
   {
    "duration": 107,
    "start_time": "2023-01-06T06:56:43.508Z"
   },
   {
    "duration": 7,
    "start_time": "2023-01-06T06:56:43.617Z"
   },
   {
    "duration": 39,
    "start_time": "2023-01-06T06:56:43.625Z"
   },
   {
    "duration": 19,
    "start_time": "2023-01-06T06:56:43.666Z"
   },
   {
    "duration": 27,
    "start_time": "2023-01-06T06:56:43.686Z"
   },
   {
    "duration": 20,
    "start_time": "2023-01-06T06:56:43.715Z"
   },
   {
    "duration": 36,
    "start_time": "2023-01-06T06:56:43.736Z"
   },
   {
    "duration": 10,
    "start_time": "2023-01-06T06:56:43.774Z"
   },
   {
    "duration": 30,
    "start_time": "2023-01-06T06:56:43.785Z"
   },
   {
    "duration": 69,
    "start_time": "2023-01-06T06:56:43.817Z"
   },
   {
    "duration": 5,
    "start_time": "2023-01-06T06:56:43.887Z"
   },
   {
    "duration": 21,
    "start_time": "2023-01-06T06:56:43.893Z"
   },
   {
    "duration": 19,
    "start_time": "2023-01-06T06:56:43.919Z"
   },
   {
    "duration": 18,
    "start_time": "2023-01-06T06:56:43.939Z"
   },
   {
    "duration": 25,
    "start_time": "2023-01-06T06:56:43.959Z"
   },
   {
    "duration": 3040,
    "start_time": "2023-01-06T06:56:43.985Z"
   },
   {
    "duration": 6,
    "start_time": "2023-01-06T06:56:47.026Z"
   },
   {
    "duration": 17,
    "start_time": "2023-01-06T06:56:47.034Z"
   },
   {
    "duration": 21,
    "start_time": "2023-01-06T06:56:47.052Z"
   },
   {
    "duration": 16,
    "start_time": "2023-01-06T06:56:47.074Z"
   },
   {
    "duration": 21,
    "start_time": "2023-01-06T06:56:47.092Z"
   },
   {
    "duration": 18,
    "start_time": "2023-01-06T06:56:47.114Z"
   },
   {
    "duration": 31,
    "start_time": "2023-01-06T06:56:47.134Z"
   },
   {
    "duration": 17,
    "start_time": "2023-01-06T06:56:47.167Z"
   },
   {
    "duration": 5,
    "start_time": "2023-01-06T06:56:47.186Z"
   },
   {
    "duration": 14,
    "start_time": "2023-01-06T06:56:47.192Z"
   },
   {
    "duration": 10,
    "start_time": "2023-01-06T06:56:47.208Z"
   },
   {
    "duration": 4,
    "start_time": "2023-01-06T06:56:47.220Z"
   },
   {
    "duration": 11,
    "start_time": "2023-01-06T06:56:47.226Z"
   },
   {
    "duration": 6,
    "start_time": "2023-01-06T06:56:47.239Z"
   },
   {
    "duration": 24,
    "start_time": "2023-01-06T06:56:47.246Z"
   },
   {
    "duration": 16,
    "start_time": "2023-01-06T06:56:47.272Z"
   },
   {
    "duration": 10,
    "start_time": "2023-01-06T06:56:47.289Z"
   },
   {
    "duration": 12,
    "start_time": "2023-01-06T06:56:47.300Z"
   },
   {
    "duration": 14,
    "start_time": "2023-01-06T06:56:47.320Z"
   },
   {
    "duration": 14,
    "start_time": "2023-01-06T06:56:47.336Z"
   },
   {
    "duration": 15,
    "start_time": "2023-01-06T06:56:47.351Z"
   },
   {
    "duration": 18,
    "start_time": "2023-01-06T06:56:47.367Z"
   },
   {
    "duration": 15,
    "start_time": "2023-01-06T06:56:47.387Z"
   },
   {
    "duration": 16,
    "start_time": "2023-01-06T06:56:47.404Z"
   },
   {
    "duration": 338,
    "start_time": "2023-01-06T06:56:47.421Z"
   },
   {
    "duration": 10,
    "start_time": "2023-01-06T06:56:47.761Z"
   },
   {
    "duration": 14,
    "start_time": "2023-01-06T06:56:47.772Z"
   },
   {
    "duration": 39,
    "start_time": "2023-01-06T06:56:47.787Z"
   },
   {
    "duration": 28,
    "start_time": "2023-01-06T06:56:47.828Z"
   },
   {
    "duration": 9,
    "start_time": "2023-01-06T06:56:47.858Z"
   },
   {
    "duration": 64,
    "start_time": "2023-01-06T06:56:47.868Z"
   },
   {
    "duration": 6,
    "start_time": "2023-01-06T06:56:47.934Z"
   },
   {
    "duration": 23,
    "start_time": "2023-01-06T07:05:05.564Z"
   },
   {
    "duration": 9,
    "start_time": "2023-01-06T07:23:57.286Z"
   },
   {
    "duration": 11,
    "start_time": "2023-01-06T07:24:09.335Z"
   },
   {
    "duration": 4,
    "start_time": "2023-01-06T07:26:04.108Z"
   },
   {
    "duration": 14,
    "start_time": "2023-01-06T07:26:32.281Z"
   },
   {
    "duration": 11,
    "start_time": "2023-01-06T07:34:35.352Z"
   },
   {
    "duration": 4,
    "start_time": "2023-01-06T07:34:56.955Z"
   },
   {
    "duration": 13,
    "start_time": "2023-01-06T07:38:05.964Z"
   },
   {
    "duration": 14,
    "start_time": "2023-01-06T07:38:22.362Z"
   },
   {
    "duration": 9,
    "start_time": "2023-01-06T07:39:40.827Z"
   },
   {
    "duration": 11,
    "start_time": "2023-01-06T07:40:06.308Z"
   },
   {
    "duration": 18,
    "start_time": "2023-01-06T07:40:18.435Z"
   },
   {
    "duration": 13,
    "start_time": "2023-01-06T07:40:32.643Z"
   },
   {
    "duration": 49,
    "start_time": "2023-01-06T07:41:06.859Z"
   },
   {
    "duration": 386,
    "start_time": "2023-01-06T07:41:11.635Z"
   },
   {
    "duration": 630,
    "start_time": "2023-01-06T07:41:28.206Z"
   },
   {
    "duration": 576,
    "start_time": "2023-01-06T07:42:01.656Z"
   },
   {
    "duration": 641,
    "start_time": "2023-01-06T07:42:04.892Z"
   },
   {
    "duration": 432,
    "start_time": "2023-01-06T07:43:34.600Z"
   },
   {
    "duration": 17,
    "start_time": "2023-01-06T07:43:48.172Z"
   },
   {
    "duration": 29,
    "start_time": "2023-01-06T07:43:50.581Z"
   },
   {
    "duration": 584,
    "start_time": "2023-01-06T07:46:27.202Z"
   },
   {
    "duration": 21,
    "start_time": "2023-01-06T07:46:58.112Z"
   },
   {
    "duration": 124,
    "start_time": "2023-01-06T07:47:17.045Z"
   },
   {
    "duration": 22,
    "start_time": "2023-01-06T07:47:27.495Z"
   },
   {
    "duration": 19,
    "start_time": "2023-01-06T07:51:07.953Z"
   },
   {
    "duration": 20,
    "start_time": "2023-01-06T07:52:09.628Z"
   },
   {
    "duration": 18,
    "start_time": "2023-01-06T07:52:15.637Z"
   },
   {
    "duration": 11,
    "start_time": "2023-01-06T07:52:28.290Z"
   },
   {
    "duration": 16,
    "start_time": "2023-01-06T07:53:17.172Z"
   },
   {
    "duration": 25,
    "start_time": "2023-01-06T07:53:23.841Z"
   },
   {
    "duration": 17,
    "start_time": "2023-01-06T07:53:32.638Z"
   },
   {
    "duration": 713,
    "start_time": "2023-01-06T07:53:47.835Z"
   },
   {
    "duration": 26,
    "start_time": "2023-01-06T07:54:19.512Z"
   },
   {
    "duration": 4,
    "start_time": "2023-01-06T07:54:29.502Z"
   },
   {
    "duration": 19,
    "start_time": "2023-01-06T07:56:48.409Z"
   },
   {
    "duration": 20,
    "start_time": "2023-01-06T07:58:06.831Z"
   },
   {
    "duration": 29,
    "start_time": "2023-01-06T08:00:49.307Z"
   },
   {
    "duration": 17,
    "start_time": "2023-01-06T08:01:52.698Z"
   },
   {
    "duration": 26,
    "start_time": "2023-01-06T08:02:22.620Z"
   },
   {
    "duration": 1884,
    "start_time": "2023-01-06T08:02:44.841Z"
   },
   {
    "duration": 1190,
    "start_time": "2023-01-06T08:03:04.020Z"
   },
   {
    "duration": 23,
    "start_time": "2023-01-06T08:03:20.772Z"
   },
   {
    "duration": 1187,
    "start_time": "2023-01-06T08:03:26.216Z"
   },
   {
    "duration": 58,
    "start_time": "2023-01-06T08:04:23.393Z"
   },
   {
    "duration": 632,
    "start_time": "2023-01-06T08:04:33.696Z"
   },
   {
    "duration": 16,
    "start_time": "2023-01-06T08:06:16.802Z"
   },
   {
    "duration": 56,
    "start_time": "2023-01-06T08:06:56.016Z"
   },
   {
    "duration": 47,
    "start_time": "2023-01-06T08:07:40.593Z"
   },
   {
    "duration": 170,
    "start_time": "2023-01-06T08:08:09.035Z"
   },
   {
    "duration": 18,
    "start_time": "2023-01-06T08:13:17.649Z"
   },
   {
    "duration": 18,
    "start_time": "2023-01-06T08:13:20.744Z"
   },
   {
    "duration": 14,
    "start_time": "2023-01-06T08:19:11.985Z"
   },
   {
    "duration": 22,
    "start_time": "2023-01-06T08:19:43.966Z"
   },
   {
    "duration": 14,
    "start_time": "2023-01-06T08:19:52.349Z"
   },
   {
    "duration": 4,
    "start_time": "2023-01-06T08:21:34.331Z"
   },
   {
    "duration": 5,
    "start_time": "2023-01-06T08:21:45.515Z"
   },
   {
    "duration": 29,
    "start_time": "2023-01-06T08:23:11.706Z"
   },
   {
    "duration": 30,
    "start_time": "2023-01-06T08:23:34.728Z"
   },
   {
    "duration": 28,
    "start_time": "2023-01-06T08:23:46.262Z"
   },
   {
    "duration": 19,
    "start_time": "2023-01-06T08:26:32.454Z"
   },
   {
    "duration": 30,
    "start_time": "2023-01-06T08:27:29.110Z"
   },
   {
    "duration": 50,
    "start_time": "2023-01-06T08:28:18.707Z"
   },
   {
    "duration": 32,
    "start_time": "2023-01-06T08:28:23.428Z"
   },
   {
    "duration": 27,
    "start_time": "2023-01-06T08:30:02.043Z"
   },
   {
    "duration": 36,
    "start_time": "2023-01-06T08:30:10.687Z"
   },
   {
    "duration": 35,
    "start_time": "2023-01-06T08:30:28.726Z"
   },
   {
    "duration": 25,
    "start_time": "2023-01-06T08:30:57.568Z"
   },
   {
    "duration": 27,
    "start_time": "2023-01-06T08:31:02.683Z"
   },
   {
    "duration": 32,
    "start_time": "2023-01-06T08:31:06.138Z"
   },
   {
    "duration": 13,
    "start_time": "2023-01-06T08:34:31.237Z"
   },
   {
    "duration": 53,
    "start_time": "2023-01-06T08:34:40.106Z"
   },
   {
    "duration": 28,
    "start_time": "2023-01-06T08:34:45.879Z"
   },
   {
    "duration": 79,
    "start_time": "2023-01-06T08:34:56.537Z"
   },
   {
    "duration": 1296,
    "start_time": "2023-01-06T08:35:50.214Z"
   },
   {
    "duration": 3,
    "start_time": "2023-01-06T08:35:51.513Z"
   },
   {
    "duration": 64,
    "start_time": "2023-01-06T08:35:51.517Z"
   },
   {
    "duration": 70,
    "start_time": "2023-01-06T08:35:51.583Z"
   },
   {
    "duration": 461,
    "start_time": "2023-01-06T08:35:51.655Z"
   },
   {
    "duration": 33,
    "start_time": "2023-01-06T08:35:52.118Z"
   },
   {
    "duration": 5,
    "start_time": "2023-01-06T08:35:52.153Z"
   },
   {
    "duration": 24,
    "start_time": "2023-01-06T08:35:52.159Z"
   },
   {
    "duration": 4,
    "start_time": "2023-01-06T08:35:52.185Z"
   },
   {
    "duration": 7,
    "start_time": "2023-01-06T08:35:52.192Z"
   },
   {
    "duration": 85,
    "start_time": "2023-01-06T08:35:52.200Z"
   },
   {
    "duration": 13,
    "start_time": "2023-01-06T08:35:52.286Z"
   },
   {
    "duration": 4,
    "start_time": "2023-01-06T08:35:52.301Z"
   },
   {
    "duration": 435,
    "start_time": "2023-01-06T08:35:52.307Z"
   },
   {
    "duration": 10,
    "start_time": "2023-01-06T08:35:52.743Z"
   },
   {
    "duration": 135,
    "start_time": "2023-01-06T08:35:52.755Z"
   },
   {
    "duration": 4,
    "start_time": "2023-01-06T08:35:52.893Z"
   },
   {
    "duration": 45,
    "start_time": "2023-01-06T08:35:52.899Z"
   },
   {
    "duration": 7,
    "start_time": "2023-01-06T08:35:52.947Z"
   },
   {
    "duration": 6,
    "start_time": "2023-01-06T08:35:52.956Z"
   },
   {
    "duration": 9,
    "start_time": "2023-01-06T08:35:52.965Z"
   },
   {
    "duration": 22,
    "start_time": "2023-01-06T08:35:52.976Z"
   },
   {
    "duration": 5,
    "start_time": "2023-01-06T08:35:53.000Z"
   },
   {
    "duration": 4,
    "start_time": "2023-01-06T08:35:53.023Z"
   },
   {
    "duration": 65,
    "start_time": "2023-01-06T08:35:53.028Z"
   },
   {
    "duration": 5,
    "start_time": "2023-01-06T08:35:53.095Z"
   },
   {
    "duration": 10,
    "start_time": "2023-01-06T08:35:53.101Z"
   },
   {
    "duration": 3,
    "start_time": "2023-01-06T08:35:53.115Z"
   },
   {
    "duration": 38,
    "start_time": "2023-01-06T08:35:53.122Z"
   },
   {
    "duration": 16,
    "start_time": "2023-01-06T08:35:53.162Z"
   },
   {
    "duration": 4019,
    "start_time": "2023-01-06T08:35:53.180Z"
   },
   {
    "duration": 7,
    "start_time": "2023-01-06T08:35:57.202Z"
   },
   {
    "duration": 26,
    "start_time": "2023-01-06T08:35:57.210Z"
   },
   {
    "duration": 18,
    "start_time": "2023-01-06T08:35:57.239Z"
   },
   {
    "duration": 10,
    "start_time": "2023-01-06T08:35:57.259Z"
   },
   {
    "duration": 10,
    "start_time": "2023-01-06T08:35:57.271Z"
   },
   {
    "duration": 9,
    "start_time": "2023-01-06T08:35:57.282Z"
   },
   {
    "duration": 8,
    "start_time": "2023-01-06T08:35:57.292Z"
   },
   {
    "duration": 44,
    "start_time": "2023-01-06T08:35:57.301Z"
   },
   {
    "duration": 10,
    "start_time": "2023-01-06T08:35:57.346Z"
   },
   {
    "duration": 15,
    "start_time": "2023-01-06T08:35:57.358Z"
   },
   {
    "duration": 19,
    "start_time": "2023-01-06T08:35:57.375Z"
   },
   {
    "duration": 7,
    "start_time": "2023-01-06T08:35:57.396Z"
   },
   {
    "duration": 14,
    "start_time": "2023-01-06T08:35:57.404Z"
   },
   {
    "duration": 7,
    "start_time": "2023-01-06T08:35:57.419Z"
   },
   {
    "duration": 26,
    "start_time": "2023-01-06T08:35:57.431Z"
   },
   {
    "duration": 15,
    "start_time": "2023-01-06T08:35:57.459Z"
   },
   {
    "duration": 19,
    "start_time": "2023-01-06T08:35:57.476Z"
   },
   {
    "duration": 16,
    "start_time": "2023-01-06T08:35:57.497Z"
   },
   {
    "duration": 13,
    "start_time": "2023-01-06T08:35:57.514Z"
   },
   {
    "duration": 43,
    "start_time": "2023-01-06T08:35:57.529Z"
   },
   {
    "duration": 15,
    "start_time": "2023-01-06T08:35:57.575Z"
   },
   {
    "duration": 689,
    "start_time": "2023-01-06T08:35:57.592Z"
   },
   {
    "duration": 13,
    "start_time": "2023-01-06T08:35:58.283Z"
   },
   {
    "duration": 35,
    "start_time": "2023-01-06T08:35:58.298Z"
   },
   {
    "duration": 634,
    "start_time": "2023-01-06T08:35:58.335Z"
   },
   {
    "duration": 21,
    "start_time": "2023-01-06T08:35:58.971Z"
   },
   {
    "duration": 45,
    "start_time": "2023-01-06T08:35:58.994Z"
   },
   {
    "duration": 611,
    "start_time": "2023-01-06T08:35:59.041Z"
   },
   {
    "duration": 12,
    "start_time": "2023-01-06T08:35:59.654Z"
   },
   {
    "duration": 15,
    "start_time": "2023-01-06T08:35:59.667Z"
   },
   {
    "duration": 11,
    "start_time": "2023-01-06T08:35:59.683Z"
   },
   {
    "duration": 39,
    "start_time": "2023-01-06T08:35:59.695Z"
   },
   {
    "duration": 2,
    "start_time": "2023-01-06T08:35:59.735Z"
   },
   {
    "duration": 21,
    "start_time": "2023-01-06T08:35:59.739Z"
   },
   {
    "duration": 16,
    "start_time": "2023-01-06T08:35:59.762Z"
   },
   {
    "duration": 17,
    "start_time": "2023-01-06T08:35:59.780Z"
   },
   {
    "duration": 444,
    "start_time": "2023-01-06T08:35:59.799Z"
   },
   {
    "duration": 12,
    "start_time": "2023-01-06T08:36:00.245Z"
   },
   {
    "duration": 74,
    "start_time": "2023-01-06T08:36:00.259Z"
   },
   {
    "duration": 18,
    "start_time": "2023-01-06T08:36:00.335Z"
   },
   {
    "duration": 36,
    "start_time": "2023-01-06T08:36:00.355Z"
   },
   {
    "duration": 16,
    "start_time": "2023-01-06T08:36:00.393Z"
   },
   {
    "duration": 50,
    "start_time": "2023-01-06T08:36:00.411Z"
   },
   {
    "duration": 31,
    "start_time": "2023-01-06T08:36:00.463Z"
   },
   {
    "duration": 19,
    "start_time": "2023-01-06T08:52:03.338Z"
   },
   {
    "duration": 26,
    "start_time": "2023-01-06T08:52:14.677Z"
   },
   {
    "duration": 22,
    "start_time": "2023-01-06T08:54:18.863Z"
   },
   {
    "duration": 33,
    "start_time": "2023-01-06T08:54:31.836Z"
   },
   {
    "duration": 55,
    "start_time": "2023-01-06T08:54:56.712Z"
   },
   {
    "duration": 687,
    "start_time": "2023-01-06T08:57:51.031Z"
   },
   {
    "duration": 629,
    "start_time": "2023-01-06T08:58:33.445Z"
   },
   {
    "duration": 298,
    "start_time": "2023-01-06T09:01:08.123Z"
   },
   {
    "duration": 703,
    "start_time": "2023-01-06T09:01:13.755Z"
   },
   {
    "duration": 45,
    "start_time": "2023-01-06T09:01:55.945Z"
   },
   {
    "duration": 1139,
    "start_time": "2023-01-06T09:02:42.564Z"
   },
   {
    "duration": 2,
    "start_time": "2023-01-06T09:02:43.705Z"
   },
   {
    "duration": 31,
    "start_time": "2023-01-06T09:02:43.710Z"
   },
   {
    "duration": 62,
    "start_time": "2023-01-06T09:02:43.743Z"
   },
   {
    "duration": 439,
    "start_time": "2023-01-06T09:02:43.807Z"
   },
   {
    "duration": 24,
    "start_time": "2023-01-06T09:02:44.248Z"
   },
   {
    "duration": 4,
    "start_time": "2023-01-06T09:02:44.273Z"
   },
   {
    "duration": 22,
    "start_time": "2023-01-06T09:02:44.279Z"
   },
   {
    "duration": 4,
    "start_time": "2023-01-06T09:02:44.303Z"
   },
   {
    "duration": 14,
    "start_time": "2023-01-06T09:02:44.308Z"
   },
   {
    "duration": 46,
    "start_time": "2023-01-06T09:02:44.323Z"
   },
   {
    "duration": 12,
    "start_time": "2023-01-06T09:02:44.371Z"
   },
   {
    "duration": 4,
    "start_time": "2023-01-06T09:02:44.386Z"
   },
   {
    "duration": 344,
    "start_time": "2023-01-06T09:02:44.392Z"
   },
   {
    "duration": 5,
    "start_time": "2023-01-06T09:02:44.738Z"
   },
   {
    "duration": 106,
    "start_time": "2023-01-06T09:02:44.745Z"
   },
   {
    "duration": 4,
    "start_time": "2023-01-06T09:02:44.853Z"
   },
   {
    "duration": 22,
    "start_time": "2023-01-06T09:02:44.859Z"
   },
   {
    "duration": 5,
    "start_time": "2023-01-06T09:02:44.882Z"
   },
   {
    "duration": 6,
    "start_time": "2023-01-06T09:02:44.888Z"
   },
   {
    "duration": 4,
    "start_time": "2023-01-06T09:02:44.895Z"
   },
   {
    "duration": 11,
    "start_time": "2023-01-06T09:02:44.921Z"
   },
   {
    "duration": 8,
    "start_time": "2023-01-06T09:02:44.933Z"
   },
   {
    "duration": 6,
    "start_time": "2023-01-06T09:02:44.943Z"
   },
   {
    "duration": 42,
    "start_time": "2023-01-06T09:02:44.950Z"
   },
   {
    "duration": 4,
    "start_time": "2023-01-06T09:02:44.994Z"
   },
   {
    "duration": 23,
    "start_time": "2023-01-06T09:02:44.999Z"
   },
   {
    "duration": 3,
    "start_time": "2023-01-06T09:02:45.023Z"
   },
   {
    "duration": 15,
    "start_time": "2023-01-06T09:02:45.027Z"
   },
   {
    "duration": 17,
    "start_time": "2023-01-06T09:02:45.043Z"
   },
   {
    "duration": 3195,
    "start_time": "2023-01-06T09:02:45.062Z"
   },
   {
    "duration": 7,
    "start_time": "2023-01-06T09:02:48.258Z"
   },
   {
    "duration": 6,
    "start_time": "2023-01-06T09:02:48.266Z"
   },
   {
    "duration": 5,
    "start_time": "2023-01-06T09:02:48.274Z"
   },
   {
    "duration": 5,
    "start_time": "2023-01-06T09:02:48.281Z"
   },
   {
    "duration": 4,
    "start_time": "2023-01-06T09:02:48.287Z"
   },
   {
    "duration": 31,
    "start_time": "2023-01-06T09:02:48.292Z"
   },
   {
    "duration": 6,
    "start_time": "2023-01-06T09:02:48.324Z"
   },
   {
    "duration": 7,
    "start_time": "2023-01-06T09:02:48.332Z"
   },
   {
    "duration": 4,
    "start_time": "2023-01-06T09:02:48.342Z"
   },
   {
    "duration": 9,
    "start_time": "2023-01-06T09:02:48.348Z"
   },
   {
    "duration": 10,
    "start_time": "2023-01-06T09:02:48.358Z"
   },
   {
    "duration": 5,
    "start_time": "2023-01-06T09:02:48.370Z"
   },
   {
    "duration": 12,
    "start_time": "2023-01-06T09:02:48.377Z"
   },
   {
    "duration": 31,
    "start_time": "2023-01-06T09:02:48.390Z"
   },
   {
    "duration": 6,
    "start_time": "2023-01-06T09:02:48.423Z"
   },
   {
    "duration": 9,
    "start_time": "2023-01-06T09:02:48.430Z"
   },
   {
    "duration": 12,
    "start_time": "2023-01-06T09:02:48.440Z"
   },
   {
    "duration": 10,
    "start_time": "2023-01-06T09:02:48.454Z"
   },
   {
    "duration": 5,
    "start_time": "2023-01-06T09:02:48.465Z"
   },
   {
    "duration": 21,
    "start_time": "2023-01-06T09:02:48.471Z"
   },
   {
    "duration": 32,
    "start_time": "2023-01-06T09:02:48.493Z"
   },
   {
    "duration": 570,
    "start_time": "2023-01-06T09:02:48.527Z"
   },
   {
    "duration": 23,
    "start_time": "2023-01-06T09:02:49.099Z"
   },
   {
    "duration": 20,
    "start_time": "2023-01-06T09:02:49.124Z"
   },
   {
    "duration": 575,
    "start_time": "2023-01-06T09:02:49.145Z"
   },
   {
    "duration": 15,
    "start_time": "2023-01-06T09:02:49.722Z"
   },
   {
    "duration": 15,
    "start_time": "2023-01-06T09:02:49.738Z"
   },
   {
    "duration": 632,
    "start_time": "2023-01-06T09:02:49.754Z"
   },
   {
    "duration": 11,
    "start_time": "2023-01-06T09:02:50.388Z"
   },
   {
    "duration": 20,
    "start_time": "2023-01-06T09:02:50.401Z"
   },
   {
    "duration": 5,
    "start_time": "2023-01-06T09:02:50.423Z"
   },
   {
    "duration": 24,
    "start_time": "2023-01-06T09:02:50.429Z"
   },
   {
    "duration": 2,
    "start_time": "2023-01-06T09:02:50.455Z"
   },
   {
    "duration": 19,
    "start_time": "2023-01-06T09:02:50.458Z"
   },
   {
    "duration": 15,
    "start_time": "2023-01-06T09:02:50.479Z"
   },
   {
    "duration": 36,
    "start_time": "2023-01-06T09:02:50.496Z"
   },
   {
    "duration": 22,
    "start_time": "2023-01-06T09:02:50.534Z"
   },
   {
    "duration": 421,
    "start_time": "2023-01-06T09:02:50.559Z"
   },
   {
    "duration": 10,
    "start_time": "2023-01-06T09:02:50.982Z"
   },
   {
    "duration": 29,
    "start_time": "2023-01-06T09:02:50.994Z"
   },
   {
    "duration": 11,
    "start_time": "2023-01-06T09:02:51.025Z"
   },
   {
    "duration": 16,
    "start_time": "2023-01-06T09:02:51.037Z"
   },
   {
    "duration": 10,
    "start_time": "2023-01-06T09:02:51.054Z"
   },
   {
    "duration": 77,
    "start_time": "2023-01-06T09:02:51.065Z"
   },
   {
    "duration": 7,
    "start_time": "2023-01-06T09:02:51.143Z"
   },
   {
    "duration": 10,
    "start_time": "2023-01-06T09:07:12.373Z"
   },
   {
    "duration": 139,
    "start_time": "2023-01-06T09:08:09.028Z"
   },
   {
    "duration": 24,
    "start_time": "2023-01-06T09:08:17.321Z"
   },
   {
    "duration": 19,
    "start_time": "2023-01-06T09:11:43.231Z"
   },
   {
    "duration": 734,
    "start_time": "2023-01-06T09:12:28.066Z"
   },
   {
    "duration": 29,
    "start_time": "2023-01-06T09:12:40.660Z"
   },
   {
    "duration": 19,
    "start_time": "2023-01-06T09:12:44.580Z"
   },
   {
    "duration": 27,
    "start_time": "2023-01-06T09:12:49.548Z"
   },
   {
    "duration": 4,
    "start_time": "2023-01-06T09:15:25.744Z"
   },
   {
    "duration": 8,
    "start_time": "2023-01-06T09:15:30.317Z"
   },
   {
    "duration": 10,
    "start_time": "2023-01-06T09:16:25.735Z"
   },
   {
    "duration": 13,
    "start_time": "2023-01-06T09:17:10.942Z"
   },
   {
    "duration": 12,
    "start_time": "2023-01-06T09:21:42.044Z"
   },
   {
    "duration": 14,
    "start_time": "2023-01-06T09:22:33.827Z"
   },
   {
    "duration": 5,
    "start_time": "2023-01-06T09:25:01.278Z"
   },
   {
    "duration": 24,
    "start_time": "2023-01-06T09:25:27.861Z"
   },
   {
    "duration": 5,
    "start_time": "2023-01-06T09:25:33.167Z"
   },
   {
    "duration": 22,
    "start_time": "2023-01-06T09:25:35.252Z"
   },
   {
    "duration": 25,
    "start_time": "2023-01-06T09:25:41.465Z"
   },
   {
    "duration": 6,
    "start_time": "2023-01-06T09:26:15.582Z"
   },
   {
    "duration": 23,
    "start_time": "2023-01-06T09:26:19.686Z"
   },
   {
    "duration": 5,
    "start_time": "2023-01-06T09:26:37.487Z"
   },
   {
    "duration": 29,
    "start_time": "2023-01-06T09:26:38.818Z"
   },
   {
    "duration": 4,
    "start_time": "2023-01-06T09:26:49.194Z"
   },
   {
    "duration": 24,
    "start_time": "2023-01-06T09:26:50.894Z"
   },
   {
    "duration": 5,
    "start_time": "2023-01-06T09:27:12.633Z"
   },
   {
    "duration": 23,
    "start_time": "2023-01-06T09:27:14.869Z"
   },
   {
    "duration": 4,
    "start_time": "2023-01-06T09:27:50.613Z"
   },
   {
    "duration": 23,
    "start_time": "2023-01-06T09:27:52.688Z"
   },
   {
    "duration": 5,
    "start_time": "2023-01-06T09:28:10.499Z"
   },
   {
    "duration": 5,
    "start_time": "2023-01-06T09:28:46.898Z"
   },
   {
    "duration": 4,
    "start_time": "2023-01-06T09:29:37.206Z"
   },
   {
    "duration": 23,
    "start_time": "2023-01-06T09:29:39.142Z"
   },
   {
    "duration": 15,
    "start_time": "2023-01-06T09:34:32.745Z"
   },
   {
    "duration": 10,
    "start_time": "2023-01-06T09:34:52.087Z"
   },
   {
    "duration": 7,
    "start_time": "2023-01-06T09:47:12.940Z"
   },
   {
    "duration": 6,
    "start_time": "2023-01-06T09:47:15.519Z"
   },
   {
    "duration": 18,
    "start_time": "2023-01-06T10:25:57.993Z"
   },
   {
    "duration": 24,
    "start_time": "2023-01-06T10:26:05.236Z"
   },
   {
    "duration": 7,
    "start_time": "2023-01-06T10:26:53.451Z"
   },
   {
    "duration": 10,
    "start_time": "2023-01-06T10:27:28.621Z"
   },
   {
    "duration": 6,
    "start_time": "2023-01-06T10:27:33.765Z"
   },
   {
    "duration": 10,
    "start_time": "2023-01-06T10:27:36.031Z"
   },
   {
    "duration": 13,
    "start_time": "2023-01-06T10:27:44.312Z"
   },
   {
    "duration": 6,
    "start_time": "2023-01-06T10:27:50.626Z"
   },
   {
    "duration": 5,
    "start_time": "2023-01-06T10:28:00.037Z"
   },
   {
    "duration": 7,
    "start_time": "2023-01-06T10:29:39.350Z"
   },
   {
    "duration": 777,
    "start_time": "2023-01-06T10:29:42.574Z"
   },
   {
    "duration": 6,
    "start_time": "2023-01-06T10:31:08.771Z"
   },
   {
    "duration": 30,
    "start_time": "2023-01-06T10:31:12.443Z"
   },
   {
    "duration": 7,
    "start_time": "2023-01-06T10:32:23.737Z"
   },
   {
    "duration": 786,
    "start_time": "2023-01-06T10:32:28.346Z"
   },
   {
    "duration": 6,
    "start_time": "2023-01-06T10:33:47.404Z"
   },
   {
    "duration": 815,
    "start_time": "2023-01-06T10:33:50.373Z"
   },
   {
    "duration": 6,
    "start_time": "2023-01-06T10:43:08.862Z"
   },
   {
    "duration": 788,
    "start_time": "2023-01-06T10:43:14.546Z"
   },
   {
    "duration": 1156,
    "start_time": "2023-01-06T10:43:36.844Z"
   },
   {
    "duration": 3,
    "start_time": "2023-01-06T10:43:38.002Z"
   },
   {
    "duration": 39,
    "start_time": "2023-01-06T10:43:38.007Z"
   },
   {
    "duration": 60,
    "start_time": "2023-01-06T10:43:38.047Z"
   },
   {
    "duration": 433,
    "start_time": "2023-01-06T10:43:38.108Z"
   },
   {
    "duration": 29,
    "start_time": "2023-01-06T10:43:38.542Z"
   },
   {
    "duration": 4,
    "start_time": "2023-01-06T10:43:38.573Z"
   },
   {
    "duration": 28,
    "start_time": "2023-01-06T10:43:38.579Z"
   },
   {
    "duration": 4,
    "start_time": "2023-01-06T10:43:38.609Z"
   },
   {
    "duration": 13,
    "start_time": "2023-01-06T10:43:38.622Z"
   },
   {
    "duration": 52,
    "start_time": "2023-01-06T10:43:38.636Z"
   },
   {
    "duration": 12,
    "start_time": "2023-01-06T10:43:38.690Z"
   },
   {
    "duration": 5,
    "start_time": "2023-01-06T10:43:38.703Z"
   },
   {
    "duration": 327,
    "start_time": "2023-01-06T10:43:38.709Z"
   },
   {
    "duration": 6,
    "start_time": "2023-01-06T10:43:39.038Z"
   },
   {
    "duration": 107,
    "start_time": "2023-01-06T10:43:39.045Z"
   },
   {
    "duration": 4,
    "start_time": "2023-01-06T10:43:39.154Z"
   },
   {
    "duration": 23,
    "start_time": "2023-01-06T10:43:39.159Z"
   },
   {
    "duration": 6,
    "start_time": "2023-01-06T10:43:39.183Z"
   },
   {
    "duration": 6,
    "start_time": "2023-01-06T10:43:39.190Z"
   },
   {
    "duration": 25,
    "start_time": "2023-01-06T10:43:39.197Z"
   },
   {
    "duration": 18,
    "start_time": "2023-01-06T10:43:39.224Z"
   },
   {
    "duration": 4,
    "start_time": "2023-01-06T10:43:39.243Z"
   },
   {
    "duration": 6,
    "start_time": "2023-01-06T10:43:39.249Z"
   },
   {
    "duration": 42,
    "start_time": "2023-01-06T10:43:39.256Z"
   },
   {
    "duration": 24,
    "start_time": "2023-01-06T10:43:39.299Z"
   },
   {
    "duration": 6,
    "start_time": "2023-01-06T10:43:39.324Z"
   },
   {
    "duration": 3,
    "start_time": "2023-01-06T10:43:39.334Z"
   },
   {
    "duration": 14,
    "start_time": "2023-01-06T10:43:39.339Z"
   },
   {
    "duration": 12,
    "start_time": "2023-01-06T10:43:39.354Z"
   },
   {
    "duration": 3042,
    "start_time": "2023-01-06T10:43:39.367Z"
   },
   {
    "duration": 12,
    "start_time": "2023-01-06T10:43:42.410Z"
   },
   {
    "duration": 4,
    "start_time": "2023-01-06T10:43:42.423Z"
   },
   {
    "duration": 9,
    "start_time": "2023-01-06T10:43:42.428Z"
   },
   {
    "duration": 5,
    "start_time": "2023-01-06T10:43:42.439Z"
   },
   {
    "duration": 5,
    "start_time": "2023-01-06T10:43:42.445Z"
   },
   {
    "duration": 12,
    "start_time": "2023-01-06T10:43:42.452Z"
   },
   {
    "duration": 6,
    "start_time": "2023-01-06T10:43:42.465Z"
   },
   {
    "duration": 11,
    "start_time": "2023-01-06T10:43:42.472Z"
   },
   {
    "duration": 6,
    "start_time": "2023-01-06T10:43:42.485Z"
   },
   {
    "duration": 12,
    "start_time": "2023-01-06T10:43:42.493Z"
   },
   {
    "duration": 23,
    "start_time": "2023-01-06T10:43:42.506Z"
   },
   {
    "duration": 5,
    "start_time": "2023-01-06T10:43:42.530Z"
   },
   {
    "duration": 18,
    "start_time": "2023-01-06T10:43:42.537Z"
   },
   {
    "duration": 13,
    "start_time": "2023-01-06T10:43:42.557Z"
   },
   {
    "duration": 22,
    "start_time": "2023-01-06T10:43:42.571Z"
   },
   {
    "duration": 12,
    "start_time": "2023-01-06T10:43:42.594Z"
   },
   {
    "duration": 11,
    "start_time": "2023-01-06T10:43:42.607Z"
   },
   {
    "duration": 11,
    "start_time": "2023-01-06T10:43:42.619Z"
   },
   {
    "duration": 4,
    "start_time": "2023-01-06T10:43:42.631Z"
   },
   {
    "duration": 14,
    "start_time": "2023-01-06T10:43:42.636Z"
   },
   {
    "duration": 15,
    "start_time": "2023-01-06T10:43:42.652Z"
   },
   {
    "duration": 613,
    "start_time": "2023-01-06T10:43:42.668Z"
   },
   {
    "duration": 14,
    "start_time": "2023-01-06T10:43:43.283Z"
   },
   {
    "duration": 31,
    "start_time": "2023-01-06T10:43:43.298Z"
   },
   {
    "duration": 554,
    "start_time": "2023-01-06T10:43:43.331Z"
   },
   {
    "duration": 15,
    "start_time": "2023-01-06T10:43:43.887Z"
   },
   {
    "duration": 34,
    "start_time": "2023-01-06T10:43:43.903Z"
   },
   {
    "duration": 555,
    "start_time": "2023-01-06T10:43:43.939Z"
   },
   {
    "duration": 11,
    "start_time": "2023-01-06T10:43:44.496Z"
   },
   {
    "duration": 23,
    "start_time": "2023-01-06T10:43:44.509Z"
   },
   {
    "duration": 42,
    "start_time": "2023-01-06T10:43:44.534Z"
   },
   {
    "duration": 42,
    "start_time": "2023-01-06T10:43:44.578Z"
   },
   {
    "duration": 2,
    "start_time": "2023-01-06T10:43:44.621Z"
   },
   {
    "duration": 43,
    "start_time": "2023-01-06T10:43:44.625Z"
   },
   {
    "duration": 44,
    "start_time": "2023-01-06T10:43:44.669Z"
   },
   {
    "duration": 95,
    "start_time": "2023-01-06T10:43:44.715Z"
   },
   {
    "duration": 0,
    "start_time": "2023-01-06T10:43:44.811Z"
   },
   {
    "duration": 0,
    "start_time": "2023-01-06T10:43:44.812Z"
   },
   {
    "duration": 0,
    "start_time": "2023-01-06T10:43:44.813Z"
   },
   {
    "duration": 0,
    "start_time": "2023-01-06T10:43:44.814Z"
   },
   {
    "duration": 0,
    "start_time": "2023-01-06T10:43:44.815Z"
   },
   {
    "duration": 0,
    "start_time": "2023-01-06T10:43:44.821Z"
   },
   {
    "duration": 0,
    "start_time": "2023-01-06T10:43:44.822Z"
   },
   {
    "duration": 0,
    "start_time": "2023-01-06T10:43:44.824Z"
   },
   {
    "duration": 0,
    "start_time": "2023-01-06T10:43:44.825Z"
   },
   {
    "duration": 1200,
    "start_time": "2023-01-06T10:45:09.674Z"
   },
   {
    "duration": 3,
    "start_time": "2023-01-06T10:45:10.877Z"
   },
   {
    "duration": 40,
    "start_time": "2023-01-06T10:45:10.882Z"
   },
   {
    "duration": 117,
    "start_time": "2023-01-06T10:45:10.925Z"
   },
   {
    "duration": 474,
    "start_time": "2023-01-06T10:45:11.044Z"
   },
   {
    "duration": 25,
    "start_time": "2023-01-06T10:45:11.520Z"
   },
   {
    "duration": 4,
    "start_time": "2023-01-06T10:45:11.547Z"
   },
   {
    "duration": 24,
    "start_time": "2023-01-06T10:45:11.553Z"
   },
   {
    "duration": 5,
    "start_time": "2023-01-06T10:45:11.578Z"
   },
   {
    "duration": 10,
    "start_time": "2023-01-06T10:45:11.585Z"
   },
   {
    "duration": 72,
    "start_time": "2023-01-06T10:45:11.596Z"
   },
   {
    "duration": 11,
    "start_time": "2023-01-06T10:45:11.670Z"
   },
   {
    "duration": 5,
    "start_time": "2023-01-06T10:45:11.682Z"
   },
   {
    "duration": 349,
    "start_time": "2023-01-06T10:45:11.688Z"
   },
   {
    "duration": 6,
    "start_time": "2023-01-06T10:45:12.039Z"
   },
   {
    "duration": 110,
    "start_time": "2023-01-06T10:45:12.046Z"
   },
   {
    "duration": 4,
    "start_time": "2023-01-06T10:45:12.158Z"
   },
   {
    "duration": 22,
    "start_time": "2023-01-06T10:45:12.164Z"
   },
   {
    "duration": 6,
    "start_time": "2023-01-06T10:45:12.188Z"
   },
   {
    "duration": 25,
    "start_time": "2023-01-06T10:45:12.196Z"
   },
   {
    "duration": 5,
    "start_time": "2023-01-06T10:45:12.222Z"
   },
   {
    "duration": 14,
    "start_time": "2023-01-06T10:45:12.228Z"
   },
   {
    "duration": 4,
    "start_time": "2023-01-06T10:45:12.244Z"
   },
   {
    "duration": 7,
    "start_time": "2023-01-06T10:45:12.250Z"
   },
   {
    "duration": 70,
    "start_time": "2023-01-06T10:45:12.259Z"
   },
   {
    "duration": 5,
    "start_time": "2023-01-06T10:45:12.331Z"
   },
   {
    "duration": 18,
    "start_time": "2023-01-06T10:45:12.337Z"
   },
   {
    "duration": 12,
    "start_time": "2023-01-06T10:45:12.359Z"
   },
   {
    "duration": 13,
    "start_time": "2023-01-06T10:45:12.373Z"
   },
   {
    "duration": 13,
    "start_time": "2023-01-06T10:45:12.387Z"
   },
   {
    "duration": 3174,
    "start_time": "2023-01-06T10:45:12.401Z"
   },
   {
    "duration": 6,
    "start_time": "2023-01-06T10:45:15.576Z"
   },
   {
    "duration": 5,
    "start_time": "2023-01-06T10:45:15.584Z"
   },
   {
    "duration": 7,
    "start_time": "2023-01-06T10:45:15.590Z"
   },
   {
    "duration": 12,
    "start_time": "2023-01-06T10:45:15.599Z"
   },
   {
    "duration": 4,
    "start_time": "2023-01-06T10:45:15.621Z"
   },
   {
    "duration": 10,
    "start_time": "2023-01-06T10:45:15.627Z"
   },
   {
    "duration": 11,
    "start_time": "2023-01-06T10:45:15.639Z"
   },
   {
    "duration": 8,
    "start_time": "2023-01-06T10:45:15.652Z"
   },
   {
    "duration": 8,
    "start_time": "2023-01-06T10:45:15.661Z"
   },
   {
    "duration": 14,
    "start_time": "2023-01-06T10:45:15.671Z"
   },
   {
    "duration": 11,
    "start_time": "2023-01-06T10:45:15.686Z"
   },
   {
    "duration": 5,
    "start_time": "2023-01-06T10:45:15.699Z"
   },
   {
    "duration": 34,
    "start_time": "2023-01-06T10:45:15.705Z"
   },
   {
    "duration": 6,
    "start_time": "2023-01-06T10:45:15.741Z"
   },
   {
    "duration": 8,
    "start_time": "2023-01-06T10:45:15.749Z"
   },
   {
    "duration": 9,
    "start_time": "2023-01-06T10:45:15.758Z"
   },
   {
    "duration": 22,
    "start_time": "2023-01-06T10:45:15.768Z"
   },
   {
    "duration": 10,
    "start_time": "2023-01-06T10:45:15.791Z"
   },
   {
    "duration": 4,
    "start_time": "2023-01-06T10:45:15.803Z"
   },
   {
    "duration": 20,
    "start_time": "2023-01-06T10:45:15.809Z"
   },
   {
    "duration": 14,
    "start_time": "2023-01-06T10:45:15.830Z"
   },
   {
    "duration": 564,
    "start_time": "2023-01-06T10:45:15.845Z"
   },
   {
    "duration": 16,
    "start_time": "2023-01-06T10:45:16.410Z"
   },
   {
    "duration": 17,
    "start_time": "2023-01-06T10:45:16.428Z"
   },
   {
    "duration": 565,
    "start_time": "2023-01-06T10:45:16.447Z"
   },
   {
    "duration": 18,
    "start_time": "2023-01-06T10:45:17.014Z"
   },
   {
    "duration": 16,
    "start_time": "2023-01-06T10:45:17.034Z"
   },
   {
    "duration": 590,
    "start_time": "2023-01-06T10:45:17.052Z"
   },
   {
    "duration": 12,
    "start_time": "2023-01-06T10:45:17.644Z"
   },
   {
    "duration": 23,
    "start_time": "2023-01-06T10:45:17.658Z"
   },
   {
    "duration": 6,
    "start_time": "2023-01-06T10:45:17.683Z"
   },
   {
    "duration": 31,
    "start_time": "2023-01-06T10:45:17.691Z"
   },
   {
    "duration": 2,
    "start_time": "2023-01-06T10:45:17.724Z"
   },
   {
    "duration": 22,
    "start_time": "2023-01-06T10:45:17.727Z"
   },
   {
    "duration": 18,
    "start_time": "2023-01-06T10:45:17.750Z"
   },
   {
    "duration": 17,
    "start_time": "2023-01-06T10:45:17.769Z"
   },
   {
    "duration": 42,
    "start_time": "2023-01-06T10:45:17.788Z"
   },
   {
    "duration": 425,
    "start_time": "2023-01-06T10:45:17.831Z"
   },
   {
    "duration": 10,
    "start_time": "2023-01-06T10:45:18.258Z"
   },
   {
    "duration": 11,
    "start_time": "2023-01-06T10:45:18.269Z"
   },
   {
    "duration": 49,
    "start_time": "2023-01-06T10:45:18.282Z"
   },
   {
    "duration": 16,
    "start_time": "2023-01-06T10:45:18.332Z"
   },
   {
    "duration": 6,
    "start_time": "2023-01-06T10:45:18.349Z"
   },
   {
    "duration": 937,
    "start_time": "2023-01-06T10:45:18.357Z"
   },
   {
    "duration": 7,
    "start_time": "2023-01-06T10:46:00.929Z"
   },
   {
    "duration": 876,
    "start_time": "2023-01-06T10:46:04.456Z"
   },
   {
    "duration": 6,
    "start_time": "2023-01-06T10:46:56.553Z"
   },
   {
    "duration": 44,
    "start_time": "2023-01-06T10:47:00.488Z"
   },
   {
    "duration": 8,
    "start_time": "2023-01-06T10:48:03.280Z"
   },
   {
    "duration": 54,
    "start_time": "2023-01-06T10:48:05.524Z"
   },
   {
    "duration": 9,
    "start_time": "2023-01-06T10:49:09.830Z"
   },
   {
    "duration": 50,
    "start_time": "2023-01-06T10:49:13.193Z"
   },
   {
    "duration": 7,
    "start_time": "2023-01-06T10:49:27.704Z"
   },
   {
    "duration": 53,
    "start_time": "2023-01-06T10:49:30.037Z"
   },
   {
    "duration": 8,
    "start_time": "2023-01-06T10:49:43.068Z"
   },
   {
    "duration": 66,
    "start_time": "2023-01-06T10:49:45.330Z"
   },
   {
    "duration": 8,
    "start_time": "2023-01-06T10:50:04.453Z"
   },
   {
    "duration": 57,
    "start_time": "2023-01-06T10:50:06.534Z"
   },
   {
    "duration": 7,
    "start_time": "2023-01-06T10:51:05.619Z"
   },
   {
    "duration": 56,
    "start_time": "2023-01-06T10:51:08.039Z"
   },
   {
    "duration": 8,
    "start_time": "2023-01-06T10:51:42.223Z"
   },
   {
    "duration": 57,
    "start_time": "2023-01-06T10:51:45.999Z"
   },
   {
    "duration": 17,
    "start_time": "2023-01-06T10:53:01.054Z"
   },
   {
    "duration": 2,
    "start_time": "2023-01-06T10:53:07.904Z"
   },
   {
    "duration": 11,
    "start_time": "2023-01-06T10:53:17.092Z"
   },
   {
    "duration": 58,
    "start_time": "2023-01-06T10:53:19.305Z"
   },
   {
    "duration": 10,
    "start_time": "2023-01-06T10:53:34.841Z"
   },
   {
    "duration": 62,
    "start_time": "2023-01-06T10:53:36.797Z"
   },
   {
    "duration": 7,
    "start_time": "2023-01-06T10:53:53.506Z"
   },
   {
    "duration": 56,
    "start_time": "2023-01-06T10:53:55.622Z"
   },
   {
    "duration": 7,
    "start_time": "2023-01-06T10:54:21.686Z"
   },
   {
    "duration": 47,
    "start_time": "2023-01-06T10:54:24.358Z"
   },
   {
    "duration": 6,
    "start_time": "2023-01-06T10:55:12.130Z"
   },
   {
    "duration": 45,
    "start_time": "2023-01-06T10:55:13.982Z"
   },
   {
    "duration": 7,
    "start_time": "2023-01-06T10:55:28.328Z"
   },
   {
    "duration": 45,
    "start_time": "2023-01-06T10:55:31.631Z"
   },
   {
    "duration": 6,
    "start_time": "2023-01-06T10:55:40.649Z"
   },
   {
    "duration": 48,
    "start_time": "2023-01-06T10:55:41.692Z"
   },
   {
    "duration": 7,
    "start_time": "2023-01-06T10:55:50.251Z"
   },
   {
    "duration": 49,
    "start_time": "2023-01-06T10:55:51.581Z"
   },
   {
    "duration": 7,
    "start_time": "2023-01-06T10:55:59.842Z"
   },
   {
    "duration": 49,
    "start_time": "2023-01-06T10:56:00.972Z"
   },
   {
    "duration": 52,
    "start_time": "2023-01-06T10:56:05.742Z"
   },
   {
    "duration": 48,
    "start_time": "2023-01-06T10:56:07.020Z"
   },
   {
    "duration": 7,
    "start_time": "2023-01-06T10:56:29.250Z"
   },
   {
    "duration": 54,
    "start_time": "2023-01-06T10:56:31.295Z"
   },
   {
    "duration": 8,
    "start_time": "2023-01-06T10:56:37.992Z"
   },
   {
    "duration": 47,
    "start_time": "2023-01-06T10:56:39.898Z"
   },
   {
    "duration": 42,
    "start_time": "2023-01-06T10:56:49.576Z"
   },
   {
    "duration": 8,
    "start_time": "2023-01-06T10:57:27.414Z"
   },
   {
    "duration": 49,
    "start_time": "2023-01-06T10:57:29.500Z"
   },
   {
    "duration": 6,
    "start_time": "2023-01-06T10:57:37.720Z"
   },
   {
    "duration": 45,
    "start_time": "2023-01-06T10:57:39.428Z"
   },
   {
    "duration": 8,
    "start_time": "2023-01-06T11:00:00.920Z"
   },
   {
    "duration": 50,
    "start_time": "2023-01-06T11:00:02.852Z"
   },
   {
    "duration": 7,
    "start_time": "2023-01-06T11:00:33.982Z"
   },
   {
    "duration": 48,
    "start_time": "2023-01-06T11:00:36.179Z"
   },
   {
    "duration": 11,
    "start_time": "2023-01-06T11:02:09.264Z"
   },
   {
    "duration": 48,
    "start_time": "2023-01-06T11:03:29.750Z"
   },
   {
    "duration": 49,
    "start_time": "2023-01-06T11:03:43.846Z"
   },
   {
    "duration": 57,
    "start_time": "2023-01-06T11:03:48.508Z"
   },
   {
    "duration": 55,
    "start_time": "2023-01-06T11:03:51.546Z"
   },
   {
    "duration": 49,
    "start_time": "2023-01-06T11:03:55.948Z"
   },
   {
    "duration": 73,
    "start_time": "2023-01-06T11:03:58.802Z"
   },
   {
    "duration": 58,
    "start_time": "2023-01-06T11:04:03.192Z"
   },
   {
    "duration": 28,
    "start_time": "2023-01-06T11:13:04.131Z"
   },
   {
    "duration": 1187,
    "start_time": "2023-01-06T11:13:11.967Z"
   },
   {
    "duration": 26,
    "start_time": "2023-01-06T11:13:13.156Z"
   },
   {
    "duration": 62,
    "start_time": "2023-01-06T11:13:13.184Z"
   },
   {
    "duration": 445,
    "start_time": "2023-01-06T11:13:13.247Z"
   },
   {
    "duration": 26,
    "start_time": "2023-01-06T11:13:13.694Z"
   },
   {
    "duration": 3,
    "start_time": "2023-01-06T11:13:13.722Z"
   },
   {
    "duration": 40,
    "start_time": "2023-01-06T11:13:13.727Z"
   },
   {
    "duration": 12,
    "start_time": "2023-01-06T11:13:13.769Z"
   },
   {
    "duration": 44,
    "start_time": "2023-01-06T11:13:13.782Z"
   },
   {
    "duration": 73,
    "start_time": "2023-01-06T11:13:13.828Z"
   },
   {
    "duration": 13,
    "start_time": "2023-01-06T11:13:13.903Z"
   },
   {
    "duration": 23,
    "start_time": "2023-01-06T11:13:13.917Z"
   },
   {
    "duration": 367,
    "start_time": "2023-01-06T11:13:13.942Z"
   },
   {
    "duration": 13,
    "start_time": "2023-01-06T11:13:14.311Z"
   },
   {
    "duration": 119,
    "start_time": "2023-01-06T11:13:14.325Z"
   },
   {
    "duration": 5,
    "start_time": "2023-01-06T11:13:14.446Z"
   },
   {
    "duration": 49,
    "start_time": "2023-01-06T11:13:14.453Z"
   },
   {
    "duration": 7,
    "start_time": "2023-01-06T11:13:14.503Z"
   },
   {
    "duration": 12,
    "start_time": "2023-01-06T11:13:14.512Z"
   },
   {
    "duration": 32,
    "start_time": "2023-01-06T11:13:14.525Z"
   },
   {
    "duration": 41,
    "start_time": "2023-01-06T11:13:14.559Z"
   },
   {
    "duration": 8,
    "start_time": "2023-01-06T11:13:14.601Z"
   },
   {
    "duration": 29,
    "start_time": "2023-01-06T11:13:14.611Z"
   },
   {
    "duration": 65,
    "start_time": "2023-01-06T11:13:14.641Z"
   },
   {
    "duration": 4,
    "start_time": "2023-01-06T11:13:14.707Z"
   },
   {
    "duration": 28,
    "start_time": "2023-01-06T11:13:14.713Z"
   },
   {
    "duration": 28,
    "start_time": "2023-01-06T11:13:14.743Z"
   },
   {
    "duration": 19,
    "start_time": "2023-01-06T11:13:14.775Z"
   },
   {
    "duration": 15,
    "start_time": "2023-01-06T11:13:14.795Z"
   },
   {
    "duration": 3122,
    "start_time": "2023-01-06T11:13:14.812Z"
   },
   {
    "duration": 6,
    "start_time": "2023-01-06T11:13:17.936Z"
   },
   {
    "duration": 8,
    "start_time": "2023-01-06T11:13:17.944Z"
   },
   {
    "duration": 5,
    "start_time": "2023-01-06T11:13:17.953Z"
   },
   {
    "duration": 8,
    "start_time": "2023-01-06T11:13:17.959Z"
   },
   {
    "duration": 6,
    "start_time": "2023-01-06T11:13:17.968Z"
   },
   {
    "duration": 20,
    "start_time": "2023-01-06T11:13:17.975Z"
   },
   {
    "duration": 12,
    "start_time": "2023-01-06T11:13:17.996Z"
   },
   {
    "duration": 12,
    "start_time": "2023-01-06T11:13:18.009Z"
   },
   {
    "duration": 11,
    "start_time": "2023-01-06T11:13:18.022Z"
   },
   {
    "duration": 15,
    "start_time": "2023-01-06T11:13:18.034Z"
   },
   {
    "duration": 19,
    "start_time": "2023-01-06T11:13:18.051Z"
   },
   {
    "duration": 9,
    "start_time": "2023-01-06T11:13:18.072Z"
   },
   {
    "duration": 18,
    "start_time": "2023-01-06T11:13:18.082Z"
   },
   {
    "duration": 9,
    "start_time": "2023-01-06T11:13:18.102Z"
   },
   {
    "duration": 18,
    "start_time": "2023-01-06T11:13:18.112Z"
   },
   {
    "duration": 13,
    "start_time": "2023-01-06T11:13:18.132Z"
   },
   {
    "duration": 13,
    "start_time": "2023-01-06T11:13:18.147Z"
   },
   {
    "duration": 16,
    "start_time": "2023-01-06T11:13:18.162Z"
   },
   {
    "duration": 15,
    "start_time": "2023-01-06T11:13:18.179Z"
   },
   {
    "duration": 23,
    "start_time": "2023-01-06T11:13:18.195Z"
   },
   {
    "duration": 15,
    "start_time": "2023-01-06T11:13:18.221Z"
   },
   {
    "duration": 590,
    "start_time": "2023-01-06T11:13:18.238Z"
   },
   {
    "duration": 19,
    "start_time": "2023-01-06T11:13:18.830Z"
   },
   {
    "duration": 23,
    "start_time": "2023-01-06T11:13:18.851Z"
   },
   {
    "duration": 634,
    "start_time": "2023-01-06T11:13:18.876Z"
   },
   {
    "duration": 21,
    "start_time": "2023-01-06T11:13:19.512Z"
   },
   {
    "duration": 16,
    "start_time": "2023-01-06T11:13:19.534Z"
   },
   {
    "duration": 582,
    "start_time": "2023-01-06T11:13:19.552Z"
   },
   {
    "duration": 12,
    "start_time": "2023-01-06T11:13:20.136Z"
   },
   {
    "duration": 19,
    "start_time": "2023-01-06T11:13:20.150Z"
   },
   {
    "duration": 15,
    "start_time": "2023-01-06T11:13:20.171Z"
   },
   {
    "duration": 29,
    "start_time": "2023-01-06T11:13:20.188Z"
   },
   {
    "duration": 2,
    "start_time": "2023-01-06T11:13:20.221Z"
   },
   {
    "duration": 22,
    "start_time": "2023-01-06T11:13:20.224Z"
   },
   {
    "duration": 18,
    "start_time": "2023-01-06T11:13:20.248Z"
   },
   {
    "duration": 27,
    "start_time": "2023-01-06T11:13:20.268Z"
   },
   {
    "duration": 133,
    "start_time": "2023-01-06T11:13:20.297Z"
   },
   {
    "duration": 0,
    "start_time": "2023-01-06T11:13:20.432Z"
   },
   {
    "duration": 0,
    "start_time": "2023-01-06T11:13:20.433Z"
   },
   {
    "duration": 0,
    "start_time": "2023-01-06T11:13:20.435Z"
   },
   {
    "duration": 0,
    "start_time": "2023-01-06T11:13:20.436Z"
   },
   {
    "duration": 0,
    "start_time": "2023-01-06T11:13:20.437Z"
   },
   {
    "duration": 0,
    "start_time": "2023-01-06T11:13:20.438Z"
   },
   {
    "duration": 0,
    "start_time": "2023-01-06T11:13:20.440Z"
   },
   {
    "duration": 0,
    "start_time": "2023-01-06T11:13:20.441Z"
   },
   {
    "duration": 387,
    "start_time": "2023-01-06T11:20:37.920Z"
   },
   {
    "duration": 38,
    "start_time": "2023-01-06T11:20:55.628Z"
   },
   {
    "duration": 39,
    "start_time": "2023-01-06T11:21:07.357Z"
   },
   {
    "duration": 9,
    "start_time": "2023-01-06T11:23:08.844Z"
   },
   {
    "duration": 10,
    "start_time": "2023-01-06T11:24:37.600Z"
   },
   {
    "duration": 11,
    "start_time": "2023-01-06T11:26:49.626Z"
   },
   {
    "duration": 7,
    "start_time": "2023-01-06T11:29:09.564Z"
   },
   {
    "duration": 15,
    "start_time": "2023-01-06T11:30:46.708Z"
   },
   {
    "duration": 551,
    "start_time": "2023-01-06T11:30:59.050Z"
   },
   {
    "duration": 15,
    "start_time": "2023-01-06T11:32:23.500Z"
   },
   {
    "duration": 18,
    "start_time": "2023-01-06T11:33:16.128Z"
   },
   {
    "duration": 15,
    "start_time": "2023-01-06T11:34:42.006Z"
   },
   {
    "duration": 30,
    "start_time": "2023-01-06T11:41:52.683Z"
   },
   {
    "duration": 7,
    "start_time": "2023-01-06T11:42:09.000Z"
   },
   {
    "duration": 56,
    "start_time": "2023-01-06T11:45:41.048Z"
   },
   {
    "duration": 13,
    "start_time": "2023-01-06T11:45:56.840Z"
   },
   {
    "duration": 12,
    "start_time": "2023-01-06T11:47:57.912Z"
   },
   {
    "duration": 11,
    "start_time": "2023-01-06T11:51:54.661Z"
   },
   {
    "duration": 15,
    "start_time": "2023-01-06T11:53:06.106Z"
   },
   {
    "duration": 16,
    "start_time": "2023-01-06T11:53:25.656Z"
   },
   {
    "duration": 14,
    "start_time": "2023-01-06T11:53:51.739Z"
   },
   {
    "duration": 52,
    "start_time": "2023-01-06T11:53:53.924Z"
   },
   {
    "duration": 27,
    "start_time": "2023-01-06T11:56:55.956Z"
   },
   {
    "duration": 13,
    "start_time": "2023-01-06T11:57:16.579Z"
   },
   {
    "duration": 18,
    "start_time": "2023-01-06T11:57:24.236Z"
   },
   {
    "duration": 10,
    "start_time": "2023-01-06T11:58:43.787Z"
   },
   {
    "duration": 8,
    "start_time": "2023-01-06T11:58:48.120Z"
   },
   {
    "duration": 47,
    "start_time": "2023-01-06T11:58:51.094Z"
   },
   {
    "duration": 47,
    "start_time": "2023-01-06T11:58:59.966Z"
   },
   {
    "duration": 15,
    "start_time": "2023-01-06T11:59:54.226Z"
   },
   {
    "duration": 374,
    "start_time": "2023-01-06T12:00:07.291Z"
   },
   {
    "duration": 47,
    "start_time": "2023-01-06T12:41:40.459Z"
   },
   {
    "duration": 49,
    "start_time": "2023-01-06T12:42:25.866Z"
   },
   {
    "duration": 49,
    "start_time": "2023-01-06T12:42:31.428Z"
   },
   {
    "duration": 76,
    "start_time": "2023-01-06T12:42:37.145Z"
   },
   {
    "duration": 164,
    "start_time": "2023-01-06T12:43:22.068Z"
   },
   {
    "duration": 47,
    "start_time": "2023-01-06T12:45:26.939Z"
   },
   {
    "duration": 18,
    "start_time": "2023-01-06T12:48:19.804Z"
   },
   {
    "duration": 23,
    "start_time": "2023-01-06T12:53:04.772Z"
   },
   {
    "duration": 506,
    "start_time": "2023-01-06T12:54:29.262Z"
   },
   {
    "duration": 483,
    "start_time": "2023-01-06T12:55:24.995Z"
   },
   {
    "duration": 500,
    "start_time": "2023-01-06T12:55:58.709Z"
   },
   {
    "duration": 520,
    "start_time": "2023-01-06T12:56:16.066Z"
   },
   {
    "duration": 310,
    "start_time": "2023-01-06T12:56:34.988Z"
   },
   {
    "duration": 532,
    "start_time": "2023-01-06T12:56:46.470Z"
   },
   {
    "duration": 503,
    "start_time": "2023-01-06T12:57:41.622Z"
   },
   {
    "duration": 518,
    "start_time": "2023-01-06T12:57:51.412Z"
   },
   {
    "duration": 525,
    "start_time": "2023-01-06T12:58:25.978Z"
   },
   {
    "duration": 42,
    "start_time": "2023-01-06T13:00:48.844Z"
   },
   {
    "duration": 17,
    "start_time": "2023-01-06T13:00:53.374Z"
   },
   {
    "duration": 23,
    "start_time": "2023-01-06T13:01:02.849Z"
   },
   {
    "duration": 67,
    "start_time": "2023-01-06T13:01:18.694Z"
   },
   {
    "duration": 56,
    "start_time": "2023-01-06T13:02:56.241Z"
   },
   {
    "duration": 29,
    "start_time": "2023-01-06T13:03:51.231Z"
   },
   {
    "duration": 75,
    "start_time": "2023-01-06T13:04:06.241Z"
   },
   {
    "duration": 200,
    "start_time": "2023-01-06T13:06:43.889Z"
   },
   {
    "duration": 52,
    "start_time": "2023-01-06T13:07:23.927Z"
   },
   {
    "duration": 314,
    "start_time": "2023-01-06T13:07:34.047Z"
   },
   {
    "duration": 208,
    "start_time": "2023-01-06T13:07:37.961Z"
   },
   {
    "duration": 251,
    "start_time": "2023-01-06T13:07:48.287Z"
   },
   {
    "duration": 200,
    "start_time": "2023-01-06T13:07:51.894Z"
   },
   {
    "duration": 191,
    "start_time": "2023-01-06T13:08:28.589Z"
   },
   {
    "duration": 52,
    "start_time": "2023-01-06T13:15:48.855Z"
   },
   {
    "duration": 55,
    "start_time": "2023-01-06T13:16:20.560Z"
   },
   {
    "duration": 54,
    "start_time": "2023-01-06T13:16:24.413Z"
   },
   {
    "duration": 51,
    "start_time": "2023-01-06T13:16:30.163Z"
   },
   {
    "duration": 9,
    "start_time": "2023-01-06T13:18:43.805Z"
   },
   {
    "duration": 385,
    "start_time": "2023-01-06T13:21:18.961Z"
   },
   {
    "duration": 48,
    "start_time": "2023-01-06T13:22:32.668Z"
   },
   {
    "duration": 66,
    "start_time": "2023-01-06T13:29:01.759Z"
   },
   {
    "duration": 46,
    "start_time": "2023-01-06T13:29:34.893Z"
   },
   {
    "duration": 50,
    "start_time": "2023-01-06T13:30:03.890Z"
   },
   {
    "duration": 49,
    "start_time": "2023-01-06T13:30:24.440Z"
   },
   {
    "duration": 51,
    "start_time": "2023-01-06T13:30:35.647Z"
   },
   {
    "duration": 733,
    "start_time": "2023-01-06T13:32:10.261Z"
   },
   {
    "duration": 794,
    "start_time": "2023-01-06T13:32:13.340Z"
   },
   {
    "duration": 24,
    "start_time": "2023-01-06T13:32:36.664Z"
   },
   {
    "duration": 25,
    "start_time": "2023-01-06T13:32:57.253Z"
   },
   {
    "duration": 25,
    "start_time": "2023-01-06T13:33:09.358Z"
   },
   {
    "duration": 21,
    "start_time": "2023-01-06T13:33:29.107Z"
   },
   {
    "duration": 49,
    "start_time": "2023-01-06T13:33:43.104Z"
   },
   {
    "duration": 67,
    "start_time": "2023-01-06T13:35:51.503Z"
   },
   {
    "duration": 48,
    "start_time": "2023-01-06T13:36:41.204Z"
   },
   {
    "duration": 12,
    "start_time": "2023-01-06T13:38:26.529Z"
   },
   {
    "duration": 6,
    "start_time": "2023-01-06T13:38:28.374Z"
   },
   {
    "duration": 37,
    "start_time": "2023-01-06T13:39:29.125Z"
   },
   {
    "duration": 19,
    "start_time": "2023-01-06T13:39:31.227Z"
   },
   {
    "duration": 24,
    "start_time": "2023-01-06T13:45:35.850Z"
   },
   {
    "duration": 26,
    "start_time": "2023-01-06T13:47:22.957Z"
   },
   {
    "duration": 20,
    "start_time": "2023-01-06T13:47:48.185Z"
   },
   {
    "duration": 23,
    "start_time": "2023-01-06T13:48:20.936Z"
   },
   {
    "duration": 31,
    "start_time": "2023-01-06T13:48:55.345Z"
   },
   {
    "duration": 41,
    "start_time": "2023-01-06T13:49:03.441Z"
   },
   {
    "duration": 1168,
    "start_time": "2023-01-06T13:49:47.482Z"
   },
   {
    "duration": 26,
    "start_time": "2023-01-06T13:49:48.652Z"
   },
   {
    "duration": 63,
    "start_time": "2023-01-06T13:49:48.679Z"
   },
   {
    "duration": 470,
    "start_time": "2023-01-06T13:49:48.744Z"
   },
   {
    "duration": 29,
    "start_time": "2023-01-06T13:49:49.217Z"
   },
   {
    "duration": 5,
    "start_time": "2023-01-06T13:49:49.248Z"
   },
   {
    "duration": 28,
    "start_time": "2023-01-06T13:49:49.254Z"
   },
   {
    "duration": 5,
    "start_time": "2023-01-06T13:49:49.284Z"
   },
   {
    "duration": 13,
    "start_time": "2023-01-06T13:49:49.292Z"
   },
   {
    "duration": 60,
    "start_time": "2023-01-06T13:49:49.307Z"
   },
   {
    "duration": 15,
    "start_time": "2023-01-06T13:49:49.368Z"
   },
   {
    "duration": 5,
    "start_time": "2023-01-06T13:49:49.385Z"
   },
   {
    "duration": 357,
    "start_time": "2023-01-06T13:49:49.392Z"
   },
   {
    "duration": 6,
    "start_time": "2023-01-06T13:49:49.750Z"
   },
   {
    "duration": 126,
    "start_time": "2023-01-06T13:49:49.758Z"
   },
   {
    "duration": 6,
    "start_time": "2023-01-06T13:49:49.886Z"
   },
   {
    "duration": 46,
    "start_time": "2023-01-06T13:49:49.894Z"
   },
   {
    "duration": 6,
    "start_time": "2023-01-06T13:49:49.941Z"
   },
   {
    "duration": 10,
    "start_time": "2023-01-06T13:49:49.948Z"
   },
   {
    "duration": 7,
    "start_time": "2023-01-06T13:49:49.960Z"
   },
   {
    "duration": 18,
    "start_time": "2023-01-06T13:49:49.968Z"
   },
   {
    "duration": 6,
    "start_time": "2023-01-06T13:49:49.988Z"
   },
   {
    "duration": 7,
    "start_time": "2023-01-06T13:49:49.996Z"
   },
   {
    "duration": 48,
    "start_time": "2023-01-06T13:49:50.021Z"
   },
   {
    "duration": 5,
    "start_time": "2023-01-06T13:49:50.070Z"
   },
   {
    "duration": 13,
    "start_time": "2023-01-06T13:49:50.077Z"
   },
   {
    "duration": 384,
    "start_time": "2023-01-06T13:49:50.092Z"
   },
   {
    "duration": 7,
    "start_time": "2023-01-06T13:49:50.480Z"
   },
   {
    "duration": 23,
    "start_time": "2023-01-06T13:49:50.488Z"
   },
   {
    "duration": 3103,
    "start_time": "2023-01-06T13:49:50.513Z"
   },
   {
    "duration": 6,
    "start_time": "2023-01-06T13:49:53.621Z"
   },
   {
    "duration": 22,
    "start_time": "2023-01-06T13:49:53.628Z"
   },
   {
    "duration": 11,
    "start_time": "2023-01-06T13:49:53.651Z"
   },
   {
    "duration": 12,
    "start_time": "2023-01-06T13:49:53.663Z"
   },
   {
    "duration": 10,
    "start_time": "2023-01-06T13:49:53.677Z"
   },
   {
    "duration": 14,
    "start_time": "2023-01-06T13:49:53.689Z"
   },
   {
    "duration": 5,
    "start_time": "2023-01-06T13:49:53.704Z"
   },
   {
    "duration": 17,
    "start_time": "2023-01-06T13:49:53.710Z"
   },
   {
    "duration": 6,
    "start_time": "2023-01-06T13:49:53.729Z"
   },
   {
    "duration": 10,
    "start_time": "2023-01-06T13:49:53.736Z"
   },
   {
    "duration": 9,
    "start_time": "2023-01-06T13:49:53.747Z"
   },
   {
    "duration": 21,
    "start_time": "2023-01-06T13:49:53.757Z"
   },
   {
    "duration": 14,
    "start_time": "2023-01-06T13:49:53.779Z"
   },
   {
    "duration": 8,
    "start_time": "2023-01-06T13:49:53.794Z"
   },
   {
    "duration": 31,
    "start_time": "2023-01-06T13:49:53.804Z"
   },
   {
    "duration": 55,
    "start_time": "2023-01-06T13:49:53.837Z"
   },
   {
    "duration": 31,
    "start_time": "2023-01-06T13:49:53.894Z"
   },
   {
    "duration": 14,
    "start_time": "2023-01-06T13:49:53.927Z"
   },
   {
    "duration": 493,
    "start_time": "2023-01-06T13:49:53.943Z"
   },
   {
    "duration": 286,
    "start_time": "2023-01-06T13:49:54.438Z"
   },
   {
    "duration": 11,
    "start_time": "2023-01-06T13:49:54.726Z"
   },
   {
    "duration": 12,
    "start_time": "2023-01-06T13:49:54.739Z"
   },
   {
    "duration": 7,
    "start_time": "2023-01-06T13:49:54.752Z"
   },
   {
    "duration": 28,
    "start_time": "2023-01-06T13:49:54.761Z"
   },
   {
    "duration": 5,
    "start_time": "2023-01-06T13:49:54.791Z"
   },
   {
    "duration": 35,
    "start_time": "2023-01-06T13:49:54.798Z"
   },
   {
    "duration": 47,
    "start_time": "2023-01-06T13:49:54.834Z"
   },
   {
    "duration": 8,
    "start_time": "2023-01-06T13:49:54.883Z"
   },
   {
    "duration": 420,
    "start_time": "2023-01-06T13:49:54.893Z"
   },
   {
    "duration": 24,
    "start_time": "2023-01-06T13:49:55.315Z"
   },
   {
    "duration": 30,
    "start_time": "2023-01-06T13:49:55.341Z"
   },
   {
    "duration": 24,
    "start_time": "2023-01-06T13:49:55.373Z"
   },
   {
    "duration": 76,
    "start_time": "2023-01-06T13:49:55.399Z"
   },
   {
    "duration": 23,
    "start_time": "2023-01-06T13:49:55.476Z"
   },
   {
    "duration": 67,
    "start_time": "2023-01-06T13:49:55.501Z"
   },
   {
    "duration": 31,
    "start_time": "2023-01-06T13:49:55.569Z"
   },
   {
    "duration": 27,
    "start_time": "2023-01-06T13:49:55.602Z"
   },
   {
    "duration": 7,
    "start_time": "2023-01-06T13:49:55.630Z"
   },
   {
    "duration": 26,
    "start_time": "2023-01-06T13:49:55.638Z"
   },
   {
    "duration": 17,
    "start_time": "2023-01-06T13:49:55.666Z"
   },
   {
    "duration": 8,
    "start_time": "2023-01-06T13:49:55.684Z"
   },
   {
    "duration": 47,
    "start_time": "2023-01-06T13:49:55.721Z"
   },
   {
    "duration": 42,
    "start_time": "2023-01-06T13:51:35.688Z"
   },
   {
    "duration": 36,
    "start_time": "2023-01-06T13:51:59.081Z"
   },
   {
    "duration": 10,
    "start_time": "2023-01-06T14:00:33.531Z"
   },
   {
    "duration": 5,
    "start_time": "2023-01-06T14:00:59.881Z"
   },
   {
    "duration": 25,
    "start_time": "2023-01-06T14:01:07.382Z"
   },
   {
    "duration": 4,
    "start_time": "2023-01-06T14:09:29.620Z"
   },
   {
    "duration": 4,
    "start_time": "2023-01-06T14:09:47.030Z"
   },
   {
    "duration": 3,
    "start_time": "2023-01-06T14:10:02.176Z"
   },
   {
    "duration": 7,
    "start_time": "2023-01-06T14:10:26.859Z"
   },
   {
    "duration": 142,
    "start_time": "2023-01-06T14:10:29.298Z"
   },
   {
    "duration": 46,
    "start_time": "2023-01-06T14:10:36.268Z"
   },
   {
    "duration": 47,
    "start_time": "2023-01-06T14:13:33.720Z"
   },
   {
    "duration": 85,
    "start_time": "2023-01-06T14:19:30.877Z"
   },
   {
    "duration": 37,
    "start_time": "2023-01-06T14:19:34.854Z"
   },
   {
    "duration": 52,
    "start_time": "2023-01-06T14:19:47.596Z"
   },
   {
    "duration": 33,
    "start_time": "2023-01-06T14:19:53.967Z"
   },
   {
    "duration": 35,
    "start_time": "2023-01-06T14:20:04.030Z"
   },
   {
    "duration": 35,
    "start_time": "2023-01-06T14:20:07.671Z"
   },
   {
    "duration": 28,
    "start_time": "2023-01-06T14:20:11.599Z"
   },
   {
    "duration": 35,
    "start_time": "2023-01-06T14:20:56.594Z"
   },
   {
    "duration": 748,
    "start_time": "2023-01-06T14:21:54.387Z"
   },
   {
    "duration": 767,
    "start_time": "2023-01-06T14:22:07.532Z"
   },
   {
    "duration": 267,
    "start_time": "2023-01-06T14:22:37.942Z"
   },
   {
    "duration": 30,
    "start_time": "2023-01-06T14:23:01.142Z"
   },
   {
    "duration": 31,
    "start_time": "2023-01-06T14:23:06.971Z"
   },
   {
    "duration": 50,
    "start_time": "2023-01-06T14:26:07.519Z"
   },
   {
    "duration": 33,
    "start_time": "2023-01-06T14:27:57.234Z"
   },
   {
    "duration": 30,
    "start_time": "2023-01-06T14:28:16.170Z"
   },
   {
    "duration": 31,
    "start_time": "2023-01-06T14:28:27.111Z"
   },
   {
    "duration": 4,
    "start_time": "2023-01-06T15:40:14.347Z"
   },
   {
    "duration": 11,
    "start_time": "2023-01-06T15:40:19.440Z"
   },
   {
    "duration": 11,
    "start_time": "2023-01-06T15:42:52.415Z"
   },
   {
    "duration": 1168,
    "start_time": "2023-01-06T15:42:58.433Z"
   },
   {
    "duration": 26,
    "start_time": "2023-01-06T15:42:59.603Z"
   },
   {
    "duration": 77,
    "start_time": "2023-01-06T15:42:59.634Z"
   },
   {
    "duration": 446,
    "start_time": "2023-01-06T15:42:59.713Z"
   },
   {
    "duration": 26,
    "start_time": "2023-01-06T15:43:00.160Z"
   },
   {
    "duration": 3,
    "start_time": "2023-01-06T15:43:00.188Z"
   },
   {
    "duration": 36,
    "start_time": "2023-01-06T15:43:00.193Z"
   },
   {
    "duration": 5,
    "start_time": "2023-01-06T15:43:00.231Z"
   },
   {
    "duration": 13,
    "start_time": "2023-01-06T15:43:00.238Z"
   },
   {
    "duration": 83,
    "start_time": "2023-01-06T15:43:00.252Z"
   },
   {
    "duration": 12,
    "start_time": "2023-01-06T15:43:00.336Z"
   },
   {
    "duration": 10,
    "start_time": "2023-01-06T15:43:00.350Z"
   },
   {
    "duration": 366,
    "start_time": "2023-01-06T15:43:00.361Z"
   },
   {
    "duration": 6,
    "start_time": "2023-01-06T15:43:00.729Z"
   },
   {
    "duration": 111,
    "start_time": "2023-01-06T15:43:00.736Z"
   },
   {
    "duration": 5,
    "start_time": "2023-01-06T15:43:00.848Z"
   },
   {
    "duration": 39,
    "start_time": "2023-01-06T15:43:00.855Z"
   },
   {
    "duration": 41,
    "start_time": "2023-01-06T15:43:00.896Z"
   },
   {
    "duration": 19,
    "start_time": "2023-01-06T15:43:00.938Z"
   },
   {
    "duration": 26,
    "start_time": "2023-01-06T15:43:00.959Z"
   },
   {
    "duration": 44,
    "start_time": "2023-01-06T15:43:00.987Z"
   },
   {
    "duration": 20,
    "start_time": "2023-01-06T15:43:01.032Z"
   },
   {
    "duration": 30,
    "start_time": "2023-01-06T15:43:01.053Z"
   },
   {
    "duration": 80,
    "start_time": "2023-01-06T15:43:01.085Z"
   },
   {
    "duration": 5,
    "start_time": "2023-01-06T15:43:01.166Z"
   },
   {
    "duration": 20,
    "start_time": "2023-01-06T15:43:01.172Z"
   },
   {
    "duration": 379,
    "start_time": "2023-01-06T15:43:01.196Z"
   },
   {
    "duration": 5,
    "start_time": "2023-01-06T15:43:01.577Z"
   },
   {
    "duration": 20,
    "start_time": "2023-01-06T15:43:01.584Z"
   },
   {
    "duration": 3259,
    "start_time": "2023-01-06T15:43:01.606Z"
   },
   {
    "duration": 6,
    "start_time": "2023-01-06T15:43:04.867Z"
   },
   {
    "duration": 4,
    "start_time": "2023-01-06T15:43:04.875Z"
   },
   {
    "duration": 7,
    "start_time": "2023-01-06T15:43:04.881Z"
   },
   {
    "duration": 32,
    "start_time": "2023-01-06T15:43:04.890Z"
   },
   {
    "duration": 14,
    "start_time": "2023-01-06T15:43:04.924Z"
   },
   {
    "duration": 15,
    "start_time": "2023-01-06T15:43:04.940Z"
   },
   {
    "duration": 7,
    "start_time": "2023-01-06T15:43:04.957Z"
   },
   {
    "duration": 25,
    "start_time": "2023-01-06T15:43:04.965Z"
   },
   {
    "duration": 8,
    "start_time": "2023-01-06T15:43:04.992Z"
   },
   {
    "duration": 25,
    "start_time": "2023-01-06T15:43:05.001Z"
   },
   {
    "duration": 18,
    "start_time": "2023-01-06T15:43:05.028Z"
   },
   {
    "duration": 12,
    "start_time": "2023-01-06T15:43:05.048Z"
   },
   {
    "duration": 19,
    "start_time": "2023-01-06T15:43:05.062Z"
   },
   {
    "duration": 22,
    "start_time": "2023-01-06T15:43:05.082Z"
   },
   {
    "duration": 22,
    "start_time": "2023-01-06T15:43:05.106Z"
   },
   {
    "duration": 58,
    "start_time": "2023-01-06T15:43:05.129Z"
   },
   {
    "duration": 36,
    "start_time": "2023-01-06T15:43:05.189Z"
   },
   {
    "duration": 25,
    "start_time": "2023-01-06T15:43:05.227Z"
   },
   {
    "duration": 567,
    "start_time": "2023-01-06T15:43:05.254Z"
   },
   {
    "duration": 283,
    "start_time": "2023-01-06T15:43:05.823Z"
   },
   {
    "duration": 23,
    "start_time": "2023-01-06T15:43:06.108Z"
   },
   {
    "duration": 15,
    "start_time": "2023-01-06T15:43:06.132Z"
   },
   {
    "duration": 6,
    "start_time": "2023-01-06T15:43:06.148Z"
   },
   {
    "duration": 24,
    "start_time": "2023-01-06T15:43:06.156Z"
   },
   {
    "duration": 5,
    "start_time": "2023-01-06T15:43:06.182Z"
   },
   {
    "duration": 53,
    "start_time": "2023-01-06T15:43:06.189Z"
   },
   {
    "duration": 48,
    "start_time": "2023-01-06T15:43:06.244Z"
   },
   {
    "duration": 11,
    "start_time": "2023-01-06T15:43:06.293Z"
   },
   {
    "duration": 395,
    "start_time": "2023-01-06T15:43:06.305Z"
   },
   {
    "duration": 27,
    "start_time": "2023-01-06T15:43:06.702Z"
   },
   {
    "duration": 17,
    "start_time": "2023-01-06T15:43:06.731Z"
   },
   {
    "duration": 19,
    "start_time": "2023-01-06T15:43:06.750Z"
   },
   {
    "duration": 68,
    "start_time": "2023-01-06T15:43:06.770Z"
   },
   {
    "duration": 23,
    "start_time": "2023-01-06T15:43:06.840Z"
   },
   {
    "duration": 72,
    "start_time": "2023-01-06T15:43:06.865Z"
   },
   {
    "duration": 34,
    "start_time": "2023-01-06T15:43:06.938Z"
   },
   {
    "duration": 11,
    "start_time": "2023-01-06T15:43:06.974Z"
   },
   {
    "duration": 13,
    "start_time": "2023-01-06T15:43:06.987Z"
   },
   {
    "duration": 31,
    "start_time": "2023-01-06T15:43:07.002Z"
   },
   {
    "duration": 59,
    "start_time": "2023-01-06T15:43:07.034Z"
   },
   {
    "duration": 2,
    "start_time": "2023-01-06T15:43:07.095Z"
   },
   {
    "duration": 35,
    "start_time": "2023-01-06T15:45:17.323Z"
   },
   {
    "duration": 7,
    "start_time": "2023-01-06T15:49:45.136Z"
   },
   {
    "duration": 9,
    "start_time": "2023-01-06T15:49:52.668Z"
   },
   {
    "duration": 12,
    "start_time": "2023-01-06T15:50:02.546Z"
   },
   {
    "duration": 15,
    "start_time": "2023-01-06T15:51:27.078Z"
   },
   {
    "duration": 45,
    "start_time": "2023-01-06T16:13:48.860Z"
   },
   {
    "duration": 56,
    "start_time": "2023-01-06T16:13:59.450Z"
   },
   {
    "duration": 145,
    "start_time": "2023-01-06T16:18:21.274Z"
   },
   {
    "duration": 14,
    "start_time": "2023-01-06T16:18:38.441Z"
   },
   {
    "duration": 1158,
    "start_time": "2023-01-06T16:18:44.963Z"
   },
   {
    "duration": 30,
    "start_time": "2023-01-06T16:18:46.123Z"
   },
   {
    "duration": 61,
    "start_time": "2023-01-06T16:18:46.155Z"
   },
   {
    "duration": 445,
    "start_time": "2023-01-06T16:18:46.217Z"
   },
   {
    "duration": 25,
    "start_time": "2023-01-06T16:18:46.664Z"
   },
   {
    "duration": 4,
    "start_time": "2023-01-06T16:18:46.690Z"
   },
   {
    "duration": 34,
    "start_time": "2023-01-06T16:18:46.696Z"
   },
   {
    "duration": 5,
    "start_time": "2023-01-06T16:18:46.732Z"
   },
   {
    "duration": 22,
    "start_time": "2023-01-06T16:18:46.739Z"
   },
   {
    "duration": 62,
    "start_time": "2023-01-06T16:18:46.762Z"
   },
   {
    "duration": 13,
    "start_time": "2023-01-06T16:18:46.825Z"
   },
   {
    "duration": 20,
    "start_time": "2023-01-06T16:18:46.839Z"
   },
   {
    "duration": 344,
    "start_time": "2023-01-06T16:18:46.860Z"
   },
   {
    "duration": 6,
    "start_time": "2023-01-06T16:18:47.208Z"
   },
   {
    "duration": 108,
    "start_time": "2023-01-06T16:18:47.221Z"
   },
   {
    "duration": 6,
    "start_time": "2023-01-06T16:18:47.330Z"
   },
   {
    "duration": 34,
    "start_time": "2023-01-06T16:18:47.337Z"
   },
   {
    "duration": 5,
    "start_time": "2023-01-06T16:18:47.372Z"
   },
   {
    "duration": 14,
    "start_time": "2023-01-06T16:18:47.378Z"
   },
   {
    "duration": 12,
    "start_time": "2023-01-06T16:18:47.393Z"
   },
   {
    "duration": 26,
    "start_time": "2023-01-06T16:18:47.406Z"
   },
   {
    "duration": 4,
    "start_time": "2023-01-06T16:18:47.433Z"
   },
   {
    "duration": 16,
    "start_time": "2023-01-06T16:18:47.438Z"
   },
   {
    "duration": 53,
    "start_time": "2023-01-06T16:18:47.455Z"
   },
   {
    "duration": 3,
    "start_time": "2023-01-06T16:18:47.510Z"
   },
   {
    "duration": 14,
    "start_time": "2023-01-06T16:18:47.515Z"
   },
   {
    "duration": 317,
    "start_time": "2023-01-06T16:18:47.531Z"
   },
   {
    "duration": 6,
    "start_time": "2023-01-06T16:18:47.849Z"
   },
   {
    "duration": 21,
    "start_time": "2023-01-06T16:18:47.857Z"
   },
   {
    "duration": 3272,
    "start_time": "2023-01-06T16:18:47.880Z"
   },
   {
    "duration": 6,
    "start_time": "2023-01-06T16:18:51.154Z"
   },
   {
    "duration": 11,
    "start_time": "2023-01-06T16:18:51.162Z"
   },
   {
    "duration": 12,
    "start_time": "2023-01-06T16:18:51.174Z"
   },
   {
    "duration": 11,
    "start_time": "2023-01-06T16:18:51.188Z"
   },
   {
    "duration": 20,
    "start_time": "2023-01-06T16:18:51.201Z"
   },
   {
    "duration": 10,
    "start_time": "2023-01-06T16:18:51.223Z"
   },
   {
    "duration": 5,
    "start_time": "2023-01-06T16:18:51.234Z"
   },
   {
    "duration": 14,
    "start_time": "2023-01-06T16:18:51.240Z"
   },
   {
    "duration": 5,
    "start_time": "2023-01-06T16:18:51.255Z"
   },
   {
    "duration": 20,
    "start_time": "2023-01-06T16:18:51.261Z"
   },
   {
    "duration": 9,
    "start_time": "2023-01-06T16:18:51.285Z"
   },
   {
    "duration": 32,
    "start_time": "2023-01-06T16:18:51.295Z"
   },
   {
    "duration": 10,
    "start_time": "2023-01-06T16:18:51.328Z"
   },
   {
    "duration": 10,
    "start_time": "2023-01-06T16:18:51.340Z"
   },
   {
    "duration": 14,
    "start_time": "2023-01-06T16:18:51.351Z"
   },
   {
    "duration": 76,
    "start_time": "2023-01-06T16:18:51.367Z"
   },
   {
    "duration": 26,
    "start_time": "2023-01-06T16:18:51.445Z"
   },
   {
    "duration": 20,
    "start_time": "2023-01-06T16:18:51.473Z"
   },
   {
    "duration": 233,
    "start_time": "2023-01-06T16:18:51.495Z"
   },
   {
    "duration": 10,
    "start_time": "2023-01-06T16:18:51.730Z"
   },
   {
    "duration": 12,
    "start_time": "2023-01-06T16:18:51.742Z"
   },
   {
    "duration": 9,
    "start_time": "2023-01-06T16:18:51.756Z"
   },
   {
    "duration": 31,
    "start_time": "2023-01-06T16:18:51.767Z"
   },
   {
    "duration": 8,
    "start_time": "2023-01-06T16:18:51.799Z"
   },
   {
    "duration": 14,
    "start_time": "2023-01-06T16:18:51.821Z"
   },
   {
    "duration": 121,
    "start_time": "2023-01-06T16:18:51.836Z"
   },
   {
    "duration": 20,
    "start_time": "2023-01-06T16:18:51.958Z"
   },
   {
    "duration": 403,
    "start_time": "2023-01-06T16:18:51.980Z"
   },
   {
    "duration": 16,
    "start_time": "2023-01-06T16:18:52.384Z"
   },
   {
    "duration": 30,
    "start_time": "2023-01-06T16:18:52.402Z"
   },
   {
    "duration": 16,
    "start_time": "2023-01-06T16:18:52.434Z"
   },
   {
    "duration": 52,
    "start_time": "2023-01-06T16:18:52.452Z"
   },
   {
    "duration": 37,
    "start_time": "2023-01-06T16:18:52.506Z"
   },
   {
    "duration": 50,
    "start_time": "2023-01-06T16:18:52.545Z"
   },
   {
    "duration": 54,
    "start_time": "2023-01-06T16:18:52.597Z"
   },
   {
    "duration": 8,
    "start_time": "2023-01-06T16:18:52.653Z"
   },
   {
    "duration": 11,
    "start_time": "2023-01-06T16:18:52.662Z"
   },
   {
    "duration": 9,
    "start_time": "2023-01-06T16:18:52.674Z"
   },
   {
    "duration": 67,
    "start_time": "2023-01-06T16:18:52.685Z"
   },
   {
    "duration": 24,
    "start_time": "2023-01-06T16:19:17.313Z"
   },
   {
    "duration": 15,
    "start_time": "2023-01-06T16:19:30.549Z"
   },
   {
    "duration": 17,
    "start_time": "2023-01-06T16:20:13.267Z"
   },
   {
    "duration": 3,
    "start_time": "2023-01-06T16:34:50.490Z"
   },
   {
    "duration": 2020,
    "start_time": "2023-01-06T19:05:15.101Z"
   },
   {
    "duration": 94,
    "start_time": "2023-01-06T19:05:17.123Z"
   },
   {
    "duration": 227,
    "start_time": "2023-01-06T19:05:17.219Z"
   },
   {
    "duration": 1469,
    "start_time": "2023-01-06T19:05:17.448Z"
   },
   {
    "duration": 109,
    "start_time": "2023-01-06T19:05:18.919Z"
   },
   {
    "duration": 5,
    "start_time": "2023-01-06T19:05:19.030Z"
   },
   {
    "duration": 24,
    "start_time": "2023-01-06T19:05:19.037Z"
   },
   {
    "duration": 5,
    "start_time": "2023-01-06T19:05:19.062Z"
   },
   {
    "duration": 7,
    "start_time": "2023-01-06T19:05:19.069Z"
   },
   {
    "duration": 56,
    "start_time": "2023-01-06T19:05:19.077Z"
   },
   {
    "duration": 11,
    "start_time": "2023-01-06T19:05:19.135Z"
   },
   {
    "duration": 65,
    "start_time": "2023-01-06T19:05:19.147Z"
   },
   {
    "duration": 335,
    "start_time": "2023-01-06T19:05:19.213Z"
   },
   {
    "duration": 6,
    "start_time": "2023-01-06T19:05:19.551Z"
   },
   {
    "duration": 109,
    "start_time": "2023-01-06T19:05:19.558Z"
   },
   {
    "duration": 5,
    "start_time": "2023-01-06T19:05:19.668Z"
   },
   {
    "duration": 40,
    "start_time": "2023-01-06T19:05:19.674Z"
   },
   {
    "duration": 6,
    "start_time": "2023-01-06T19:05:19.715Z"
   },
   {
    "duration": 6,
    "start_time": "2023-01-06T19:05:19.723Z"
   },
   {
    "duration": 6,
    "start_time": "2023-01-06T19:05:19.730Z"
   },
   {
    "duration": 14,
    "start_time": "2023-01-06T19:05:19.737Z"
   },
   {
    "duration": 4,
    "start_time": "2023-01-06T19:05:19.752Z"
   },
   {
    "duration": 5,
    "start_time": "2023-01-06T19:05:19.757Z"
   },
   {
    "duration": 63,
    "start_time": "2023-01-06T19:05:19.763Z"
   },
   {
    "duration": 4,
    "start_time": "2023-01-06T19:05:19.827Z"
   },
   {
    "duration": 7,
    "start_time": "2023-01-06T19:05:19.832Z"
   },
   {
    "duration": 492,
    "start_time": "2023-01-06T19:05:19.841Z"
   },
   {
    "duration": 5,
    "start_time": "2023-01-06T19:05:20.335Z"
   },
   {
    "duration": 13,
    "start_time": "2023-01-06T19:05:20.341Z"
   },
   {
    "duration": 3117,
    "start_time": "2023-01-06T19:05:20.355Z"
   },
   {
    "duration": 6,
    "start_time": "2023-01-06T19:05:23.474Z"
   },
   {
    "duration": 8,
    "start_time": "2023-01-06T19:05:23.482Z"
   },
   {
    "duration": 16,
    "start_time": "2023-01-06T19:05:23.491Z"
   },
   {
    "duration": 13,
    "start_time": "2023-01-06T19:05:23.509Z"
   },
   {
    "duration": 11,
    "start_time": "2023-01-06T19:05:23.524Z"
   },
   {
    "duration": 23,
    "start_time": "2023-01-06T19:05:23.536Z"
   },
   {
    "duration": 5,
    "start_time": "2023-01-06T19:05:23.560Z"
   },
   {
    "duration": 16,
    "start_time": "2023-01-06T19:05:23.566Z"
   },
   {
    "duration": 23,
    "start_time": "2023-01-06T19:05:23.583Z"
   },
   {
    "duration": 10,
    "start_time": "2023-01-06T19:05:23.607Z"
   },
   {
    "duration": 7,
    "start_time": "2023-01-06T19:05:23.621Z"
   },
   {
    "duration": 22,
    "start_time": "2023-01-06T19:05:23.629Z"
   },
   {
    "duration": 29,
    "start_time": "2023-01-06T19:05:23.652Z"
   },
   {
    "duration": 14,
    "start_time": "2023-01-06T19:05:23.682Z"
   },
   {
    "duration": 15,
    "start_time": "2023-01-06T19:05:23.698Z"
   },
   {
    "duration": 60,
    "start_time": "2023-01-06T19:05:23.715Z"
   },
   {
    "duration": 36,
    "start_time": "2023-01-06T19:05:23.777Z"
   },
   {
    "duration": 17,
    "start_time": "2023-01-06T19:05:23.815Z"
   },
   {
    "duration": 301,
    "start_time": "2023-01-06T19:05:23.834Z"
   },
   {
    "duration": 13,
    "start_time": "2023-01-06T19:05:24.137Z"
   },
   {
    "duration": 11,
    "start_time": "2023-01-06T19:05:24.152Z"
   },
   {
    "duration": 5,
    "start_time": "2023-01-06T19:05:24.165Z"
   },
   {
    "duration": 45,
    "start_time": "2023-01-06T19:05:24.172Z"
   },
   {
    "duration": 6,
    "start_time": "2023-01-06T19:05:24.219Z"
   },
   {
    "duration": 18,
    "start_time": "2023-01-06T19:05:24.226Z"
   },
   {
    "duration": 64,
    "start_time": "2023-01-06T19:05:24.246Z"
   },
   {
    "duration": 8,
    "start_time": "2023-01-06T19:05:24.312Z"
   },
   {
    "duration": 435,
    "start_time": "2023-01-06T19:05:24.322Z"
   },
   {
    "duration": 16,
    "start_time": "2023-01-06T19:05:24.758Z"
   },
   {
    "duration": 30,
    "start_time": "2023-01-06T19:05:24.775Z"
   },
   {
    "duration": 18,
    "start_time": "2023-01-06T19:05:24.806Z"
   },
   {
    "duration": 46,
    "start_time": "2023-01-06T19:05:24.825Z"
   },
   {
    "duration": 45,
    "start_time": "2023-01-06T19:05:24.872Z"
   },
   {
    "duration": 50,
    "start_time": "2023-01-06T19:05:24.918Z"
   },
   {
    "duration": 53,
    "start_time": "2023-01-06T19:05:24.970Z"
   },
   {
    "duration": 9,
    "start_time": "2023-01-06T19:05:25.024Z"
   },
   {
    "duration": 5,
    "start_time": "2023-01-06T19:05:25.035Z"
   },
   {
    "duration": 9,
    "start_time": "2023-01-06T19:05:25.041Z"
   },
   {
    "duration": 71,
    "start_time": "2023-01-06T19:05:25.052Z"
   },
   {
    "duration": 1335,
    "start_time": "2023-01-07T06:46:47.489Z"
   },
   {
    "duration": 68,
    "start_time": "2023-01-07T06:46:48.825Z"
   },
   {
    "duration": 165,
    "start_time": "2023-01-07T06:46:48.895Z"
   },
   {
    "duration": 565,
    "start_time": "2023-01-07T06:46:49.062Z"
   },
   {
    "duration": 64,
    "start_time": "2023-01-07T06:46:49.628Z"
   },
   {
    "duration": 5,
    "start_time": "2023-01-07T06:46:49.694Z"
   },
   {
    "duration": 25,
    "start_time": "2023-01-07T06:46:49.700Z"
   },
   {
    "duration": 5,
    "start_time": "2023-01-07T06:46:49.727Z"
   },
   {
    "duration": 7,
    "start_time": "2023-01-07T06:46:49.733Z"
   },
   {
    "duration": 44,
    "start_time": "2023-01-07T06:46:49.742Z"
   },
   {
    "duration": 29,
    "start_time": "2023-01-07T06:46:49.788Z"
   },
   {
    "duration": 4,
    "start_time": "2023-01-07T06:46:49.818Z"
   },
   {
    "duration": 317,
    "start_time": "2023-01-07T06:46:49.823Z"
   },
   {
    "duration": 6,
    "start_time": "2023-01-07T06:46:50.142Z"
   },
   {
    "duration": 102,
    "start_time": "2023-01-07T06:46:50.149Z"
   },
   {
    "duration": 4,
    "start_time": "2023-01-07T06:46:50.253Z"
   },
   {
    "duration": 22,
    "start_time": "2023-01-07T06:46:50.259Z"
   },
   {
    "duration": 5,
    "start_time": "2023-01-07T06:46:50.282Z"
   },
   {
    "duration": 3,
    "start_time": "2023-01-07T06:46:50.289Z"
   },
   {
    "duration": 3,
    "start_time": "2023-01-07T06:46:50.315Z"
   },
   {
    "duration": 14,
    "start_time": "2023-01-07T06:46:50.319Z"
   },
   {
    "duration": 5,
    "start_time": "2023-01-07T06:46:50.334Z"
   },
   {
    "duration": 21,
    "start_time": "2023-01-07T06:46:50.341Z"
   },
   {
    "duration": 39,
    "start_time": "2023-01-07T06:46:50.363Z"
   },
   {
    "duration": 13,
    "start_time": "2023-01-07T06:46:50.404Z"
   },
   {
    "duration": 8,
    "start_time": "2023-01-07T06:46:50.418Z"
   },
   {
    "duration": 323,
    "start_time": "2023-01-07T06:46:50.428Z"
   },
   {
    "duration": 6,
    "start_time": "2023-01-07T06:46:50.755Z"
   },
   {
    "duration": 16,
    "start_time": "2023-01-07T06:46:50.762Z"
   },
   {
    "duration": 3125,
    "start_time": "2023-01-07T06:46:50.779Z"
   },
   {
    "duration": 15,
    "start_time": "2023-01-07T06:46:53.905Z"
   },
   {
    "duration": 5,
    "start_time": "2023-01-07T06:46:53.921Z"
   },
   {
    "duration": 6,
    "start_time": "2023-01-07T06:46:53.927Z"
   },
   {
    "duration": 11,
    "start_time": "2023-01-07T06:46:53.934Z"
   },
   {
    "duration": 11,
    "start_time": "2023-01-07T06:46:53.946Z"
   },
   {
    "duration": 10,
    "start_time": "2023-01-07T06:46:53.958Z"
   },
   {
    "duration": 9,
    "start_time": "2023-01-07T06:46:53.969Z"
   },
   {
    "duration": 10,
    "start_time": "2023-01-07T06:46:53.979Z"
   },
   {
    "duration": 4,
    "start_time": "2023-01-07T06:46:54.016Z"
   },
   {
    "duration": 7,
    "start_time": "2023-01-07T06:46:54.022Z"
   },
   {
    "duration": 6,
    "start_time": "2023-01-07T06:46:54.031Z"
   },
   {
    "duration": 13,
    "start_time": "2023-01-07T06:46:54.038Z"
   },
   {
    "duration": 11,
    "start_time": "2023-01-07T06:46:54.053Z"
   },
   {
    "duration": 9,
    "start_time": "2023-01-07T06:46:54.065Z"
   },
   {
    "duration": 48,
    "start_time": "2023-01-07T06:46:54.076Z"
   },
   {
    "duration": 54,
    "start_time": "2023-01-07T06:46:54.126Z"
   },
   {
    "duration": 35,
    "start_time": "2023-01-07T06:46:54.181Z"
   },
   {
    "duration": 15,
    "start_time": "2023-01-07T06:46:54.217Z"
   },
   {
    "duration": 267,
    "start_time": "2023-01-07T06:46:54.233Z"
   },
   {
    "duration": 17,
    "start_time": "2023-01-07T06:46:54.502Z"
   },
   {
    "duration": 13,
    "start_time": "2023-01-07T06:46:54.521Z"
   },
   {
    "duration": 9,
    "start_time": "2023-01-07T06:46:54.536Z"
   },
   {
    "duration": 28,
    "start_time": "2023-01-07T06:46:54.546Z"
   },
   {
    "duration": 5,
    "start_time": "2023-01-07T06:46:54.575Z"
   },
   {
    "duration": 19,
    "start_time": "2023-01-07T06:46:54.581Z"
   },
   {
    "duration": 51,
    "start_time": "2023-01-07T06:46:54.602Z"
   },
   {
    "duration": 9,
    "start_time": "2023-01-07T06:46:54.655Z"
   },
   {
    "duration": 448,
    "start_time": "2023-01-07T06:46:54.666Z"
   },
   {
    "duration": 16,
    "start_time": "2023-01-07T06:46:55.115Z"
   },
   {
    "duration": 17,
    "start_time": "2023-01-07T06:46:55.132Z"
   },
   {
    "duration": 16,
    "start_time": "2023-01-07T06:46:55.150Z"
   },
   {
    "duration": 64,
    "start_time": "2023-01-07T06:46:55.167Z"
   },
   {
    "duration": 21,
    "start_time": "2023-01-07T06:46:55.233Z"
   },
   {
    "duration": 60,
    "start_time": "2023-01-07T06:46:55.256Z"
   },
   {
    "duration": 30,
    "start_time": "2023-01-07T06:46:55.317Z"
   },
   {
    "duration": 9,
    "start_time": "2023-01-07T06:46:55.349Z"
   },
   {
    "duration": 5,
    "start_time": "2023-01-07T06:46:55.359Z"
   },
   {
    "duration": 8,
    "start_time": "2023-01-07T06:46:55.366Z"
   },
   {
    "duration": 75,
    "start_time": "2023-01-07T06:46:55.375Z"
   },
   {
    "duration": 53,
    "start_time": "2023-01-07T06:54:06.636Z"
   },
   {
    "duration": 8,
    "start_time": "2023-01-07T06:54:18.683Z"
   },
   {
    "duration": 5,
    "start_time": "2023-01-07T06:54:43.374Z"
   },
   {
    "duration": 50,
    "start_time": "2023-01-07T06:54:56.872Z"
   },
   {
    "duration": 12,
    "start_time": "2023-01-07T06:55:04.255Z"
   },
   {
    "duration": 12,
    "start_time": "2023-01-07T06:55:37.621Z"
   }
  ],
  "kernelspec": {
   "display_name": "Python 3 (ipykernel)",
   "language": "python",
   "name": "python3"
  },
  "language_info": {
   "codemirror_mode": {
    "name": "ipython",
    "version": 3
   },
   "file_extension": ".py",
   "mimetype": "text/x-python",
   "name": "python",
   "nbconvert_exporter": "python",
   "pygments_lexer": "ipython3",
   "version": "3.9.12"
  },
  "toc": {
   "base_numbering": 1,
   "nav_menu": {},
   "number_sections": true,
   "sideBar": true,
   "skip_h1_title": true,
   "title_cell": "Table of Contents",
   "title_sidebar": "Contents",
   "toc_cell": false,
   "toc_position": {},
   "toc_section_display": true,
   "toc_window_display": true
  }
 },
 "nbformat": 4,
 "nbformat_minor": 2
}
