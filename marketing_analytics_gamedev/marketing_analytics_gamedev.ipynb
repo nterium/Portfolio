{
 "cells": [
  {
   "cell_type": "markdown",
   "metadata": {},
   "source": [
    "# Исследование поведения игроков игры \"Космические братья\""
   ]
  },
  {
   "cell_type": "markdown",
   "metadata": {},
   "source": [
    "Основной датасет содержит данные о событиях, совершенных в мобильной игре «Космические братья». В ней пользователи строят свою космическую программу и пытаются преуспеть в колонизации галактики.\n",
    "\n",
    "Основная монетизация игры — только планируется. Но предполагается, что в приложении будет происходить показ рекламы на экране с выбором типа объекта для постройки.\n",
    "\n",
    "В датасете представлены данные по игре пользователей на первом уровне. Завершение первого уровня требует от игрока выполнения одного из двух условий:\n",
    "\n",
    "- Победа над первым врагом\n",
    "- Реализация проекта - разработка орбитальной сборки спутников\n",
    "\n",
    "В датасете содержатся данные первых пользователей приложения.\n",
    "\n",
    "Целью исследования является анализ поведения игроков в зависимости от источника перехода.\n",
    "\n",
    "Предстоит проверить 2 гипотезы:\n",
    "- время завершения уровня различается в зависимости игровой стратегии\n",
    "- тип игровой стратегии зависит от источника привлечения\n"
   ]
  },
  {
   "cell_type": "markdown",
   "metadata": {},
   "source": [
    "## Описание данных"
   ]
  },
  {
   "cell_type": "markdown",
   "metadata": {},
   "source": [
    "Датасет *game_actions.csv*:\n",
    "\n",
    "- `event_datetime` — время события;\n",
    "- `event` — одно из трёх событий:\n",
    "    1. `building` — объект построен,\n",
    "    2. `finished_stage_1` — первый уровень завершён,\n",
    "    3. `project` — проект завершён;\n",
    "- `building_type` — один из трёх типов здания:\n",
    "    1. `assembly_shop` — сборочный цех,\n",
    "    2. `spaceport` — космопорт,\n",
    "    3. `research_center` — исследовательский центр;\n",
    "- `user_id` — идентификатор пользователя;\n",
    "- `project_type` — тип реализованного проекта;"
   ]
  },
  {
   "cell_type": "markdown",
   "metadata": {},
   "source": [
    "Датасет *ad_costs.csv*:\n",
    "\n",
    "- `day` - день, в который был совершен клик по объявлению\n",
    "- `source` - источник трафика\n",
    "- `cost` - стоимость кликов"
   ]
  },
  {
   "cell_type": "markdown",
   "metadata": {},
   "source": [
    "Датасет *user_source.csv*:\n",
    "\n",
    "- `user_id` - идентификатор пользователя\n",
    "- `source` - источник, с которого пришёл пользователь, установивший приложение"
   ]
  },
  {
   "cell_type": "markdown",
   "metadata": {},
   "source": [
    "## Загрузка данных и библиотек"
   ]
  },
  {
   "cell_type": "code",
   "execution_count": 1,
   "metadata": {},
   "outputs": [],
   "source": [
    "# загрузка библиотек\n",
    "\n",
    "import pandas as pd\n",
    "import matplotlib.pyplot as plt\n",
    "import seaborn as sns\n",
    "import plotly.express as px\n",
    "import numpy as np\n",
    "from scipy import stats as st\n",
    "import math as mth\n",
    "import plotly.io as pio\n",
    "pio.renderers.default = \"browser\""
   ]
  },
  {
   "cell_type": "code",
   "execution_count": 2,
   "metadata": {},
   "outputs": [],
   "source": [
    "pd.options.display.float_format = '{: .2f}'.format"
   ]
  },
  {
   "cell_type": "code",
   "execution_count": 3,
   "metadata": {},
   "outputs": [],
   "source": [
    "# загрузка данных о юзерах\n",
    "\n",
    "users = pd.read_csv(r\"C:\\Users\\N\\OneDrive\\Desktop\\study\\ipynb\\my projects\\final_project\\user_source.csv\")"
   ]
  },
  {
   "cell_type": "code",
   "execution_count": 4,
   "metadata": {},
   "outputs": [],
   "source": [
    "# загрузка данных о тратах на привлечение\n",
    "\n",
    "ad_costs = pd.read_csv(r\"C:\\Users\\N\\OneDrive\\Desktop\\study\\ipynb\\my projects\\final_project\\ad_costs.csv\")"
   ]
  },
  {
   "cell_type": "code",
   "execution_count": 5,
   "metadata": {},
   "outputs": [],
   "source": [
    "# загрузка данных о событиях в игре\n",
    "\n",
    "game_log = pd.read_csv(r\"C:\\Users\\N\\OneDrive\\Desktop\\study\\ipynb\\my projects\\final_project\\game_actions.csv\")"
   ]
  },
  {
   "cell_type": "markdown",
   "metadata": {},
   "source": [
    "## Предподготовка данных"
   ]
  },
  {
   "cell_type": "code",
   "execution_count": 6,
   "metadata": {},
   "outputs": [],
   "source": [
    "def df_info(df):\n",
    "    \n",
    "    \"\"\"Функция выводит размер и информацию о датафрейме head(), info(), информацию о явных дубликатах\"\"\"\n",
    "    \n",
    "    display(df.head())\n",
    "    print('\\nРазмер датасета', df.shape[0], '\\n')\n",
    "    print('Пропуски в данных и типы данных:\\n')\n",
    "    df.info()\n",
    "    print('\\nЯвные дубликаты:', df.duplicated().sum())"
   ]
  },
  {
   "cell_type": "markdown",
   "metadata": {},
   "source": [
    "### Данные о пользователях"
   ]
  },
  {
   "cell_type": "code",
   "execution_count": 7,
   "metadata": {},
   "outputs": [
    {
     "data": {
      "text/html": [
       "<div>\n",
       "<style scoped>\n",
       "    .dataframe tbody tr th:only-of-type {\n",
       "        vertical-align: middle;\n",
       "    }\n",
       "\n",
       "    .dataframe tbody tr th {\n",
       "        vertical-align: top;\n",
       "    }\n",
       "\n",
       "    .dataframe thead th {\n",
       "        text-align: right;\n",
       "    }\n",
       "</style>\n",
       "<table border=\"1\" class=\"dataframe\">\n",
       "  <thead>\n",
       "    <tr style=\"text-align: right;\">\n",
       "      <th></th>\n",
       "      <th>user_id</th>\n",
       "      <th>source</th>\n",
       "    </tr>\n",
       "  </thead>\n",
       "  <tbody>\n",
       "    <tr>\n",
       "      <th>0</th>\n",
       "      <td>0001f83c-c6ac-4621-b7f0-8a28b283ac30</td>\n",
       "      <td>facebook_ads</td>\n",
       "    </tr>\n",
       "    <tr>\n",
       "      <th>1</th>\n",
       "      <td>00151b4f-ba38-44a8-a650-d7cf130a0105</td>\n",
       "      <td>yandex_direct</td>\n",
       "    </tr>\n",
       "    <tr>\n",
       "      <th>2</th>\n",
       "      <td>001aaea6-3d14-43f1-8ca8-7f48820f17aa</td>\n",
       "      <td>youtube_channel_reklama</td>\n",
       "    </tr>\n",
       "    <tr>\n",
       "      <th>3</th>\n",
       "      <td>001d39dc-366c-4021-9604-6a3b9ff01e25</td>\n",
       "      <td>instagram_new_adverts</td>\n",
       "    </tr>\n",
       "    <tr>\n",
       "      <th>4</th>\n",
       "      <td>002f508f-67b6-479f-814b-b05f00d4e995</td>\n",
       "      <td>facebook_ads</td>\n",
       "    </tr>\n",
       "  </tbody>\n",
       "</table>\n",
       "</div>"
      ],
      "text/plain": [
       "                                user_id                   source\n",
       "0  0001f83c-c6ac-4621-b7f0-8a28b283ac30             facebook_ads\n",
       "1  00151b4f-ba38-44a8-a650-d7cf130a0105            yandex_direct\n",
       "2  001aaea6-3d14-43f1-8ca8-7f48820f17aa  youtube_channel_reklama\n",
       "3  001d39dc-366c-4021-9604-6a3b9ff01e25    instagram_new_adverts\n",
       "4  002f508f-67b6-479f-814b-b05f00d4e995             facebook_ads"
      ]
     },
     "metadata": {},
     "output_type": "display_data"
    },
    {
     "name": "stdout",
     "output_type": "stream",
     "text": [
      "\n",
      "Размер датасета 13576 \n",
      "\n",
      "Пропуски в данных и типы данных:\n",
      "\n",
      "<class 'pandas.core.frame.DataFrame'>\n",
      "RangeIndex: 13576 entries, 0 to 13575\n",
      "Data columns (total 2 columns):\n",
      " #   Column   Non-Null Count  Dtype \n",
      "---  ------   --------------  ----- \n",
      " 0   user_id  13576 non-null  object\n",
      " 1   source   13576 non-null  object\n",
      "dtypes: object(2)\n",
      "memory usage: 212.2+ KB\n",
      "\n",
      "Явные дубликаты: 0\n"
     ]
    }
   ],
   "source": [
    "df_info(users)"
   ]
  },
  {
   "cell_type": "markdown",
   "metadata": {},
   "source": [
    "Пропусков в датасете нет."
   ]
  },
  {
   "cell_type": "markdown",
   "metadata": {},
   "source": [
    "Дубликатов нет."
   ]
  },
  {
   "cell_type": "code",
   "execution_count": 8,
   "metadata": {},
   "outputs": [
    {
     "data": {
      "text/plain": [
       "13576"
      ]
     },
     "execution_count": 8,
     "metadata": {},
     "output_type": "execute_result"
    }
   ],
   "source": [
    "# все ли юзеры уникальны?\n",
    "\n",
    "users['user_id'].nunique()"
   ]
  },
  {
   "cell_type": "markdown",
   "metadata": {},
   "source": [
    "Да, в датасете все юзеры уникальные."
   ]
  },
  {
   "cell_type": "code",
   "execution_count": 9,
   "metadata": {},
   "outputs": [
    {
     "data": {
      "text/plain": [
       "array(['facebook_ads', 'yandex_direct', 'youtube_channel_reklama',\n",
       "       'instagram_new_adverts'], dtype=object)"
      ]
     },
     "execution_count": 9,
     "metadata": {},
     "output_type": "execute_result"
    }
   ],
   "source": [
    "# какакие уникальные источники привлечения есть\n",
    "\n",
    "users['source'].unique()"
   ]
  },
  {
   "cell_type": "markdown",
   "metadata": {},
   "source": [
    "Итак, у нас 4 источника: FaceBook, Яндекс.Директ, YouTube, Instagram"
   ]
  },
  {
   "cell_type": "markdown",
   "metadata": {},
   "source": [
    "### Данные о рекламных затратах"
   ]
  },
  {
   "cell_type": "code",
   "execution_count": 10,
   "metadata": {
    "scrolled": false
   },
   "outputs": [
    {
     "data": {
      "text/html": [
       "<div>\n",
       "<style scoped>\n",
       "    .dataframe tbody tr th:only-of-type {\n",
       "        vertical-align: middle;\n",
       "    }\n",
       "\n",
       "    .dataframe tbody tr th {\n",
       "        vertical-align: top;\n",
       "    }\n",
       "\n",
       "    .dataframe thead th {\n",
       "        text-align: right;\n",
       "    }\n",
       "</style>\n",
       "<table border=\"1\" class=\"dataframe\">\n",
       "  <thead>\n",
       "    <tr style=\"text-align: right;\">\n",
       "      <th></th>\n",
       "      <th>source</th>\n",
       "      <th>day</th>\n",
       "      <th>cost</th>\n",
       "    </tr>\n",
       "  </thead>\n",
       "  <tbody>\n",
       "    <tr>\n",
       "      <th>0</th>\n",
       "      <td>facebook_ads</td>\n",
       "      <td>2020-05-03</td>\n",
       "      <td>935.88</td>\n",
       "    </tr>\n",
       "    <tr>\n",
       "      <th>1</th>\n",
       "      <td>facebook_ads</td>\n",
       "      <td>2020-05-04</td>\n",
       "      <td>548.35</td>\n",
       "    </tr>\n",
       "    <tr>\n",
       "      <th>2</th>\n",
       "      <td>facebook_ads</td>\n",
       "      <td>2020-05-05</td>\n",
       "      <td>260.19</td>\n",
       "    </tr>\n",
       "    <tr>\n",
       "      <th>3</th>\n",
       "      <td>facebook_ads</td>\n",
       "      <td>2020-05-06</td>\n",
       "      <td>177.98</td>\n",
       "    </tr>\n",
       "    <tr>\n",
       "      <th>4</th>\n",
       "      <td>facebook_ads</td>\n",
       "      <td>2020-05-07</td>\n",
       "      <td>111.77</td>\n",
       "    </tr>\n",
       "  </tbody>\n",
       "</table>\n",
       "</div>"
      ],
      "text/plain": [
       "         source         day    cost\n",
       "0  facebook_ads  2020-05-03  935.88\n",
       "1  facebook_ads  2020-05-04  548.35\n",
       "2  facebook_ads  2020-05-05  260.19\n",
       "3  facebook_ads  2020-05-06  177.98\n",
       "4  facebook_ads  2020-05-07  111.77"
      ]
     },
     "metadata": {},
     "output_type": "display_data"
    },
    {
     "name": "stdout",
     "output_type": "stream",
     "text": [
      "\n",
      "Размер датасета 28 \n",
      "\n",
      "Пропуски в данных и типы данных:\n",
      "\n",
      "<class 'pandas.core.frame.DataFrame'>\n",
      "RangeIndex: 28 entries, 0 to 27\n",
      "Data columns (total 3 columns):\n",
      " #   Column  Non-Null Count  Dtype  \n",
      "---  ------  --------------  -----  \n",
      " 0   source  28 non-null     object \n",
      " 1   day     28 non-null     object \n",
      " 2   cost    28 non-null     float64\n",
      "dtypes: float64(1), object(2)\n",
      "memory usage: 800.0+ bytes\n",
      "\n",
      "Явные дубликаты: 0\n"
     ]
    }
   ],
   "source": [
    "df_info(ad_costs)"
   ]
  },
  {
   "cell_type": "markdown",
   "metadata": {},
   "source": [
    "Дубликатов и пропусков в датасете нет."
   ]
  },
  {
   "cell_type": "code",
   "execution_count": 11,
   "metadata": {},
   "outputs": [],
   "source": [
    "# меняем тип данных во временной колонке\n",
    "\n",
    "ad_costs['day'] = pd.to_datetime(ad_costs['day'], format='%Y-%m-%d')"
   ]
  },
  {
   "cell_type": "code",
   "execution_count": 12,
   "metadata": {},
   "outputs": [
    {
     "data": {
      "text/plain": [
       "source            object\n",
       "day       datetime64[ns]\n",
       "cost             float64\n",
       "dtype: object"
      ]
     },
     "execution_count": 12,
     "metadata": {},
     "output_type": "execute_result"
    }
   ],
   "source": [
    "#check\n",
    "\n",
    "ad_costs.dtypes"
   ]
  },
  {
   "cell_type": "code",
   "execution_count": 13,
   "metadata": {},
   "outputs": [
    {
     "data": {
      "text/plain": [
       "min   2020-05-03\n",
       "max   2020-05-09\n",
       "Name: day, dtype: datetime64[ns]"
      ]
     },
     "execution_count": 13,
     "metadata": {},
     "output_type": "execute_result"
    }
   ],
   "source": [
    "ad_costs['day'].agg({'min','max'})"
   ]
  },
  {
   "cell_type": "markdown",
   "metadata": {},
   "source": [
    "Данные представлены с 3 по 9 мая 2020 года."
   ]
  },
  {
   "cell_type": "markdown",
   "metadata": {},
   "source": [
    "### Данные о событиях в игре"
   ]
  },
  {
   "cell_type": "code",
   "execution_count": 14,
   "metadata": {},
   "outputs": [
    {
     "data": {
      "text/html": [
       "<div>\n",
       "<style scoped>\n",
       "    .dataframe tbody tr th:only-of-type {\n",
       "        vertical-align: middle;\n",
       "    }\n",
       "\n",
       "    .dataframe tbody tr th {\n",
       "        vertical-align: top;\n",
       "    }\n",
       "\n",
       "    .dataframe thead th {\n",
       "        text-align: right;\n",
       "    }\n",
       "</style>\n",
       "<table border=\"1\" class=\"dataframe\">\n",
       "  <thead>\n",
       "    <tr style=\"text-align: right;\">\n",
       "      <th></th>\n",
       "      <th>event_datetime</th>\n",
       "      <th>event</th>\n",
       "      <th>building_type</th>\n",
       "      <th>user_id</th>\n",
       "      <th>project_type</th>\n",
       "    </tr>\n",
       "  </thead>\n",
       "  <tbody>\n",
       "    <tr>\n",
       "      <th>0</th>\n",
       "      <td>2020-05-04 00:00:01</td>\n",
       "      <td>building</td>\n",
       "      <td>assembly_shop</td>\n",
       "      <td>55e92310-cb8e-4754-b622-597e124b03de</td>\n",
       "      <td>NaN</td>\n",
       "    </tr>\n",
       "    <tr>\n",
       "      <th>1</th>\n",
       "      <td>2020-05-04 00:00:03</td>\n",
       "      <td>building</td>\n",
       "      <td>assembly_shop</td>\n",
       "      <td>c07b1c10-f477-44dc-81dc-ec82254b1347</td>\n",
       "      <td>NaN</td>\n",
       "    </tr>\n",
       "    <tr>\n",
       "      <th>2</th>\n",
       "      <td>2020-05-04 00:00:16</td>\n",
       "      <td>building</td>\n",
       "      <td>assembly_shop</td>\n",
       "      <td>6edd42cc-e753-4ff6-a947-2107cd560710</td>\n",
       "      <td>NaN</td>\n",
       "    </tr>\n",
       "    <tr>\n",
       "      <th>3</th>\n",
       "      <td>2020-05-04 00:00:16</td>\n",
       "      <td>building</td>\n",
       "      <td>assembly_shop</td>\n",
       "      <td>92c69003-d60a-444a-827f-8cc51bf6bf4c</td>\n",
       "      <td>NaN</td>\n",
       "    </tr>\n",
       "    <tr>\n",
       "      <th>4</th>\n",
       "      <td>2020-05-04 00:00:35</td>\n",
       "      <td>building</td>\n",
       "      <td>assembly_shop</td>\n",
       "      <td>cdc6bb92-0ccb-4490-9866-ef142f09139d</td>\n",
       "      <td>NaN</td>\n",
       "    </tr>\n",
       "  </tbody>\n",
       "</table>\n",
       "</div>"
      ],
      "text/plain": [
       "        event_datetime     event  building_type  \\\n",
       "0  2020-05-04 00:00:01  building  assembly_shop   \n",
       "1  2020-05-04 00:00:03  building  assembly_shop   \n",
       "2  2020-05-04 00:00:16  building  assembly_shop   \n",
       "3  2020-05-04 00:00:16  building  assembly_shop   \n",
       "4  2020-05-04 00:00:35  building  assembly_shop   \n",
       "\n",
       "                                user_id project_type  \n",
       "0  55e92310-cb8e-4754-b622-597e124b03de          NaN  \n",
       "1  c07b1c10-f477-44dc-81dc-ec82254b1347          NaN  \n",
       "2  6edd42cc-e753-4ff6-a947-2107cd560710          NaN  \n",
       "3  92c69003-d60a-444a-827f-8cc51bf6bf4c          NaN  \n",
       "4  cdc6bb92-0ccb-4490-9866-ef142f09139d          NaN  "
      ]
     },
     "metadata": {},
     "output_type": "display_data"
    },
    {
     "name": "stdout",
     "output_type": "stream",
     "text": [
      "\n",
      "Размер датасета 135640 \n",
      "\n",
      "Пропуски в данных и типы данных:\n",
      "\n",
      "<class 'pandas.core.frame.DataFrame'>\n",
      "RangeIndex: 135640 entries, 0 to 135639\n",
      "Data columns (total 5 columns):\n",
      " #   Column          Non-Null Count   Dtype \n",
      "---  ------          --------------   ----- \n",
      " 0   event_datetime  135640 non-null  object\n",
      " 1   event           135640 non-null  object\n",
      " 2   building_type   127957 non-null  object\n",
      " 3   user_id         135640 non-null  object\n",
      " 4   project_type    1866 non-null    object\n",
      "dtypes: object(5)\n",
      "memory usage: 5.2+ MB\n",
      "\n",
      "Явные дубликаты: 1\n"
     ]
    }
   ],
   "source": [
    "df_info(game_log)"
   ]
  },
  {
   "cell_type": "code",
   "execution_count": 15,
   "metadata": {},
   "outputs": [
    {
     "name": "stdout",
     "output_type": "stream",
     "text": [
      "<class 'pandas.core.frame.DataFrame'>\n",
      "RangeIndex: 135640 entries, 0 to 135639\n",
      "Data columns (total 5 columns):\n",
      " #   Column          Non-Null Count   Dtype \n",
      "---  ------          --------------   ----- \n",
      " 0   event_datetime  135640 non-null  object\n",
      " 1   event           135640 non-null  object\n",
      " 2   building_type   127957 non-null  object\n",
      " 3   user_id         135640 non-null  object\n",
      " 4   project_type    1866 non-null    object\n",
      "dtypes: object(5)\n",
      "memory usage: 5.2+ MB\n"
     ]
    }
   ],
   "source": [
    "game_log.info()"
   ]
  },
  {
   "cell_type": "code",
   "execution_count": 16,
   "metadata": {},
   "outputs": [],
   "source": [
    "# заменим тип временной колонки\n",
    "\n",
    "game_log['event_datetime'] = pd.to_datetime(game_log['event_datetime'], format='%Y-%m-%d %H:%M:%S')"
   ]
  },
  {
   "cell_type": "code",
   "execution_count": 17,
   "metadata": {
    "scrolled": true
   },
   "outputs": [
    {
     "data": {
      "text/plain": [
       "event_datetime    datetime64[ns]\n",
       "event                     object\n",
       "building_type             object\n",
       "user_id                   object\n",
       "project_type              object\n",
       "dtype: object"
      ]
     },
     "execution_count": 17,
     "metadata": {},
     "output_type": "execute_result"
    }
   ],
   "source": [
    "# check\n",
    "\n",
    "game_log.dtypes"
   ]
  },
  {
   "cell_type": "code",
   "execution_count": 18,
   "metadata": {},
   "outputs": [
    {
     "data": {
      "text/plain": [
       "event_datetime    0.00\n",
       "event             0.00\n",
       "building_type     0.06\n",
       "user_id           0.00\n",
       "project_type      0.99\n",
       "dtype: float64"
      ]
     },
     "execution_count": 18,
     "metadata": {},
     "output_type": "execute_result"
    }
   ],
   "source": [
    "# пропуски есть, оценим их долю\n",
    "\n",
    "game_log.isna().mean()"
   ]
  },
  {
   "cell_type": "markdown",
   "metadata": {},
   "source": [
    "Характер пропусков в столбцах изучем позже в процессе EDA."
   ]
  },
  {
   "cell_type": "code",
   "execution_count": 19,
   "metadata": {},
   "outputs": [],
   "source": [
    "# избавимся от найденного дубликата\n",
    "\n",
    "game_log = game_log.drop_duplicates()"
   ]
  },
  {
   "cell_type": "code",
   "execution_count": 20,
   "metadata": {},
   "outputs": [
    {
     "data": {
      "text/plain": [
       "0"
      ]
     },
     "execution_count": 20,
     "metadata": {},
     "output_type": "execute_result"
    }
   ],
   "source": [
    "# check\n",
    "\n",
    "game_log.duplicated().sum()"
   ]
  },
  {
   "cell_type": "code",
   "execution_count": 21,
   "metadata": {},
   "outputs": [
    {
     "data": {
      "text/plain": [
       "min   2020-05-04 00:00:01\n",
       "max   2020-06-05 12:32:49\n",
       "Name: event_datetime, dtype: datetime64[ns]"
      ]
     },
     "execution_count": 21,
     "metadata": {},
     "output_type": "execute_result"
    }
   ],
   "source": [
    "game_log['event_datetime'].agg({'min','max'})"
   ]
  },
  {
   "cell_type": "markdown",
   "metadata": {},
   "source": [
    "Данные о событиях в игре представлены с 4 мая по 5 июня 2020 года (почти за месяц)."
   ]
  },
  {
   "cell_type": "markdown",
   "metadata": {},
   "source": [
    "## Исследовательский анализ данных"
   ]
  },
  {
   "cell_type": "markdown",
   "metadata": {},
   "source": [
    "### Распределение пользователей по источникам привлечения"
   ]
  },
  {
   "cell_type": "code",
   "execution_count": 22,
   "metadata": {
    "scrolled": true
   },
   "outputs": [
    {
     "data": {
      "text/html": [
       "<div>\n",
       "<style scoped>\n",
       "    .dataframe tbody tr th:only-of-type {\n",
       "        vertical-align: middle;\n",
       "    }\n",
       "\n",
       "    .dataframe tbody tr th {\n",
       "        vertical-align: top;\n",
       "    }\n",
       "\n",
       "    .dataframe thead th {\n",
       "        text-align: right;\n",
       "    }\n",
       "</style>\n",
       "<table border=\"1\" class=\"dataframe\">\n",
       "  <thead>\n",
       "    <tr style=\"text-align: right;\">\n",
       "      <th></th>\n",
       "      <th>source</th>\n",
       "      <th>user_id</th>\n",
       "    </tr>\n",
       "  </thead>\n",
       "  <tbody>\n",
       "    <tr>\n",
       "      <th>0</th>\n",
       "      <td>facebook_ads</td>\n",
       "      <td>2726</td>\n",
       "    </tr>\n",
       "    <tr>\n",
       "      <th>1</th>\n",
       "      <td>instagram_new_adverts</td>\n",
       "      <td>3347</td>\n",
       "    </tr>\n",
       "    <tr>\n",
       "      <th>2</th>\n",
       "      <td>yandex_direct</td>\n",
       "      <td>4817</td>\n",
       "    </tr>\n",
       "    <tr>\n",
       "      <th>3</th>\n",
       "      <td>youtube_channel_reklama</td>\n",
       "      <td>2686</td>\n",
       "    </tr>\n",
       "  </tbody>\n",
       "</table>\n",
       "</div>"
      ],
      "text/plain": [
       "                    source  user_id\n",
       "0             facebook_ads     2726\n",
       "1    instagram_new_adverts     3347\n",
       "2            yandex_direct     4817\n",
       "3  youtube_channel_reklama     2686"
      ]
     },
     "execution_count": 22,
     "metadata": {},
     "output_type": "execute_result"
    }
   ],
   "source": [
    "# посмотрим, откуда приходят пользователи\n",
    "\n",
    "users_by_source = users.groupby('source', as_index=False).agg({'user_id':'nunique'}).sort_values(by='source')\n",
    "users_by_source"
   ]
  },
  {
   "cell_type": "code",
   "execution_count": 23,
   "metadata": {},
   "outputs": [
    {
     "data": {
      "image/jpeg": "[encoded data removed]"
     },
     "metadata": {},
     "output_type": "display_data"
    }
   ],
   "source": [
    "# смотрим распределение пользователей по источникам\n",
    "\n",
    "fig = px.pie(\n",
    "             users_by_source,\n",
    "             values='user_id',\n",
    "             names='source',\n",
    "             title='Распределение привлеченных пользователей по рекламным источникам'\n",
    "             )\n",
    "\n",
    "colors=['gold', 'mediumturquoise', 'orange', 'lightgreen']\n",
    "\n",
    "fig.update_traces(\n",
    "                  labels=['Facebook', 'Instagram', 'Yandex.Direct', 'YouTube'],\n",
    "                  textposition='inside',\n",
    "                  textinfo='percent+label',\n",
    "                  marker=dict(colors=colors, line=dict(color='#000000', width=0.1)),\n",
    "                  pull=[0.03, 0.03, 0.03, 0.03],\n",
    "                  showlegend=False\n",
    "                        )\n",
    "fig.show(renderer='jpeg')"
   ]
  },
  {
   "cell_type": "markdown",
   "metadata": {},
   "source": [
    "**Яндекс.Директ** привлекает больше всего пользователей - **почти 35%**.\n",
    "\n",
    "**Instagram** занимает второе место по привлечению - **почти 25%**.\n",
    "\n",
    "**Остальные источники** примерно одинаковы - **около 20%**."
   ]
  },
  {
   "cell_type": "markdown",
   "metadata": {},
   "source": [
    "### Распределение трат по источникам привлечения, подсчет САС"
   ]
  },
  {
   "cell_type": "code",
   "execution_count": 24,
   "metadata": {},
   "outputs": [
    {
     "data": {
      "text/html": [
       "<div>\n",
       "<style scoped>\n",
       "    .dataframe tbody tr th:only-of-type {\n",
       "        vertical-align: middle;\n",
       "    }\n",
       "\n",
       "    .dataframe tbody tr th {\n",
       "        vertical-align: top;\n",
       "    }\n",
       "\n",
       "    .dataframe thead th {\n",
       "        text-align: right;\n",
       "    }\n",
       "</style>\n",
       "<table border=\"1\" class=\"dataframe\">\n",
       "  <thead>\n",
       "    <tr style=\"text-align: right;\">\n",
       "      <th></th>\n",
       "      <th>source</th>\n",
       "      <th>cost</th>\n",
       "    </tr>\n",
       "  </thead>\n",
       "  <tbody>\n",
       "    <tr>\n",
       "      <th>0</th>\n",
       "      <td>facebook_ads</td>\n",
       "      <td>2140</td>\n",
       "    </tr>\n",
       "    <tr>\n",
       "      <th>1</th>\n",
       "      <td>instagram_new_adverts</td>\n",
       "      <td>2161</td>\n",
       "    </tr>\n",
       "    <tr>\n",
       "      <th>2</th>\n",
       "      <td>yandex_direct</td>\n",
       "      <td>2233</td>\n",
       "    </tr>\n",
       "    <tr>\n",
       "      <th>3</th>\n",
       "      <td>youtube_channel_reklama</td>\n",
       "      <td>1068</td>\n",
       "    </tr>\n",
       "  </tbody>\n",
       "</table>\n",
       "</div>"
      ],
      "text/plain": [
       "                    source  cost\n",
       "0             facebook_ads  2140\n",
       "1    instagram_new_adverts  2161\n",
       "2            yandex_direct  2233\n",
       "3  youtube_channel_reklama  1068"
      ]
     },
     "execution_count": 24,
     "metadata": {},
     "output_type": "execute_result"
    }
   ],
   "source": [
    "# смотрим, сколько потрачено на привлечение через каждый источник\n",
    "\n",
    "costs_by_source = ad_costs.groupby('source', as_index=False).agg({'cost':'sum'}).sort_values(by='source')\n",
    "costs_by_source['cost'] = costs_by_source['cost'].astype('int')\n",
    "costs_by_source"
   ]
  },
  {
   "cell_type": "code",
   "execution_count": 25,
   "metadata": {
    "scrolled": false
   },
   "outputs": [
    {
     "data": {
      "image/jpeg": "[encoded data removed]"
     },
     "metadata": {},
     "output_type": "display_data"
    }
   ],
   "source": [
    "# посмотрим на суммарные затраты на привлечение по источникам в абсолютных величинах \n",
    "\n",
    "fig = px.bar(costs_by_source.sort_values(by='cost', ascending=False),\n",
    "             x=['Yandex.Direct', 'Instagram', 'Facebook', 'YouTube'],\n",
    "             y='cost',\n",
    "             text='cost',\n",
    "             title='Суммарные затраты на привлечение по источникам',\n",
    "             labels={'x': 'Источник привлечения',\n",
    "                     'cost': 'Суммарные затраты на привлечение'},\n",
    "             width=500, height=400,\n",
    "             color_discrete_sequence=px.colors.qualitative.Set3\n",
    "             )\n",
    "\n",
    "fig.update_traces(hoverinfo='skip')\n",
    "fig.show(renderer='jpeg') "
   ]
  },
  {
   "cell_type": "markdown",
   "metadata": {},
   "source": [
    "Траты на FaceBook, Яндекс.Директ и Инстаграм примерно одинаковы. На YouTube было выделено в 2 раза меньше денег."
   ]
  },
  {
   "cell_type": "code",
   "execution_count": 26,
   "metadata": {},
   "outputs": [],
   "source": [
    "# посчитаем САС\n",
    "\n",
    "users_by_source['CAC'] = round(costs_by_source['cost'] / users_by_source['user_id'], 2)"
   ]
  },
  {
   "cell_type": "code",
   "execution_count": 27,
   "metadata": {},
   "outputs": [
    {
     "data": {
      "text/html": [
       "<div>\n",
       "<style scoped>\n",
       "    .dataframe tbody tr th:only-of-type {\n",
       "        vertical-align: middle;\n",
       "    }\n",
       "\n",
       "    .dataframe tbody tr th {\n",
       "        vertical-align: top;\n",
       "    }\n",
       "\n",
       "    .dataframe thead th {\n",
       "        text-align: right;\n",
       "    }\n",
       "</style>\n",
       "<table border=\"1\" class=\"dataframe\">\n",
       "  <thead>\n",
       "    <tr style=\"text-align: right;\">\n",
       "      <th></th>\n",
       "      <th>source</th>\n",
       "      <th>user_id</th>\n",
       "      <th>CAC</th>\n",
       "    </tr>\n",
       "  </thead>\n",
       "  <tbody>\n",
       "    <tr>\n",
       "      <th>0</th>\n",
       "      <td>facebook_ads</td>\n",
       "      <td>2726</td>\n",
       "      <td>0.79</td>\n",
       "    </tr>\n",
       "    <tr>\n",
       "      <th>1</th>\n",
       "      <td>instagram_new_adverts</td>\n",
       "      <td>3347</td>\n",
       "      <td>0.65</td>\n",
       "    </tr>\n",
       "    <tr>\n",
       "      <th>2</th>\n",
       "      <td>yandex_direct</td>\n",
       "      <td>4817</td>\n",
       "      <td>0.46</td>\n",
       "    </tr>\n",
       "    <tr>\n",
       "      <th>3</th>\n",
       "      <td>youtube_channel_reklama</td>\n",
       "      <td>2686</td>\n",
       "      <td>0.40</td>\n",
       "    </tr>\n",
       "  </tbody>\n",
       "</table>\n",
       "</div>"
      ],
      "text/plain": [
       "                    source  user_id   CAC\n",
       "0             facebook_ads     2726  0.79\n",
       "1    instagram_new_adverts     3347  0.65\n",
       "2            yandex_direct     4817  0.46\n",
       "3  youtube_channel_reklama     2686  0.40"
      ]
     },
     "execution_count": 27,
     "metadata": {},
     "output_type": "execute_result"
    }
   ],
   "source": [
    "users_by_source.sort_values(by='CAC', ascending=False)"
   ]
  },
  {
   "cell_type": "code",
   "execution_count": 28,
   "metadata": {},
   "outputs": [
    {
     "data": {
      "image/jpeg": "[encoded data removed]"
     },
     "metadata": {},
     "output_type": "display_data"
    }
   ],
   "source": [
    "# смотрим, как распределяется САС по источникам привлечения\n",
    "\n",
    "x=['Facebook', 'Instagram', 'Yandex.Direct', 'YouTube']\n",
    "\n",
    "fig = px.bar(users_by_source,\n",
    "             x=x,\n",
    "             y='CAC',\n",
    "             text='CAC',\n",
    "             title='САС в зависимости от источника',\n",
    "             labels={'x': 'Источник привлечения'},\n",
    "             width=500, height=400,\n",
    "             color_discrete_sequence=px.colors.qualitative.Pastel)\n",
    "\n",
    "fig.show(renderer='jpeg') "
   ]
  },
  {
   "cell_type": "markdown",
   "metadata": {},
   "source": [
    "Яндекс.Директ приносит больше всего пользователей, причем недорогих пользователей. \n",
    "\n",
    "Однако, **самые дешевые пользователи приходят с Youtube**."
   ]
  },
  {
   "cell_type": "markdown",
   "metadata": {},
   "source": [
    "### Изучение поведения пользователей в игре:"
   ]
  },
  {
   "cell_type": "markdown",
   "metadata": {},
   "source": [
    "#### Какие типы игровой стратегии можно выделить?"
   ]
  },
  {
   "cell_type": "code",
   "execution_count": 29,
   "metadata": {},
   "outputs": [
    {
     "data": {
      "text/plain": [
       "array(['building', 'finished_stage_1', 'project'], dtype=object)"
      ]
     },
     "execution_count": 29,
     "metadata": {},
     "output_type": "execute_result"
    }
   ],
   "source": [
    "# посмотрим, какие события есть в датасете\n",
    "\n",
    "game_log['event'].unique()"
   ]
  },
  {
   "cell_type": "markdown",
   "metadata": {},
   "source": [
    "Попытаемся разобраться в стратегиях, которые применяют пользователи."
   ]
  },
  {
   "cell_type": "code",
   "execution_count": 30,
   "metadata": {},
   "outputs": [],
   "source": [
    "# для начала выделим юзеров, которые уже завершили первый уровень\n",
    "\n",
    "level_finished = game_log.query('event == \"finished_stage_1\"')\n",
    "level_finished_list = list(level_finished['user_id'])"
   ]
  },
  {
   "cell_type": "code",
   "execution_count": 31,
   "metadata": {},
   "outputs": [],
   "source": [
    "# сделаем срез данных только с теми пользователями, которые уже закончили уровень\n",
    "\n",
    "only_finished_users = game_log.query('user_id in @level_finished_list')"
   ]
  },
  {
   "cell_type": "markdown",
   "metadata": {},
   "source": [
    "Так как возможны 2 стратегии победы: через строительство орбитального проекта (назовем их **строителями**) и через победу над врагом (назовем их **воителями**), попробуем отделить пользователей друг от друга по выбранной стратегии."
   ]
  },
  {
   "cell_type": "code",
   "execution_count": 32,
   "metadata": {},
   "outputs": [],
   "source": [
    "# список пользователей, завершивших строительство проекта - строители\n",
    "\n",
    "builders = game_log.loc[game_log['event'] == 'project']\n",
    "builders_list = list(builders['user_id'].unique())"
   ]
  },
  {
   "cell_type": "code",
   "execution_count": 33,
   "metadata": {},
   "outputs": [
    {
     "data": {
      "text/plain": [
       "1866"
      ]
     },
     "execution_count": 33,
     "metadata": {},
     "output_type": "execute_result"
    }
   ],
   "source": [
    "# датасет с пользователями - строителями\n",
    "\n",
    "builders_data = only_finished_users.query('user_id in @builders_list')\n",
    "builders_data['user_id'].nunique()"
   ]
  },
  {
   "cell_type": "code",
   "execution_count": 34,
   "metadata": {},
   "outputs": [
    {
     "data": {
      "text/plain": [
       "3951"
      ]
     },
     "execution_count": 34,
     "metadata": {},
     "output_type": "execute_result"
    }
   ],
   "source": [
    "# датасет с пользователями - воителями\n",
    "\n",
    "fighters_data = only_finished_users.query('user_id not in @builders_list')\n",
    "fighters_data['user_id'].nunique()"
   ]
  },
  {
   "cell_type": "markdown",
   "metadata": {},
   "source": [
    "**Почти в 2 раза больше пользователей предпочитают драться, чем строить.**"
   ]
  },
  {
   "cell_type": "markdown",
   "metadata": {},
   "source": [
    "#### Сколько пользователи проводят времени  в игре?"
   ]
  },
  {
   "cell_type": "markdown",
   "metadata": {},
   "source": [
    "Посмотрим, сколько действий в среднем совершают пользователи, в зависимости от игровой стратегии"
   ]
  },
  {
   "cell_type": "code",
   "execution_count": 35,
   "metadata": {
    "scrolled": false
   },
   "outputs": [
    {
     "data": {
      "text/plain": [
       "event    14.00\n",
       "dtype: float64"
      ]
     },
     "execution_count": 35,
     "metadata": {},
     "output_type": "execute_result"
    }
   ],
   "source": [
    "# строители\n",
    "\n",
    "builders_data.groupby('user_id').agg({'event':'count'}).median()"
   ]
  },
  {
   "cell_type": "code",
   "execution_count": 36,
   "metadata": {
    "scrolled": true
   },
   "outputs": [
    {
     "data": {
      "text/plain": [
       "event    11.00\n",
       "dtype: float64"
      ]
     },
     "execution_count": 36,
     "metadata": {},
     "output_type": "execute_result"
    }
   ],
   "source": [
    "# воители\n",
    "\n",
    "fighters_data.groupby('user_id').agg({'event':'count'}).median()"
   ]
  },
  {
   "cell_type": "markdown",
   "metadata": {},
   "source": [
    "Строители в среднем совершают больше действий в игре: это логично, так как для победы строителям нужно совершить минимум 2 действия, а воителям - одно."
   ]
  },
  {
   "cell_type": "markdown",
   "metadata": {},
   "source": [
    "Посмотрим, сколько построек в среднем строят игроки из обеих групп."
   ]
  },
  {
   "cell_type": "code",
   "execution_count": 37,
   "metadata": {
    "scrolled": false
   },
   "outputs": [
    {
     "data": {
      "text/plain": [
       "event    12.00\n",
       "dtype: float64"
      ]
     },
     "execution_count": 37,
     "metadata": {},
     "output_type": "execute_result"
    }
   ],
   "source": [
    "# сколько зданий строят строители\n",
    "\n",
    "builders_data.query('event == \"building\"').groupby('user_id').agg({'event':'count'}).median()"
   ]
  },
  {
   "cell_type": "code",
   "execution_count": 38,
   "metadata": {
    "scrolled": true
   },
   "outputs": [
    {
     "data": {
      "text/plain": [
       "event    10.00\n",
       "dtype: float64"
      ]
     },
     "execution_count": 38,
     "metadata": {},
     "output_type": "execute_result"
    }
   ],
   "source": [
    "# сколько зданий строят воители\n",
    "\n",
    "fighters_data.query('event == \"building\"').groupby('user_id').agg({'event':'count'}).median()"
   ]
  },
  {
   "cell_type": "markdown",
   "metadata": {
    "scrolled": true
   },
   "source": [
    "И строители, и воители строят объекты, но в среднем строители строят на 20% больше зданий, чем воители, следовательно на 20% чаще видят карточки с постройками."
   ]
  },
  {
   "cell_type": "markdown",
   "metadata": {},
   "source": [
    "#### Cколько пользователи тратят времени на 1й уровень"
   ]
  },
  {
   "cell_type": "code",
   "execution_count": 39,
   "metadata": {},
   "outputs": [
    {
     "data": {
      "text/html": [
       "<div>\n",
       "<style scoped>\n",
       "    .dataframe tbody tr th:only-of-type {\n",
       "        vertical-align: middle;\n",
       "    }\n",
       "\n",
       "    .dataframe tbody tr th {\n",
       "        vertical-align: top;\n",
       "    }\n",
       "\n",
       "    .dataframe thead th {\n",
       "        text-align: right;\n",
       "    }\n",
       "</style>\n",
       "<table border=\"1\" class=\"dataframe\">\n",
       "  <thead>\n",
       "    <tr style=\"text-align: right;\">\n",
       "      <th></th>\n",
       "      <th>user_id</th>\n",
       "      <th>min</th>\n",
       "      <th>max</th>\n",
       "    </tr>\n",
       "  </thead>\n",
       "  <tbody>\n",
       "    <tr>\n",
       "      <th>0</th>\n",
       "      <td>006380d6-67a6-45de-ab1e-6eb54ad8dbe8</td>\n",
       "      <td>2020-05-04 16:43:39</td>\n",
       "      <td>2020-05-16 11:22:33</td>\n",
       "    </tr>\n",
       "    <tr>\n",
       "      <th>1</th>\n",
       "      <td>00be7371-fa79-4fbd-b8e7-8ba32e3f8f82</td>\n",
       "      <td>2020-05-08 21:57:44</td>\n",
       "      <td>2020-05-24 19:05:12</td>\n",
       "    </tr>\n",
       "    <tr>\n",
       "      <th>2</th>\n",
       "      <td>00c2b9f2-2615-439c-aed0-6974e4c6c1c1</td>\n",
       "      <td>2020-05-07 10:26:09</td>\n",
       "      <td>2020-05-27 11:38:47</td>\n",
       "    </tr>\n",
       "    <tr>\n",
       "      <th>3</th>\n",
       "      <td>00de2809-403e-4476-a2f7-ca1b11700190</td>\n",
       "      <td>2020-05-04 07:48:50</td>\n",
       "      <td>2020-05-18 09:34:10</td>\n",
       "    </tr>\n",
       "    <tr>\n",
       "      <th>4</th>\n",
       "      <td>00e83261-5fd4-4939-9616-802b5a0202c6</td>\n",
       "      <td>2020-05-05 15:49:57</td>\n",
       "      <td>2020-05-20 09:35:04</td>\n",
       "    </tr>\n",
       "  </tbody>\n",
       "</table>\n",
       "</div>"
      ],
      "text/plain": [
       "                                user_id                 min  \\\n",
       "0  006380d6-67a6-45de-ab1e-6eb54ad8dbe8 2020-05-04 16:43:39   \n",
       "1  00be7371-fa79-4fbd-b8e7-8ba32e3f8f82 2020-05-08 21:57:44   \n",
       "2  00c2b9f2-2615-439c-aed0-6974e4c6c1c1 2020-05-07 10:26:09   \n",
       "3  00de2809-403e-4476-a2f7-ca1b11700190 2020-05-04 07:48:50   \n",
       "4  00e83261-5fd4-4939-9616-802b5a0202c6 2020-05-05 15:49:57   \n",
       "\n",
       "                  max  \n",
       "0 2020-05-16 11:22:33  \n",
       "1 2020-05-24 19:05:12  \n",
       "2 2020-05-27 11:38:47  \n",
       "3 2020-05-18 09:34:10  \n",
       "4 2020-05-20 09:35:04  "
      ]
     },
     "execution_count": 39,
     "metadata": {},
     "output_type": "execute_result"
    }
   ],
   "source": [
    "# строители \n",
    "\n",
    "builders_time = builders_data.groupby('user_id', as_index=False).agg({'event_datetime':['min','max']})\n",
    "builders_time.columns=['user_id', 'min', 'max']\n",
    "builders_time.head()"
   ]
  },
  {
   "cell_type": "code",
   "execution_count": 40,
   "metadata": {},
   "outputs": [],
   "source": [
    "# сколько в среднем занимает у строителей пройти первый уровень (в часах)\n",
    "\n",
    "builders_time['duration'] = builders_time['max'] - builders_time['min']\n",
    "builders_time['hours'] = builders_time['duration'].apply(lambda x: x/np.timedelta64(1,'h'))"
   ]
  },
  {
   "cell_type": "code",
   "execution_count": 41,
   "metadata": {},
   "outputs": [
    {
     "data": {
      "text/plain": [
       "count    1866.00\n",
       "mean      323.01\n",
       "std        84.18\n",
       "min       123.37\n",
       "25%       262.83\n",
       "50%       312.76\n",
       "75%       373.79\n",
       "max       699.23\n",
       "Name: hours, dtype: float64"
      ]
     },
     "execution_count": 41,
     "metadata": {},
     "output_type": "execute_result"
    }
   ],
   "source": [
    "# смотрим статистику по затраченному времени у строителей\n",
    "\n",
    "builders_time['hours'].describe()"
   ]
  },
  {
   "cell_type": "markdown",
   "metadata": {},
   "source": [
    "**Строители** затрачивают порядка **312 часов** на завершение первого уровня (медианное значение) - **13 дней**."
   ]
  },
  {
   "cell_type": "code",
   "execution_count": 42,
   "metadata": {},
   "outputs": [
    {
     "data": {
      "text/html": [
       "<div>\n",
       "<style scoped>\n",
       "    .dataframe tbody tr th:only-of-type {\n",
       "        vertical-align: middle;\n",
       "    }\n",
       "\n",
       "    .dataframe tbody tr th {\n",
       "        vertical-align: top;\n",
       "    }\n",
       "\n",
       "    .dataframe thead th {\n",
       "        text-align: right;\n",
       "    }\n",
       "</style>\n",
       "<table border=\"1\" class=\"dataframe\">\n",
       "  <thead>\n",
       "    <tr style=\"text-align: right;\">\n",
       "      <th></th>\n",
       "      <th>user_id</th>\n",
       "      <th>min</th>\n",
       "      <th>max</th>\n",
       "    </tr>\n",
       "  </thead>\n",
       "  <tbody>\n",
       "    <tr>\n",
       "      <th>0</th>\n",
       "      <td>001d39dc-366c-4021-9604-6a3b9ff01e25</td>\n",
       "      <td>2020-05-05 21:02:05</td>\n",
       "      <td>2020-05-12 07:40:47</td>\n",
       "    </tr>\n",
       "    <tr>\n",
       "      <th>1</th>\n",
       "      <td>003ee7e8-6356-4286-a715-62f22a18d2a1</td>\n",
       "      <td>2020-05-05 08:31:04</td>\n",
       "      <td>2020-05-17 21:47:49</td>\n",
       "    </tr>\n",
       "    <tr>\n",
       "      <th>2</th>\n",
       "      <td>004074f8-251a-4776-922c-8348dca1a2f6</td>\n",
       "      <td>2020-05-04 01:07:35</td>\n",
       "      <td>2020-05-16 19:57:40</td>\n",
       "    </tr>\n",
       "    <tr>\n",
       "      <th>3</th>\n",
       "      <td>00464e5e-28ed-4be6-bf44-517ef7b3937b</td>\n",
       "      <td>2020-05-04 08:35:29</td>\n",
       "      <td>2020-05-15 16:02:01</td>\n",
       "    </tr>\n",
       "    <tr>\n",
       "      <th>4</th>\n",
       "      <td>0056c007-c082-43cc-bdef-afc49bca4cb9</td>\n",
       "      <td>2020-05-10 11:49:47</td>\n",
       "      <td>2020-05-16 13:48:39</td>\n",
       "    </tr>\n",
       "  </tbody>\n",
       "</table>\n",
       "</div>"
      ],
      "text/plain": [
       "                                user_id                 min  \\\n",
       "0  001d39dc-366c-4021-9604-6a3b9ff01e25 2020-05-05 21:02:05   \n",
       "1  003ee7e8-6356-4286-a715-62f22a18d2a1 2020-05-05 08:31:04   \n",
       "2  004074f8-251a-4776-922c-8348dca1a2f6 2020-05-04 01:07:35   \n",
       "3  00464e5e-28ed-4be6-bf44-517ef7b3937b 2020-05-04 08:35:29   \n",
       "4  0056c007-c082-43cc-bdef-afc49bca4cb9 2020-05-10 11:49:47   \n",
       "\n",
       "                  max  \n",
       "0 2020-05-12 07:40:47  \n",
       "1 2020-05-17 21:47:49  \n",
       "2 2020-05-16 19:57:40  \n",
       "3 2020-05-15 16:02:01  \n",
       "4 2020-05-16 13:48:39  "
      ]
     },
     "execution_count": 42,
     "metadata": {},
     "output_type": "execute_result"
    }
   ],
   "source": [
    "# воители \n",
    "\n",
    "fighters_time = fighters_data.groupby('user_id', as_index=False).agg({'event_datetime':['min','max']})\n",
    "fighters_time.columns=['user_id', 'min', 'max']\n",
    "fighters_time.head()"
   ]
  },
  {
   "cell_type": "code",
   "execution_count": 43,
   "metadata": {},
   "outputs": [
    {
     "data": {
      "text/html": [
       "<div>\n",
       "<style scoped>\n",
       "    .dataframe tbody tr th:only-of-type {\n",
       "        vertical-align: middle;\n",
       "    }\n",
       "\n",
       "    .dataframe tbody tr th {\n",
       "        vertical-align: top;\n",
       "    }\n",
       "\n",
       "    .dataframe thead th {\n",
       "        text-align: right;\n",
       "    }\n",
       "</style>\n",
       "<table border=\"1\" class=\"dataframe\">\n",
       "  <thead>\n",
       "    <tr style=\"text-align: right;\">\n",
       "      <th></th>\n",
       "      <th>user_id</th>\n",
       "      <th>min</th>\n",
       "      <th>max</th>\n",
       "      <th>duration</th>\n",
       "      <th>hours</th>\n",
       "    </tr>\n",
       "  </thead>\n",
       "  <tbody>\n",
       "    <tr>\n",
       "      <th>0</th>\n",
       "      <td>001d39dc-366c-4021-9604-6a3b9ff01e25</td>\n",
       "      <td>2020-05-05 21:02:05</td>\n",
       "      <td>2020-05-12 07:40:47</td>\n",
       "      <td>6 days 10:38:42</td>\n",
       "      <td>154.65</td>\n",
       "    </tr>\n",
       "    <tr>\n",
       "      <th>1</th>\n",
       "      <td>003ee7e8-6356-4286-a715-62f22a18d2a1</td>\n",
       "      <td>2020-05-05 08:31:04</td>\n",
       "      <td>2020-05-17 21:47:49</td>\n",
       "      <td>12 days 13:16:45</td>\n",
       "      <td>301.28</td>\n",
       "    </tr>\n",
       "    <tr>\n",
       "      <th>2</th>\n",
       "      <td>004074f8-251a-4776-922c-8348dca1a2f6</td>\n",
       "      <td>2020-05-04 01:07:35</td>\n",
       "      <td>2020-05-16 19:57:40</td>\n",
       "      <td>12 days 18:50:05</td>\n",
       "      <td>306.83</td>\n",
       "    </tr>\n",
       "    <tr>\n",
       "      <th>3</th>\n",
       "      <td>00464e5e-28ed-4be6-bf44-517ef7b3937b</td>\n",
       "      <td>2020-05-04 08:35:29</td>\n",
       "      <td>2020-05-15 16:02:01</td>\n",
       "      <td>11 days 07:26:32</td>\n",
       "      <td>271.44</td>\n",
       "    </tr>\n",
       "    <tr>\n",
       "      <th>4</th>\n",
       "      <td>0056c007-c082-43cc-bdef-afc49bca4cb9</td>\n",
       "      <td>2020-05-10 11:49:47</td>\n",
       "      <td>2020-05-16 13:48:39</td>\n",
       "      <td>6 days 01:58:52</td>\n",
       "      <td>145.98</td>\n",
       "    </tr>\n",
       "  </tbody>\n",
       "</table>\n",
       "</div>"
      ],
      "text/plain": [
       "                                user_id                 min  \\\n",
       "0  001d39dc-366c-4021-9604-6a3b9ff01e25 2020-05-05 21:02:05   \n",
       "1  003ee7e8-6356-4286-a715-62f22a18d2a1 2020-05-05 08:31:04   \n",
       "2  004074f8-251a-4776-922c-8348dca1a2f6 2020-05-04 01:07:35   \n",
       "3  00464e5e-28ed-4be6-bf44-517ef7b3937b 2020-05-04 08:35:29   \n",
       "4  0056c007-c082-43cc-bdef-afc49bca4cb9 2020-05-10 11:49:47   \n",
       "\n",
       "                  max         duration   hours  \n",
       "0 2020-05-12 07:40:47  6 days 10:38:42  154.65  \n",
       "1 2020-05-17 21:47:49 12 days 13:16:45  301.28  \n",
       "2 2020-05-16 19:57:40 12 days 18:50:05  306.83  \n",
       "3 2020-05-15 16:02:01 11 days 07:26:32  271.44  \n",
       "4 2020-05-16 13:48:39  6 days 01:58:52  145.98  "
      ]
     },
     "execution_count": 43,
     "metadata": {},
     "output_type": "execute_result"
    }
   ],
   "source": [
    "# сколько в среднем занимает у воителей пройти первый уровень (в часах)\n",
    "\n",
    "fighters_time['duration'] = fighters_time['max'] - fighters_time['min']\n",
    "fighters_time['hours'] = fighters_time['duration'].apply(lambda x: x/np.timedelta64(1,'h'))\n",
    "fighters_time.head()"
   ]
  },
  {
   "cell_type": "code",
   "execution_count": 44,
   "metadata": {
    "scrolled": true
   },
   "outputs": [
    {
     "data": {
      "text/plain": [
       "count    3951.00\n",
       "mean      266.51\n",
       "std        98.30\n",
       "min         9.65\n",
       "25%       199.02\n",
       "50%       259.03\n",
       "75%       322.55\n",
       "max       741.98\n",
       "Name: hours, dtype: float64"
      ]
     },
     "execution_count": 44,
     "metadata": {},
     "output_type": "execute_result"
    }
   ],
   "source": [
    "# смотрим статистику по по затраченному времени у воителей\n",
    "\n",
    "fighters_time['hours'].describe()"
   ]
  },
  {
   "cell_type": "markdown",
   "metadata": {},
   "source": [
    "**Воители** затрачивают порядка **259 часов** на завершение первого уровня (медианное значение) - **почти 11 дней**."
   ]
  },
  {
   "cell_type": "code",
   "execution_count": 45,
   "metadata": {},
   "outputs": [],
   "source": [
    "# добавим категорию стратегии в датасет со стороителями\n",
    "\n",
    "builders_time['strategy'] = 'builder'"
   ]
  },
  {
   "cell_type": "code",
   "execution_count": 46,
   "metadata": {},
   "outputs": [
    {
     "data": {
      "text/html": [
       "<div>\n",
       "<style scoped>\n",
       "    .dataframe tbody tr th:only-of-type {\n",
       "        vertical-align: middle;\n",
       "    }\n",
       "\n",
       "    .dataframe tbody tr th {\n",
       "        vertical-align: top;\n",
       "    }\n",
       "\n",
       "    .dataframe thead th {\n",
       "        text-align: right;\n",
       "    }\n",
       "</style>\n",
       "<table border=\"1\" class=\"dataframe\">\n",
       "  <thead>\n",
       "    <tr style=\"text-align: right;\">\n",
       "      <th></th>\n",
       "      <th>user_id</th>\n",
       "      <th>min</th>\n",
       "      <th>max</th>\n",
       "      <th>duration</th>\n",
       "      <th>hours</th>\n",
       "      <th>strategy</th>\n",
       "      <th>source</th>\n",
       "    </tr>\n",
       "  </thead>\n",
       "  <tbody>\n",
       "    <tr>\n",
       "      <th>0</th>\n",
       "      <td>006380d6-67a6-45de-ab1e-6eb54ad8dbe8</td>\n",
       "      <td>2020-05-04 16:43:39</td>\n",
       "      <td>2020-05-16 11:22:33</td>\n",
       "      <td>11 days 18:38:54</td>\n",
       "      <td>282.65</td>\n",
       "      <td>builder</td>\n",
       "      <td>youtube_channel_reklama</td>\n",
       "    </tr>\n",
       "    <tr>\n",
       "      <th>1</th>\n",
       "      <td>00be7371-fa79-4fbd-b8e7-8ba32e3f8f82</td>\n",
       "      <td>2020-05-08 21:57:44</td>\n",
       "      <td>2020-05-24 19:05:12</td>\n",
       "      <td>15 days 21:07:28</td>\n",
       "      <td>381.12</td>\n",
       "      <td>builder</td>\n",
       "      <td>instagram_new_adverts</td>\n",
       "    </tr>\n",
       "    <tr>\n",
       "      <th>2</th>\n",
       "      <td>00c2b9f2-2615-439c-aed0-6974e4c6c1c1</td>\n",
       "      <td>2020-05-07 10:26:09</td>\n",
       "      <td>2020-05-27 11:38:47</td>\n",
       "      <td>20 days 01:12:38</td>\n",
       "      <td>481.21</td>\n",
       "      <td>builder</td>\n",
       "      <td>youtube_channel_reklama</td>\n",
       "    </tr>\n",
       "    <tr>\n",
       "      <th>3</th>\n",
       "      <td>00de2809-403e-4476-a2f7-ca1b11700190</td>\n",
       "      <td>2020-05-04 07:48:50</td>\n",
       "      <td>2020-05-18 09:34:10</td>\n",
       "      <td>14 days 01:45:20</td>\n",
       "      <td>337.76</td>\n",
       "      <td>builder</td>\n",
       "      <td>instagram_new_adverts</td>\n",
       "    </tr>\n",
       "    <tr>\n",
       "      <th>4</th>\n",
       "      <td>00e83261-5fd4-4939-9616-802b5a0202c6</td>\n",
       "      <td>2020-05-05 15:49:57</td>\n",
       "      <td>2020-05-20 09:35:04</td>\n",
       "      <td>14 days 17:45:07</td>\n",
       "      <td>353.75</td>\n",
       "      <td>builder</td>\n",
       "      <td>yandex_direct</td>\n",
       "    </tr>\n",
       "  </tbody>\n",
       "</table>\n",
       "</div>"
      ],
      "text/plain": [
       "                                user_id                 min  \\\n",
       "0  006380d6-67a6-45de-ab1e-6eb54ad8dbe8 2020-05-04 16:43:39   \n",
       "1  00be7371-fa79-4fbd-b8e7-8ba32e3f8f82 2020-05-08 21:57:44   \n",
       "2  00c2b9f2-2615-439c-aed0-6974e4c6c1c1 2020-05-07 10:26:09   \n",
       "3  00de2809-403e-4476-a2f7-ca1b11700190 2020-05-04 07:48:50   \n",
       "4  00e83261-5fd4-4939-9616-802b5a0202c6 2020-05-05 15:49:57   \n",
       "\n",
       "                  max         duration   hours strategy  \\\n",
       "0 2020-05-16 11:22:33 11 days 18:38:54  282.65  builder   \n",
       "1 2020-05-24 19:05:12 15 days 21:07:28  381.12  builder   \n",
       "2 2020-05-27 11:38:47 20 days 01:12:38  481.21  builder   \n",
       "3 2020-05-18 09:34:10 14 days 01:45:20  337.76  builder   \n",
       "4 2020-05-20 09:35:04 14 days 17:45:07  353.75  builder   \n",
       "\n",
       "                    source  \n",
       "0  youtube_channel_reklama  \n",
       "1    instagram_new_adverts  \n",
       "2  youtube_channel_reklama  \n",
       "3    instagram_new_adverts  \n",
       "4            yandex_direct  "
      ]
     },
     "execution_count": 46,
     "metadata": {},
     "output_type": "execute_result"
    }
   ],
   "source": [
    "# добавим источник привлечения\n",
    "\n",
    "builders = builders_time.merge(users, on='user_id', how='left')\n",
    "builders.head()"
   ]
  },
  {
   "cell_type": "code",
   "execution_count": 47,
   "metadata": {},
   "outputs": [],
   "source": [
    "# добавим категорию стратегии в датасет с воителями\n",
    "\n",
    "fighters_time['strategy'] = 'fighter'"
   ]
  },
  {
   "cell_type": "code",
   "execution_count": 48,
   "metadata": {},
   "outputs": [
    {
     "data": {
      "text/html": [
       "<div>\n",
       "<style scoped>\n",
       "    .dataframe tbody tr th:only-of-type {\n",
       "        vertical-align: middle;\n",
       "    }\n",
       "\n",
       "    .dataframe tbody tr th {\n",
       "        vertical-align: top;\n",
       "    }\n",
       "\n",
       "    .dataframe thead th {\n",
       "        text-align: right;\n",
       "    }\n",
       "</style>\n",
       "<table border=\"1\" class=\"dataframe\">\n",
       "  <thead>\n",
       "    <tr style=\"text-align: right;\">\n",
       "      <th></th>\n",
       "      <th>user_id</th>\n",
       "      <th>min</th>\n",
       "      <th>max</th>\n",
       "      <th>duration</th>\n",
       "      <th>hours</th>\n",
       "      <th>strategy</th>\n",
       "      <th>source</th>\n",
       "    </tr>\n",
       "  </thead>\n",
       "  <tbody>\n",
       "    <tr>\n",
       "      <th>0</th>\n",
       "      <td>001d39dc-366c-4021-9604-6a3b9ff01e25</td>\n",
       "      <td>2020-05-05 21:02:05</td>\n",
       "      <td>2020-05-12 07:40:47</td>\n",
       "      <td>6 days 10:38:42</td>\n",
       "      <td>154.65</td>\n",
       "      <td>fighter</td>\n",
       "      <td>instagram_new_adverts</td>\n",
       "    </tr>\n",
       "    <tr>\n",
       "      <th>1</th>\n",
       "      <td>003ee7e8-6356-4286-a715-62f22a18d2a1</td>\n",
       "      <td>2020-05-05 08:31:04</td>\n",
       "      <td>2020-05-17 21:47:49</td>\n",
       "      <td>12 days 13:16:45</td>\n",
       "      <td>301.28</td>\n",
       "      <td>fighter</td>\n",
       "      <td>instagram_new_adverts</td>\n",
       "    </tr>\n",
       "    <tr>\n",
       "      <th>2</th>\n",
       "      <td>004074f8-251a-4776-922c-8348dca1a2f6</td>\n",
       "      <td>2020-05-04 01:07:35</td>\n",
       "      <td>2020-05-16 19:57:40</td>\n",
       "      <td>12 days 18:50:05</td>\n",
       "      <td>306.83</td>\n",
       "      <td>fighter</td>\n",
       "      <td>facebook_ads</td>\n",
       "    </tr>\n",
       "    <tr>\n",
       "      <th>3</th>\n",
       "      <td>00464e5e-28ed-4be6-bf44-517ef7b3937b</td>\n",
       "      <td>2020-05-04 08:35:29</td>\n",
       "      <td>2020-05-15 16:02:01</td>\n",
       "      <td>11 days 07:26:32</td>\n",
       "      <td>271.44</td>\n",
       "      <td>fighter</td>\n",
       "      <td>yandex_direct</td>\n",
       "    </tr>\n",
       "    <tr>\n",
       "      <th>4</th>\n",
       "      <td>0056c007-c082-43cc-bdef-afc49bca4cb9</td>\n",
       "      <td>2020-05-10 11:49:47</td>\n",
       "      <td>2020-05-16 13:48:39</td>\n",
       "      <td>6 days 01:58:52</td>\n",
       "      <td>145.98</td>\n",
       "      <td>fighter</td>\n",
       "      <td>instagram_new_adverts</td>\n",
       "    </tr>\n",
       "  </tbody>\n",
       "</table>\n",
       "</div>"
      ],
      "text/plain": [
       "                                user_id                 min  \\\n",
       "0  001d39dc-366c-4021-9604-6a3b9ff01e25 2020-05-05 21:02:05   \n",
       "1  003ee7e8-6356-4286-a715-62f22a18d2a1 2020-05-05 08:31:04   \n",
       "2  004074f8-251a-4776-922c-8348dca1a2f6 2020-05-04 01:07:35   \n",
       "3  00464e5e-28ed-4be6-bf44-517ef7b3937b 2020-05-04 08:35:29   \n",
       "4  0056c007-c082-43cc-bdef-afc49bca4cb9 2020-05-10 11:49:47   \n",
       "\n",
       "                  max         duration   hours strategy                 source  \n",
       "0 2020-05-12 07:40:47  6 days 10:38:42  154.65  fighter  instagram_new_adverts  \n",
       "1 2020-05-17 21:47:49 12 days 13:16:45  301.28  fighter  instagram_new_adverts  \n",
       "2 2020-05-16 19:57:40 12 days 18:50:05  306.83  fighter           facebook_ads  \n",
       "3 2020-05-15 16:02:01 11 days 07:26:32  271.44  fighter          yandex_direct  \n",
       "4 2020-05-16 13:48:39  6 days 01:58:52  145.98  fighter  instagram_new_adverts  "
      ]
     },
     "execution_count": 48,
     "metadata": {},
     "output_type": "execute_result"
    }
   ],
   "source": [
    "# добавим источник привлечения\n",
    "\n",
    "fighters = fighters_time.merge(users, on='user_id', how='left')\n",
    "fighters.head()"
   ]
  },
  {
   "cell_type": "code",
   "execution_count": 49,
   "metadata": {},
   "outputs": [],
   "source": [
    "# соберем общий датасет с источниками, стратегией игры и продолжительностью игры\n",
    "\n",
    "agg_data = pd.concat([fighters, builders], \n",
    "                                axis=0,\n",
    "                                join=\"outer\",\n",
    "                                ignore_index=True)"
   ]
  },
  {
   "cell_type": "code",
   "execution_count": 50,
   "metadata": {
    "scrolled": true
   },
   "outputs": [
    {
     "data": {
      "text/html": [
       "<div>\n",
       "<style scoped>\n",
       "    .dataframe tbody tr th:only-of-type {\n",
       "        vertical-align: middle;\n",
       "    }\n",
       "\n",
       "    .dataframe tbody tr th {\n",
       "        vertical-align: top;\n",
       "    }\n",
       "\n",
       "    .dataframe thead th {\n",
       "        text-align: right;\n",
       "    }\n",
       "</style>\n",
       "<table border=\"1\" class=\"dataframe\">\n",
       "  <thead>\n",
       "    <tr style=\"text-align: right;\">\n",
       "      <th></th>\n",
       "      <th>user_id</th>\n",
       "      <th>min</th>\n",
       "      <th>max</th>\n",
       "      <th>duration</th>\n",
       "      <th>hours</th>\n",
       "      <th>strategy</th>\n",
       "      <th>source</th>\n",
       "    </tr>\n",
       "  </thead>\n",
       "  <tbody>\n",
       "    <tr>\n",
       "      <th>0</th>\n",
       "      <td>001d39dc-366c-4021-9604-6a3b9ff01e25</td>\n",
       "      <td>2020-05-05 21:02:05</td>\n",
       "      <td>2020-05-12 07:40:47</td>\n",
       "      <td>6 days 10:38:42</td>\n",
       "      <td>154.65</td>\n",
       "      <td>fighter</td>\n",
       "      <td>instagram_new_adverts</td>\n",
       "    </tr>\n",
       "    <tr>\n",
       "      <th>1</th>\n",
       "      <td>003ee7e8-6356-4286-a715-62f22a18d2a1</td>\n",
       "      <td>2020-05-05 08:31:04</td>\n",
       "      <td>2020-05-17 21:47:49</td>\n",
       "      <td>12 days 13:16:45</td>\n",
       "      <td>301.28</td>\n",
       "      <td>fighter</td>\n",
       "      <td>instagram_new_adverts</td>\n",
       "    </tr>\n",
       "    <tr>\n",
       "      <th>2</th>\n",
       "      <td>004074f8-251a-4776-922c-8348dca1a2f6</td>\n",
       "      <td>2020-05-04 01:07:35</td>\n",
       "      <td>2020-05-16 19:57:40</td>\n",
       "      <td>12 days 18:50:05</td>\n",
       "      <td>306.83</td>\n",
       "      <td>fighter</td>\n",
       "      <td>facebook_ads</td>\n",
       "    </tr>\n",
       "    <tr>\n",
       "      <th>3</th>\n",
       "      <td>00464e5e-28ed-4be6-bf44-517ef7b3937b</td>\n",
       "      <td>2020-05-04 08:35:29</td>\n",
       "      <td>2020-05-15 16:02:01</td>\n",
       "      <td>11 days 07:26:32</td>\n",
       "      <td>271.44</td>\n",
       "      <td>fighter</td>\n",
       "      <td>yandex_direct</td>\n",
       "    </tr>\n",
       "    <tr>\n",
       "      <th>4</th>\n",
       "      <td>0056c007-c082-43cc-bdef-afc49bca4cb9</td>\n",
       "      <td>2020-05-10 11:49:47</td>\n",
       "      <td>2020-05-16 13:48:39</td>\n",
       "      <td>6 days 01:58:52</td>\n",
       "      <td>145.98</td>\n",
       "      <td>fighter</td>\n",
       "      <td>instagram_new_adverts</td>\n",
       "    </tr>\n",
       "  </tbody>\n",
       "</table>\n",
       "</div>"
      ],
      "text/plain": [
       "                                user_id                 min  \\\n",
       "0  001d39dc-366c-4021-9604-6a3b9ff01e25 2020-05-05 21:02:05   \n",
       "1  003ee7e8-6356-4286-a715-62f22a18d2a1 2020-05-05 08:31:04   \n",
       "2  004074f8-251a-4776-922c-8348dca1a2f6 2020-05-04 01:07:35   \n",
       "3  00464e5e-28ed-4be6-bf44-517ef7b3937b 2020-05-04 08:35:29   \n",
       "4  0056c007-c082-43cc-bdef-afc49bca4cb9 2020-05-10 11:49:47   \n",
       "\n",
       "                  max         duration   hours strategy                 source  \n",
       "0 2020-05-12 07:40:47  6 days 10:38:42  154.65  fighter  instagram_new_adverts  \n",
       "1 2020-05-17 21:47:49 12 days 13:16:45  301.28  fighter  instagram_new_adverts  \n",
       "2 2020-05-16 19:57:40 12 days 18:50:05  306.83  fighter           facebook_ads  \n",
       "3 2020-05-15 16:02:01 11 days 07:26:32  271.44  fighter          yandex_direct  \n",
       "4 2020-05-16 13:48:39  6 days 01:58:52  145.98  fighter  instagram_new_adverts  "
      ]
     },
     "execution_count": 50,
     "metadata": {},
     "output_type": "execute_result"
    }
   ],
   "source": [
    "agg_data.head()"
   ]
  },
  {
   "cell_type": "code",
   "execution_count": 51,
   "metadata": {
    "scrolled": true
   },
   "outputs": [
    {
     "data": {
      "image/png": "[encoded data removed]",
      "text/plain": [
       "<Figure size 432x288 with 1 Axes>"
      ]
     },
     "metadata": {
      "needs_background": "light"
     },
     "output_type": "display_data"
    }
   ],
   "source": [
    "agg_data['hours'].hist()\n",
    "plt.title('Распределение времени на завершение уровня среди игроков')\n",
    "plt.xlabel('Часы игры до завершения первого уровня')\n",
    "plt.ylabel('Количество пользователей');"
   ]
  },
  {
   "cell_type": "markdown",
   "metadata": {},
   "source": [
    "Распределение времени игры выглядит нормальным."
   ]
  },
  {
   "cell_type": "code",
   "execution_count": 52,
   "metadata": {},
   "outputs": [
    {
     "data": {
      "image/jpeg": "[encoded data removed]"
     },
     "metadata": {},
     "output_type": "display_data"
    }
   ],
   "source": [
    "# смотрим как распределяются пользователи в зависимости от стратегии\n",
    "\n",
    "fig = px.pie(\n",
    "             agg_data.groupby('strategy', as_index=False).agg({'user_id':'nunique'}),\n",
    "             values='user_id',\n",
    "             names='strategy',\n",
    "             title='Распределение пользователей в зависимости от стратегии',\n",
    "             color_discrete_sequence=px.colors.qualitative.Pastel,\n",
    "             )\n",
    "\n",
    "fig.update_traces(\n",
    "                  labels=['Строители', 'Воители'],\n",
    "                  textposition='inside',\n",
    "                  textinfo='percent+label',\n",
    "                  pull=[0.1, 0.0],\n",
    "                  showlegend=False\n",
    "                        )\n",
    "fig.show(renderer='jpeg')"
   ]
  },
  {
   "cell_type": "code",
   "execution_count": 53,
   "metadata": {
    "scrolled": true
   },
   "outputs": [
    {
     "data": {
      "text/html": [
       "<div>\n",
       "<style scoped>\n",
       "    .dataframe tbody tr th:only-of-type {\n",
       "        vertical-align: middle;\n",
       "    }\n",
       "\n",
       "    .dataframe tbody tr th {\n",
       "        vertical-align: top;\n",
       "    }\n",
       "\n",
       "    .dataframe thead th {\n",
       "        text-align: right;\n",
       "    }\n",
       "</style>\n",
       "<table border=\"1\" class=\"dataframe\">\n",
       "  <thead>\n",
       "    <tr style=\"text-align: right;\">\n",
       "      <th></th>\n",
       "      <th>strategy</th>\n",
       "      <th>hours</th>\n",
       "      <th>days</th>\n",
       "      <th>duration</th>\n",
       "    </tr>\n",
       "  </thead>\n",
       "  <tbody>\n",
       "    <tr>\n",
       "      <th>0</th>\n",
       "      <td>builder</td>\n",
       "      <td>312</td>\n",
       "      <td>13</td>\n",
       "      <td>13 дней 0 часов</td>\n",
       "    </tr>\n",
       "    <tr>\n",
       "      <th>1</th>\n",
       "      <td>fighter</td>\n",
       "      <td>259</td>\n",
       "      <td>10</td>\n",
       "      <td>10 дней 19 часов</td>\n",
       "    </tr>\n",
       "  </tbody>\n",
       "</table>\n",
       "</div>"
      ],
      "text/plain": [
       "  strategy  hours  days           duration\n",
       "0  builder    312    13   13 дней 0 часов \n",
       "1  fighter    259    10  10 дней 19 часов "
      ]
     },
     "execution_count": 53,
     "metadata": {},
     "output_type": "execute_result"
    }
   ],
   "source": [
    "# смотрим медианное затраченное время на прохождение уровня\n",
    "\n",
    "hours_by_strategy = agg_data.groupby('strategy', as_index=False).agg({'hours':'median'})\n",
    "hours_by_strategy['hours'] = hours_by_strategy['hours'].astype('int')\n",
    "hours_by_strategy['days'] = (hours_by_strategy['hours'] // 24).astype('int')\n",
    "hours_by_strategy['duration'] = (\n",
    "                                ((hours_by_strategy['hours'] // 24).astype('int')).astype('str') + \n",
    "                                 ' дней ' + \n",
    "                                 (hours_by_strategy['hours'].astype(int) - hours_by_strategy['days']*24).astype('str') +\n",
    "                                 ' часов '\n",
    "                                )\n",
    "hours_by_strategy"
   ]
  },
  {
   "cell_type": "code",
   "execution_count": 54,
   "metadata": {},
   "outputs": [
    {
     "data": {
      "image/jpeg": "[encoded data removed]"
     },
     "metadata": {},
     "output_type": "display_data"
    }
   ],
   "source": [
    "# сравним средние временные затраты на прохождение первого уровня в зависимости от стратегии\n",
    "\n",
    "fig = px.bar(hours_by_strategy,\n",
    "             x=['Строители', 'Воители'],\n",
    "             y='days',\n",
    "             color='strategy',\n",
    "             text='duration',\n",
    "             title='Распределение времени на завершение уровня',\n",
    "             labels={'x': 'Стратегия',\n",
    "                    'days': 'Средние затраты времени'},\n",
    "             color_discrete_sequence=px.colors.qualitative.Set2,\n",
    "             width=500, height=400,\n",
    "                 )\n",
    "fig.update_traces(showlegend=False)\n",
    "fig.show(renderer='jpeg') "
   ]
  },
  {
   "cell_type": "markdown",
   "metadata": {},
   "source": [
    "**Очевидно, строители тратят больше времени на прохождение уровня, чем воители.**"
   ]
  },
  {
   "cell_type": "code",
   "execution_count": 55,
   "metadata": {},
   "outputs": [
    {
     "data": {
      "text/html": [
       "<div>\n",
       "<style scoped>\n",
       "    .dataframe tbody tr th:only-of-type {\n",
       "        vertical-align: middle;\n",
       "    }\n",
       "\n",
       "    .dataframe tbody tr th {\n",
       "        vertical-align: top;\n",
       "    }\n",
       "\n",
       "    .dataframe thead th {\n",
       "        text-align: right;\n",
       "    }\n",
       "</style>\n",
       "<table border=\"1\" class=\"dataframe\">\n",
       "  <thead>\n",
       "    <tr style=\"text-align: right;\">\n",
       "      <th></th>\n",
       "      <th>source</th>\n",
       "      <th>hours</th>\n",
       "    </tr>\n",
       "  </thead>\n",
       "  <tbody>\n",
       "    <tr>\n",
       "      <th>3</th>\n",
       "      <td>youtube_channel_reklama</td>\n",
       "      <td>278</td>\n",
       "    </tr>\n",
       "    <tr>\n",
       "      <th>1</th>\n",
       "      <td>instagram_new_adverts</td>\n",
       "      <td>278</td>\n",
       "    </tr>\n",
       "    <tr>\n",
       "      <th>0</th>\n",
       "      <td>facebook_ads</td>\n",
       "      <td>278</td>\n",
       "    </tr>\n",
       "    <tr>\n",
       "      <th>2</th>\n",
       "      <td>yandex_direct</td>\n",
       "      <td>276</td>\n",
       "    </tr>\n",
       "  </tbody>\n",
       "</table>\n",
       "</div>"
      ],
      "text/plain": [
       "                    source  hours\n",
       "3  youtube_channel_reklama    278\n",
       "1    instagram_new_adverts    278\n",
       "0             facebook_ads    278\n",
       "2            yandex_direct    276"
      ]
     },
     "execution_count": 55,
     "metadata": {},
     "output_type": "execute_result"
    }
   ],
   "source": [
    "# посмотрим сколько времени тратят игроки на прохождение первого уровня в зависимости от источника привлечения\n",
    "\n",
    "hours_by_source = (\n",
    "                    agg_data.groupby('source', as_index=False)\n",
    "                            .agg({'hours':'median'})\n",
    "                            .sort_values(by='hours', ascending=False)\n",
    "                    )\n",
    "\n",
    "hours_by_source['hours'] = hours_by_source['hours'].astype('int')\n",
    "hours_by_source"
   ]
  },
  {
   "cell_type": "code",
   "execution_count": 56,
   "metadata": {},
   "outputs": [
    {
     "data": {
      "image/png": "[encoded data removed]",
      "text/plain": [
       "<Figure size 576x288 with 1 Axes>"
      ]
     },
     "metadata": {
      "needs_background": "light"
     },
     "output_type": "display_data"
    }
   ],
   "source": [
    "plt.figure(figsize=(8, 4))\n",
    "sns.barplot(\n",
    "            y=['YouTube', 'Instagram', 'Facebook', 'Yandex.Direct'],\n",
    "            x='hours',\n",
    "            data=hours_by_source,\n",
    "            palette='Set2',\n",
    "            orient='h'\n",
    "           )\n",
    "plt.title('Распределение времени на завершение уровня в зависимости от источника привлечения')\n",
    "plt.xlabel('Среднее количество часов')\n",
    "plt.ylabel('')\n",
    "sns.despine();\n",
    "\n",
    "for i, v in enumerate(hours_by_source['hours']):\n",
    "    plt.text(v+10, i, str(v) + ' часов', color='black', fontsize = 11)"
   ]
  },
  {
   "cell_type": "markdown",
   "metadata": {},
   "source": [
    "**Медианное количество часов до завершения уровня не зависит от источника привлечения.**"
   ]
  },
  {
   "cell_type": "markdown",
   "metadata": {},
   "source": [
    "#### Как типы игровой стратегии связаны с источником привлечения?"
   ]
  },
  {
   "cell_type": "markdown",
   "metadata": {},
   "source": [
    "Посмотрим, какая связь есть между стратегией игры и источником привлечения."
   ]
  },
  {
   "cell_type": "code",
   "execution_count": 57,
   "metadata": {
    "scrolled": false
   },
   "outputs": [
    {
     "data": {
      "text/html": [
       "<div>\n",
       "<style scoped>\n",
       "    .dataframe tbody tr th:only-of-type {\n",
       "        vertical-align: middle;\n",
       "    }\n",
       "\n",
       "    .dataframe tbody tr th {\n",
       "        vertical-align: top;\n",
       "    }\n",
       "\n",
       "    .dataframe thead th {\n",
       "        text-align: right;\n",
       "    }\n",
       "</style>\n",
       "<table border=\"1\" class=\"dataframe\">\n",
       "  <thead>\n",
       "    <tr style=\"text-align: right;\">\n",
       "      <th></th>\n",
       "      <th>source</th>\n",
       "      <th>strategy</th>\n",
       "      <th>user_id</th>\n",
       "    </tr>\n",
       "  </thead>\n",
       "  <tbody>\n",
       "    <tr>\n",
       "      <th>5</th>\n",
       "      <td>yandex_direct</td>\n",
       "      <td>fighter</td>\n",
       "      <td>1422</td>\n",
       "    </tr>\n",
       "    <tr>\n",
       "      <th>3</th>\n",
       "      <td>instagram_new_adverts</td>\n",
       "      <td>fighter</td>\n",
       "      <td>990</td>\n",
       "    </tr>\n",
       "    <tr>\n",
       "      <th>7</th>\n",
       "      <td>youtube_channel_reklama</td>\n",
       "      <td>fighter</td>\n",
       "      <td>780</td>\n",
       "    </tr>\n",
       "    <tr>\n",
       "      <th>1</th>\n",
       "      <td>facebook_ads</td>\n",
       "      <td>fighter</td>\n",
       "      <td>759</td>\n",
       "    </tr>\n",
       "    <tr>\n",
       "      <th>4</th>\n",
       "      <td>yandex_direct</td>\n",
       "      <td>builder</td>\n",
       "      <td>620</td>\n",
       "    </tr>\n",
       "    <tr>\n",
       "      <th>2</th>\n",
       "      <td>instagram_new_adverts</td>\n",
       "      <td>builder</td>\n",
       "      <td>476</td>\n",
       "    </tr>\n",
       "    <tr>\n",
       "      <th>0</th>\n",
       "      <td>facebook_ads</td>\n",
       "      <td>builder</td>\n",
       "      <td>391</td>\n",
       "    </tr>\n",
       "    <tr>\n",
       "      <th>6</th>\n",
       "      <td>youtube_channel_reklama</td>\n",
       "      <td>builder</td>\n",
       "      <td>379</td>\n",
       "    </tr>\n",
       "  </tbody>\n",
       "</table>\n",
       "</div>"
      ],
      "text/plain": [
       "                    source strategy  user_id\n",
       "5            yandex_direct  fighter     1422\n",
       "3    instagram_new_adverts  fighter      990\n",
       "7  youtube_channel_reklama  fighter      780\n",
       "1             facebook_ads  fighter      759\n",
       "4            yandex_direct  builder      620\n",
       "2    instagram_new_adverts  builder      476\n",
       "0             facebook_ads  builder      391\n",
       "6  youtube_channel_reklama  builder      379"
      ]
     },
     "execution_count": 57,
     "metadata": {},
     "output_type": "execute_result"
    }
   ],
   "source": [
    "# группируем по источнику и стратегии\n",
    "\n",
    "strategy_by_source = (\n",
    "                    agg_data.groupby(['source','strategy'], as_index=False)\n",
    "                            .agg({'user_id':'nunique'})\n",
    "                            .sort_values(by='user_id', ascending=False)\n",
    "                        )\n",
    "strategy_by_source"
   ]
  },
  {
   "cell_type": "code",
   "execution_count": 58,
   "metadata": {},
   "outputs": [
    {
     "data": {
      "image/jpeg": "[encoded data removed]"
     },
     "metadata": {},
     "output_type": "display_data"
    }
   ],
   "source": [
    "# посмотрим разбиением по источникам и по стратегиям игры\n",
    "\n",
    "fig = px.bar(\n",
    "            strategy_by_source, \n",
    "            x='source', \n",
    "            y='user_id', \n",
    "            color='strategy', \n",
    "            barmode='group', \n",
    "            text_auto=True,\n",
    "            color_discrete_sequence=px.colors.qualitative.Set2,\n",
    "            height=500,\n",
    "            width=900,\n",
    "            title='Распределение пользователей по источникам и стратегиям',\n",
    "            labels={'source': 'Источник привлечения',\n",
    "                    'user_id': 'Количество пользователей'}\n",
    "            )\n",
    "fig.show(renderer='jpeg')"
   ]
  },
  {
   "cell_type": "markdown",
   "metadata": {},
   "source": [
    "Вне зависимости от источника привлечения пользователи предпочитают воевать, а не строить."
   ]
  },
  {
   "cell_type": "markdown",
   "metadata": {},
   "source": [
    "Так как нас интересуют именно строители, которые проводят больше времени в игре, а также одна из моделей монетизации нацелена на них, посмотрим, какой источник дает больше строителей."
   ]
  },
  {
   "cell_type": "code",
   "execution_count": 59,
   "metadata": {
    "scrolled": true
   },
   "outputs": [
    {
     "data": {
      "text/html": [
       "<div>\n",
       "<style scoped>\n",
       "    .dataframe tbody tr th:only-of-type {\n",
       "        vertical-align: middle;\n",
       "    }\n",
       "\n",
       "    .dataframe tbody tr th {\n",
       "        vertical-align: top;\n",
       "    }\n",
       "\n",
       "    .dataframe thead th {\n",
       "        text-align: right;\n",
       "    }\n",
       "</style>\n",
       "<table border=\"1\" class=\"dataframe\">\n",
       "  <thead>\n",
       "    <tr style=\"text-align: right;\">\n",
       "      <th></th>\n",
       "      <th>source</th>\n",
       "      <th>user_id</th>\n",
       "    </tr>\n",
       "  </thead>\n",
       "  <tbody>\n",
       "    <tr>\n",
       "      <th>0</th>\n",
       "      <td>facebook_ads</td>\n",
       "      <td>759</td>\n",
       "    </tr>\n",
       "    <tr>\n",
       "      <th>1</th>\n",
       "      <td>instagram_new_adverts</td>\n",
       "      <td>990</td>\n",
       "    </tr>\n",
       "    <tr>\n",
       "      <th>2</th>\n",
       "      <td>yandex_direct</td>\n",
       "      <td>1422</td>\n",
       "    </tr>\n",
       "    <tr>\n",
       "      <th>3</th>\n",
       "      <td>youtube_channel_reklama</td>\n",
       "      <td>780</td>\n",
       "    </tr>\n",
       "  </tbody>\n",
       "</table>\n",
       "</div>"
      ],
      "text/plain": [
       "                    source  user_id\n",
       "0             facebook_ads      759\n",
       "1    instagram_new_adverts      990\n",
       "2            yandex_direct     1422\n",
       "3  youtube_channel_reklama      780"
      ]
     },
     "execution_count": 59,
     "metadata": {},
     "output_type": "execute_result"
    }
   ],
   "source": [
    "# воители в зависимости от источника\n",
    "\n",
    "fighters_by_source = fighters.groupby('source', as_index=False).agg({'user_id':'nunique'})\n",
    "fighters_by_source.head()"
   ]
  },
  {
   "cell_type": "code",
   "execution_count": 60,
   "metadata": {
    "scrolled": true
   },
   "outputs": [
    {
     "data": {
      "text/html": [
       "<div>\n",
       "<style scoped>\n",
       "    .dataframe tbody tr th:only-of-type {\n",
       "        vertical-align: middle;\n",
       "    }\n",
       "\n",
       "    .dataframe tbody tr th {\n",
       "        vertical-align: top;\n",
       "    }\n",
       "\n",
       "    .dataframe thead th {\n",
       "        text-align: right;\n",
       "    }\n",
       "</style>\n",
       "<table border=\"1\" class=\"dataframe\">\n",
       "  <thead>\n",
       "    <tr style=\"text-align: right;\">\n",
       "      <th></th>\n",
       "      <th>source</th>\n",
       "      <th>user_id</th>\n",
       "    </tr>\n",
       "  </thead>\n",
       "  <tbody>\n",
       "    <tr>\n",
       "      <th>0</th>\n",
       "      <td>facebook_ads</td>\n",
       "      <td>391</td>\n",
       "    </tr>\n",
       "    <tr>\n",
       "      <th>1</th>\n",
       "      <td>instagram_new_adverts</td>\n",
       "      <td>476</td>\n",
       "    </tr>\n",
       "    <tr>\n",
       "      <th>2</th>\n",
       "      <td>yandex_direct</td>\n",
       "      <td>620</td>\n",
       "    </tr>\n",
       "    <tr>\n",
       "      <th>3</th>\n",
       "      <td>youtube_channel_reklama</td>\n",
       "      <td>379</td>\n",
       "    </tr>\n",
       "  </tbody>\n",
       "</table>\n",
       "</div>"
      ],
      "text/plain": [
       "                    source  user_id\n",
       "0             facebook_ads      391\n",
       "1    instagram_new_adverts      476\n",
       "2            yandex_direct      620\n",
       "3  youtube_channel_reklama      379"
      ]
     },
     "execution_count": 60,
     "metadata": {},
     "output_type": "execute_result"
    }
   ],
   "source": [
    "# строители в зависимости от источника\n",
    "\n",
    "builders_by_source = builders.groupby('source', as_index=False).agg({'user_id':'nunique'})\n",
    "builders_by_source.head()"
   ]
  },
  {
   "cell_type": "code",
   "execution_count": 61,
   "metadata": {
    "scrolled": true
   },
   "outputs": [
    {
     "data": {
      "text/html": [
       "<div>\n",
       "<style scoped>\n",
       "    .dataframe tbody tr th:only-of-type {\n",
       "        vertical-align: middle;\n",
       "    }\n",
       "\n",
       "    .dataframe tbody tr th {\n",
       "        vertical-align: top;\n",
       "    }\n",
       "\n",
       "    .dataframe thead th {\n",
       "        text-align: right;\n",
       "    }\n",
       "</style>\n",
       "<table border=\"1\" class=\"dataframe\">\n",
       "  <thead>\n",
       "    <tr style=\"text-align: right;\">\n",
       "      <th></th>\n",
       "      <th>source</th>\n",
       "      <th>builders</th>\n",
       "      <th>fighters</th>\n",
       "      <th>number_of_users</th>\n",
       "      <th>builders, %</th>\n",
       "      <th>fighters, %</th>\n",
       "      <th>builders_to_fighters</th>\n",
       "    </tr>\n",
       "  </thead>\n",
       "  <tbody>\n",
       "    <tr>\n",
       "      <th>0</th>\n",
       "      <td>facebook_ads</td>\n",
       "      <td>391</td>\n",
       "      <td>759</td>\n",
       "      <td>1150</td>\n",
       "      <td>0.34</td>\n",
       "      <td>0.66</td>\n",
       "      <td>0.52</td>\n",
       "    </tr>\n",
       "    <tr>\n",
       "      <th>3</th>\n",
       "      <td>youtube_channel_reklama</td>\n",
       "      <td>379</td>\n",
       "      <td>780</td>\n",
       "      <td>1159</td>\n",
       "      <td>0.33</td>\n",
       "      <td>0.67</td>\n",
       "      <td>0.49</td>\n",
       "    </tr>\n",
       "    <tr>\n",
       "      <th>1</th>\n",
       "      <td>instagram_new_adverts</td>\n",
       "      <td>476</td>\n",
       "      <td>990</td>\n",
       "      <td>1466</td>\n",
       "      <td>0.32</td>\n",
       "      <td>0.68</td>\n",
       "      <td>0.48</td>\n",
       "    </tr>\n",
       "    <tr>\n",
       "      <th>2</th>\n",
       "      <td>yandex_direct</td>\n",
       "      <td>620</td>\n",
       "      <td>1422</td>\n",
       "      <td>2042</td>\n",
       "      <td>0.30</td>\n",
       "      <td>0.70</td>\n",
       "      <td>0.44</td>\n",
       "    </tr>\n",
       "  </tbody>\n",
       "</table>\n",
       "</div>"
      ],
      "text/plain": [
       "                    source  builders  fighters  number_of_users  builders, %  \\\n",
       "0             facebook_ads       391       759             1150         0.34   \n",
       "3  youtube_channel_reklama       379       780             1159         0.33   \n",
       "1    instagram_new_adverts       476       990             1466         0.32   \n",
       "2            yandex_direct       620      1422             2042         0.30   \n",
       "\n",
       "   fighters, %  builders_to_fighters  \n",
       "0         0.66                  0.52  \n",
       "3         0.67                  0.49  \n",
       "1         0.68                  0.48  \n",
       "2         0.70                  0.44  "
      ]
     },
     "execution_count": 61,
     "metadata": {},
     "output_type": "execute_result"
    }
   ],
   "source": [
    "# смотрим соотношение строителей к воителям\n",
    "\n",
    "source = builders_by_source.merge(fighters_by_source, on='source')\n",
    "source.columns = ['source', 'builders', 'fighters']\n",
    "source['number_of_users'] = source['builders'] + source['fighters']\n",
    "source['builders, %'] = source['builders'] / source['number_of_users']\n",
    "source['fighters, %'] = source['fighters'] / source['number_of_users']\n",
    "source['builders_to_fighters'] = round(source['builders'] / source['fighters'], 2)\n",
    "source = source.sort_values(by='builders_to_fighters', ascending=False)\n",
    "source"
   ]
  },
  {
   "cell_type": "code",
   "execution_count": 62,
   "metadata": {},
   "outputs": [
    {
     "data": {
      "image/jpeg": "[encoded data removed]"
     },
     "metadata": {},
     "output_type": "display_data"
    }
   ],
   "source": [
    "# строим столбчатую диаграмму\n",
    "\n",
    "fig = px.bar(\n",
    "            source, \n",
    "            y=['Yandex.Direct', 'Instagram', 'Youtube', 'Facebook'], \n",
    "            x='builders_to_fighters', \n",
    "            text_auto=True,\n",
    "            color_discrete_sequence=px.colors.qualitative.Set2,\n",
    "            height=400,\n",
    "            width=700,\n",
    "            orientation='h',\n",
    "            title='Распределение отношение строителей к воителям по источникам',\n",
    "            labels={'y': '',\n",
    "                    'builders_to_fighters': 'Отношение строителей к воителям'}\n",
    "            )\n",
    "fig.show(renderer='jpeg')"
   ]
  },
  {
   "cell_type": "markdown",
   "metadata": {},
   "source": [
    "В результате мы видим, что Facebook приносит больше всего строителей, а Яндекс.Директ - меньше всего."
   ]
  },
  {
   "cell_type": "markdown",
   "metadata": {},
   "source": [
    "### Проверка гипотез"
   ]
  },
  {
   "cell_type": "markdown",
   "metadata": {},
   "source": [
    "**Гипотеза 1**\n",
    "\n",
    "Нулевая гипотеза:\n",
    "Время завершения уровня различается в зависимости от игровой стратегии\n",
    "\n",
    "Альтернативная гипотеза:\n",
    "Время завершения уровня не различается в зависимости от игровой стратегии"
   ]
  },
  {
   "cell_type": "code",
   "execution_count": 63,
   "metadata": {
    "scrolled": true
   },
   "outputs": [
    {
     "name": "stdout",
     "output_type": "stream",
     "text": [
      "p-value = 5.708058235071826e-107\n",
      "\n",
      "Альтернативная гипотеза не подтвердилась. Время завершения уровня различается в зависимости игровой стратегии.\n",
      "\n",
      "Среднее время завершения уровня для строителей:  312  часов.\n",
      "Среднее время завершения уровня для воителей:  259  часов.\n"
     ]
    }
   ],
   "source": [
    "# проверка альтернативной гипотезы\n",
    "\n",
    "results = st.ttest_ind(builders['hours'], fighters['hours'], equal_var=False )\n",
    "\n",
    "alpha = 0.05\n",
    "\n",
    "# вывод значения p-value на экран \n",
    "print('p-value =', results.pvalue) \n",
    "\n",
    "if results.pvalue < alpha:\n",
    "    print('\\nАльтернативная гипотеза не подтвердилась. Время завершения уровня различается в зависимости игровой стратегии.\\n')\n",
    "    print('Среднее время завершения уровня для строителей: ', hours_by_strategy['hours'][0], ' часов.')\n",
    "    print('Среднее время завершения уровня для воителей: ', hours_by_strategy['hours'][1], ' часов.')\n",
    "else:\n",
    "    print('Не получилось отвергнуть гипотезу. Среднее время завершения уровня не отличается.')"
   ]
  },
  {
   "cell_type": "markdown",
   "metadata": {},
   "source": [
    "<a id='bonferroni'></a>\n",
    "**Гипотеза 2**\n",
    "Тип игровой стратегии зависит от источника привлечения.\n",
    "\n",
    "Нулевая гипотеза: доля строителей отличается в зависимости от источника привлечения. \n",
    "\n",
    "Альтернативная гипотеза: доля строителей не зависит от источника привлечения.\n",
    "\n",
    "Так как планируется множественная проверка гипотезы (6\n",
    "сочетаний), необходимо внести поправку на множественную проверку гипотез. В таком случае повышается вероятность появления ошибки первого рода. \n",
    "\n",
    "**Было принято решение ввести поправку Бонферрони (m=6).**"
   ]
  },
  {
   "cell_type": "code",
   "execution_count": 64,
   "metadata": {},
   "outputs": [],
   "source": [
    "# список источников привлечения\n",
    "\n",
    "sources = ad_costs['source'].unique()"
   ]
  },
  {
   "cell_type": "code",
   "execution_count": 65,
   "metadata": {},
   "outputs": [
    {
     "data": {
      "text/plain": [
       "[['facebook_ads', 'instagram_new_adverts'],\n",
       " ['facebook_ads', 'yandex_direct'],\n",
       " ['facebook_ads', 'youtube_channel_reklama'],\n",
       " ['instagram_new_adverts', 'yandex_direct'],\n",
       " ['instagram_new_adverts', 'youtube_channel_reklama'],\n",
       " ['yandex_direct', 'youtube_channel_reklama']]"
      ]
     },
     "execution_count": 65,
     "metadata": {},
     "output_type": "execute_result"
    }
   ],
   "source": [
    "# сочетания источников для проверки гипотезы\n",
    "\n",
    "pair=[]\n",
    "combined_list=[]\n",
    "\n",
    "for i in range(len(sources)):\n",
    "    for j in range (i, len(sources)):\n",
    "        if sources[i] != sources[j]:\n",
    "            pair.append(sources[i])\n",
    "            pair.append(sources[j])\n",
    "            combined_list.append(pair)\n",
    "            pair=[]\n",
    "       \n",
    "combined_list      "
   ]
  },
  {
   "cell_type": "code",
   "execution_count": 66,
   "metadata": {},
   "outputs": [],
   "source": [
    "# функция для расчета статистической значимости долей строителей в зависимости от источника привлечения\n",
    "\n",
    "def get_z_test(alpha):\n",
    "    \n",
    "   # перебираем пары источников и сравлниваем\n",
    "\n",
    "    for i in range(len(combined_list)):\n",
    "        \n",
    "      \n",
    "        builders = [\n",
    "                    source.loc[source['source'] == combined_list[i][0]]['builders'].iloc[0],\n",
    "                    source.loc[source['source'] == combined_list[i][1]]['builders'].iloc[0]\n",
    "                   ]\n",
    "\n",
    "        total_users = [\n",
    "                    source.loc[source['source'] == combined_list[i][0]]['number_of_users'].iloc[0],\n",
    "                    source.loc[source['source'] == combined_list[i][1]]['number_of_users'].iloc[0]\n",
    "                    ]\n",
    "\n",
    "        # пропорция успехов в первой группе:\n",
    "        p1 = builders[0]/total_users[0]\n",
    "\n",
    "        # пропорция успехов во второй группе:\n",
    "        p2 = builders[1]/total_users[1]\n",
    "\n",
    "        # пропорция успехов в комбинированном датасете:\n",
    "        p_combined = (builders[0] + builders[1]) / (total_users[0] + total_users[1])\n",
    "\n",
    "        # разница пропорций в датасетах\n",
    "        difference = p1 - p2 \n",
    "\n",
    "        # считаем статистику в ст.отклонениях стандартного нормального распределения\n",
    "        z_value = difference / mth.sqrt(p_combined * (1 - p_combined) * (1/total_users[0] + 1/total_users[1]))\n",
    "\n",
    "        # задаем стандартное нормальное распределение (среднее 0, ст.отклонение 1)\n",
    "        distr = st.norm(0, 1)  \n",
    "        \n",
    "        # рассчитываем p-value\n",
    "        p_value = (1 - distr.cdf(abs(z_value))) * 2\n",
    "        \n",
    "        print()\n",
    "        print(combined_list[i])             \n",
    "        print('p-value =', p_value)\n",
    "        \n",
    "        if p_value < alpha/6:\n",
    "            print('Между долями есть значимая разница')\n",
    "        else:\n",
    "            print('Нет оснований считать доли строителей различными')"
   ]
  },
  {
   "cell_type": "code",
   "execution_count": 67,
   "metadata": {
    "scrolled": false
   },
   "outputs": [
    {
     "name": "stdout",
     "output_type": "stream",
     "text": [
      "\n",
      "['facebook_ads', 'instagram_new_adverts']\n",
      "p-value = 0.4090854890030924\n",
      "Нет оснований считать доли строителей различными\n",
      "\n",
      "['facebook_ads', 'yandex_direct']\n",
      "p-value = 0.033929895988702\n",
      "Нет оснований считать доли строителей различными\n",
      "\n",
      "['facebook_ads', 'youtube_channel_reklama']\n",
      "p-value = 0.5078525399037952\n",
      "Нет оснований считать доли строителей различными\n",
      "\n",
      "['instagram_new_adverts', 'yandex_direct']\n",
      "p-value = 0.1841987784096193\n",
      "Нет оснований считать доли строителей различными\n",
      "\n",
      "['instagram_new_adverts', 'youtube_channel_reklama']\n",
      "p-value = 0.9000739328143432\n",
      "Нет оснований считать доли строителей различными\n",
      "\n",
      "['yandex_direct', 'youtube_channel_reklama']\n",
      "p-value = 0.17001309094083084\n",
      "Нет оснований считать доли строителей различными\n"
     ]
    }
   ],
   "source": [
    "# проводим множественный тест, сравнивая доли строителей в источниках попарно, уровень значимости = 0,05/6\n",
    "\n",
    "get_z_test(0.05)"
   ]
  },
  {
   "cell_type": "markdown",
   "metadata": {},
   "source": [
    "*Статистическая проверка гипотезы показывает, что альтернативную гипотезу невозможно отвергнуть, а следовательно доля строителей среди игроков статистически неотличима, следовательно, выбор стратегии не зависит от источника привлечения.*"
   ]
  },
  {
   "cell_type": "markdown",
   "metadata": {},
   "source": [
    "## Выводы"
   ]
  },
  {
   "cell_type": "markdown",
   "metadata": {},
   "source": [
    "**1. Траты на привлечение**\n",
    "\n",
    "Яндекс.Директ привлекает почти 35% пользователей, остальные источники примерно одинаковы (около 20%).\n",
    "\n",
    "Траты на FaceBook, Яндекс.Директ и Инстаграм примерно одинаковы. На YouTube было выделено в 2 раза меньше.\n",
    "\n",
    "Яндекс.Директ приносит больше всего пользователей, причем недорогих пользователей.\n",
    "\n",
    "**Итак, больше всего недорогих пользователей приходят через Яндекс.Директ**\n",
    "\n",
    "\n",
    "**2. Типы игровой стратегии**\n",
    "\n",
    "Так как возможны 2 стратегии победы: через строительство орбитального проекта (назовем таких пользователей **строителями**) и через победу над врагом (назовем их **воителями**).\n",
    "\n",
    "**Почти в 2 раза больше пользователей предпочитают драться, чем строить, причем вне зависимости от источника привлечения**\n",
    "**Строители в среднем совершают больше действий в игре.**\n",
    "\n",
    "Однако, воители тоже строят, примерно на 20% меньше, но строят.\n",
    "\n",
    "**3. Временные затраты на прохождение уровня в зависимости от стратегии игры**\n",
    "\n",
    "**Строители** затрачивают порядка **312 часов** на завершение первого уровня (медианное значение).\n",
    "**Воители** затрачивают порядка **259 часов** на завершение первого уровня (медианное значение).\n",
    "\n",
    "**Статистически достоверно, что время завершения уровня различается в зависимости от игровой стратегии.**\n",
    "\n",
    "Строители тратят **почти на 20% больше времени** на прохождение уровня, чем воители.\n",
    "\n",
    "Однако, медианное количество часов до завершения уровня не зависит от источника привлечения.\n",
    "\n",
    "**4. Тип стратегии в зависимости от источника привлечения.**\n",
    "\n",
    "Так как нас интересуют именно строители, которые проводят больше времени в игре, а также одна из моделей монетизации нацелена на них, проверялась гипотеза о том, что стратегия игры зависит от источника привлечения.\n",
    "\n",
    "Нет статистической значимости между источниками привлечения по доле строителей, следовательно, **выбор стратегии не зависит от источника привлечения.**"
   ]
  },
  {
   "cell_type": "markdown",
   "metadata": {
    "raw_mimetype": "text/markdown"
   },
   "source": [
    "### Рекомендации\n",
    "\n",
    "- перенаправить поток средств на привлечение пользователей через Яндекс.Директ\n",
    "- самый дорогой источник - FaceBook, но он приносит столько же пользователей, сколько Яндекс.Директ и Инстаграм, возможно, стоит перенаправить поток средств на привлечение пользователей через Youtube, который приносит самых дешевых пользователей\n",
    "- продумать пути стимулирования игроков на выбор стратегии строительства\n",
    "- монетизация через строительство подходит как для строителей, так и для воителей."
   ]
  }
 ],
 "metadata": {
  "ExecuteTimeLog": [
   {
    "duration": 1407,
    "start_time": "2022-12-20T14:48:49.369Z"
   },
   {
    "duration": 165,
    "start_time": "2022-12-20T14:50:03.940Z"
   },
   {
    "duration": 83,
    "start_time": "2022-12-20T14:50:56.679Z"
   },
   {
    "duration": 63,
    "start_time": "2022-12-20T14:51:49.140Z"
   },
   {
    "duration": 531,
    "start_time": "2022-12-20T14:52:47.794Z"
   },
   {
    "duration": 12,
    "start_time": "2022-12-20T14:55:35.633Z"
   },
   {
    "duration": 11,
    "start_time": "2022-12-20T14:55:49.283Z"
   },
   {
    "duration": 10,
    "start_time": "2022-12-20T14:59:20.962Z"
   },
   {
    "duration": 33,
    "start_time": "2022-12-20T15:00:27.557Z"
   },
   {
    "duration": 8,
    "start_time": "2022-12-20T15:01:16.333Z"
   },
   {
    "duration": 817,
    "start_time": "2022-12-20T15:03:03.585Z"
   },
   {
    "duration": 5,
    "start_time": "2022-12-20T15:03:08.509Z"
   },
   {
    "duration": 8,
    "start_time": "2022-12-20T15:05:21.493Z"
   },
   {
    "duration": 47,
    "start_time": "2022-12-20T15:57:57.218Z"
   },
   {
    "duration": 1366,
    "start_time": "2022-12-20T15:58:06.290Z"
   },
   {
    "duration": 82,
    "start_time": "2022-12-20T15:58:07.658Z"
   },
   {
    "duration": 52,
    "start_time": "2022-12-20T15:58:07.742Z"
   },
   {
    "duration": 521,
    "start_time": "2022-12-20T15:58:07.796Z"
   },
   {
    "duration": 12,
    "start_time": "2022-12-20T15:58:08.320Z"
   },
   {
    "duration": 17,
    "start_time": "2022-12-20T15:58:08.333Z"
   },
   {
    "duration": 15,
    "start_time": "2022-12-20T15:58:08.352Z"
   },
   {
    "duration": 9,
    "start_time": "2022-12-20T15:58:08.369Z"
   },
   {
    "duration": 5,
    "start_time": "2022-12-20T15:58:08.379Z"
   },
   {
    "duration": 9,
    "start_time": "2022-12-20T15:58:08.386Z"
   },
   {
    "duration": 12,
    "start_time": "2022-12-20T15:58:08.397Z"
   },
   {
    "duration": 4,
    "start_time": "2022-12-20T16:00:02.188Z"
   },
   {
    "duration": 12,
    "start_time": "2022-12-20T16:00:17.003Z"
   },
   {
    "duration": 138,
    "start_time": "2022-12-20T16:00:29.124Z"
   },
   {
    "duration": 6,
    "start_time": "2022-12-20T16:00:32.695Z"
   },
   {
    "duration": 10,
    "start_time": "2022-12-20T16:00:56.819Z"
   },
   {
    "duration": 8,
    "start_time": "2022-12-20T16:01:44.163Z"
   },
   {
    "duration": 12,
    "start_time": "2022-12-20T16:02:45.963Z"
   },
   {
    "duration": 254,
    "start_time": "2022-12-20T16:03:38.056Z"
   },
   {
    "duration": 265,
    "start_time": "2022-12-20T16:03:44.665Z"
   },
   {
    "duration": 9,
    "start_time": "2022-12-20T16:05:51.342Z"
   },
   {
    "duration": 4,
    "start_time": "2022-12-20T16:06:32.619Z"
   },
   {
    "duration": 35,
    "start_time": "2022-12-20T16:06:49.879Z"
   },
   {
    "duration": 39,
    "start_time": "2022-12-20T16:08:34.523Z"
   },
   {
    "duration": 6,
    "start_time": "2022-12-20T16:08:47.158Z"
   },
   {
    "duration": 30,
    "start_time": "2022-12-20T16:10:58.750Z"
   },
   {
    "duration": 61,
    "start_time": "2022-12-20T16:13:54.951Z"
   },
   {
    "duration": 81,
    "start_time": "2022-12-20T16:14:37.405Z"
   },
   {
    "duration": 61,
    "start_time": "2022-12-20T16:14:50.944Z"
   },
   {
    "duration": 9,
    "start_time": "2022-12-20T16:16:05.146Z"
   },
   {
    "duration": 7,
    "start_time": "2022-12-20T16:17:37.157Z"
   },
   {
    "duration": 11,
    "start_time": "2022-12-20T16:23:33.259Z"
   },
   {
    "duration": 9,
    "start_time": "2022-12-20T16:23:40.184Z"
   },
   {
    "duration": 10,
    "start_time": "2022-12-20T16:24:06.386Z"
   },
   {
    "duration": 10,
    "start_time": "2022-12-20T16:24:22.539Z"
   },
   {
    "duration": 3,
    "start_time": "2022-12-20T16:25:02.762Z"
   },
   {
    "duration": 27,
    "start_time": "2022-12-20T16:25:10.546Z"
   },
   {
    "duration": 10,
    "start_time": "2022-12-20T16:25:22.415Z"
   },
   {
    "duration": 10,
    "start_time": "2022-12-20T16:26:13.453Z"
   },
   {
    "duration": 7,
    "start_time": "2022-12-20T16:28:34.047Z"
   },
   {
    "duration": 10,
    "start_time": "2022-12-20T16:28:41.204Z"
   },
   {
    "duration": 1305,
    "start_time": "2022-12-20T16:36:03.384Z"
   },
   {
    "duration": 5,
    "start_time": "2022-12-20T16:36:04.691Z"
   },
   {
    "duration": 56,
    "start_time": "2022-12-20T16:36:04.698Z"
   },
   {
    "duration": 17,
    "start_time": "2022-12-20T16:36:04.760Z"
   },
   {
    "duration": 238,
    "start_time": "2022-12-20T16:36:04.779Z"
   },
   {
    "duration": 10,
    "start_time": "2022-12-20T16:36:05.019Z"
   },
   {
    "duration": 11,
    "start_time": "2022-12-20T16:36:05.030Z"
   },
   {
    "duration": 20,
    "start_time": "2022-12-20T16:36:05.043Z"
   },
   {
    "duration": 8,
    "start_time": "2022-12-20T16:36:05.065Z"
   },
   {
    "duration": 6,
    "start_time": "2022-12-20T16:36:05.075Z"
   },
   {
    "duration": 9,
    "start_time": "2022-12-20T16:36:05.082Z"
   },
   {
    "duration": 15,
    "start_time": "2022-12-20T16:36:05.092Z"
   },
   {
    "duration": 10,
    "start_time": "2022-12-20T16:36:05.108Z"
   },
   {
    "duration": 37,
    "start_time": "2022-12-20T16:36:05.119Z"
   },
   {
    "duration": 6,
    "start_time": "2022-12-20T16:36:05.158Z"
   },
   {
    "duration": 8,
    "start_time": "2022-12-20T16:36:05.165Z"
   },
   {
    "duration": 11,
    "start_time": "2022-12-20T16:36:05.175Z"
   },
   {
    "duration": 15,
    "start_time": "2022-12-20T16:36:05.188Z"
   },
   {
    "duration": 45,
    "start_time": "2022-12-20T16:36:05.204Z"
   },
   {
    "duration": 33,
    "start_time": "2022-12-20T16:36:05.254Z"
   },
   {
    "duration": 5,
    "start_time": "2022-12-20T16:36:05.289Z"
   },
   {
    "duration": 31,
    "start_time": "2022-12-20T16:36:05.296Z"
   },
   {
    "duration": 75,
    "start_time": "2022-12-20T16:36:05.329Z"
   },
   {
    "duration": 69,
    "start_time": "2022-12-20T16:36:05.405Z"
   },
   {
    "duration": 64,
    "start_time": "2022-12-20T16:36:05.476Z"
   },
   {
    "duration": 7,
    "start_time": "2022-12-20T16:36:05.555Z"
   },
   {
    "duration": 12,
    "start_time": "2022-12-20T16:36:05.563Z"
   },
   {
    "duration": 363,
    "start_time": "2022-12-20T16:36:05.578Z"
   },
   {
    "duration": 3,
    "start_time": "2022-12-20T16:36:29.448Z"
   },
   {
    "duration": 36,
    "start_time": "2022-12-20T16:36:40.521Z"
   },
   {
    "duration": 22,
    "start_time": "2022-12-20T16:38:24.649Z"
   },
   {
    "duration": 14,
    "start_time": "2022-12-20T16:38:54.285Z"
   },
   {
    "duration": 38,
    "start_time": "2022-12-20T16:40:51.075Z"
   },
   {
    "duration": 15,
    "start_time": "2022-12-20T16:43:19.870Z"
   },
   {
    "duration": 16,
    "start_time": "2022-12-20T16:43:36.539Z"
   },
   {
    "duration": 13,
    "start_time": "2022-12-20T16:44:01.545Z"
   },
   {
    "duration": 45,
    "start_time": "2022-12-20T16:44:24.773Z"
   },
   {
    "duration": 36,
    "start_time": "2022-12-20T16:44:36.679Z"
   },
   {
    "duration": 5,
    "start_time": "2022-12-20T16:45:06.259Z"
   },
   {
    "duration": 153,
    "start_time": "2022-12-20T16:45:45.404Z"
   },
   {
    "duration": 8,
    "start_time": "2022-12-20T16:45:51.086Z"
   },
   {
    "duration": 122,
    "start_time": "2022-12-20T16:47:13.264Z"
   },
   {
    "duration": 44,
    "start_time": "2022-12-20T16:48:00.279Z"
   },
   {
    "duration": 40,
    "start_time": "2022-12-20T16:48:04.177Z"
   },
   {
    "duration": 43,
    "start_time": "2022-12-20T16:48:37.548Z"
   },
   {
    "duration": 135,
    "start_time": "2022-12-20T16:57:29.992Z"
   },
   {
    "duration": 138,
    "start_time": "2022-12-20T16:58:00.161Z"
   },
   {
    "duration": 146,
    "start_time": "2022-12-20T16:58:08.129Z"
   },
   {
    "duration": 142,
    "start_time": "2022-12-20T16:58:15.100Z"
   },
   {
    "duration": 126,
    "start_time": "2022-12-20T16:58:26.995Z"
   },
   {
    "duration": 148,
    "start_time": "2022-12-20T16:59:18.054Z"
   },
   {
    "duration": 132,
    "start_time": "2022-12-20T17:01:44.304Z"
   },
   {
    "duration": 140,
    "start_time": "2022-12-20T17:07:48.798Z"
   },
   {
    "duration": 139,
    "start_time": "2022-12-20T17:08:06.740Z"
   },
   {
    "duration": 131,
    "start_time": "2022-12-20T17:08:17.612Z"
   },
   {
    "duration": 134,
    "start_time": "2022-12-20T17:08:51.505Z"
   },
   {
    "duration": 11,
    "start_time": "2022-12-20T17:13:32.303Z"
   },
   {
    "duration": 20,
    "start_time": "2022-12-20T17:15:05.966Z"
   },
   {
    "duration": 9,
    "start_time": "2022-12-20T17:15:58.106Z"
   },
   {
    "duration": 16,
    "start_time": "2022-12-20T17:16:08.526Z"
   },
   {
    "duration": 13,
    "start_time": "2022-12-20T17:17:20.319Z"
   },
   {
    "duration": 52,
    "start_time": "2022-12-20T17:17:41.338Z"
   },
   {
    "duration": 44,
    "start_time": "2022-12-20T17:17:47.250Z"
   },
   {
    "duration": 16,
    "start_time": "2022-12-20T17:17:50.830Z"
   },
   {
    "duration": 21,
    "start_time": "2022-12-20T17:21:21.562Z"
   },
   {
    "duration": 92,
    "start_time": "2022-12-20T17:24:37.551Z"
   },
   {
    "duration": 49,
    "start_time": "2022-12-20T17:26:14.901Z"
   },
   {
    "duration": 28,
    "start_time": "2022-12-20T17:27:03.032Z"
   },
   {
    "duration": 11,
    "start_time": "2022-12-20T17:28:05.615Z"
   },
   {
    "duration": 37,
    "start_time": "2022-12-20T17:28:26.910Z"
   },
   {
    "duration": 46,
    "start_time": "2022-12-20T17:28:39.287Z"
   },
   {
    "duration": 737,
    "start_time": "2022-12-20T17:29:23.453Z"
   },
   {
    "duration": 4,
    "start_time": "2022-12-20T17:31:36.184Z"
   },
   {
    "duration": 862,
    "start_time": "2022-12-20T17:32:07.227Z"
   },
   {
    "duration": 783,
    "start_time": "2022-12-20T17:32:43.883Z"
   },
   {
    "duration": 731,
    "start_time": "2022-12-20T17:34:47.573Z"
   },
   {
    "duration": 38,
    "start_time": "2022-12-20T17:35:32.497Z"
   },
   {
    "duration": 47,
    "start_time": "2022-12-20T17:35:42.529Z"
   },
   {
    "duration": 5,
    "start_time": "2022-12-20T17:35:52.828Z"
   },
   {
    "duration": 13,
    "start_time": "2022-12-20T17:36:00.831Z"
   },
   {
    "duration": 8,
    "start_time": "2022-12-20T17:38:12.829Z"
   },
   {
    "duration": 17,
    "start_time": "2022-12-20T17:42:16.771Z"
   },
   {
    "duration": 21,
    "start_time": "2022-12-20T17:42:23.686Z"
   },
   {
    "duration": 21,
    "start_time": "2022-12-20T17:43:40.809Z"
   },
   {
    "duration": 26,
    "start_time": "2022-12-20T17:43:48.290Z"
   },
   {
    "duration": 25,
    "start_time": "2022-12-20T17:44:28.529Z"
   },
   {
    "duration": 19,
    "start_time": "2022-12-20T17:47:28.396Z"
   },
   {
    "duration": 9,
    "start_time": "2022-12-20T17:49:04.261Z"
   },
   {
    "duration": 15,
    "start_time": "2022-12-20T17:49:17.910Z"
   },
   {
    "duration": 19,
    "start_time": "2022-12-20T17:50:46.060Z"
   },
   {
    "duration": 18,
    "start_time": "2022-12-20T17:51:06.455Z"
   },
   {
    "duration": 18,
    "start_time": "2022-12-20T17:51:51.461Z"
   },
   {
    "duration": 23,
    "start_time": "2022-12-20T17:52:07.482Z"
   },
   {
    "duration": 18,
    "start_time": "2022-12-20T17:52:12.781Z"
   },
   {
    "duration": 20,
    "start_time": "2022-12-20T17:52:24.009Z"
   },
   {
    "duration": 21,
    "start_time": "2022-12-20T17:52:36.395Z"
   },
   {
    "duration": 14,
    "start_time": "2022-12-20T17:53:19.345Z"
   },
   {
    "duration": 22,
    "start_time": "2022-12-20T17:53:31.615Z"
   },
   {
    "duration": 19,
    "start_time": "2022-12-20T17:53:45.784Z"
   },
   {
    "duration": 29,
    "start_time": "2022-12-20T17:56:10.506Z"
   },
   {
    "duration": 22,
    "start_time": "2022-12-20T17:56:34.033Z"
   },
   {
    "duration": 34,
    "start_time": "2022-12-20T17:56:42.840Z"
   },
   {
    "duration": 14,
    "start_time": "2022-12-20T17:57:21.979Z"
   },
   {
    "duration": 36,
    "start_time": "2022-12-20T17:58:36.569Z"
   },
   {
    "duration": 9,
    "start_time": "2022-12-20T18:05:06.769Z"
   },
   {
    "duration": 11,
    "start_time": "2022-12-20T18:06:27.054Z"
   },
   {
    "duration": 29,
    "start_time": "2022-12-20T18:06:36.440Z"
   },
   {
    "duration": 9,
    "start_time": "2022-12-20T18:06:49.504Z"
   },
   {
    "duration": 19,
    "start_time": "2022-12-20T18:11:49.325Z"
   },
   {
    "duration": 11,
    "start_time": "2022-12-20T18:13:33.132Z"
   },
   {
    "duration": 12,
    "start_time": "2022-12-20T18:13:40.105Z"
   },
   {
    "duration": 12,
    "start_time": "2022-12-20T18:14:08.160Z"
   },
   {
    "duration": 13,
    "start_time": "2022-12-20T18:14:23.984Z"
   },
   {
    "duration": 14,
    "start_time": "2022-12-20T18:14:58.827Z"
   },
   {
    "duration": 27,
    "start_time": "2022-12-20T18:15:25.392Z"
   },
   {
    "duration": 20,
    "start_time": "2022-12-20T18:21:25.053Z"
   },
   {
    "duration": 16,
    "start_time": "2022-12-20T18:21:35.853Z"
   },
   {
    "duration": 15,
    "start_time": "2022-12-20T18:21:46.929Z"
   },
   {
    "duration": 16,
    "start_time": "2022-12-20T18:21:51.853Z"
   },
   {
    "duration": 14,
    "start_time": "2022-12-20T18:21:56.386Z"
   },
   {
    "duration": 18,
    "start_time": "2022-12-20T18:22:35.411Z"
   },
   {
    "duration": 20,
    "start_time": "2022-12-20T18:27:07.251Z"
   },
   {
    "duration": 27,
    "start_time": "2022-12-20T18:27:29.252Z"
   },
   {
    "duration": 7,
    "start_time": "2022-12-20T18:28:19.346Z"
   },
   {
    "duration": 10,
    "start_time": "2022-12-20T18:29:38.746Z"
   },
   {
    "duration": 22,
    "start_time": "2022-12-20T18:31:29.384Z"
   },
   {
    "duration": 7,
    "start_time": "2022-12-20T18:32:52.401Z"
   },
   {
    "duration": 6,
    "start_time": "2022-12-20T18:33:21.532Z"
   },
   {
    "duration": 10,
    "start_time": "2022-12-20T18:38:16.655Z"
   },
   {
    "duration": 9,
    "start_time": "2022-12-20T18:39:28.719Z"
   },
   {
    "duration": 20,
    "start_time": "2022-12-20T18:39:42.287Z"
   },
   {
    "duration": 6,
    "start_time": "2022-12-20T18:39:46.672Z"
   },
   {
    "duration": 9,
    "start_time": "2022-12-20T18:39:48.334Z"
   },
   {
    "duration": 49,
    "start_time": "2022-12-21T11:43:07.177Z"
   },
   {
    "duration": 7,
    "start_time": "2022-12-21T11:43:12.704Z"
   },
   {
    "duration": 1389,
    "start_time": "2022-12-21T11:43:21.151Z"
   },
   {
    "duration": 3,
    "start_time": "2022-12-21T11:43:22.543Z"
   },
   {
    "duration": 175,
    "start_time": "2022-12-21T11:43:22.547Z"
   },
   {
    "duration": 57,
    "start_time": "2022-12-21T11:43:22.724Z"
   },
   {
    "duration": 707,
    "start_time": "2022-12-21T11:43:22.783Z"
   },
   {
    "duration": 11,
    "start_time": "2022-12-21T11:43:23.492Z"
   },
   {
    "duration": 11,
    "start_time": "2022-12-21T11:43:23.505Z"
   },
   {
    "duration": 21,
    "start_time": "2022-12-21T11:43:23.518Z"
   },
   {
    "duration": 10,
    "start_time": "2022-12-21T11:43:23.541Z"
   },
   {
    "duration": 5,
    "start_time": "2022-12-21T11:43:23.554Z"
   },
   {
    "duration": 16,
    "start_time": "2022-12-21T11:43:23.561Z"
   },
   {
    "duration": 17,
    "start_time": "2022-12-21T11:43:23.579Z"
   },
   {
    "duration": 9,
    "start_time": "2022-12-21T11:43:23.598Z"
   },
   {
    "duration": 11,
    "start_time": "2022-12-21T11:43:23.609Z"
   },
   {
    "duration": 8,
    "start_time": "2022-12-21T11:43:23.638Z"
   },
   {
    "duration": 15,
    "start_time": "2022-12-21T11:43:23.648Z"
   },
   {
    "duration": 29,
    "start_time": "2022-12-21T11:43:23.665Z"
   },
   {
    "duration": 11,
    "start_time": "2022-12-21T11:43:23.696Z"
   },
   {
    "duration": 44,
    "start_time": "2022-12-21T11:43:23.709Z"
   },
   {
    "duration": 32,
    "start_time": "2022-12-21T11:43:23.755Z"
   },
   {
    "duration": 17,
    "start_time": "2022-12-21T11:43:23.789Z"
   },
   {
    "duration": 42,
    "start_time": "2022-12-21T11:43:23.808Z"
   },
   {
    "duration": 70,
    "start_time": "2022-12-21T11:43:23.853Z"
   },
   {
    "duration": 75,
    "start_time": "2022-12-21T11:43:23.925Z"
   },
   {
    "duration": 74,
    "start_time": "2022-12-21T11:43:24.002Z"
   },
   {
    "duration": 9,
    "start_time": "2022-12-21T11:43:24.078Z"
   },
   {
    "duration": 17,
    "start_time": "2022-12-21T11:43:24.089Z"
   },
   {
    "duration": 445,
    "start_time": "2022-12-21T11:43:24.112Z"
   },
   {
    "duration": 17,
    "start_time": "2022-12-21T11:43:24.559Z"
   },
   {
    "duration": 5,
    "start_time": "2022-12-21T11:43:24.578Z"
   },
   {
    "duration": 12,
    "start_time": "2022-12-21T11:43:24.584Z"
   },
   {
    "duration": 236,
    "start_time": "2022-12-21T11:43:24.637Z"
   },
   {
    "duration": 220,
    "start_time": "2022-12-21T11:43:24.875Z"
   },
   {
    "duration": 9,
    "start_time": "2022-12-21T11:43:25.097Z"
   },
   {
    "duration": 17,
    "start_time": "2022-12-21T11:43:25.108Z"
   },
   {
    "duration": 37,
    "start_time": "2022-12-21T11:43:25.126Z"
   },
   {
    "duration": 13,
    "start_time": "2022-12-21T11:43:25.164Z"
   },
   {
    "duration": 17,
    "start_time": "2022-12-21T11:43:25.179Z"
   },
   {
    "duration": 42,
    "start_time": "2022-12-21T11:43:25.198Z"
   },
   {
    "duration": 14,
    "start_time": "2022-12-21T11:43:25.242Z"
   },
   {
    "duration": 26,
    "start_time": "2022-12-21T11:43:25.258Z"
   },
   {
    "duration": 26,
    "start_time": "2022-12-21T11:43:25.286Z"
   },
   {
    "duration": 8,
    "start_time": "2022-12-21T11:43:25.338Z"
   },
   {
    "duration": 12,
    "start_time": "2022-12-21T11:43:25.348Z"
   },
   {
    "duration": 23,
    "start_time": "2022-12-21T11:43:25.362Z"
   },
   {
    "duration": 7,
    "start_time": "2022-12-21T11:43:25.387Z"
   },
   {
    "duration": 49,
    "start_time": "2022-12-21T11:43:25.395Z"
   },
   {
    "duration": 4,
    "start_time": "2022-12-21T11:43:25.446Z"
   },
   {
    "duration": 172,
    "start_time": "2022-12-21T11:43:54.805Z"
   },
   {
    "duration": 659,
    "start_time": "2022-12-21T11:44:15.838Z"
   },
   {
    "duration": 46,
    "start_time": "2022-12-21T11:44:40.940Z"
   },
   {
    "duration": 29,
    "start_time": "2022-12-21T11:44:49.585Z"
   },
   {
    "duration": 5,
    "start_time": "2022-12-21T11:45:01.165Z"
   },
   {
    "duration": 9,
    "start_time": "2022-12-21T11:45:34.252Z"
   },
   {
    "duration": 19,
    "start_time": "2022-12-21T11:46:54.818Z"
   },
   {
    "duration": 24,
    "start_time": "2022-12-21T11:47:00.983Z"
   },
   {
    "duration": 12,
    "start_time": "2022-12-21T11:47:30.186Z"
   },
   {
    "duration": 1204,
    "start_time": "2022-12-21T11:47:52.399Z"
   },
   {
    "duration": 11,
    "start_time": "2022-12-21T11:48:31.247Z"
   },
   {
    "duration": 78,
    "start_time": "2022-12-21T11:52:56.880Z"
   },
   {
    "duration": 25,
    "start_time": "2022-12-21T11:53:04.675Z"
   },
   {
    "duration": 11,
    "start_time": "2022-12-21T11:53:23.705Z"
   },
   {
    "duration": 20,
    "start_time": "2022-12-21T11:53:34.959Z"
   },
   {
    "duration": 3,
    "start_time": "2022-12-21T11:54:16.095Z"
   },
   {
    "duration": 5,
    "start_time": "2022-12-21T11:55:03.173Z"
   },
   {
    "duration": 30,
    "start_time": "2022-12-21T11:55:46.788Z"
   },
   {
    "duration": 18,
    "start_time": "2022-12-21T11:59:49.514Z"
   },
   {
    "duration": 11,
    "start_time": "2022-12-21T12:00:27.072Z"
   },
   {
    "duration": 12,
    "start_time": "2022-12-21T12:00:33.669Z"
   },
   {
    "duration": 12,
    "start_time": "2022-12-21T12:03:08.020Z"
   },
   {
    "duration": 15,
    "start_time": "2022-12-21T12:03:28.382Z"
   },
   {
    "duration": 13,
    "start_time": "2022-12-21T12:03:46.278Z"
   },
   {
    "duration": 12,
    "start_time": "2022-12-21T12:03:54.950Z"
   },
   {
    "duration": 4,
    "start_time": "2022-12-21T12:04:03.886Z"
   },
   {
    "duration": 11,
    "start_time": "2022-12-21T12:04:35.750Z"
   },
   {
    "duration": 18,
    "start_time": "2022-12-21T12:05:03.166Z"
   },
   {
    "duration": 20,
    "start_time": "2022-12-21T12:05:09.254Z"
   },
   {
    "duration": 5,
    "start_time": "2022-12-21T12:05:30.855Z"
   },
   {
    "duration": 11,
    "start_time": "2022-12-21T12:05:39.795Z"
   },
   {
    "duration": 1428,
    "start_time": "2022-12-21T15:02:29.182Z"
   },
   {
    "duration": 3,
    "start_time": "2022-12-21T15:02:30.612Z"
   },
   {
    "duration": 241,
    "start_time": "2022-12-21T15:02:30.617Z"
   },
   {
    "duration": 69,
    "start_time": "2022-12-21T15:02:30.860Z"
   },
   {
    "duration": 777,
    "start_time": "2022-12-21T15:02:30.930Z"
   },
   {
    "duration": 9,
    "start_time": "2022-12-21T15:02:31.709Z"
   },
   {
    "duration": 29,
    "start_time": "2022-12-21T15:02:31.720Z"
   },
   {
    "duration": 43,
    "start_time": "2022-12-21T15:02:31.750Z"
   },
   {
    "duration": 21,
    "start_time": "2022-12-21T15:02:31.799Z"
   },
   {
    "duration": 8,
    "start_time": "2022-12-21T15:02:31.822Z"
   },
   {
    "duration": 19,
    "start_time": "2022-12-21T15:02:31.831Z"
   },
   {
    "duration": 29,
    "start_time": "2022-12-21T15:02:31.851Z"
   },
   {
    "duration": 36,
    "start_time": "2022-12-21T15:02:31.881Z"
   },
   {
    "duration": 16,
    "start_time": "2022-12-21T15:02:31.918Z"
   },
   {
    "duration": 24,
    "start_time": "2022-12-21T15:02:31.936Z"
   },
   {
    "duration": 24,
    "start_time": "2022-12-21T15:02:31.962Z"
   },
   {
    "duration": 33,
    "start_time": "2022-12-21T15:02:31.987Z"
   },
   {
    "duration": 20,
    "start_time": "2022-12-21T15:02:32.021Z"
   },
   {
    "duration": 45,
    "start_time": "2022-12-21T15:02:32.042Z"
   },
   {
    "duration": 46,
    "start_time": "2022-12-21T15:02:32.091Z"
   },
   {
    "duration": 23,
    "start_time": "2022-12-21T15:02:32.139Z"
   },
   {
    "duration": 51,
    "start_time": "2022-12-21T15:02:32.163Z"
   },
   {
    "duration": 61,
    "start_time": "2022-12-21T15:02:32.216Z"
   },
   {
    "duration": 65,
    "start_time": "2022-12-21T15:02:32.280Z"
   },
   {
    "duration": 69,
    "start_time": "2022-12-21T15:02:32.347Z"
   },
   {
    "duration": 5,
    "start_time": "2022-12-21T15:02:32.418Z"
   },
   {
    "duration": 11,
    "start_time": "2022-12-21T15:02:32.425Z"
   },
   {
    "duration": 435,
    "start_time": "2022-12-21T15:02:32.439Z"
   },
   {
    "duration": 23,
    "start_time": "2022-12-21T15:02:32.876Z"
   },
   {
    "duration": 37,
    "start_time": "2022-12-21T15:02:32.901Z"
   },
   {
    "duration": 51,
    "start_time": "2022-12-21T15:02:32.940Z"
   },
   {
    "duration": 180,
    "start_time": "2022-12-21T15:02:32.996Z"
   },
   {
    "duration": 196,
    "start_time": "2022-12-21T15:02:33.180Z"
   },
   {
    "duration": 32,
    "start_time": "2022-12-21T15:02:33.378Z"
   },
   {
    "duration": 23,
    "start_time": "2022-12-21T15:02:33.415Z"
   },
   {
    "duration": 23,
    "start_time": "2022-12-21T15:02:33.439Z"
   },
   {
    "duration": 12,
    "start_time": "2022-12-21T15:02:33.463Z"
   },
   {
    "duration": 49,
    "start_time": "2022-12-21T15:02:33.476Z"
   },
   {
    "duration": 19,
    "start_time": "2022-12-21T15:02:33.527Z"
   },
   {
    "duration": 12,
    "start_time": "2022-12-21T15:02:33.548Z"
   },
   {
    "duration": 61,
    "start_time": "2022-12-21T15:02:33.562Z"
   },
   {
    "duration": 16,
    "start_time": "2022-12-21T15:02:33.625Z"
   },
   {
    "duration": 11,
    "start_time": "2022-12-21T15:02:33.642Z"
   },
   {
    "duration": 14,
    "start_time": "2022-12-21T15:02:33.654Z"
   },
   {
    "duration": 54,
    "start_time": "2022-12-21T15:02:33.670Z"
   },
   {
    "duration": 5,
    "start_time": "2022-12-21T15:02:33.725Z"
   },
   {
    "duration": 21,
    "start_time": "2022-12-21T15:02:33.731Z"
   },
   {
    "duration": 8,
    "start_time": "2022-12-21T15:02:33.754Z"
   },
   {
    "duration": 34,
    "start_time": "2022-12-21T15:02:33.763Z"
   },
   {
    "duration": 14,
    "start_time": "2022-12-21T15:02:33.798Z"
   },
   {
    "duration": 18,
    "start_time": "2022-12-21T15:02:33.814Z"
   },
   {
    "duration": 6,
    "start_time": "2022-12-21T15:02:33.834Z"
   },
   {
    "duration": 19,
    "start_time": "2022-12-21T15:02:33.841Z"
   },
   {
    "duration": 164,
    "start_time": "2022-12-21T15:03:56.752Z"
   },
   {
    "duration": 14,
    "start_time": "2022-12-21T15:08:02.904Z"
   },
   {
    "duration": 6,
    "start_time": "2022-12-21T15:09:08.390Z"
   },
   {
    "duration": 12,
    "start_time": "2022-12-21T15:14:17.815Z"
   },
   {
    "duration": 16,
    "start_time": "2022-12-21T15:14:25.870Z"
   },
   {
    "duration": 11,
    "start_time": "2022-12-21T15:14:39.795Z"
   },
   {
    "duration": 12,
    "start_time": "2022-12-21T15:14:55.846Z"
   },
   {
    "duration": 12,
    "start_time": "2022-12-21T15:15:21.616Z"
   },
   {
    "duration": 10,
    "start_time": "2022-12-21T15:16:14.696Z"
   },
   {
    "duration": 10,
    "start_time": "2022-12-21T15:17:57.612Z"
   },
   {
    "duration": 10,
    "start_time": "2022-12-21T15:18:32.446Z"
   },
   {
    "duration": 19,
    "start_time": "2022-12-21T15:18:43.586Z"
   },
   {
    "duration": 17,
    "start_time": "2022-12-21T15:18:53.650Z"
   },
   {
    "duration": 6,
    "start_time": "2022-12-21T15:19:33.906Z"
   },
   {
    "duration": 10,
    "start_time": "2022-12-21T15:19:38.920Z"
   },
   {
    "duration": 6,
    "start_time": "2022-12-21T15:19:46.941Z"
   },
   {
    "duration": 10,
    "start_time": "2022-12-21T15:19:52.192Z"
   },
   {
    "duration": 14,
    "start_time": "2022-12-21T15:20:24.039Z"
   },
   {
    "duration": 16,
    "start_time": "2022-12-21T15:28:57.094Z"
   },
   {
    "duration": 7,
    "start_time": "2022-12-21T15:29:22.863Z"
   },
   {
    "duration": 13,
    "start_time": "2022-12-21T15:30:15.185Z"
   },
   {
    "duration": 11,
    "start_time": "2022-12-21T15:30:29.847Z"
   },
   {
    "duration": 12,
    "start_time": "2022-12-21T15:32:06.095Z"
   },
   {
    "duration": 15,
    "start_time": "2022-12-21T15:32:43.206Z"
   },
   {
    "duration": 7,
    "start_time": "2022-12-21T15:33:52.595Z"
   },
   {
    "duration": 15,
    "start_time": "2022-12-21T15:34:01.918Z"
   },
   {
    "duration": 12,
    "start_time": "2022-12-21T15:34:37.191Z"
   },
   {
    "duration": 6,
    "start_time": "2022-12-21T15:34:44.395Z"
   },
   {
    "duration": 10,
    "start_time": "2022-12-21T15:34:49.251Z"
   },
   {
    "duration": 4,
    "start_time": "2022-12-21T15:35:14.097Z"
   },
   {
    "duration": 20,
    "start_time": "2022-12-21T15:35:17.095Z"
   },
   {
    "duration": 3,
    "start_time": "2022-12-21T15:35:20.148Z"
   },
   {
    "duration": 22,
    "start_time": "2022-12-21T15:35:24.051Z"
   },
   {
    "duration": 7,
    "start_time": "2022-12-21T15:35:28.897Z"
   },
   {
    "duration": 8,
    "start_time": "2022-12-21T15:35:31.706Z"
   },
   {
    "duration": 10,
    "start_time": "2022-12-21T15:36:26.321Z"
   },
   {
    "duration": 7,
    "start_time": "2022-12-21T15:36:47.289Z"
   },
   {
    "duration": 10,
    "start_time": "2022-12-21T15:36:50.022Z"
   },
   {
    "duration": 8,
    "start_time": "2022-12-21T15:36:54.897Z"
   },
   {
    "duration": 1123,
    "start_time": "2022-12-21T15:37:15.724Z"
   },
   {
    "duration": 4,
    "start_time": "2022-12-21T15:37:16.849Z"
   },
   {
    "duration": 75,
    "start_time": "2022-12-21T15:37:16.854Z"
   },
   {
    "duration": 15,
    "start_time": "2022-12-21T15:37:16.931Z"
   },
   {
    "duration": 264,
    "start_time": "2022-12-21T15:37:16.947Z"
   },
   {
    "duration": 10,
    "start_time": "2022-12-21T15:37:17.212Z"
   },
   {
    "duration": 40,
    "start_time": "2022-12-21T15:37:17.223Z"
   },
   {
    "duration": 30,
    "start_time": "2022-12-21T15:37:17.265Z"
   },
   {
    "duration": 19,
    "start_time": "2022-12-21T15:37:17.297Z"
   },
   {
    "duration": 13,
    "start_time": "2022-12-21T15:37:17.318Z"
   },
   {
    "duration": 17,
    "start_time": "2022-12-21T15:37:17.332Z"
   },
   {
    "duration": 35,
    "start_time": "2022-12-21T15:37:17.351Z"
   },
   {
    "duration": 17,
    "start_time": "2022-12-21T15:37:17.387Z"
   },
   {
    "duration": 26,
    "start_time": "2022-12-21T15:37:17.407Z"
   },
   {
    "duration": 11,
    "start_time": "2022-12-21T15:37:17.435Z"
   },
   {
    "duration": 16,
    "start_time": "2022-12-21T15:37:17.448Z"
   },
   {
    "duration": 12,
    "start_time": "2022-12-21T15:37:17.465Z"
   },
   {
    "duration": 21,
    "start_time": "2022-12-21T15:37:17.478Z"
   },
   {
    "duration": 34,
    "start_time": "2022-12-21T15:37:17.501Z"
   },
   {
    "duration": 29,
    "start_time": "2022-12-21T15:37:17.537Z"
   },
   {
    "duration": 4,
    "start_time": "2022-12-21T15:37:17.568Z"
   },
   {
    "duration": 36,
    "start_time": "2022-12-21T15:37:17.578Z"
   },
   {
    "duration": 56,
    "start_time": "2022-12-21T15:37:17.616Z"
   },
   {
    "duration": 64,
    "start_time": "2022-12-21T15:37:17.677Z"
   },
   {
    "duration": 67,
    "start_time": "2022-12-21T15:37:17.742Z"
   },
   {
    "duration": 6,
    "start_time": "2022-12-21T15:37:17.811Z"
   },
   {
    "duration": 11,
    "start_time": "2022-12-21T15:37:17.819Z"
   },
   {
    "duration": 364,
    "start_time": "2022-12-21T15:37:17.831Z"
   },
   {
    "duration": 15,
    "start_time": "2022-12-21T15:37:18.199Z"
   },
   {
    "duration": 5,
    "start_time": "2022-12-21T15:37:18.216Z"
   },
   {
    "duration": 9,
    "start_time": "2022-12-21T15:37:18.222Z"
   },
   {
    "duration": 231,
    "start_time": "2022-12-21T15:37:18.233Z"
   },
   {
    "duration": 219,
    "start_time": "2022-12-21T15:37:18.466Z"
   },
   {
    "duration": 17,
    "start_time": "2022-12-21T15:37:18.687Z"
   },
   {
    "duration": 12,
    "start_time": "2022-12-21T15:37:18.705Z"
   },
   {
    "duration": 29,
    "start_time": "2022-12-21T15:37:18.718Z"
   },
   {
    "duration": 12,
    "start_time": "2022-12-21T15:37:18.748Z"
   },
   {
    "duration": 30,
    "start_time": "2022-12-21T15:37:18.780Z"
   },
   {
    "duration": 18,
    "start_time": "2022-12-21T15:37:18.812Z"
   },
   {
    "duration": 14,
    "start_time": "2022-12-21T15:37:18.832Z"
   },
   {
    "duration": 16,
    "start_time": "2022-12-21T15:37:18.850Z"
   },
   {
    "duration": 23,
    "start_time": "2022-12-21T15:37:18.878Z"
   },
   {
    "duration": 6,
    "start_time": "2022-12-21T15:37:18.903Z"
   },
   {
    "duration": 8,
    "start_time": "2022-12-21T15:37:18.911Z"
   },
   {
    "duration": 23,
    "start_time": "2022-12-21T15:37:18.920Z"
   },
   {
    "duration": 7,
    "start_time": "2022-12-21T15:37:18.944Z"
   },
   {
    "duration": 37,
    "start_time": "2022-12-21T15:37:18.952Z"
   },
   {
    "duration": 22,
    "start_time": "2022-12-21T15:37:18.991Z"
   },
   {
    "duration": 29,
    "start_time": "2022-12-21T15:37:19.016Z"
   },
   {
    "duration": 3,
    "start_time": "2022-12-21T15:37:19.051Z"
   },
   {
    "duration": 38,
    "start_time": "2022-12-21T15:37:19.056Z"
   },
   {
    "duration": 7,
    "start_time": "2022-12-21T15:37:19.097Z"
   },
   {
    "duration": 15,
    "start_time": "2022-12-21T15:37:19.106Z"
   },
   {
    "duration": 190,
    "start_time": "2022-12-21T15:37:19.123Z"
   },
   {
    "duration": 5,
    "start_time": "2022-12-21T15:38:15.592Z"
   },
   {
    "duration": 11,
    "start_time": "2022-12-21T15:39:57.423Z"
   },
   {
    "duration": 4,
    "start_time": "2022-12-21T15:40:05.602Z"
   },
   {
    "duration": 4,
    "start_time": "2022-12-21T15:40:10.349Z"
   },
   {
    "duration": 1282,
    "start_time": "2022-12-21T15:40:36.205Z"
   },
   {
    "duration": 3,
    "start_time": "2022-12-21T15:40:37.489Z"
   },
   {
    "duration": 52,
    "start_time": "2022-12-21T15:40:37.499Z"
   },
   {
    "duration": 15,
    "start_time": "2022-12-21T15:40:37.553Z"
   },
   {
    "duration": 245,
    "start_time": "2022-12-21T15:40:37.570Z"
   },
   {
    "duration": 11,
    "start_time": "2022-12-21T15:40:37.817Z"
   },
   {
    "duration": 22,
    "start_time": "2022-12-21T15:40:37.829Z"
   },
   {
    "duration": 12,
    "start_time": "2022-12-21T15:40:37.853Z"
   },
   {
    "duration": 15,
    "start_time": "2022-12-21T15:40:37.879Z"
   },
   {
    "duration": 8,
    "start_time": "2022-12-21T15:40:37.898Z"
   },
   {
    "duration": 13,
    "start_time": "2022-12-21T15:40:37.908Z"
   },
   {
    "duration": 22,
    "start_time": "2022-12-21T15:40:37.922Z"
   },
   {
    "duration": 10,
    "start_time": "2022-12-21T15:40:37.945Z"
   },
   {
    "duration": 9,
    "start_time": "2022-12-21T15:40:37.956Z"
   },
   {
    "duration": 16,
    "start_time": "2022-12-21T15:40:37.967Z"
   },
   {
    "duration": 21,
    "start_time": "2022-12-21T15:40:37.984Z"
   },
   {
    "duration": 22,
    "start_time": "2022-12-21T15:40:38.007Z"
   },
   {
    "duration": 14,
    "start_time": "2022-12-21T15:40:38.031Z"
   },
   {
    "duration": 46,
    "start_time": "2022-12-21T15:40:38.047Z"
   },
   {
    "duration": 32,
    "start_time": "2022-12-21T15:40:38.098Z"
   },
   {
    "duration": 9,
    "start_time": "2022-12-21T15:40:38.132Z"
   },
   {
    "duration": 30,
    "start_time": "2022-12-21T15:40:38.142Z"
   },
   {
    "duration": 81,
    "start_time": "2022-12-21T15:40:38.174Z"
   },
   {
    "duration": 71,
    "start_time": "2022-12-21T15:40:38.256Z"
   },
   {
    "duration": 60,
    "start_time": "2022-12-21T15:40:38.329Z"
   },
   {
    "duration": 9,
    "start_time": "2022-12-21T15:40:38.403Z"
   },
   {
    "duration": 17,
    "start_time": "2022-12-21T15:40:38.414Z"
   },
   {
    "duration": 364,
    "start_time": "2022-12-21T15:40:38.435Z"
   },
   {
    "duration": 21,
    "start_time": "2022-12-21T15:40:38.801Z"
   },
   {
    "duration": 6,
    "start_time": "2022-12-21T15:40:38.824Z"
   },
   {
    "duration": 73,
    "start_time": "2022-12-21T15:40:38.832Z"
   },
   {
    "duration": 213,
    "start_time": "2022-12-21T15:40:38.907Z"
   },
   {
    "duration": 221,
    "start_time": "2022-12-21T15:40:39.122Z"
   },
   {
    "duration": 10,
    "start_time": "2022-12-21T15:40:39.345Z"
   },
   {
    "duration": 23,
    "start_time": "2022-12-21T15:40:39.357Z"
   },
   {
    "duration": 25,
    "start_time": "2022-12-21T15:40:39.382Z"
   },
   {
    "duration": 11,
    "start_time": "2022-12-21T15:40:39.409Z"
   },
   {
    "duration": 21,
    "start_time": "2022-12-21T15:40:39.422Z"
   },
   {
    "duration": 52,
    "start_time": "2022-12-21T15:40:39.444Z"
   },
   {
    "duration": 13,
    "start_time": "2022-12-21T15:40:39.497Z"
   },
   {
    "duration": 16,
    "start_time": "2022-12-21T15:40:39.511Z"
   },
   {
    "duration": 16,
    "start_time": "2022-12-21T15:40:39.528Z"
   },
   {
    "duration": 4,
    "start_time": "2022-12-21T15:40:39.547Z"
   },
   {
    "duration": 32,
    "start_time": "2022-12-21T15:40:39.552Z"
   },
   {
    "duration": 28,
    "start_time": "2022-12-21T15:40:39.586Z"
   },
   {
    "duration": 7,
    "start_time": "2022-12-21T15:40:39.616Z"
   },
   {
    "duration": 16,
    "start_time": "2022-12-21T15:40:39.624Z"
   },
   {
    "duration": 18,
    "start_time": "2022-12-21T15:40:39.642Z"
   },
   {
    "duration": 47,
    "start_time": "2022-12-21T15:40:39.662Z"
   },
   {
    "duration": 2,
    "start_time": "2022-12-21T15:40:39.711Z"
   },
   {
    "duration": 22,
    "start_time": "2022-12-21T15:40:39.715Z"
   },
   {
    "duration": 7,
    "start_time": "2022-12-21T15:40:39.739Z"
   },
   {
    "duration": 14,
    "start_time": "2022-12-21T15:40:39.747Z"
   },
   {
    "duration": 177,
    "start_time": "2022-12-21T15:40:39.763Z"
   },
   {
    "duration": 19,
    "start_time": "2022-12-21T15:43:33.163Z"
   },
   {
    "duration": 7,
    "start_time": "2022-12-21T15:43:39.992Z"
   },
   {
    "duration": 21,
    "start_time": "2022-12-21T15:46:13.445Z"
   },
   {
    "duration": 21,
    "start_time": "2022-12-21T15:47:25.297Z"
   },
   {
    "duration": 12,
    "start_time": "2022-12-21T15:48:10.572Z"
   },
   {
    "duration": 127,
    "start_time": "2022-12-21T15:48:15.200Z"
   },
   {
    "duration": 1262,
    "start_time": "2022-12-21T15:52:52.842Z"
   },
   {
    "duration": 22,
    "start_time": "2022-12-21T15:53:36.197Z"
   },
   {
    "duration": 14,
    "start_time": "2022-12-21T15:53:52.457Z"
   },
   {
    "duration": 23,
    "start_time": "2022-12-21T15:54:13.044Z"
   },
   {
    "duration": 22,
    "start_time": "2022-12-21T15:54:15.266Z"
   },
   {
    "duration": 8,
    "start_time": "2022-12-21T15:54:33.237Z"
   },
   {
    "duration": 7,
    "start_time": "2022-12-21T15:55:20.939Z"
   },
   {
    "duration": 38,
    "start_time": "2022-12-21T15:56:14.432Z"
   },
   {
    "duration": 11,
    "start_time": "2022-12-21T15:57:05.172Z"
   },
   {
    "duration": 1192,
    "start_time": "2022-12-21T15:57:54.360Z"
   },
   {
    "duration": 3,
    "start_time": "2022-12-21T15:57:55.554Z"
   },
   {
    "duration": 49,
    "start_time": "2022-12-21T15:57:55.558Z"
   },
   {
    "duration": 15,
    "start_time": "2022-12-21T15:57:55.609Z"
   },
   {
    "duration": 218,
    "start_time": "2022-12-21T15:57:55.626Z"
   },
   {
    "duration": 10,
    "start_time": "2022-12-21T15:57:55.846Z"
   },
   {
    "duration": 12,
    "start_time": "2022-12-21T15:57:55.858Z"
   },
   {
    "duration": 17,
    "start_time": "2022-12-21T15:57:55.878Z"
   },
   {
    "duration": 9,
    "start_time": "2022-12-21T15:57:55.897Z"
   },
   {
    "duration": 4,
    "start_time": "2022-12-21T15:57:55.909Z"
   },
   {
    "duration": 13,
    "start_time": "2022-12-21T15:57:55.915Z"
   },
   {
    "duration": 11,
    "start_time": "2022-12-21T15:57:55.929Z"
   },
   {
    "duration": 5,
    "start_time": "2022-12-21T15:57:55.942Z"
   },
   {
    "duration": 6,
    "start_time": "2022-12-21T15:57:55.949Z"
   },
   {
    "duration": 7,
    "start_time": "2022-12-21T15:57:55.990Z"
   },
   {
    "duration": 9,
    "start_time": "2022-12-21T15:57:55.999Z"
   },
   {
    "duration": 14,
    "start_time": "2022-12-21T15:57:56.009Z"
   },
   {
    "duration": 9,
    "start_time": "2022-12-21T15:57:56.025Z"
   },
   {
    "duration": 34,
    "start_time": "2022-12-21T15:57:56.036Z"
   },
   {
    "duration": 41,
    "start_time": "2022-12-21T15:57:56.073Z"
   },
   {
    "duration": 6,
    "start_time": "2022-12-21T15:57:56.115Z"
   },
   {
    "duration": 27,
    "start_time": "2022-12-21T15:57:56.123Z"
   },
   {
    "duration": 81,
    "start_time": "2022-12-21T15:57:56.152Z"
   },
   {
    "duration": 70,
    "start_time": "2022-12-21T15:57:56.234Z"
   },
   {
    "duration": 51,
    "start_time": "2022-12-21T15:57:56.305Z"
   },
   {
    "duration": 21,
    "start_time": "2022-12-21T15:57:56.358Z"
   },
   {
    "duration": 14,
    "start_time": "2022-12-21T15:57:56.385Z"
   },
   {
    "duration": 333,
    "start_time": "2022-12-21T15:57:56.402Z"
   },
   {
    "duration": 16,
    "start_time": "2022-12-21T15:57:56.736Z"
   },
   {
    "duration": 5,
    "start_time": "2022-12-21T15:57:56.753Z"
   },
   {
    "duration": 27,
    "start_time": "2022-12-21T15:57:56.759Z"
   },
   {
    "duration": 227,
    "start_time": "2022-12-21T15:57:56.788Z"
   },
   {
    "duration": 253,
    "start_time": "2022-12-21T15:57:57.017Z"
   },
   {
    "duration": 20,
    "start_time": "2022-12-21T15:57:57.272Z"
   },
   {
    "duration": 21,
    "start_time": "2022-12-21T15:57:57.295Z"
   },
   {
    "duration": 19,
    "start_time": "2022-12-21T15:57:57.317Z"
   },
   {
    "duration": 13,
    "start_time": "2022-12-21T15:57:57.338Z"
   },
   {
    "duration": 27,
    "start_time": "2022-12-21T15:57:57.352Z"
   },
   {
    "duration": 22,
    "start_time": "2022-12-21T15:57:57.381Z"
   },
   {
    "duration": 12,
    "start_time": "2022-12-21T15:57:57.405Z"
   },
   {
    "duration": 16,
    "start_time": "2022-12-21T15:57:57.418Z"
   },
   {
    "duration": 17,
    "start_time": "2022-12-21T15:57:57.435Z"
   },
   {
    "duration": 27,
    "start_time": "2022-12-21T15:57:57.478Z"
   },
   {
    "duration": 12,
    "start_time": "2022-12-21T15:57:57.507Z"
   },
   {
    "duration": 24,
    "start_time": "2022-12-21T15:57:57.521Z"
   },
   {
    "duration": 56,
    "start_time": "2022-12-21T15:57:57.546Z"
   },
   {
    "duration": 8,
    "start_time": "2022-12-21T15:57:57.604Z"
   },
   {
    "duration": 7,
    "start_time": "2022-12-21T15:57:57.614Z"
   },
   {
    "duration": 20,
    "start_time": "2022-12-21T15:57:57.622Z"
   },
   {
    "duration": 4,
    "start_time": "2022-12-21T15:57:57.644Z"
   },
   {
    "duration": 51,
    "start_time": "2022-12-21T15:57:57.649Z"
   },
   {
    "duration": 5,
    "start_time": "2022-12-21T15:57:57.702Z"
   },
   {
    "duration": 15,
    "start_time": "2022-12-21T15:57:57.709Z"
   },
   {
    "duration": 258,
    "start_time": "2022-12-21T15:57:57.726Z"
   },
   {
    "duration": 0,
    "start_time": "2022-12-21T15:57:57.986Z"
   },
   {
    "duration": 143,
    "start_time": "2022-12-21T15:58:28.195Z"
   },
   {
    "duration": 133,
    "start_time": "2022-12-21T15:58:35.240Z"
   },
   {
    "duration": 147,
    "start_time": "2022-12-21T15:59:13.470Z"
   },
   {
    "duration": 164,
    "start_time": "2022-12-21T15:59:48.657Z"
   },
   {
    "duration": 165,
    "start_time": "2022-12-21T16:00:19.738Z"
   },
   {
    "duration": 7,
    "start_time": "2022-12-21T16:02:14.210Z"
   },
   {
    "duration": 9,
    "start_time": "2022-12-21T16:02:23.142Z"
   },
   {
    "duration": 13,
    "start_time": "2022-12-21T16:05:35.388Z"
   },
   {
    "duration": 18,
    "start_time": "2022-12-21T16:05:41.387Z"
   },
   {
    "duration": 24,
    "start_time": "2022-12-21T16:12:19.616Z"
   },
   {
    "duration": 13,
    "start_time": "2022-12-21T16:12:27.010Z"
   },
   {
    "duration": 10,
    "start_time": "2022-12-21T16:20:05.896Z"
   },
   {
    "duration": 11,
    "start_time": "2022-12-21T16:21:44.408Z"
   },
   {
    "duration": 92,
    "start_time": "2022-12-21T16:23:30.202Z"
   },
   {
    "duration": 70,
    "start_time": "2022-12-21T16:23:35.650Z"
   },
   {
    "duration": 16,
    "start_time": "2022-12-21T16:24:09.058Z"
   },
   {
    "duration": 108,
    "start_time": "2022-12-21T16:24:37.219Z"
   },
   {
    "duration": 108,
    "start_time": "2022-12-21T16:24:45.187Z"
   },
   {
    "duration": 116,
    "start_time": "2022-12-21T16:26:04.790Z"
   },
   {
    "duration": 118,
    "start_time": "2022-12-21T16:26:19.531Z"
   },
   {
    "duration": 19,
    "start_time": "2022-12-21T16:33:37.513Z"
   },
   {
    "duration": 22,
    "start_time": "2022-12-21T16:33:57.447Z"
   },
   {
    "duration": 14,
    "start_time": "2022-12-21T16:34:21.013Z"
   },
   {
    "duration": 12,
    "start_time": "2022-12-21T16:34:53.018Z"
   },
   {
    "duration": 110,
    "start_time": "2022-12-21T16:35:10.105Z"
   },
   {
    "duration": 137,
    "start_time": "2022-12-21T16:35:55.362Z"
   },
   {
    "duration": 246,
    "start_time": "2022-12-21T16:36:18.811Z"
   },
   {
    "duration": 7,
    "start_time": "2022-12-21T16:41:34.634Z"
   },
   {
    "duration": 10,
    "start_time": "2022-12-21T16:41:41.258Z"
   },
   {
    "duration": 11,
    "start_time": "2022-12-21T16:42:09.634Z"
   },
   {
    "duration": 19,
    "start_time": "2022-12-21T16:42:47.969Z"
   },
   {
    "duration": 69,
    "start_time": "2022-12-21T16:43:08.703Z"
   },
   {
    "duration": 11,
    "start_time": "2022-12-21T16:43:15.425Z"
   },
   {
    "duration": 152,
    "start_time": "2022-12-21T16:43:37.866Z"
   },
   {
    "duration": 17,
    "start_time": "2022-12-21T16:43:51.542Z"
   },
   {
    "duration": 21,
    "start_time": "2022-12-21T16:45:57.471Z"
   },
   {
    "duration": 14,
    "start_time": "2022-12-21T16:46:04.914Z"
   },
   {
    "duration": 16,
    "start_time": "2022-12-21T16:47:19.257Z"
   },
   {
    "duration": 18,
    "start_time": "2022-12-21T16:48:19.316Z"
   },
   {
    "duration": 17,
    "start_time": "2022-12-21T16:48:25.927Z"
   },
   {
    "duration": 2,
    "start_time": "2022-12-21T16:49:04.374Z"
   },
   {
    "duration": 23,
    "start_time": "2022-12-21T16:51:11.075Z"
   },
   {
    "duration": 6,
    "start_time": "2022-12-21T16:51:19.765Z"
   },
   {
    "duration": 371,
    "start_time": "2022-12-21T16:52:00.040Z"
   },
   {
    "duration": 8,
    "start_time": "2022-12-21T16:52:55.021Z"
   },
   {
    "duration": 3,
    "start_time": "2022-12-21T16:53:42.956Z"
   },
   {
    "duration": 13,
    "start_time": "2022-12-21T16:53:50.779Z"
   },
   {
    "duration": 13,
    "start_time": "2022-12-21T16:54:52.515Z"
   },
   {
    "duration": 13,
    "start_time": "2022-12-21T17:03:10.214Z"
   },
   {
    "duration": 16,
    "start_time": "2022-12-21T17:03:26.522Z"
   },
   {
    "duration": 18,
    "start_time": "2022-12-21T17:09:45.543Z"
   },
   {
    "duration": 16,
    "start_time": "2022-12-21T17:09:54.764Z"
   },
   {
    "duration": 21,
    "start_time": "2022-12-21T17:10:27.266Z"
   },
   {
    "duration": 19,
    "start_time": "2022-12-21T17:12:27.069Z"
   },
   {
    "duration": 16,
    "start_time": "2022-12-21T17:12:47.693Z"
   },
   {
    "duration": 16,
    "start_time": "2022-12-21T17:14:28.757Z"
   },
   {
    "duration": 72,
    "start_time": "2022-12-21T17:14:51.812Z"
   },
   {
    "duration": 15,
    "start_time": "2022-12-21T17:15:36.692Z"
   },
   {
    "duration": 14,
    "start_time": "2022-12-21T17:16:48.897Z"
   },
   {
    "duration": 18,
    "start_time": "2022-12-21T17:18:35.246Z"
   },
   {
    "duration": 18,
    "start_time": "2022-12-21T17:18:46.814Z"
   },
   {
    "duration": 202,
    "start_time": "2022-12-21T17:19:43.989Z"
   },
   {
    "duration": 201,
    "start_time": "2022-12-21T17:21:13.818Z"
   },
   {
    "duration": 6,
    "start_time": "2022-12-21T17:25:41.998Z"
   },
   {
    "duration": 8,
    "start_time": "2022-12-21T17:25:49.602Z"
   },
   {
    "duration": 6,
    "start_time": "2022-12-21T17:26:18.616Z"
   },
   {
    "duration": 8,
    "start_time": "2022-12-21T17:26:20.850Z"
   },
   {
    "duration": 5,
    "start_time": "2022-12-21T17:27:55.683Z"
   },
   {
    "duration": 172,
    "start_time": "2022-12-21T17:28:28.795Z"
   },
   {
    "duration": 8,
    "start_time": "2022-12-21T17:39:51.113Z"
   },
   {
    "duration": 10,
    "start_time": "2022-12-21T17:40:08.519Z"
   },
   {
    "duration": 14,
    "start_time": "2022-12-21T17:40:21.060Z"
   },
   {
    "duration": 10,
    "start_time": "2022-12-21T17:41:01.311Z"
   },
   {
    "duration": 10,
    "start_time": "2022-12-21T17:42:55.145Z"
   },
   {
    "duration": 11,
    "start_time": "2022-12-21T17:44:38.068Z"
   },
   {
    "duration": 6,
    "start_time": "2022-12-21T17:45:34.398Z"
   },
   {
    "duration": 8,
    "start_time": "2022-12-21T17:46:30.965Z"
   },
   {
    "duration": 13,
    "start_time": "2022-12-21T17:46:36.718Z"
   },
   {
    "duration": 16,
    "start_time": "2022-12-21T17:47:24.497Z"
   },
   {
    "duration": 13,
    "start_time": "2022-12-21T17:48:17.993Z"
   },
   {
    "duration": 136,
    "start_time": "2022-12-21T17:51:24.600Z"
   },
   {
    "duration": 13,
    "start_time": "2022-12-21T17:51:33.735Z"
   },
   {
    "duration": 139,
    "start_time": "2022-12-21T17:51:35.877Z"
   },
   {
    "duration": 12,
    "start_time": "2022-12-21T17:52:01.300Z"
   },
   {
    "duration": 164,
    "start_time": "2022-12-21T17:52:03.899Z"
   },
   {
    "duration": 12,
    "start_time": "2022-12-21T17:52:08.532Z"
   },
   {
    "duration": 125,
    "start_time": "2022-12-21T17:52:35.787Z"
   },
   {
    "duration": 89,
    "start_time": "2022-12-21T17:57:33.193Z"
   },
   {
    "duration": 124,
    "start_time": "2022-12-21T18:18:14.948Z"
   },
   {
    "duration": 125,
    "start_time": "2022-12-21T18:18:45.167Z"
   },
   {
    "duration": 132,
    "start_time": "2022-12-21T18:18:55.766Z"
   },
   {
    "duration": 12,
    "start_time": "2022-12-21T18:19:12.114Z"
   },
   {
    "duration": 130,
    "start_time": "2022-12-21T18:19:25.465Z"
   },
   {
    "duration": 37,
    "start_time": "2022-12-21T18:21:34.757Z"
   },
   {
    "duration": 1495,
    "start_time": "2022-12-22T07:21:58.161Z"
   },
   {
    "duration": 3,
    "start_time": "2022-12-22T07:21:59.658Z"
   },
   {
    "duration": 89,
    "start_time": "2022-12-22T07:21:59.663Z"
   },
   {
    "duration": 45,
    "start_time": "2022-12-22T07:21:59.755Z"
   },
   {
    "duration": 505,
    "start_time": "2022-12-22T07:21:59.803Z"
   },
   {
    "duration": 11,
    "start_time": "2022-12-22T07:22:00.310Z"
   },
   {
    "duration": 49,
    "start_time": "2022-12-22T07:22:00.323Z"
   },
   {
    "duration": 32,
    "start_time": "2022-12-22T07:22:00.374Z"
   },
   {
    "duration": 27,
    "start_time": "2022-12-22T07:22:00.408Z"
   },
   {
    "duration": 17,
    "start_time": "2022-12-22T07:22:00.437Z"
   },
   {
    "duration": 18,
    "start_time": "2022-12-22T07:22:00.455Z"
   },
   {
    "duration": 25,
    "start_time": "2022-12-22T07:22:00.475Z"
   },
   {
    "duration": 29,
    "start_time": "2022-12-22T07:22:00.502Z"
   },
   {
    "duration": 19,
    "start_time": "2022-12-22T07:22:00.533Z"
   },
   {
    "duration": 29,
    "start_time": "2022-12-22T07:22:00.554Z"
   },
   {
    "duration": 22,
    "start_time": "2022-12-22T07:22:00.584Z"
   },
   {
    "duration": 18,
    "start_time": "2022-12-22T07:22:00.608Z"
   },
   {
    "duration": 47,
    "start_time": "2022-12-22T07:22:00.628Z"
   },
   {
    "duration": 55,
    "start_time": "2022-12-22T07:22:00.677Z"
   },
   {
    "duration": 14,
    "start_time": "2022-12-22T07:22:00.734Z"
   },
   {
    "duration": 32,
    "start_time": "2022-12-22T07:22:00.750Z"
   },
   {
    "duration": 70,
    "start_time": "2022-12-22T07:22:00.784Z"
   },
   {
    "duration": 79,
    "start_time": "2022-12-22T07:22:00.856Z"
   },
   {
    "duration": 102,
    "start_time": "2022-12-22T07:22:00.937Z"
   },
   {
    "duration": 9,
    "start_time": "2022-12-22T07:22:01.042Z"
   },
   {
    "duration": 32,
    "start_time": "2022-12-22T07:22:01.052Z"
   },
   {
    "duration": 168,
    "start_time": "2022-12-22T07:22:01.086Z"
   },
   {
    "duration": 355,
    "start_time": "2022-12-22T07:22:01.258Z"
   },
   {
    "duration": 12,
    "start_time": "2022-12-22T07:22:01.616Z"
   },
   {
    "duration": 222,
    "start_time": "2022-12-22T07:22:01.630Z"
   },
   {
    "duration": 6,
    "start_time": "2022-12-22T07:22:01.855Z"
   },
   {
    "duration": 27,
    "start_time": "2022-12-22T07:22:01.863Z"
   },
   {
    "duration": 170,
    "start_time": "2022-12-22T07:22:01.892Z"
   },
   {
    "duration": 13,
    "start_time": "2022-12-22T07:22:02.065Z"
   },
   {
    "duration": 18,
    "start_time": "2022-12-22T07:22:02.081Z"
   },
   {
    "duration": 22,
    "start_time": "2022-12-22T07:22:02.101Z"
   },
   {
    "duration": 12,
    "start_time": "2022-12-22T07:22:02.125Z"
   },
   {
    "duration": 38,
    "start_time": "2022-12-22T07:22:02.139Z"
   },
   {
    "duration": 21,
    "start_time": "2022-12-22T07:22:02.179Z"
   },
   {
    "duration": 14,
    "start_time": "2022-12-22T07:22:02.202Z"
   },
   {
    "duration": 31,
    "start_time": "2022-12-22T07:22:02.218Z"
   },
   {
    "duration": 40,
    "start_time": "2022-12-22T07:22:02.252Z"
   },
   {
    "duration": 26,
    "start_time": "2022-12-22T07:22:02.294Z"
   },
   {
    "duration": 9,
    "start_time": "2022-12-22T07:22:02.322Z"
   },
   {
    "duration": 71,
    "start_time": "2022-12-22T07:22:02.333Z"
   },
   {
    "duration": 45,
    "start_time": "2022-12-22T07:22:02.406Z"
   },
   {
    "duration": 8,
    "start_time": "2022-12-22T07:22:02.453Z"
   },
   {
    "duration": 15,
    "start_time": "2022-12-22T07:22:02.463Z"
   },
   {
    "duration": 24,
    "start_time": "2022-12-22T07:22:02.479Z"
   },
   {
    "duration": 4,
    "start_time": "2022-12-22T07:22:02.504Z"
   },
   {
    "duration": 37,
    "start_time": "2022-12-22T07:22:02.509Z"
   },
   {
    "duration": 6,
    "start_time": "2022-12-22T07:22:02.548Z"
   },
   {
    "duration": 32,
    "start_time": "2022-12-22T07:22:02.556Z"
   },
   {
    "duration": 189,
    "start_time": "2022-12-22T07:22:02.589Z"
   },
   {
    "duration": 133,
    "start_time": "2022-12-22T07:22:02.780Z"
   },
   {
    "duration": 12,
    "start_time": "2022-12-22T07:22:02.915Z"
   },
   {
    "duration": 172,
    "start_time": "2022-12-22T07:22:02.928Z"
   },
   {
    "duration": 0,
    "start_time": "2022-12-22T07:22:03.102Z"
   },
   {
    "duration": 0,
    "start_time": "2022-12-22T07:22:03.103Z"
   },
   {
    "duration": 0,
    "start_time": "2022-12-22T07:22:03.104Z"
   },
   {
    "duration": 0,
    "start_time": "2022-12-22T07:22:03.105Z"
   },
   {
    "duration": 0,
    "start_time": "2022-12-22T07:22:03.106Z"
   },
   {
    "duration": 1,
    "start_time": "2022-12-22T07:22:03.107Z"
   },
   {
    "duration": 0,
    "start_time": "2022-12-22T07:22:03.109Z"
   },
   {
    "duration": 10,
    "start_time": "2022-12-22T07:22:37.313Z"
   },
   {
    "duration": 20,
    "start_time": "2022-12-22T07:22:40.996Z"
   },
   {
    "duration": 16,
    "start_time": "2022-12-22T07:23:42.572Z"
   },
   {
    "duration": 1305,
    "start_time": "2022-12-22T07:24:05.080Z"
   },
   {
    "duration": 4,
    "start_time": "2022-12-22T07:24:06.387Z"
   },
   {
    "duration": 49,
    "start_time": "2022-12-22T07:24:06.392Z"
   },
   {
    "duration": 17,
    "start_time": "2022-12-22T07:24:06.443Z"
   },
   {
    "duration": 215,
    "start_time": "2022-12-22T07:24:06.463Z"
   },
   {
    "duration": 11,
    "start_time": "2022-12-22T07:24:06.680Z"
   },
   {
    "duration": 16,
    "start_time": "2022-12-22T07:24:06.692Z"
   },
   {
    "duration": 22,
    "start_time": "2022-12-22T07:24:06.710Z"
   },
   {
    "duration": 8,
    "start_time": "2022-12-22T07:24:06.734Z"
   },
   {
    "duration": 7,
    "start_time": "2022-12-22T07:24:06.743Z"
   },
   {
    "duration": 34,
    "start_time": "2022-12-22T07:24:06.752Z"
   },
   {
    "duration": 15,
    "start_time": "2022-12-22T07:24:06.790Z"
   },
   {
    "duration": 10,
    "start_time": "2022-12-22T07:24:06.807Z"
   },
   {
    "duration": 9,
    "start_time": "2022-12-22T07:24:06.820Z"
   },
   {
    "duration": 12,
    "start_time": "2022-12-22T07:24:06.830Z"
   },
   {
    "duration": 43,
    "start_time": "2022-12-22T07:24:06.845Z"
   },
   {
    "duration": 13,
    "start_time": "2022-12-22T07:24:06.890Z"
   },
   {
    "duration": 38,
    "start_time": "2022-12-22T07:24:06.905Z"
   },
   {
    "duration": 44,
    "start_time": "2022-12-22T07:24:06.945Z"
   },
   {
    "duration": 6,
    "start_time": "2022-12-22T07:24:06.991Z"
   },
   {
    "duration": 28,
    "start_time": "2022-12-22T07:24:07.000Z"
   },
   {
    "duration": 74,
    "start_time": "2022-12-22T07:24:07.029Z"
   },
   {
    "duration": 72,
    "start_time": "2022-12-22T07:24:07.105Z"
   },
   {
    "duration": 57,
    "start_time": "2022-12-22T07:24:07.179Z"
   },
   {
    "duration": 7,
    "start_time": "2022-12-22T07:24:07.238Z"
   },
   {
    "duration": 38,
    "start_time": "2022-12-22T07:24:07.247Z"
   },
   {
    "duration": 163,
    "start_time": "2022-12-22T07:24:07.287Z"
   },
   {
    "duration": 420,
    "start_time": "2022-12-22T07:24:07.452Z"
   },
   {
    "duration": 17,
    "start_time": "2022-12-22T07:24:07.874Z"
   },
   {
    "duration": 241,
    "start_time": "2022-12-22T07:24:07.893Z"
   },
   {
    "duration": 6,
    "start_time": "2022-12-22T07:24:08.136Z"
   },
   {
    "duration": 10,
    "start_time": "2022-12-22T07:24:08.144Z"
   },
   {
    "duration": 205,
    "start_time": "2022-12-22T07:24:08.156Z"
   },
   {
    "duration": 16,
    "start_time": "2022-12-22T07:24:08.363Z"
   },
   {
    "duration": 18,
    "start_time": "2022-12-22T07:24:08.382Z"
   },
   {
    "duration": 43,
    "start_time": "2022-12-22T07:24:08.403Z"
   },
   {
    "duration": 29,
    "start_time": "2022-12-22T07:24:08.448Z"
   },
   {
    "duration": 18,
    "start_time": "2022-12-22T07:24:08.479Z"
   },
   {
    "duration": 20,
    "start_time": "2022-12-22T07:24:08.499Z"
   },
   {
    "duration": 14,
    "start_time": "2022-12-22T07:24:08.521Z"
   },
   {
    "duration": 54,
    "start_time": "2022-12-22T07:24:08.539Z"
   },
   {
    "duration": 20,
    "start_time": "2022-12-22T07:24:08.595Z"
   },
   {
    "duration": 26,
    "start_time": "2022-12-22T07:24:08.617Z"
   },
   {
    "duration": 9,
    "start_time": "2022-12-22T07:24:08.678Z"
   },
   {
    "duration": 23,
    "start_time": "2022-12-22T07:24:08.689Z"
   },
   {
    "duration": 65,
    "start_time": "2022-12-22T07:24:08.714Z"
   },
   {
    "duration": 9,
    "start_time": "2022-12-22T07:24:08.780Z"
   },
   {
    "duration": 4,
    "start_time": "2022-12-22T07:24:08.791Z"
   },
   {
    "duration": 32,
    "start_time": "2022-12-22T07:24:08.808Z"
   },
   {
    "duration": 3,
    "start_time": "2022-12-22T07:24:08.842Z"
   },
   {
    "duration": 32,
    "start_time": "2022-12-22T07:24:08.846Z"
   },
   {
    "duration": 7,
    "start_time": "2022-12-22T07:24:08.880Z"
   },
   {
    "duration": 17,
    "start_time": "2022-12-22T07:24:08.888Z"
   },
   {
    "duration": 191,
    "start_time": "2022-12-22T07:24:08.906Z"
   },
   {
    "duration": 134,
    "start_time": "2022-12-22T07:24:09.099Z"
   },
   {
    "duration": 12,
    "start_time": "2022-12-22T07:24:09.235Z"
   },
   {
    "duration": 168,
    "start_time": "2022-12-22T07:24:09.248Z"
   },
   {
    "duration": 22,
    "start_time": "2022-12-22T07:24:09.417Z"
   },
   {
    "duration": 216,
    "start_time": "2022-12-22T07:24:09.442Z"
   },
   {
    "duration": 18,
    "start_time": "2022-12-22T07:24:09.660Z"
   },
   {
    "duration": 34,
    "start_time": "2022-12-22T07:24:09.680Z"
   },
   {
    "duration": 34,
    "start_time": "2022-12-22T07:24:09.716Z"
   },
   {
    "duration": 159,
    "start_time": "2022-12-22T07:24:09.752Z"
   },
   {
    "duration": 2,
    "start_time": "2022-12-22T07:36:36.208Z"
   },
   {
    "duration": 54,
    "start_time": "2022-12-22T07:43:05.107Z"
   },
   {
    "duration": 6,
    "start_time": "2022-12-22T07:48:00.501Z"
   },
   {
    "duration": 68,
    "start_time": "2022-12-22T08:00:08.745Z"
   },
   {
    "duration": 9,
    "start_time": "2022-12-22T08:00:15.930Z"
   },
   {
    "duration": 1495,
    "start_time": "2022-12-22T14:17:18.408Z"
   },
   {
    "duration": 7,
    "start_time": "2022-12-22T14:22:02.326Z"
   },
   {
    "duration": 5,
    "start_time": "2022-12-22T14:22:30.783Z"
   },
   {
    "duration": 4,
    "start_time": "2022-12-22T14:22:57.443Z"
   },
   {
    "duration": 5,
    "start_time": "2022-12-22T14:23:22.003Z"
   },
   {
    "duration": 142,
    "start_time": "2022-12-22T14:27:30.483Z"
   },
   {
    "duration": 1663,
    "start_time": "2022-12-22T14:27:41.458Z"
   },
   {
    "duration": 4,
    "start_time": "2022-12-22T14:27:43.124Z"
   },
   {
    "duration": 101,
    "start_time": "2022-12-22T14:27:43.130Z"
   },
   {
    "duration": 53,
    "start_time": "2022-12-22T14:27:43.232Z"
   },
   {
    "duration": 540,
    "start_time": "2022-12-22T14:27:43.287Z"
   },
   {
    "duration": 11,
    "start_time": "2022-12-22T14:27:43.829Z"
   },
   {
    "duration": 15,
    "start_time": "2022-12-22T14:27:43.841Z"
   },
   {
    "duration": 16,
    "start_time": "2022-12-22T14:27:43.858Z"
   },
   {
    "duration": 11,
    "start_time": "2022-12-22T14:27:43.876Z"
   },
   {
    "duration": 5,
    "start_time": "2022-12-22T14:27:43.889Z"
   },
   {
    "duration": 9,
    "start_time": "2022-12-22T14:27:43.915Z"
   },
   {
    "duration": 19,
    "start_time": "2022-12-22T14:27:43.926Z"
   },
   {
    "duration": 11,
    "start_time": "2022-12-22T14:27:43.947Z"
   },
   {
    "duration": 10,
    "start_time": "2022-12-22T14:27:43.962Z"
   },
   {
    "duration": 12,
    "start_time": "2022-12-22T14:27:43.973Z"
   },
   {
    "duration": 12,
    "start_time": "2022-12-22T14:27:43.987Z"
   },
   {
    "duration": 27,
    "start_time": "2022-12-22T14:27:44.001Z"
   },
   {
    "duration": 49,
    "start_time": "2022-12-22T14:27:44.030Z"
   },
   {
    "duration": 65,
    "start_time": "2022-12-22T14:27:44.081Z"
   },
   {
    "duration": 5,
    "start_time": "2022-12-22T14:27:44.148Z"
   },
   {
    "duration": 39,
    "start_time": "2022-12-22T14:27:44.155Z"
   },
   {
    "duration": 63,
    "start_time": "2022-12-22T14:27:44.216Z"
   },
   {
    "duration": 80,
    "start_time": "2022-12-22T14:27:44.281Z"
   },
   {
    "duration": 67,
    "start_time": "2022-12-22T14:27:44.363Z"
   },
   {
    "duration": 7,
    "start_time": "2022-12-22T14:27:44.433Z"
   },
   {
    "duration": 21,
    "start_time": "2022-12-22T14:27:44.442Z"
   },
   {
    "duration": 173,
    "start_time": "2022-12-22T14:27:44.464Z"
   },
   {
    "duration": 387,
    "start_time": "2022-12-22T14:27:44.639Z"
   },
   {
    "duration": 13,
    "start_time": "2022-12-22T14:27:45.044Z"
   },
   {
    "duration": 257,
    "start_time": "2022-12-22T14:27:45.059Z"
   },
   {
    "duration": 6,
    "start_time": "2022-12-22T14:27:45.318Z"
   },
   {
    "duration": 9,
    "start_time": "2022-12-22T14:27:45.326Z"
   },
   {
    "duration": 177,
    "start_time": "2022-12-22T14:27:45.338Z"
   },
   {
    "duration": 12,
    "start_time": "2022-12-22T14:27:45.517Z"
   },
   {
    "duration": 15,
    "start_time": "2022-12-22T14:27:45.531Z"
   },
   {
    "duration": 22,
    "start_time": "2022-12-22T14:27:45.548Z"
   },
   {
    "duration": 15,
    "start_time": "2022-12-22T14:27:45.572Z"
   },
   {
    "duration": 56,
    "start_time": "2022-12-22T14:27:45.589Z"
   },
   {
    "duration": 34,
    "start_time": "2022-12-22T14:27:45.648Z"
   },
   {
    "duration": 46,
    "start_time": "2022-12-22T14:27:45.685Z"
   },
   {
    "duration": 34,
    "start_time": "2022-12-22T14:27:45.739Z"
   },
   {
    "duration": 19,
    "start_time": "2022-12-22T14:27:45.776Z"
   },
   {
    "duration": 23,
    "start_time": "2022-12-22T14:27:45.816Z"
   },
   {
    "duration": 11,
    "start_time": "2022-12-22T14:27:45.841Z"
   },
   {
    "duration": 27,
    "start_time": "2022-12-22T14:27:45.854Z"
   },
   {
    "duration": 67,
    "start_time": "2022-12-22T14:27:45.882Z"
   },
   {
    "duration": 12,
    "start_time": "2022-12-22T14:27:45.951Z"
   },
   {
    "duration": 7,
    "start_time": "2022-12-22T14:27:45.965Z"
   },
   {
    "duration": 47,
    "start_time": "2022-12-22T14:27:45.973Z"
   },
   {
    "duration": 4,
    "start_time": "2022-12-22T14:27:46.022Z"
   },
   {
    "duration": 36,
    "start_time": "2022-12-22T14:27:46.027Z"
   },
   {
    "duration": 12,
    "start_time": "2022-12-22T14:27:46.065Z"
   },
   {
    "duration": 20,
    "start_time": "2022-12-22T14:27:46.079Z"
   },
   {
    "duration": 179,
    "start_time": "2022-12-22T14:27:46.101Z"
   },
   {
    "duration": 141,
    "start_time": "2022-12-22T14:27:46.282Z"
   },
   {
    "duration": 15,
    "start_time": "2022-12-22T14:27:46.425Z"
   },
   {
    "duration": 246,
    "start_time": "2022-12-22T14:27:46.442Z"
   },
   {
    "duration": 26,
    "start_time": "2022-12-22T14:27:46.690Z"
   },
   {
    "duration": 210,
    "start_time": "2022-12-22T14:27:46.718Z"
   },
   {
    "duration": 14,
    "start_time": "2022-12-22T14:27:46.930Z"
   },
   {
    "duration": 11,
    "start_time": "2022-12-22T14:27:46.946Z"
   },
   {
    "duration": 17,
    "start_time": "2022-12-22T14:27:46.959Z"
   },
   {
    "duration": 201,
    "start_time": "2022-12-22T14:27:46.977Z"
   },
   {
    "duration": 8,
    "start_time": "2022-12-22T14:27:47.180Z"
   },
   {
    "duration": 11,
    "start_time": "2022-12-22T14:27:47.190Z"
   },
   {
    "duration": 18,
    "start_time": "2022-12-22T14:28:42.506Z"
   },
   {
    "duration": 29,
    "start_time": "2022-12-22T14:32:16.945Z"
   },
   {
    "duration": 20,
    "start_time": "2022-12-22T14:32:39.488Z"
   },
   {
    "duration": 12,
    "start_time": "2022-12-22T14:34:56.771Z"
   },
   {
    "duration": 13,
    "start_time": "2022-12-22T14:35:12.237Z"
   },
   {
    "duration": 11,
    "start_time": "2022-12-22T14:35:18.799Z"
   },
   {
    "duration": 8,
    "start_time": "2022-12-22T14:37:26.566Z"
   },
   {
    "duration": 9,
    "start_time": "2022-12-22T14:37:47.592Z"
   },
   {
    "duration": 8,
    "start_time": "2022-12-22T14:37:54.247Z"
   },
   {
    "duration": 9,
    "start_time": "2022-12-22T14:49:57.277Z"
   },
   {
    "duration": 8,
    "start_time": "2022-12-22T14:50:28.845Z"
   },
   {
    "duration": 8,
    "start_time": "2022-12-22T14:51:42.036Z"
   },
   {
    "duration": 10,
    "start_time": "2022-12-22T14:52:49.379Z"
   },
   {
    "duration": 6,
    "start_time": "2022-12-22T14:54:30.547Z"
   },
   {
    "duration": 7,
    "start_time": "2022-12-22T14:55:12.823Z"
   },
   {
    "duration": 9,
    "start_time": "2022-12-22T14:56:14.429Z"
   },
   {
    "duration": 9,
    "start_time": "2022-12-22T15:41:16.597Z"
   },
   {
    "duration": 51,
    "start_time": "2022-12-22T15:57:49.842Z"
   },
   {
    "duration": 3,
    "start_time": "2022-12-22T16:22:59.313Z"
   },
   {
    "duration": 3,
    "start_time": "2022-12-22T16:23:35.239Z"
   },
   {
    "duration": 7,
    "start_time": "2022-12-22T16:33:23.883Z"
   },
   {
    "duration": 174,
    "start_time": "2022-12-22T16:34:08.562Z"
   },
   {
    "duration": 7,
    "start_time": "2022-12-22T16:35:05.776Z"
   },
   {
    "duration": 39,
    "start_time": "2022-12-22T16:35:09.107Z"
   },
   {
    "duration": 6,
    "start_time": "2022-12-22T16:36:33.225Z"
   },
   {
    "duration": 7,
    "start_time": "2022-12-22T16:37:41.078Z"
   },
   {
    "duration": 5,
    "start_time": "2022-12-22T16:38:30.324Z"
   },
   {
    "duration": 5,
    "start_time": "2022-12-22T16:38:38.337Z"
   },
   {
    "duration": 5,
    "start_time": "2022-12-22T16:38:50.643Z"
   },
   {
    "duration": 3,
    "start_time": "2022-12-22T16:38:59.471Z"
   },
   {
    "duration": 38,
    "start_time": "2022-12-22T16:39:35.292Z"
   },
   {
    "duration": 42,
    "start_time": "2022-12-22T16:40:03.407Z"
   },
   {
    "duration": 30,
    "start_time": "2022-12-22T16:40:16.959Z"
   },
   {
    "duration": 30,
    "start_time": "2022-12-22T16:40:42.942Z"
   },
   {
    "duration": 53,
    "start_time": "2022-12-22T16:41:39.010Z"
   },
   {
    "duration": 3,
    "start_time": "2022-12-22T16:41:44.400Z"
   },
   {
    "duration": 31,
    "start_time": "2022-12-22T16:41:52.874Z"
   },
   {
    "duration": 31,
    "start_time": "2022-12-22T16:45:03.955Z"
   },
   {
    "duration": 4,
    "start_time": "2022-12-22T16:48:19.555Z"
   },
   {
    "duration": 4,
    "start_time": "2022-12-22T16:48:36.808Z"
   },
   {
    "duration": 41,
    "start_time": "2022-12-22T16:48:50.854Z"
   },
   {
    "duration": 11,
    "start_time": "2022-12-22T16:49:01.743Z"
   },
   {
    "duration": 78,
    "start_time": "2022-12-22T16:51:20.226Z"
   },
   {
    "duration": 16,
    "start_time": "2022-12-22T16:51:29.990Z"
   },
   {
    "duration": 28,
    "start_time": "2022-12-22T16:51:54.367Z"
   },
   {
    "duration": 8,
    "start_time": "2022-12-22T16:53:41.160Z"
   },
   {
    "duration": 34,
    "start_time": "2022-12-22T16:53:44.781Z"
   },
   {
    "duration": 7,
    "start_time": "2022-12-22T17:03:35.549Z"
   },
   {
    "duration": 31,
    "start_time": "2022-12-22T17:03:38.023Z"
   },
   {
    "duration": 31,
    "start_time": "2022-12-22T17:05:37.173Z"
   },
   {
    "duration": 14,
    "start_time": "2022-12-22T17:07:36.673Z"
   },
   {
    "duration": 19,
    "start_time": "2022-12-22T17:07:56.665Z"
   },
   {
    "duration": 9,
    "start_time": "2022-12-22T17:08:40.866Z"
   },
   {
    "duration": 8,
    "start_time": "2022-12-22T17:10:49.899Z"
   },
   {
    "duration": 3,
    "start_time": "2022-12-22T17:14:22.113Z"
   },
   {
    "duration": 65,
    "start_time": "2022-12-22T17:14:28.375Z"
   },
   {
    "duration": 12,
    "start_time": "2022-12-22T17:14:45.989Z"
   },
   {
    "duration": 12,
    "start_time": "2022-12-22T17:15:35.464Z"
   },
   {
    "duration": 6,
    "start_time": "2022-12-22T17:17:03.904Z"
   },
   {
    "duration": 13,
    "start_time": "2022-12-22T17:17:45.400Z"
   },
   {
    "duration": 13,
    "start_time": "2022-12-22T17:21:10.343Z"
   },
   {
    "duration": 7,
    "start_time": "2022-12-22T17:21:26.573Z"
   },
   {
    "duration": 7,
    "start_time": "2022-12-22T17:21:43.945Z"
   },
   {
    "duration": 4,
    "start_time": "2022-12-22T17:21:51.074Z"
   },
   {
    "duration": 4,
    "start_time": "2022-12-22T17:22:11.048Z"
   },
   {
    "duration": 6,
    "start_time": "2022-12-22T17:22:40.474Z"
   },
   {
    "duration": 5,
    "start_time": "2022-12-22T17:22:45.340Z"
   },
   {
    "duration": 5,
    "start_time": "2022-12-22T17:22:54.529Z"
   },
   {
    "duration": 4,
    "start_time": "2022-12-22T17:22:56.793Z"
   },
   {
    "duration": 16,
    "start_time": "2022-12-22T17:25:46.687Z"
   },
   {
    "duration": 14,
    "start_time": "2022-12-22T17:26:29.786Z"
   },
   {
    "duration": 4,
    "start_time": "2022-12-22T17:26:41.522Z"
   },
   {
    "duration": 6,
    "start_time": "2022-12-22T17:26:46.823Z"
   },
   {
    "duration": 15,
    "start_time": "2022-12-22T17:27:22.637Z"
   },
   {
    "duration": 14,
    "start_time": "2022-12-22T17:27:35.788Z"
   },
   {
    "duration": 5,
    "start_time": "2022-12-22T17:27:41.448Z"
   },
   {
    "duration": 3,
    "start_time": "2022-12-22T17:27:43.852Z"
   },
   {
    "duration": 10,
    "start_time": "2022-12-22T17:28:23.284Z"
   },
   {
    "duration": 12,
    "start_time": "2022-12-22T17:28:39.267Z"
   },
   {
    "duration": 44,
    "start_time": "2022-12-22T17:30:14.332Z"
   },
   {
    "duration": 52,
    "start_time": "2022-12-22T17:30:31.166Z"
   },
   {
    "duration": 50,
    "start_time": "2022-12-22T17:30:37.853Z"
   },
   {
    "duration": 46,
    "start_time": "2022-12-22T17:30:42.008Z"
   },
   {
    "duration": 18,
    "start_time": "2022-12-22T17:31:10.309Z"
   },
   {
    "duration": 53,
    "start_time": "2022-12-22T17:31:22.646Z"
   },
   {
    "duration": 52,
    "start_time": "2022-12-22T17:31:32.404Z"
   },
   {
    "duration": 56,
    "start_time": "2022-12-22T17:31:41.392Z"
   },
   {
    "duration": 3,
    "start_time": "2022-12-22T17:31:46.805Z"
   },
   {
    "duration": 13,
    "start_time": "2022-12-22T17:31:53.593Z"
   },
   {
    "duration": 4,
    "start_time": "2022-12-22T17:33:00.756Z"
   },
   {
    "duration": 7,
    "start_time": "2022-12-22T17:33:24.090Z"
   },
   {
    "duration": 228,
    "start_time": "2022-12-22T17:33:26.364Z"
   },
   {
    "duration": 7,
    "start_time": "2022-12-22T17:34:18.433Z"
   },
   {
    "duration": 751,
    "start_time": "2022-12-22T17:34:21.559Z"
   },
   {
    "duration": 7,
    "start_time": "2022-12-22T17:34:45.540Z"
   },
   {
    "duration": 7,
    "start_time": "2022-12-22T17:36:54.463Z"
   },
   {
    "duration": 24,
    "start_time": "2022-12-22T17:36:57.481Z"
   },
   {
    "duration": 11,
    "start_time": "2022-12-22T17:38:27.991Z"
   },
   {
    "duration": 48,
    "start_time": "2022-12-22T17:38:47.043Z"
   },
   {
    "duration": 20,
    "start_time": "2022-12-22T17:38:56.003Z"
   },
   {
    "duration": 11,
    "start_time": "2022-12-22T17:39:34.328Z"
   },
   {
    "duration": 12,
    "start_time": "2022-12-22T17:40:24.889Z"
   },
   {
    "duration": 14,
    "start_time": "2022-12-22T17:40:39.050Z"
   },
   {
    "duration": 10,
    "start_time": "2022-12-22T17:42:01.358Z"
   },
   {
    "duration": 6,
    "start_time": "2022-12-22T17:44:42.703Z"
   },
   {
    "duration": 836,
    "start_time": "2022-12-22T17:44:44.986Z"
   },
   {
    "duration": 7,
    "start_time": "2022-12-22T17:45:05.095Z"
   },
   {
    "duration": 781,
    "start_time": "2022-12-22T17:45:07.382Z"
   },
   {
    "duration": 7,
    "start_time": "2022-12-22T17:45:55.732Z"
   },
   {
    "duration": 801,
    "start_time": "2022-12-22T17:45:57.840Z"
   },
   {
    "duration": 8,
    "start_time": "2022-12-22T17:48:15.978Z"
   },
   {
    "duration": 781,
    "start_time": "2022-12-22T17:48:25.693Z"
   },
   {
    "duration": 7,
    "start_time": "2022-12-22T17:50:41.384Z"
   },
   {
    "duration": 27,
    "start_time": "2022-12-22T17:50:46.726Z"
   },
   {
    "duration": 7,
    "start_time": "2022-12-22T17:51:15.373Z"
   },
   {
    "duration": 37,
    "start_time": "2022-12-22T17:51:18.290Z"
   },
   {
    "duration": 7,
    "start_time": "2022-12-22T17:53:36.007Z"
   },
   {
    "duration": 32,
    "start_time": "2022-12-22T17:53:37.412Z"
   },
   {
    "duration": 64,
    "start_time": "2022-12-22T17:55:22.088Z"
   },
   {
    "duration": 7,
    "start_time": "2022-12-22T17:55:31.938Z"
   },
   {
    "duration": 33,
    "start_time": "2022-12-22T17:55:34.208Z"
   },
   {
    "duration": 7,
    "start_time": "2022-12-22T17:56:20.276Z"
   },
   {
    "duration": 752,
    "start_time": "2022-12-22T17:56:22.537Z"
   },
   {
    "duration": 6,
    "start_time": "2022-12-22T17:57:11.992Z"
   },
   {
    "duration": 32,
    "start_time": "2022-12-22T17:57:14.389Z"
   },
   {
    "duration": 7,
    "start_time": "2022-12-22T17:57:49.550Z"
   },
   {
    "duration": 31,
    "start_time": "2022-12-22T17:57:51.728Z"
   },
   {
    "duration": 8,
    "start_time": "2022-12-22T17:58:53.796Z"
   },
   {
    "duration": 37,
    "start_time": "2022-12-22T17:58:56.452Z"
   },
   {
    "duration": 8,
    "start_time": "2022-12-22T17:59:21.876Z"
   },
   {
    "duration": 28,
    "start_time": "2022-12-22T17:59:24.452Z"
   },
   {
    "duration": 9,
    "start_time": "2022-12-22T18:00:07.253Z"
   },
   {
    "duration": 26,
    "start_time": "2022-12-22T18:00:09.427Z"
   },
   {
    "duration": 7,
    "start_time": "2022-12-22T18:00:52.450Z"
   },
   {
    "duration": 30,
    "start_time": "2022-12-22T18:00:54.820Z"
   },
   {
    "duration": 7,
    "start_time": "2022-12-22T18:01:50.343Z"
   },
   {
    "duration": 27,
    "start_time": "2022-12-22T18:01:51.649Z"
   },
   {
    "duration": 8,
    "start_time": "2022-12-22T18:02:32.666Z"
   },
   {
    "duration": 734,
    "start_time": "2022-12-22T18:02:35.420Z"
   },
   {
    "duration": 7,
    "start_time": "2022-12-22T18:03:26.656Z"
   },
   {
    "duration": 20,
    "start_time": "2022-12-22T18:03:28.975Z"
   },
   {
    "duration": 21,
    "start_time": "2022-12-22T18:03:31.054Z"
   },
   {
    "duration": 8,
    "start_time": "2022-12-22T18:03:32.109Z"
   },
   {
    "duration": 8,
    "start_time": "2022-12-22T18:04:19.619Z"
   },
   {
    "duration": 744,
    "start_time": "2022-12-22T18:04:23.174Z"
   },
   {
    "duration": 746,
    "start_time": "2022-12-22T18:05:59.439Z"
   },
   {
    "duration": 7,
    "start_time": "2022-12-22T18:06:02.523Z"
   },
   {
    "duration": 727,
    "start_time": "2022-12-22T18:06:04.546Z"
   },
   {
    "duration": 6,
    "start_time": "2022-12-22T18:07:02.227Z"
   },
   {
    "duration": 25,
    "start_time": "2022-12-22T18:07:04.330Z"
   },
   {
    "duration": 7,
    "start_time": "2022-12-22T18:08:38.064Z"
   },
   {
    "duration": 23,
    "start_time": "2022-12-22T18:08:39.428Z"
   },
   {
    "duration": 7,
    "start_time": "2022-12-22T18:09:07.394Z"
   },
   {
    "duration": 23,
    "start_time": "2022-12-22T18:09:09.293Z"
   },
   {
    "duration": 1288,
    "start_time": "2022-12-23T17:44:40.075Z"
   },
   {
    "duration": 3,
    "start_time": "2022-12-23T17:44:41.366Z"
   },
   {
    "duration": 172,
    "start_time": "2022-12-23T17:44:41.370Z"
   },
   {
    "duration": 60,
    "start_time": "2022-12-23T17:44:41.544Z"
   },
   {
    "duration": 960,
    "start_time": "2022-12-23T17:44:41.606Z"
   },
   {
    "duration": 9,
    "start_time": "2022-12-23T17:44:42.568Z"
   },
   {
    "duration": 12,
    "start_time": "2022-12-23T17:44:42.579Z"
   },
   {
    "duration": 14,
    "start_time": "2022-12-23T17:44:42.592Z"
   },
   {
    "duration": 9,
    "start_time": "2022-12-23T17:44:42.607Z"
   },
   {
    "duration": 6,
    "start_time": "2022-12-23T17:44:42.619Z"
   },
   {
    "duration": 16,
    "start_time": "2022-12-23T17:44:42.627Z"
   },
   {
    "duration": 13,
    "start_time": "2022-12-23T17:44:42.646Z"
   },
   {
    "duration": 7,
    "start_time": "2022-12-23T17:44:42.660Z"
   },
   {
    "duration": 10,
    "start_time": "2022-12-23T17:44:42.668Z"
   },
   {
    "duration": 9,
    "start_time": "2022-12-23T17:44:42.679Z"
   },
   {
    "duration": 9,
    "start_time": "2022-12-23T17:44:42.713Z"
   },
   {
    "duration": 17,
    "start_time": "2022-12-23T17:44:42.725Z"
   },
   {
    "duration": 30,
    "start_time": "2022-12-23T17:44:42.744Z"
   },
   {
    "duration": 45,
    "start_time": "2022-12-23T17:44:42.775Z"
   },
   {
    "duration": 5,
    "start_time": "2022-12-23T17:44:42.823Z"
   },
   {
    "duration": 31,
    "start_time": "2022-12-23T17:44:42.830Z"
   },
   {
    "duration": 72,
    "start_time": "2022-12-23T17:44:42.863Z"
   },
   {
    "duration": 76,
    "start_time": "2022-12-23T17:44:42.937Z"
   },
   {
    "duration": 61,
    "start_time": "2022-12-23T17:44:43.014Z"
   },
   {
    "duration": 8,
    "start_time": "2022-12-23T17:44:43.076Z"
   },
   {
    "duration": 40,
    "start_time": "2022-12-23T17:44:43.085Z"
   },
   {
    "duration": 395,
    "start_time": "2022-12-23T17:44:43.127Z"
   },
   {
    "duration": 12,
    "start_time": "2022-12-23T17:44:43.529Z"
   },
   {
    "duration": 101,
    "start_time": "2022-12-23T17:44:43.543Z"
   },
   {
    "duration": 5,
    "start_time": "2022-12-23T17:44:43.647Z"
   },
   {
    "duration": 64,
    "start_time": "2022-12-23T17:44:43.654Z"
   },
   {
    "duration": 145,
    "start_time": "2022-12-23T17:44:43.720Z"
   },
   {
    "duration": 9,
    "start_time": "2022-12-23T17:44:43.867Z"
   },
   {
    "duration": 17,
    "start_time": "2022-12-23T17:44:43.878Z"
   },
   {
    "duration": 53,
    "start_time": "2022-12-23T17:44:43.896Z"
   },
   {
    "duration": 10,
    "start_time": "2022-12-23T17:44:43.951Z"
   },
   {
    "duration": 18,
    "start_time": "2022-12-23T17:44:43.962Z"
   },
   {
    "duration": 101,
    "start_time": "2022-12-23T17:44:43.981Z"
   },
   {
    "duration": 11,
    "start_time": "2022-12-23T17:44:44.084Z"
   },
   {
    "duration": 42,
    "start_time": "2022-12-23T17:44:44.097Z"
   },
   {
    "duration": 16,
    "start_time": "2022-12-23T17:44:44.140Z"
   },
   {
    "duration": 20,
    "start_time": "2022-12-23T17:44:44.157Z"
   },
   {
    "duration": 10,
    "start_time": "2022-12-23T17:44:44.178Z"
   },
   {
    "duration": 48,
    "start_time": "2022-12-23T17:44:44.189Z"
   },
   {
    "duration": 45,
    "start_time": "2022-12-23T17:44:44.239Z"
   },
   {
    "duration": 17,
    "start_time": "2022-12-23T17:44:44.285Z"
   },
   {
    "duration": 21,
    "start_time": "2022-12-23T17:44:44.303Z"
   },
   {
    "duration": 48,
    "start_time": "2022-12-23T17:44:44.327Z"
   },
   {
    "duration": 21,
    "start_time": "2022-12-23T17:44:44.377Z"
   },
   {
    "duration": 46,
    "start_time": "2022-12-23T17:44:44.399Z"
   },
   {
    "duration": 24,
    "start_time": "2022-12-23T17:44:44.446Z"
   },
   {
    "duration": 44,
    "start_time": "2022-12-23T17:44:44.471Z"
   },
   {
    "duration": 175,
    "start_time": "2022-12-23T17:44:44.516Z"
   },
   {
    "duration": 133,
    "start_time": "2022-12-23T17:44:44.693Z"
   },
   {
    "duration": 18,
    "start_time": "2022-12-23T17:44:44.828Z"
   },
   {
    "duration": 146,
    "start_time": "2022-12-23T17:44:44.847Z"
   },
   {
    "duration": 19,
    "start_time": "2022-12-23T17:44:44.995Z"
   },
   {
    "duration": 206,
    "start_time": "2022-12-23T17:44:45.017Z"
   },
   {
    "duration": 12,
    "start_time": "2022-12-23T17:44:45.227Z"
   },
   {
    "duration": 9,
    "start_time": "2022-12-23T17:44:45.241Z"
   },
   {
    "duration": 14,
    "start_time": "2022-12-23T17:44:45.252Z"
   },
   {
    "duration": 177,
    "start_time": "2022-12-23T17:44:45.268Z"
   },
   {
    "duration": 5,
    "start_time": "2022-12-23T17:44:45.447Z"
   },
   {
    "duration": 11,
    "start_time": "2022-12-23T17:44:45.454Z"
   },
   {
    "duration": 6,
    "start_time": "2022-12-23T17:44:45.467Z"
   },
   {
    "duration": 47,
    "start_time": "2022-12-23T17:44:45.475Z"
   },
   {
    "duration": 116,
    "start_time": "2022-12-23T17:51:11.476Z"
   },
   {
    "duration": 58,
    "start_time": "2022-12-24T13:07:37.017Z"
   },
   {
    "duration": 0,
    "start_time": "2022-12-24T13:07:37.078Z"
   },
   {
    "duration": 0,
    "start_time": "2022-12-24T13:07:37.079Z"
   },
   {
    "duration": 0,
    "start_time": "2022-12-24T13:07:37.081Z"
   },
   {
    "duration": 0,
    "start_time": "2022-12-24T13:07:37.082Z"
   },
   {
    "duration": 0,
    "start_time": "2022-12-24T13:07:37.084Z"
   },
   {
    "duration": 0,
    "start_time": "2022-12-24T13:07:37.085Z"
   },
   {
    "duration": 0,
    "start_time": "2022-12-24T13:07:37.087Z"
   },
   {
    "duration": 0,
    "start_time": "2022-12-24T13:07:37.088Z"
   },
   {
    "duration": 0,
    "start_time": "2022-12-24T13:07:37.089Z"
   },
   {
    "duration": 0,
    "start_time": "2022-12-24T13:07:37.090Z"
   },
   {
    "duration": 0,
    "start_time": "2022-12-24T13:07:37.091Z"
   },
   {
    "duration": 0,
    "start_time": "2022-12-24T13:07:37.094Z"
   },
   {
    "duration": 0,
    "start_time": "2022-12-24T13:07:37.096Z"
   },
   {
    "duration": 0,
    "start_time": "2022-12-24T13:07:37.097Z"
   },
   {
    "duration": 0,
    "start_time": "2022-12-24T13:07:37.099Z"
   },
   {
    "duration": 0,
    "start_time": "2022-12-24T13:07:37.100Z"
   },
   {
    "duration": 0,
    "start_time": "2022-12-24T13:07:37.101Z"
   },
   {
    "duration": 0,
    "start_time": "2022-12-24T13:07:37.102Z"
   },
   {
    "duration": 0,
    "start_time": "2022-12-24T13:07:37.103Z"
   },
   {
    "duration": 0,
    "start_time": "2022-12-24T13:07:37.104Z"
   },
   {
    "duration": 0,
    "start_time": "2022-12-24T13:07:37.105Z"
   },
   {
    "duration": 0,
    "start_time": "2022-12-24T13:07:37.106Z"
   },
   {
    "duration": 0,
    "start_time": "2022-12-24T13:07:37.107Z"
   },
   {
    "duration": 0,
    "start_time": "2022-12-24T13:07:37.108Z"
   },
   {
    "duration": 0,
    "start_time": "2022-12-24T13:07:37.111Z"
   },
   {
    "duration": 123,
    "start_time": "2022-12-24T13:07:37.113Z"
   },
   {
    "duration": 0,
    "start_time": "2022-12-24T13:07:37.239Z"
   },
   {
    "duration": 0,
    "start_time": "2022-12-24T13:07:37.240Z"
   },
   {
    "duration": 0,
    "start_time": "2022-12-24T13:07:37.242Z"
   },
   {
    "duration": 0,
    "start_time": "2022-12-24T13:07:37.243Z"
   },
   {
    "duration": 0,
    "start_time": "2022-12-24T13:07:37.245Z"
   },
   {
    "duration": 0,
    "start_time": "2022-12-24T13:07:37.246Z"
   },
   {
    "duration": 0,
    "start_time": "2022-12-24T13:07:37.247Z"
   },
   {
    "duration": 0,
    "start_time": "2022-12-24T13:07:37.249Z"
   },
   {
    "duration": 0,
    "start_time": "2022-12-24T13:07:37.250Z"
   },
   {
    "duration": 0,
    "start_time": "2022-12-24T13:07:37.251Z"
   },
   {
    "duration": 0,
    "start_time": "2022-12-24T13:07:37.253Z"
   },
   {
    "duration": 0,
    "start_time": "2022-12-24T13:07:37.254Z"
   },
   {
    "duration": 0,
    "start_time": "2022-12-24T13:07:37.256Z"
   },
   {
    "duration": 0,
    "start_time": "2022-12-24T13:07:37.257Z"
   },
   {
    "duration": 0,
    "start_time": "2022-12-24T13:07:37.257Z"
   },
   {
    "duration": 0,
    "start_time": "2022-12-24T13:07:37.258Z"
   },
   {
    "duration": 0,
    "start_time": "2022-12-24T13:07:37.258Z"
   },
   {
    "duration": 0,
    "start_time": "2022-12-24T13:07:37.259Z"
   },
   {
    "duration": 0,
    "start_time": "2022-12-24T13:07:37.259Z"
   },
   {
    "duration": 0,
    "start_time": "2022-12-24T13:07:37.300Z"
   },
   {
    "duration": 0,
    "start_time": "2022-12-24T13:07:37.301Z"
   },
   {
    "duration": 0,
    "start_time": "2022-12-24T13:07:37.302Z"
   },
   {
    "duration": 0,
    "start_time": "2022-12-24T13:07:37.304Z"
   },
   {
    "duration": 0,
    "start_time": "2022-12-24T13:07:37.305Z"
   },
   {
    "duration": 0,
    "start_time": "2022-12-24T13:07:37.306Z"
   },
   {
    "duration": 0,
    "start_time": "2022-12-24T13:07:37.306Z"
   },
   {
    "duration": 0,
    "start_time": "2022-12-24T13:07:37.307Z"
   },
   {
    "duration": 0,
    "start_time": "2022-12-24T13:07:37.308Z"
   },
   {
    "duration": 0,
    "start_time": "2022-12-24T13:07:37.309Z"
   },
   {
    "duration": 0,
    "start_time": "2022-12-24T13:07:37.310Z"
   },
   {
    "duration": 0,
    "start_time": "2022-12-24T13:07:37.311Z"
   },
   {
    "duration": 0,
    "start_time": "2022-12-24T13:07:37.312Z"
   },
   {
    "duration": 0,
    "start_time": "2022-12-24T13:07:37.313Z"
   },
   {
    "duration": 0,
    "start_time": "2022-12-24T13:07:37.315Z"
   },
   {
    "duration": 0,
    "start_time": "2022-12-24T13:07:37.316Z"
   },
   {
    "duration": 0,
    "start_time": "2022-12-24T13:07:37.318Z"
   },
   {
    "duration": 0,
    "start_time": "2022-12-24T13:07:37.319Z"
   },
   {
    "duration": 0,
    "start_time": "2022-12-24T13:07:37.321Z"
   },
   {
    "duration": 0,
    "start_time": "2022-12-24T13:07:37.322Z"
   },
   {
    "duration": 0,
    "start_time": "2022-12-24T13:07:37.323Z"
   },
   {
    "duration": 75,
    "start_time": "2022-12-24T13:08:36.080Z"
   },
   {
    "duration": 1541,
    "start_time": "2022-12-24T13:09:16.393Z"
   },
   {
    "duration": 4,
    "start_time": "2022-12-24T13:09:17.936Z"
   },
   {
    "duration": 103,
    "start_time": "2022-12-24T13:09:17.941Z"
   },
   {
    "duration": 45,
    "start_time": "2022-12-24T13:09:18.046Z"
   },
   {
    "duration": 549,
    "start_time": "2022-12-24T13:09:18.094Z"
   },
   {
    "duration": 12,
    "start_time": "2022-12-24T13:09:18.645Z"
   },
   {
    "duration": 13,
    "start_time": "2022-12-24T13:09:18.659Z"
   },
   {
    "duration": 34,
    "start_time": "2022-12-24T13:09:18.674Z"
   },
   {
    "duration": 17,
    "start_time": "2022-12-24T13:09:18.709Z"
   },
   {
    "duration": 12,
    "start_time": "2022-12-24T13:09:18.728Z"
   },
   {
    "duration": 17,
    "start_time": "2022-12-24T13:09:18.742Z"
   },
   {
    "duration": 23,
    "start_time": "2022-12-24T13:09:18.761Z"
   },
   {
    "duration": 9,
    "start_time": "2022-12-24T13:09:18.785Z"
   },
   {
    "duration": 27,
    "start_time": "2022-12-24T13:09:18.796Z"
   },
   {
    "duration": 21,
    "start_time": "2022-12-24T13:09:18.825Z"
   },
   {
    "duration": 19,
    "start_time": "2022-12-24T13:09:18.848Z"
   },
   {
    "duration": 17,
    "start_time": "2022-12-24T13:09:18.869Z"
   },
   {
    "duration": 41,
    "start_time": "2022-12-24T13:09:18.887Z"
   },
   {
    "duration": 33,
    "start_time": "2022-12-24T13:09:18.930Z"
   },
   {
    "duration": 6,
    "start_time": "2022-12-24T13:09:18.965Z"
   },
   {
    "duration": 45,
    "start_time": "2022-12-24T13:09:18.972Z"
   },
   {
    "duration": 60,
    "start_time": "2022-12-24T13:09:19.019Z"
   },
   {
    "duration": 69,
    "start_time": "2022-12-24T13:09:19.106Z"
   },
   {
    "duration": 66,
    "start_time": "2022-12-24T13:09:19.177Z"
   },
   {
    "duration": 9,
    "start_time": "2022-12-24T13:09:19.245Z"
   },
   {
    "duration": 23,
    "start_time": "2022-12-24T13:09:19.256Z"
   },
   {
    "duration": 384,
    "start_time": "2022-12-24T13:09:19.302Z"
   },
   {
    "duration": 21,
    "start_time": "2022-12-24T13:09:19.689Z"
   },
   {
    "duration": 92,
    "start_time": "2022-12-24T13:09:19.714Z"
   },
   {
    "duration": 25,
    "start_time": "2022-12-24T13:09:19.809Z"
   },
   {
    "duration": 11,
    "start_time": "2022-12-24T13:09:19.836Z"
   },
   {
    "duration": 194,
    "start_time": "2022-12-24T13:09:19.849Z"
   },
   {
    "duration": 16,
    "start_time": "2022-12-24T13:09:20.045Z"
   },
   {
    "duration": 35,
    "start_time": "2022-12-24T13:09:20.063Z"
   },
   {
    "duration": 32,
    "start_time": "2022-12-24T13:09:20.106Z"
   },
   {
    "duration": 22,
    "start_time": "2022-12-24T13:09:20.140Z"
   },
   {
    "duration": 137,
    "start_time": "2022-12-24T13:09:20.164Z"
   },
   {
    "duration": 26,
    "start_time": "2022-12-24T13:09:20.305Z"
   },
   {
    "duration": 31,
    "start_time": "2022-12-24T13:09:20.333Z"
   },
   {
    "duration": 28,
    "start_time": "2022-12-24T13:09:20.366Z"
   },
   {
    "duration": 31,
    "start_time": "2022-12-24T13:09:20.399Z"
   },
   {
    "duration": 24,
    "start_time": "2022-12-24T13:09:20.432Z"
   },
   {
    "duration": 8,
    "start_time": "2022-12-24T13:09:20.458Z"
   },
   {
    "duration": 46,
    "start_time": "2022-12-24T13:09:20.467Z"
   },
   {
    "duration": 51,
    "start_time": "2022-12-24T13:09:20.514Z"
   },
   {
    "duration": 8,
    "start_time": "2022-12-24T13:09:20.567Z"
   },
   {
    "duration": 25,
    "start_time": "2022-12-24T13:09:20.576Z"
   },
   {
    "duration": 37,
    "start_time": "2022-12-24T13:09:20.602Z"
   },
   {
    "duration": 3,
    "start_time": "2022-12-24T13:09:20.641Z"
   },
   {
    "duration": 29,
    "start_time": "2022-12-24T13:09:20.646Z"
   },
   {
    "duration": 7,
    "start_time": "2022-12-24T13:09:20.676Z"
   },
   {
    "duration": 23,
    "start_time": "2022-12-24T13:09:20.684Z"
   },
   {
    "duration": 205,
    "start_time": "2022-12-24T13:09:20.712Z"
   },
   {
    "duration": 145,
    "start_time": "2022-12-24T13:09:20.919Z"
   },
   {
    "duration": 11,
    "start_time": "2022-12-24T13:09:21.066Z"
   },
   {
    "duration": 170,
    "start_time": "2022-12-24T13:09:21.079Z"
   },
   {
    "duration": 15,
    "start_time": "2022-12-24T13:09:21.251Z"
   },
   {
    "duration": 222,
    "start_time": "2022-12-24T13:09:21.268Z"
   },
   {
    "duration": 15,
    "start_time": "2022-12-24T13:09:21.496Z"
   },
   {
    "duration": 18,
    "start_time": "2022-12-24T13:09:21.513Z"
   },
   {
    "duration": 16,
    "start_time": "2022-12-24T13:09:21.533Z"
   },
   {
    "duration": 176,
    "start_time": "2022-12-24T13:09:21.551Z"
   },
   {
    "duration": 6,
    "start_time": "2022-12-24T13:09:21.729Z"
   },
   {
    "duration": 9,
    "start_time": "2022-12-24T13:09:21.737Z"
   },
   {
    "duration": 12,
    "start_time": "2022-12-24T13:09:21.748Z"
   },
   {
    "duration": 50,
    "start_time": "2022-12-24T13:09:21.763Z"
   },
   {
    "duration": 18,
    "start_time": "2022-12-24T13:24:24.664Z"
   },
   {
    "duration": 23,
    "start_time": "2022-12-24T13:24:50.043Z"
   },
   {
    "duration": 16,
    "start_time": "2022-12-24T13:28:14.055Z"
   },
   {
    "duration": 18,
    "start_time": "2022-12-24T13:28:26.616Z"
   },
   {
    "duration": 16,
    "start_time": "2022-12-24T13:28:42.641Z"
   },
   {
    "duration": 1036,
    "start_time": "2022-12-24T13:29:05.125Z"
   },
   {
    "duration": 14,
    "start_time": "2022-12-24T13:29:34.027Z"
   },
   {
    "duration": 20,
    "start_time": "2022-12-24T13:29:39.690Z"
   },
   {
    "duration": 15,
    "start_time": "2022-12-24T13:29:59.787Z"
   },
   {
    "duration": 5,
    "start_time": "2022-12-24T13:33:02.465Z"
   },
   {
    "duration": 3,
    "start_time": "2022-12-24T13:40:47.774Z"
   },
   {
    "duration": 8,
    "start_time": "2022-12-24T13:40:58.318Z"
   },
   {
    "duration": 12,
    "start_time": "2022-12-24T13:42:27.438Z"
   },
   {
    "duration": 5,
    "start_time": "2022-12-24T13:42:50.021Z"
   },
   {
    "duration": 12,
    "start_time": "2022-12-24T13:43:12.087Z"
   },
   {
    "duration": 14,
    "start_time": "2022-12-24T13:43:18.222Z"
   },
   {
    "duration": 6,
    "start_time": "2022-12-24T13:43:25.376Z"
   },
   {
    "duration": 21,
    "start_time": "2022-12-24T13:45:14.719Z"
   },
   {
    "duration": 4,
    "start_time": "2022-12-24T13:45:41.882Z"
   },
   {
    "duration": 16,
    "start_time": "2022-12-24T13:46:38.596Z"
   },
   {
    "duration": 5,
    "start_time": "2022-12-24T13:46:54.622Z"
   },
   {
    "duration": 60,
    "start_time": "2022-12-24T13:47:53.578Z"
   },
   {
    "duration": 6,
    "start_time": "2022-12-24T13:47:59.786Z"
   },
   {
    "duration": 6,
    "start_time": "2022-12-24T13:48:18.936Z"
   },
   {
    "duration": 5,
    "start_time": "2022-12-24T13:48:26.825Z"
   },
   {
    "duration": 7,
    "start_time": "2022-12-24T13:48:50.033Z"
   },
   {
    "duration": 5,
    "start_time": "2022-12-24T14:17:51.977Z"
   },
   {
    "duration": 6,
    "start_time": "2022-12-24T14:18:10.623Z"
   },
   {
    "duration": 5,
    "start_time": "2022-12-24T14:20:28.679Z"
   },
   {
    "duration": 5,
    "start_time": "2022-12-24T14:21:50.022Z"
   },
   {
    "duration": 6,
    "start_time": "2022-12-24T14:21:53.351Z"
   },
   {
    "duration": 6,
    "start_time": "2022-12-24T14:23:18.152Z"
   },
   {
    "duration": 7,
    "start_time": "2022-12-24T14:23:22.319Z"
   },
   {
    "duration": 6,
    "start_time": "2022-12-24T14:24:24.120Z"
   },
   {
    "duration": 5,
    "start_time": "2022-12-24T14:24:33.821Z"
   },
   {
    "duration": 5,
    "start_time": "2022-12-24T14:24:49.188Z"
   },
   {
    "duration": 4,
    "start_time": "2022-12-24T14:25:52.824Z"
   },
   {
    "duration": 5,
    "start_time": "2022-12-24T14:26:02.077Z"
   },
   {
    "duration": 7,
    "start_time": "2022-12-24T14:26:07.079Z"
   },
   {
    "duration": 69,
    "start_time": "2022-12-24T14:37:01.177Z"
   },
   {
    "duration": 7,
    "start_time": "2022-12-24T14:37:09.784Z"
   },
   {
    "duration": 4,
    "start_time": "2022-12-24T14:52:29.347Z"
   },
   {
    "duration": 52,
    "start_time": "2022-12-24T15:44:31.731Z"
   },
   {
    "duration": 21,
    "start_time": "2022-12-24T15:44:40.339Z"
   },
   {
    "duration": 38,
    "start_time": "2022-12-24T15:44:46.829Z"
   },
   {
    "duration": 1375,
    "start_time": "2022-12-24T19:07:49.041Z"
   },
   {
    "duration": 3,
    "start_time": "2022-12-24T19:07:50.417Z"
   },
   {
    "duration": 373,
    "start_time": "2022-12-24T19:07:50.421Z"
   },
   {
    "duration": 53,
    "start_time": "2022-12-24T19:07:50.796Z"
   },
   {
    "duration": 611,
    "start_time": "2022-12-24T19:07:50.851Z"
   },
   {
    "duration": 12,
    "start_time": "2022-12-24T19:07:51.463Z"
   },
   {
    "duration": 38,
    "start_time": "2022-12-24T19:07:51.476Z"
   },
   {
    "duration": 37,
    "start_time": "2022-12-24T19:07:51.516Z"
   },
   {
    "duration": 17,
    "start_time": "2022-12-24T19:07:51.555Z"
   },
   {
    "duration": 21,
    "start_time": "2022-12-24T19:07:51.574Z"
   },
   {
    "duration": 27,
    "start_time": "2022-12-24T19:07:51.597Z"
   },
   {
    "duration": 35,
    "start_time": "2022-12-24T19:07:51.625Z"
   },
   {
    "duration": 22,
    "start_time": "2022-12-24T19:07:51.662Z"
   },
   {
    "duration": 28,
    "start_time": "2022-12-24T19:07:51.685Z"
   },
   {
    "duration": 17,
    "start_time": "2022-12-24T19:07:51.715Z"
   },
   {
    "duration": 30,
    "start_time": "2022-12-24T19:07:51.733Z"
   },
   {
    "duration": 15,
    "start_time": "2022-12-24T19:07:51.764Z"
   },
   {
    "duration": 60,
    "start_time": "2022-12-24T19:07:51.781Z"
   },
   {
    "duration": 30,
    "start_time": "2022-12-24T19:07:51.842Z"
   },
   {
    "duration": 5,
    "start_time": "2022-12-24T19:07:51.873Z"
   },
   {
    "duration": 34,
    "start_time": "2022-12-24T19:07:51.879Z"
   },
   {
    "duration": 53,
    "start_time": "2022-12-24T19:07:51.915Z"
   },
   {
    "duration": 72,
    "start_time": "2022-12-24T19:07:51.969Z"
   },
   {
    "duration": 49,
    "start_time": "2022-12-24T19:07:52.043Z"
   },
   {
    "duration": 19,
    "start_time": "2022-12-24T19:07:52.094Z"
   },
   {
    "duration": 14,
    "start_time": "2022-12-24T19:07:52.115Z"
   },
   {
    "duration": 350,
    "start_time": "2022-12-24T19:07:52.131Z"
   },
   {
    "duration": 13,
    "start_time": "2022-12-24T19:07:52.487Z"
   },
   {
    "duration": 44,
    "start_time": "2022-12-24T19:07:52.513Z"
   },
   {
    "duration": 57,
    "start_time": "2022-12-24T19:07:52.558Z"
   },
   {
    "duration": 15,
    "start_time": "2022-12-24T19:07:52.617Z"
   },
   {
    "duration": 156,
    "start_time": "2022-12-24T19:07:52.633Z"
   },
   {
    "duration": 10,
    "start_time": "2022-12-24T19:07:52.790Z"
   },
   {
    "duration": 16,
    "start_time": "2022-12-24T19:07:52.801Z"
   },
   {
    "duration": 20,
    "start_time": "2022-12-24T19:07:52.818Z"
   },
   {
    "duration": 11,
    "start_time": "2022-12-24T19:07:52.840Z"
   },
   {
    "duration": 18,
    "start_time": "2022-12-24T19:07:52.853Z"
   },
   {
    "duration": 111,
    "start_time": "2022-12-24T19:07:52.872Z"
   },
   {
    "duration": 16,
    "start_time": "2022-12-24T19:07:52.985Z"
   },
   {
    "duration": 24,
    "start_time": "2022-12-24T19:07:53.002Z"
   },
   {
    "duration": 19,
    "start_time": "2022-12-24T19:07:53.027Z"
   },
   {
    "duration": 31,
    "start_time": "2022-12-24T19:07:53.047Z"
   },
   {
    "duration": 28,
    "start_time": "2022-12-24T19:07:53.079Z"
   },
   {
    "duration": 24,
    "start_time": "2022-12-24T19:07:53.108Z"
   },
   {
    "duration": 28,
    "start_time": "2022-12-24T19:07:53.133Z"
   },
   {
    "duration": 24,
    "start_time": "2022-12-24T19:07:53.162Z"
   },
   {
    "duration": 45,
    "start_time": "2022-12-24T19:07:53.187Z"
   },
   {
    "duration": 8,
    "start_time": "2022-12-24T19:07:53.234Z"
   },
   {
    "duration": 16,
    "start_time": "2022-12-24T19:07:53.243Z"
   },
   {
    "duration": 33,
    "start_time": "2022-12-24T19:07:53.261Z"
   },
   {
    "duration": 24,
    "start_time": "2022-12-24T19:07:53.296Z"
   },
   {
    "duration": 39,
    "start_time": "2022-12-24T19:07:53.322Z"
   },
   {
    "duration": 29,
    "start_time": "2022-12-24T19:07:53.362Z"
   },
   {
    "duration": 29,
    "start_time": "2022-12-24T19:07:53.393Z"
   },
   {
    "duration": 196,
    "start_time": "2022-12-24T19:07:53.424Z"
   },
   {
    "duration": 36,
    "start_time": "2022-12-24T19:07:53.622Z"
   },
   {
    "duration": 123,
    "start_time": "2022-12-24T19:07:53.659Z"
   },
   {
    "duration": 13,
    "start_time": "2022-12-24T19:07:53.783Z"
   },
   {
    "duration": 143,
    "start_time": "2022-12-24T19:07:53.798Z"
   },
   {
    "duration": 14,
    "start_time": "2022-12-24T19:07:53.942Z"
   },
   {
    "duration": 198,
    "start_time": "2022-12-24T19:07:53.958Z"
   },
   {
    "duration": 10,
    "start_time": "2022-12-24T19:07:54.158Z"
   },
   {
    "duration": 9,
    "start_time": "2022-12-24T19:07:54.170Z"
   },
   {
    "duration": 38,
    "start_time": "2022-12-24T19:07:54.181Z"
   },
   {
    "duration": 137,
    "start_time": "2022-12-24T19:07:54.221Z"
   },
   {
    "duration": 5,
    "start_time": "2022-12-24T19:07:54.359Z"
   },
   {
    "duration": 10,
    "start_time": "2022-12-24T19:07:54.365Z"
   },
   {
    "duration": 8,
    "start_time": "2022-12-24T19:07:54.376Z"
   },
   {
    "duration": 37,
    "start_time": "2022-12-24T19:07:54.385Z"
   },
   {
    "duration": 1230,
    "start_time": "2022-12-24T19:14:59.444Z"
   },
   {
    "duration": 3,
    "start_time": "2022-12-24T19:15:00.676Z"
   },
   {
    "duration": 60,
    "start_time": "2022-12-24T19:15:00.680Z"
   },
   {
    "duration": 15,
    "start_time": "2022-12-24T19:15:00.742Z"
   },
   {
    "duration": 206,
    "start_time": "2022-12-24T19:15:00.758Z"
   },
   {
    "duration": 11,
    "start_time": "2022-12-24T19:15:00.966Z"
   },
   {
    "duration": 22,
    "start_time": "2022-12-24T19:15:00.979Z"
   },
   {
    "duration": 29,
    "start_time": "2022-12-24T19:15:01.003Z"
   },
   {
    "duration": 8,
    "start_time": "2022-12-24T19:15:01.034Z"
   },
   {
    "duration": 11,
    "start_time": "2022-12-24T19:15:01.045Z"
   },
   {
    "duration": 12,
    "start_time": "2022-12-24T19:15:01.058Z"
   },
   {
    "duration": 18,
    "start_time": "2022-12-24T19:15:01.072Z"
   },
   {
    "duration": 9,
    "start_time": "2022-12-24T19:15:01.091Z"
   },
   {
    "duration": 33,
    "start_time": "2022-12-24T19:15:01.101Z"
   },
   {
    "duration": 29,
    "start_time": "2022-12-24T19:15:01.136Z"
   },
   {
    "duration": 27,
    "start_time": "2022-12-24T19:15:01.166Z"
   },
   {
    "duration": 21,
    "start_time": "2022-12-24T19:15:01.195Z"
   },
   {
    "duration": 50,
    "start_time": "2022-12-24T19:15:01.218Z"
   },
   {
    "duration": 43,
    "start_time": "2022-12-24T19:15:01.269Z"
   },
   {
    "duration": 35,
    "start_time": "2022-12-24T19:15:01.315Z"
   },
   {
    "duration": 63,
    "start_time": "2022-12-24T19:15:01.351Z"
   },
   {
    "duration": 65,
    "start_time": "2022-12-24T19:15:01.415Z"
   },
   {
    "duration": 63,
    "start_time": "2022-12-24T19:15:01.482Z"
   },
   {
    "duration": 48,
    "start_time": "2022-12-24T19:15:01.547Z"
   },
   {
    "duration": 18,
    "start_time": "2022-12-24T19:15:01.597Z"
   },
   {
    "duration": 41,
    "start_time": "2022-12-24T19:15:01.616Z"
   },
   {
    "duration": 333,
    "start_time": "2022-12-24T19:15:01.659Z"
   },
   {
    "duration": 16,
    "start_time": "2022-12-24T19:15:01.998Z"
   },
   {
    "duration": 101,
    "start_time": "2022-12-24T19:15:02.016Z"
   },
   {
    "duration": 18,
    "start_time": "2022-12-24T19:15:02.119Z"
   },
   {
    "duration": 10,
    "start_time": "2022-12-24T19:15:02.139Z"
   },
   {
    "duration": 210,
    "start_time": "2022-12-24T19:15:02.151Z"
   },
   {
    "duration": 13,
    "start_time": "2022-12-24T19:15:02.363Z"
   },
   {
    "duration": 13,
    "start_time": "2022-12-24T19:15:02.377Z"
   },
   {
    "duration": 22,
    "start_time": "2022-12-24T19:15:02.413Z"
   },
   {
    "duration": 21,
    "start_time": "2022-12-24T19:15:02.437Z"
   },
   {
    "duration": 39,
    "start_time": "2022-12-24T19:15:02.459Z"
   },
   {
    "duration": 90,
    "start_time": "2022-12-24T19:15:02.500Z"
   },
   {
    "duration": 11,
    "start_time": "2022-12-24T19:15:02.592Z"
   },
   {
    "duration": 26,
    "start_time": "2022-12-24T19:15:02.604Z"
   },
   {
    "duration": 16,
    "start_time": "2022-12-24T19:15:02.632Z"
   },
   {
    "duration": 25,
    "start_time": "2022-12-24T19:15:02.650Z"
   },
   {
    "duration": 38,
    "start_time": "2022-12-24T19:15:02.676Z"
   },
   {
    "duration": 25,
    "start_time": "2022-12-24T19:15:02.716Z"
   },
   {
    "duration": 28,
    "start_time": "2022-12-24T19:15:02.742Z"
   },
   {
    "duration": 37,
    "start_time": "2022-12-24T19:15:02.771Z"
   },
   {
    "duration": 84,
    "start_time": "2022-12-24T19:15:02.809Z"
   },
   {
    "duration": 7,
    "start_time": "2022-12-24T19:15:02.895Z"
   },
   {
    "duration": 7,
    "start_time": "2022-12-24T19:15:02.903Z"
   },
   {
    "duration": 62,
    "start_time": "2022-12-24T19:15:02.912Z"
   },
   {
    "duration": 5,
    "start_time": "2022-12-24T19:15:02.976Z"
   },
   {
    "duration": 38,
    "start_time": "2022-12-24T19:15:02.982Z"
   },
   {
    "duration": 20,
    "start_time": "2022-12-24T19:15:03.021Z"
   },
   {
    "duration": 17,
    "start_time": "2022-12-24T19:15:03.042Z"
   },
   {
    "duration": 172,
    "start_time": "2022-12-24T19:15:03.061Z"
   },
   {
    "duration": 35,
    "start_time": "2022-12-24T19:15:03.234Z"
   },
   {
    "duration": 123,
    "start_time": "2022-12-24T19:15:03.270Z"
   },
   {
    "duration": 25,
    "start_time": "2022-12-24T19:15:03.395Z"
   },
   {
    "duration": 145,
    "start_time": "2022-12-24T19:15:03.421Z"
   },
   {
    "duration": 16,
    "start_time": "2022-12-24T19:15:03.567Z"
   },
   {
    "duration": 222,
    "start_time": "2022-12-24T19:15:03.585Z"
   },
   {
    "duration": 14,
    "start_time": "2022-12-24T19:15:03.808Z"
   },
   {
    "duration": 35,
    "start_time": "2022-12-24T19:15:03.823Z"
   },
   {
    "duration": 18,
    "start_time": "2022-12-24T19:15:03.860Z"
   },
   {
    "duration": 145,
    "start_time": "2022-12-24T19:15:03.880Z"
   },
   {
    "duration": 7,
    "start_time": "2022-12-24T19:15:04.026Z"
   },
   {
    "duration": 13,
    "start_time": "2022-12-24T19:15:04.034Z"
   },
   {
    "duration": 10,
    "start_time": "2022-12-24T19:15:04.049Z"
   },
   {
    "duration": 31,
    "start_time": "2022-12-24T19:15:04.060Z"
   },
   {
    "duration": 582,
    "start_time": "2022-12-26T05:18:43.053Z"
   },
   {
    "duration": 9,
    "start_time": "2022-12-26T05:19:05.038Z"
   },
   {
    "duration": 0,
    "start_time": "2022-12-26T05:19:20.364Z"
   },
   {
    "duration": 0,
    "start_time": "2022-12-26T05:19:20.365Z"
   },
   {
    "duration": 0,
    "start_time": "2022-12-26T05:19:20.366Z"
   },
   {
    "duration": 0,
    "start_time": "2022-12-26T05:19:20.367Z"
   },
   {
    "duration": 0,
    "start_time": "2022-12-26T05:19:20.368Z"
   },
   {
    "duration": 0,
    "start_time": "2022-12-26T05:19:20.369Z"
   },
   {
    "duration": 0,
    "start_time": "2022-12-26T05:19:20.370Z"
   },
   {
    "duration": 0,
    "start_time": "2022-12-26T05:19:20.371Z"
   },
   {
    "duration": 0,
    "start_time": "2022-12-26T05:19:20.372Z"
   },
   {
    "duration": 0,
    "start_time": "2022-12-26T05:19:20.373Z"
   },
   {
    "duration": 0,
    "start_time": "2022-12-26T05:19:20.374Z"
   },
   {
    "duration": 0,
    "start_time": "2022-12-26T05:19:20.375Z"
   },
   {
    "duration": 0,
    "start_time": "2022-12-26T05:19:20.376Z"
   },
   {
    "duration": 0,
    "start_time": "2022-12-26T05:19:20.377Z"
   },
   {
    "duration": 0,
    "start_time": "2022-12-26T05:19:20.378Z"
   },
   {
    "duration": 0,
    "start_time": "2022-12-26T05:19:20.378Z"
   },
   {
    "duration": 0,
    "start_time": "2022-12-26T05:19:20.380Z"
   },
   {
    "duration": 0,
    "start_time": "2022-12-26T05:19:20.381Z"
   },
   {
    "duration": 0,
    "start_time": "2022-12-26T05:19:20.382Z"
   },
   {
    "duration": 0,
    "start_time": "2022-12-26T05:19:20.382Z"
   },
   {
    "duration": 0,
    "start_time": "2022-12-26T05:19:20.383Z"
   },
   {
    "duration": 0,
    "start_time": "2022-12-26T05:19:20.384Z"
   },
   {
    "duration": 0,
    "start_time": "2022-12-26T05:19:20.385Z"
   },
   {
    "duration": 1,
    "start_time": "2022-12-26T05:19:20.450Z"
   },
   {
    "duration": 0,
    "start_time": "2022-12-26T05:19:20.451Z"
   },
   {
    "duration": 0,
    "start_time": "2022-12-26T05:19:20.452Z"
   },
   {
    "duration": 0,
    "start_time": "2022-12-26T05:19:20.453Z"
   },
   {
    "duration": 0,
    "start_time": "2022-12-26T05:19:20.455Z"
   },
   {
    "duration": 0,
    "start_time": "2022-12-26T05:19:20.456Z"
   },
   {
    "duration": 0,
    "start_time": "2022-12-26T05:19:20.457Z"
   },
   {
    "duration": 0,
    "start_time": "2022-12-26T05:19:20.458Z"
   },
   {
    "duration": 0,
    "start_time": "2022-12-26T05:19:20.459Z"
   },
   {
    "duration": 0,
    "start_time": "2022-12-26T05:19:20.460Z"
   },
   {
    "duration": 0,
    "start_time": "2022-12-26T05:19:20.461Z"
   },
   {
    "duration": 0,
    "start_time": "2022-12-26T05:19:20.462Z"
   },
   {
    "duration": 0,
    "start_time": "2022-12-26T05:19:20.463Z"
   },
   {
    "duration": 0,
    "start_time": "2022-12-26T05:19:20.464Z"
   },
   {
    "duration": 0,
    "start_time": "2022-12-26T05:19:20.465Z"
   },
   {
    "duration": 0,
    "start_time": "2022-12-26T05:19:20.466Z"
   },
   {
    "duration": 0,
    "start_time": "2022-12-26T05:19:20.467Z"
   },
   {
    "duration": 0,
    "start_time": "2022-12-26T05:19:20.468Z"
   },
   {
    "duration": 0,
    "start_time": "2022-12-26T05:19:20.469Z"
   },
   {
    "duration": 0,
    "start_time": "2022-12-26T05:19:20.470Z"
   },
   {
    "duration": 0,
    "start_time": "2022-12-26T05:19:20.471Z"
   },
   {
    "duration": 0,
    "start_time": "2022-12-26T05:19:20.472Z"
   },
   {
    "duration": 0,
    "start_time": "2022-12-26T05:19:20.473Z"
   },
   {
    "duration": 0,
    "start_time": "2022-12-26T05:19:20.474Z"
   },
   {
    "duration": 0,
    "start_time": "2022-12-26T05:19:20.475Z"
   },
   {
    "duration": 0,
    "start_time": "2022-12-26T05:19:20.477Z"
   },
   {
    "duration": 0,
    "start_time": "2022-12-26T05:19:20.477Z"
   },
   {
    "duration": 0,
    "start_time": "2022-12-26T05:19:20.478Z"
   },
   {
    "duration": 0,
    "start_time": "2022-12-26T05:19:20.479Z"
   },
   {
    "duration": 0,
    "start_time": "2022-12-26T05:19:20.480Z"
   },
   {
    "duration": 0,
    "start_time": "2022-12-26T05:19:20.481Z"
   },
   {
    "duration": 0,
    "start_time": "2022-12-26T05:19:20.482Z"
   },
   {
    "duration": 0,
    "start_time": "2022-12-26T05:19:20.483Z"
   },
   {
    "duration": 0,
    "start_time": "2022-12-26T05:19:20.484Z"
   },
   {
    "duration": 0,
    "start_time": "2022-12-26T05:19:20.485Z"
   },
   {
    "duration": 0,
    "start_time": "2022-12-26T05:19:20.486Z"
   },
   {
    "duration": 0,
    "start_time": "2022-12-26T05:19:20.487Z"
   },
   {
    "duration": 0,
    "start_time": "2022-12-26T05:19:20.488Z"
   },
   {
    "duration": 0,
    "start_time": "2022-12-26T05:19:20.551Z"
   },
   {
    "duration": 0,
    "start_time": "2022-12-26T05:19:20.552Z"
   },
   {
    "duration": 0,
    "start_time": "2022-12-26T05:19:20.553Z"
   },
   {
    "duration": 0,
    "start_time": "2022-12-26T05:19:20.554Z"
   },
   {
    "duration": 0,
    "start_time": "2022-12-26T05:19:20.555Z"
   },
   {
    "duration": 0,
    "start_time": "2022-12-26T05:19:20.556Z"
   },
   {
    "duration": 0,
    "start_time": "2022-12-26T05:19:20.557Z"
   },
   {
    "duration": 0,
    "start_time": "2022-12-26T05:19:20.558Z"
   },
   {
    "duration": 0,
    "start_time": "2022-12-26T05:19:20.559Z"
   },
   {
    "duration": 1331,
    "start_time": "2022-12-26T05:19:49.301Z"
   },
   {
    "duration": 2,
    "start_time": "2022-12-26T05:19:50.634Z"
   },
   {
    "duration": 45,
    "start_time": "2022-12-26T05:19:50.638Z"
   },
   {
    "duration": 15,
    "start_time": "2022-12-26T05:19:50.686Z"
   },
   {
    "duration": 209,
    "start_time": "2022-12-26T05:19:50.703Z"
   },
   {
    "duration": 11,
    "start_time": "2022-12-26T05:19:50.914Z"
   },
   {
    "duration": 25,
    "start_time": "2022-12-26T05:19:50.926Z"
   },
   {
    "duration": 15,
    "start_time": "2022-12-26T05:19:50.953Z"
   },
   {
    "duration": 16,
    "start_time": "2022-12-26T05:19:50.969Z"
   },
   {
    "duration": 15,
    "start_time": "2022-12-26T05:19:50.987Z"
   },
   {
    "duration": 15,
    "start_time": "2022-12-26T05:19:51.004Z"
   },
   {
    "duration": 19,
    "start_time": "2022-12-26T05:19:51.020Z"
   },
   {
    "duration": 25,
    "start_time": "2022-12-26T05:19:51.041Z"
   },
   {
    "duration": 25,
    "start_time": "2022-12-26T05:19:51.067Z"
   },
   {
    "duration": 14,
    "start_time": "2022-12-26T05:19:51.094Z"
   },
   {
    "duration": 28,
    "start_time": "2022-12-26T05:19:51.109Z"
   },
   {
    "duration": 21,
    "start_time": "2022-12-26T05:19:51.139Z"
   },
   {
    "duration": 50,
    "start_time": "2022-12-26T05:19:51.162Z"
   },
   {
    "duration": 32,
    "start_time": "2022-12-26T05:19:51.214Z"
   },
   {
    "duration": 5,
    "start_time": "2022-12-26T05:19:51.248Z"
   },
   {
    "duration": 29,
    "start_time": "2022-12-26T05:19:51.255Z"
   },
   {
    "duration": 75,
    "start_time": "2022-12-26T05:19:51.286Z"
   },
   {
    "duration": 65,
    "start_time": "2022-12-26T05:19:51.364Z"
   },
   {
    "duration": 73,
    "start_time": "2022-12-26T05:19:51.431Z"
   },
   {
    "duration": 7,
    "start_time": "2022-12-26T05:19:51.505Z"
   },
   {
    "duration": 28,
    "start_time": "2022-12-26T05:19:51.513Z"
   },
   {
    "duration": 358,
    "start_time": "2022-12-26T05:19:51.550Z"
   },
   {
    "duration": 14,
    "start_time": "2022-12-26T05:19:51.913Z"
   },
   {
    "duration": 55,
    "start_time": "2022-12-26T05:19:51.928Z"
   },
   {
    "duration": 9,
    "start_time": "2022-12-26T05:19:51.985Z"
   },
   {
    "duration": 59,
    "start_time": "2022-12-26T05:19:51.996Z"
   },
   {
    "duration": 178,
    "start_time": "2022-12-26T05:19:52.056Z"
   },
   {
    "duration": 160,
    "start_time": "2022-12-26T05:19:52.236Z"
   },
   {
    "duration": 0,
    "start_time": "2022-12-26T05:19:52.397Z"
   },
   {
    "duration": 0,
    "start_time": "2022-12-26T05:19:52.398Z"
   },
   {
    "duration": 0,
    "start_time": "2022-12-26T05:19:52.399Z"
   },
   {
    "duration": 0,
    "start_time": "2022-12-26T05:19:52.400Z"
   },
   {
    "duration": 0,
    "start_time": "2022-12-26T05:19:52.401Z"
   },
   {
    "duration": 0,
    "start_time": "2022-12-26T05:19:52.402Z"
   },
   {
    "duration": 0,
    "start_time": "2022-12-26T05:19:52.403Z"
   },
   {
    "duration": 0,
    "start_time": "2022-12-26T05:19:52.404Z"
   },
   {
    "duration": 0,
    "start_time": "2022-12-26T05:19:52.405Z"
   },
   {
    "duration": 0,
    "start_time": "2022-12-26T05:19:52.407Z"
   },
   {
    "duration": 0,
    "start_time": "2022-12-26T05:19:52.408Z"
   },
   {
    "duration": 0,
    "start_time": "2022-12-26T05:19:52.410Z"
   },
   {
    "duration": 0,
    "start_time": "2022-12-26T05:19:52.411Z"
   },
   {
    "duration": 1,
    "start_time": "2022-12-26T05:19:52.412Z"
   },
   {
    "duration": 0,
    "start_time": "2022-12-26T05:19:52.526Z"
   },
   {
    "duration": 0,
    "start_time": "2022-12-26T05:19:52.528Z"
   },
   {
    "duration": 0,
    "start_time": "2022-12-26T05:19:52.530Z"
   },
   {
    "duration": 0,
    "start_time": "2022-12-26T05:19:52.531Z"
   },
   {
    "duration": 0,
    "start_time": "2022-12-26T05:19:52.532Z"
   },
   {
    "duration": 0,
    "start_time": "2022-12-26T05:19:52.551Z"
   },
   {
    "duration": 0,
    "start_time": "2022-12-26T05:19:52.553Z"
   },
   {
    "duration": 0,
    "start_time": "2022-12-26T05:19:52.554Z"
   },
   {
    "duration": 0,
    "start_time": "2022-12-26T05:19:52.555Z"
   },
   {
    "duration": 0,
    "start_time": "2022-12-26T05:19:52.556Z"
   },
   {
    "duration": 0,
    "start_time": "2022-12-26T05:19:52.558Z"
   },
   {
    "duration": 0,
    "start_time": "2022-12-26T05:19:52.559Z"
   },
   {
    "duration": 0,
    "start_time": "2022-12-26T05:19:52.560Z"
   },
   {
    "duration": 0,
    "start_time": "2022-12-26T05:19:52.561Z"
   },
   {
    "duration": 0,
    "start_time": "2022-12-26T05:19:52.562Z"
   },
   {
    "duration": 0,
    "start_time": "2022-12-26T05:19:52.563Z"
   },
   {
    "duration": 0,
    "start_time": "2022-12-26T05:19:52.564Z"
   },
   {
    "duration": 0,
    "start_time": "2022-12-26T05:19:52.565Z"
   },
   {
    "duration": 0,
    "start_time": "2022-12-26T05:19:52.566Z"
   },
   {
    "duration": 0,
    "start_time": "2022-12-26T05:19:52.567Z"
   },
   {
    "duration": 0,
    "start_time": "2022-12-26T05:19:52.568Z"
   },
   {
    "duration": 0,
    "start_time": "2022-12-26T05:19:52.569Z"
   },
   {
    "duration": 0,
    "start_time": "2022-12-26T05:19:52.570Z"
   },
   {
    "duration": 59,
    "start_time": "2022-12-26T05:20:18.214Z"
   },
   {
    "duration": 51,
    "start_time": "2022-12-26T05:20:26.049Z"
   },
   {
    "duration": 49,
    "start_time": "2022-12-26T05:20:33.687Z"
   },
   {
    "duration": 71,
    "start_time": "2022-12-26T05:20:39.559Z"
   },
   {
    "duration": 49,
    "start_time": "2022-12-26T05:20:44.705Z"
   },
   {
    "duration": 15,
    "start_time": "2022-12-26T05:21:21.420Z"
   },
   {
    "duration": 13,
    "start_time": "2022-12-26T05:25:31.444Z"
   },
   {
    "duration": 12,
    "start_time": "2022-12-26T05:26:19.368Z"
   },
   {
    "duration": 47,
    "start_time": "2022-12-26T05:26:27.223Z"
   },
   {
    "duration": 11,
    "start_time": "2022-12-26T05:26:55.594Z"
   },
   {
    "duration": 47,
    "start_time": "2022-12-26T05:27:33.424Z"
   },
   {
    "duration": 20,
    "start_time": "2022-12-26T05:28:31.934Z"
   },
   {
    "duration": 3,
    "start_time": "2022-12-26T05:28:40.288Z"
   },
   {
    "duration": 47,
    "start_time": "2022-12-26T05:29:33.648Z"
   },
   {
    "duration": 157,
    "start_time": "2022-12-26T05:30:10.257Z"
   },
   {
    "duration": 76,
    "start_time": "2022-12-26T05:30:45.571Z"
   },
   {
    "duration": 67,
    "start_time": "2022-12-26T05:30:51.995Z"
   },
   {
    "duration": 53,
    "start_time": "2022-12-26T05:31:17.735Z"
   },
   {
    "duration": 54,
    "start_time": "2022-12-26T05:36:17.373Z"
   },
   {
    "duration": 50,
    "start_time": "2022-12-26T05:36:24.266Z"
   },
   {
    "duration": 55,
    "start_time": "2022-12-26T05:37:01.093Z"
   },
   {
    "duration": 50,
    "start_time": "2022-12-26T05:37:08.088Z"
   },
   {
    "duration": 49,
    "start_time": "2022-12-26T05:37:14.753Z"
   },
   {
    "duration": 62,
    "start_time": "2022-12-26T05:37:23.941Z"
   },
   {
    "duration": 71,
    "start_time": "2022-12-26T05:37:29.799Z"
   },
   {
    "duration": 65,
    "start_time": "2022-12-26T05:37:37.979Z"
   },
   {
    "duration": 63,
    "start_time": "2022-12-26T05:37:43.509Z"
   },
   {
    "duration": 64,
    "start_time": "2022-12-26T05:44:48.015Z"
   },
   {
    "duration": 20,
    "start_time": "2022-12-26T05:48:28.712Z"
   },
   {
    "duration": 60,
    "start_time": "2022-12-26T05:49:14.633Z"
   },
   {
    "duration": 52,
    "start_time": "2022-12-26T05:49:21.848Z"
   },
   {
    "duration": 49,
    "start_time": "2022-12-26T05:49:26.558Z"
   },
   {
    "duration": 59,
    "start_time": "2022-12-26T05:49:31.616Z"
   },
   {
    "duration": 46,
    "start_time": "2022-12-26T05:49:44.879Z"
   },
   {
    "duration": 16,
    "start_time": "2022-12-26T05:50:48.344Z"
   },
   {
    "duration": 53,
    "start_time": "2022-12-26T05:51:52.405Z"
   },
   {
    "duration": 70,
    "start_time": "2022-12-26T05:52:30.736Z"
   },
   {
    "duration": 55,
    "start_time": "2022-12-26T05:52:50.107Z"
   },
   {
    "duration": 59,
    "start_time": "2022-12-26T05:53:00.837Z"
   },
   {
    "duration": 59,
    "start_time": "2022-12-26T05:53:47.247Z"
   },
   {
    "duration": 72,
    "start_time": "2022-12-26T05:53:55.820Z"
   },
   {
    "duration": 59,
    "start_time": "2022-12-26T05:53:59.993Z"
   },
   {
    "duration": 50,
    "start_time": "2022-12-26T05:54:21.299Z"
   },
   {
    "duration": 54,
    "start_time": "2022-12-26T05:55:08.110Z"
   },
   {
    "duration": 55,
    "start_time": "2022-12-26T05:56:29.420Z"
   },
   {
    "duration": 75,
    "start_time": "2022-12-26T06:04:44.287Z"
   },
   {
    "duration": 66,
    "start_time": "2022-12-26T06:04:55.932Z"
   },
   {
    "duration": 62,
    "start_time": "2022-12-26T06:05:03.205Z"
   },
   {
    "duration": 51,
    "start_time": "2022-12-26T06:05:07.270Z"
   },
   {
    "duration": 63,
    "start_time": "2022-12-26T06:05:14.362Z"
   },
   {
    "duration": 58,
    "start_time": "2022-12-26T06:05:24.666Z"
   },
   {
    "duration": 56,
    "start_time": "2022-12-26T06:05:30.821Z"
   },
   {
    "duration": 1370,
    "start_time": "2022-12-26T06:08:18.431Z"
   },
   {
    "duration": 4,
    "start_time": "2022-12-26T06:08:19.804Z"
   },
   {
    "duration": 51,
    "start_time": "2022-12-26T06:08:19.810Z"
   },
   {
    "duration": 17,
    "start_time": "2022-12-26T06:08:19.862Z"
   },
   {
    "duration": 225,
    "start_time": "2022-12-26T06:08:19.881Z"
   },
   {
    "duration": 11,
    "start_time": "2022-12-26T06:08:20.108Z"
   },
   {
    "duration": 19,
    "start_time": "2022-12-26T06:08:20.120Z"
   },
   {
    "duration": 11,
    "start_time": "2022-12-26T06:08:20.150Z"
   },
   {
    "duration": 10,
    "start_time": "2022-12-26T06:08:20.163Z"
   },
   {
    "duration": 10,
    "start_time": "2022-12-26T06:08:20.175Z"
   },
   {
    "duration": 22,
    "start_time": "2022-12-26T06:08:20.186Z"
   },
   {
    "duration": 12,
    "start_time": "2022-12-26T06:08:20.210Z"
   },
   {
    "duration": 7,
    "start_time": "2022-12-26T06:08:20.224Z"
   },
   {
    "duration": 5,
    "start_time": "2022-12-26T06:08:20.254Z"
   },
   {
    "duration": 9,
    "start_time": "2022-12-26T06:08:20.261Z"
   },
   {
    "duration": 12,
    "start_time": "2022-12-26T06:08:20.271Z"
   },
   {
    "duration": 16,
    "start_time": "2022-12-26T06:08:20.285Z"
   },
   {
    "duration": 51,
    "start_time": "2022-12-26T06:08:20.302Z"
   },
   {
    "duration": 32,
    "start_time": "2022-12-26T06:08:20.355Z"
   },
   {
    "duration": 12,
    "start_time": "2022-12-26T06:08:20.388Z"
   },
   {
    "duration": 53,
    "start_time": "2022-12-26T06:08:20.402Z"
   },
   {
    "duration": 61,
    "start_time": "2022-12-26T06:08:20.457Z"
   },
   {
    "duration": 92,
    "start_time": "2022-12-26T06:08:20.519Z"
   },
   {
    "duration": 72,
    "start_time": "2022-12-26T06:08:20.613Z"
   },
   {
    "duration": 8,
    "start_time": "2022-12-26T06:08:20.687Z"
   },
   {
    "duration": 17,
    "start_time": "2022-12-26T06:08:20.697Z"
   },
   {
    "duration": 385,
    "start_time": "2022-12-26T06:08:20.716Z"
   },
   {
    "duration": 11,
    "start_time": "2022-12-26T06:08:21.103Z"
   },
   {
    "duration": 53,
    "start_time": "2022-12-26T06:08:21.116Z"
   },
   {
    "duration": 111,
    "start_time": "2022-12-26T06:08:21.170Z"
   },
   {
    "duration": 5,
    "start_time": "2022-12-26T06:08:21.283Z"
   },
   {
    "duration": 9,
    "start_time": "2022-12-26T06:08:21.290Z"
   },
   {
    "duration": 74,
    "start_time": "2022-12-26T06:08:21.301Z"
   },
   {
    "duration": 12,
    "start_time": "2022-12-26T06:08:21.377Z"
   },
   {
    "duration": 10,
    "start_time": "2022-12-26T06:08:21.391Z"
   },
   {
    "duration": 21,
    "start_time": "2022-12-26T06:08:21.403Z"
   },
   {
    "duration": 12,
    "start_time": "2022-12-26T06:08:21.452Z"
   },
   {
    "duration": 29,
    "start_time": "2022-12-26T06:08:21.466Z"
   },
   {
    "duration": 20,
    "start_time": "2022-12-26T06:08:21.497Z"
   },
   {
    "duration": 33,
    "start_time": "2022-12-26T06:08:21.518Z"
   },
   {
    "duration": 19,
    "start_time": "2022-12-26T06:08:21.559Z"
   },
   {
    "duration": 18,
    "start_time": "2022-12-26T06:08:21.580Z"
   },
   {
    "duration": 54,
    "start_time": "2022-12-26T06:08:21.599Z"
   },
   {
    "duration": 18,
    "start_time": "2022-12-26T06:08:21.655Z"
   },
   {
    "duration": 119,
    "start_time": "2022-12-26T06:08:21.675Z"
   },
   {
    "duration": 9,
    "start_time": "2022-12-26T06:08:21.795Z"
   },
   {
    "duration": 23,
    "start_time": "2022-12-26T06:08:21.805Z"
   },
   {
    "duration": 52,
    "start_time": "2022-12-26T06:08:21.851Z"
   },
   {
    "duration": 8,
    "start_time": "2022-12-26T06:08:21.904Z"
   },
   {
    "duration": 3,
    "start_time": "2022-12-26T06:08:21.914Z"
   },
   {
    "duration": 46,
    "start_time": "2022-12-26T06:08:21.919Z"
   },
   {
    "duration": 3,
    "start_time": "2022-12-26T06:08:21.967Z"
   },
   {
    "duration": 28,
    "start_time": "2022-12-26T06:08:21.971Z"
   },
   {
    "duration": 7,
    "start_time": "2022-12-26T06:08:22.001Z"
   },
   {
    "duration": 14,
    "start_time": "2022-12-26T06:08:22.010Z"
   },
   {
    "duration": 219,
    "start_time": "2022-12-26T06:08:22.025Z"
   },
   {
    "duration": 45,
    "start_time": "2022-12-26T06:08:22.246Z"
   },
   {
    "duration": 140,
    "start_time": "2022-12-26T06:08:22.293Z"
   },
   {
    "duration": 20,
    "start_time": "2022-12-26T06:08:22.435Z"
   },
   {
    "duration": 171,
    "start_time": "2022-12-26T06:08:22.456Z"
   },
   {
    "duration": 26,
    "start_time": "2022-12-26T06:08:22.629Z"
   },
   {
    "duration": 222,
    "start_time": "2022-12-26T06:08:22.657Z"
   },
   {
    "duration": 14,
    "start_time": "2022-12-26T06:08:22.881Z"
   },
   {
    "duration": 11,
    "start_time": "2022-12-26T06:08:22.897Z"
   },
   {
    "duration": 47,
    "start_time": "2022-12-26T06:08:22.910Z"
   },
   {
    "duration": 148,
    "start_time": "2022-12-26T06:08:22.959Z"
   },
   {
    "duration": 6,
    "start_time": "2022-12-26T06:08:23.109Z"
   },
   {
    "duration": 6,
    "start_time": "2022-12-26T06:08:23.117Z"
   },
   {
    "duration": 8,
    "start_time": "2022-12-26T06:08:23.124Z"
   },
   {
    "duration": 27,
    "start_time": "2022-12-26T06:08:23.150Z"
   },
   {
    "duration": 285,
    "start_time": "2022-12-26T06:11:15.084Z"
   },
   {
    "duration": 237,
    "start_time": "2022-12-26T06:14:38.436Z"
   },
   {
    "duration": 139,
    "start_time": "2022-12-26T06:15:02.775Z"
   },
   {
    "duration": 20,
    "start_time": "2022-12-26T06:18:23.992Z"
   },
   {
    "duration": 54,
    "start_time": "2022-12-26T06:18:38.479Z"
   },
   {
    "duration": 82,
    "start_time": "2022-12-26T06:18:55.537Z"
   },
   {
    "duration": 61,
    "start_time": "2022-12-26T06:19:07.671Z"
   },
   {
    "duration": 61,
    "start_time": "2022-12-26T06:19:14.875Z"
   },
   {
    "duration": 123,
    "start_time": "2022-12-26T06:20:05.931Z"
   },
   {
    "duration": 190,
    "start_time": "2022-12-26T06:20:16.662Z"
   },
   {
    "duration": 5,
    "start_time": "2022-12-26T06:20:43.676Z"
   },
   {
    "duration": 15,
    "start_time": "2022-12-26T06:22:26.607Z"
   },
   {
    "duration": 39,
    "start_time": "2022-12-26T06:22:35.540Z"
   },
   {
    "duration": 7,
    "start_time": "2022-12-26T06:24:25.246Z"
   },
   {
    "duration": 12,
    "start_time": "2022-12-26T06:25:10.950Z"
   },
   {
    "duration": 16,
    "start_time": "2022-12-26T06:28:16.411Z"
   },
   {
    "duration": 15,
    "start_time": "2022-12-26T06:28:28.072Z"
   },
   {
    "duration": 18,
    "start_time": "2022-12-26T06:28:37.562Z"
   },
   {
    "duration": 25,
    "start_time": "2022-12-26T06:28:47.282Z"
   },
   {
    "duration": 13,
    "start_time": "2022-12-26T06:29:06.803Z"
   },
   {
    "duration": 19,
    "start_time": "2022-12-26T06:29:38.021Z"
   },
   {
    "duration": 29,
    "start_time": "2022-12-26T06:29:50.853Z"
   },
   {
    "duration": 11,
    "start_time": "2022-12-26T06:30:04.613Z"
   },
   {
    "duration": 1309,
    "start_time": "2022-12-26T06:30:17.437Z"
   },
   {
    "duration": 4,
    "start_time": "2022-12-26T06:30:18.748Z"
   },
   {
    "duration": 60,
    "start_time": "2022-12-26T06:30:18.753Z"
   },
   {
    "duration": 14,
    "start_time": "2022-12-26T06:30:18.815Z"
   },
   {
    "duration": 220,
    "start_time": "2022-12-26T06:30:18.831Z"
   },
   {
    "duration": 13,
    "start_time": "2022-12-26T06:30:19.053Z"
   },
   {
    "duration": 24,
    "start_time": "2022-12-26T06:30:19.068Z"
   },
   {
    "duration": 19,
    "start_time": "2022-12-26T06:30:19.094Z"
   },
   {
    "duration": 12,
    "start_time": "2022-12-26T06:30:19.115Z"
   },
   {
    "duration": 16,
    "start_time": "2022-12-26T06:30:19.130Z"
   },
   {
    "duration": 31,
    "start_time": "2022-12-26T06:30:19.148Z"
   },
   {
    "duration": 20,
    "start_time": "2022-12-26T06:30:19.182Z"
   },
   {
    "duration": 8,
    "start_time": "2022-12-26T06:30:19.204Z"
   },
   {
    "duration": 14,
    "start_time": "2022-12-26T06:30:19.214Z"
   },
   {
    "duration": 23,
    "start_time": "2022-12-26T06:30:19.230Z"
   },
   {
    "duration": 9,
    "start_time": "2022-12-26T06:30:19.255Z"
   },
   {
    "duration": 17,
    "start_time": "2022-12-26T06:30:19.266Z"
   },
   {
    "duration": 39,
    "start_time": "2022-12-26T06:30:19.285Z"
   },
   {
    "duration": 44,
    "start_time": "2022-12-26T06:30:19.325Z"
   },
   {
    "duration": 5,
    "start_time": "2022-12-26T06:30:19.371Z"
   },
   {
    "duration": 30,
    "start_time": "2022-12-26T06:30:19.377Z"
   },
   {
    "duration": 72,
    "start_time": "2022-12-26T06:30:19.409Z"
   },
   {
    "duration": 72,
    "start_time": "2022-12-26T06:30:19.483Z"
   },
   {
    "duration": 66,
    "start_time": "2022-12-26T06:30:19.556Z"
   },
   {
    "duration": 26,
    "start_time": "2022-12-26T06:30:19.625Z"
   },
   {
    "duration": 19,
    "start_time": "2022-12-26T06:30:19.654Z"
   },
   {
    "duration": 388,
    "start_time": "2022-12-26T06:30:19.676Z"
   },
   {
    "duration": 12,
    "start_time": "2022-12-26T06:30:20.069Z"
   },
   {
    "duration": 87,
    "start_time": "2022-12-26T06:30:20.082Z"
   },
   {
    "duration": 87,
    "start_time": "2022-12-26T06:30:20.171Z"
   },
   {
    "duration": 6,
    "start_time": "2022-12-26T06:30:20.259Z"
   },
   {
    "duration": 12,
    "start_time": "2022-12-26T06:30:20.266Z"
   },
   {
    "duration": 59,
    "start_time": "2022-12-26T06:30:20.280Z"
   },
   {
    "duration": 10,
    "start_time": "2022-12-26T06:30:20.350Z"
   },
   {
    "duration": 23,
    "start_time": "2022-12-26T06:30:20.362Z"
   },
   {
    "duration": 21,
    "start_time": "2022-12-26T06:30:20.387Z"
   },
   {
    "duration": 11,
    "start_time": "2022-12-26T06:30:20.410Z"
   },
   {
    "duration": 38,
    "start_time": "2022-12-26T06:30:20.423Z"
   },
   {
    "duration": 20,
    "start_time": "2022-12-26T06:30:20.463Z"
   },
   {
    "duration": 13,
    "start_time": "2022-12-26T06:30:20.484Z"
   },
   {
    "duration": 18,
    "start_time": "2022-12-26T06:30:20.499Z"
   },
   {
    "duration": 43,
    "start_time": "2022-12-26T06:30:20.519Z"
   },
   {
    "duration": 22,
    "start_time": "2022-12-26T06:30:20.564Z"
   },
   {
    "duration": 19,
    "start_time": "2022-12-26T06:30:20.588Z"
   },
   {
    "duration": 134,
    "start_time": "2022-12-26T06:30:20.609Z"
   },
   {
    "duration": 12,
    "start_time": "2022-12-26T06:30:20.745Z"
   },
   {
    "duration": 32,
    "start_time": "2022-12-26T06:30:20.759Z"
   },
   {
    "duration": 48,
    "start_time": "2022-12-26T06:30:20.792Z"
   },
   {
    "duration": 16,
    "start_time": "2022-12-26T06:30:20.841Z"
   },
   {
    "duration": 9,
    "start_time": "2022-12-26T06:30:20.859Z"
   },
   {
    "duration": 41,
    "start_time": "2022-12-26T06:30:20.870Z"
   },
   {
    "duration": 4,
    "start_time": "2022-12-26T06:30:20.913Z"
   },
   {
    "duration": 23,
    "start_time": "2022-12-26T06:30:20.919Z"
   },
   {
    "duration": 7,
    "start_time": "2022-12-26T06:30:20.952Z"
   },
   {
    "duration": 14,
    "start_time": "2022-12-26T06:30:20.961Z"
   },
   {
    "duration": 180,
    "start_time": "2022-12-26T06:30:20.977Z"
   },
   {
    "duration": 41,
    "start_time": "2022-12-26T06:30:21.159Z"
   },
   {
    "duration": 12,
    "start_time": "2022-12-26T06:30:21.202Z"
   },
   {
    "duration": 79,
    "start_time": "2022-12-26T06:30:21.216Z"
   },
   {
    "duration": 12,
    "start_time": "2022-12-26T06:30:21.296Z"
   },
   {
    "duration": 161,
    "start_time": "2022-12-26T06:30:21.310Z"
   },
   {
    "duration": 17,
    "start_time": "2022-12-26T06:30:21.472Z"
   },
   {
    "duration": 214,
    "start_time": "2022-12-26T06:30:21.491Z"
   },
   {
    "duration": 11,
    "start_time": "2022-12-26T06:30:21.707Z"
   },
   {
    "duration": 25,
    "start_time": "2022-12-26T06:30:21.720Z"
   },
   {
    "duration": 22,
    "start_time": "2022-12-26T06:30:21.746Z"
   },
   {
    "duration": 164,
    "start_time": "2022-12-26T06:30:21.770Z"
   },
   {
    "duration": 7,
    "start_time": "2022-12-26T06:30:21.935Z"
   },
   {
    "duration": 4,
    "start_time": "2022-12-26T06:30:21.951Z"
   },
   {
    "duration": 13,
    "start_time": "2022-12-26T06:30:21.956Z"
   },
   {
    "duration": 33,
    "start_time": "2022-12-26T06:30:21.971Z"
   },
   {
    "duration": 12,
    "start_time": "2022-12-26T06:31:11.636Z"
   },
   {
    "duration": 1294,
    "start_time": "2022-12-26T06:32:38.373Z"
   },
   {
    "duration": 13,
    "start_time": "2022-12-26T06:32:47.437Z"
   },
   {
    "duration": 21,
    "start_time": "2022-12-26T06:33:10.713Z"
   },
   {
    "duration": 14,
    "start_time": "2022-12-26T06:33:27.550Z"
   },
   {
    "duration": 84,
    "start_time": "2022-12-26T06:35:43.488Z"
   },
   {
    "duration": 15,
    "start_time": "2022-12-26T06:35:53.761Z"
   },
   {
    "duration": 26,
    "start_time": "2022-12-26T06:36:53.483Z"
   },
   {
    "duration": 26,
    "start_time": "2022-12-26T06:37:40.864Z"
   },
   {
    "duration": 17,
    "start_time": "2022-12-26T06:38:25.007Z"
   },
   {
    "duration": 1185,
    "start_time": "2022-12-26T06:38:46.317Z"
   },
   {
    "duration": 16,
    "start_time": "2022-12-26T06:39:42.879Z"
   },
   {
    "duration": 17,
    "start_time": "2022-12-26T06:40:31.205Z"
   },
   {
    "duration": 54,
    "start_time": "2022-12-26T06:40:43.480Z"
   },
   {
    "duration": 54,
    "start_time": "2022-12-26T06:40:55.416Z"
   },
   {
    "duration": 52,
    "start_time": "2022-12-26T06:41:05.673Z"
   },
   {
    "duration": 54,
    "start_time": "2022-12-26T06:41:26.458Z"
   },
   {
    "duration": 16,
    "start_time": "2022-12-26T06:41:54.300Z"
   },
   {
    "duration": 51,
    "start_time": "2022-12-26T06:41:57.640Z"
   },
   {
    "duration": 53,
    "start_time": "2022-12-26T06:43:06.507Z"
   },
   {
    "duration": 50,
    "start_time": "2022-12-26T06:46:14.254Z"
   },
   {
    "duration": 52,
    "start_time": "2022-12-26T06:46:20.746Z"
   },
   {
    "duration": 48,
    "start_time": "2022-12-26T06:46:28.451Z"
   },
   {
    "duration": 54,
    "start_time": "2022-12-26T06:46:32.179Z"
   },
   {
    "duration": 51,
    "start_time": "2022-12-26T06:46:36.833Z"
   },
   {
    "duration": 58,
    "start_time": "2022-12-26T06:46:50.245Z"
   },
   {
    "duration": 53,
    "start_time": "2022-12-26T06:46:55.213Z"
   },
   {
    "duration": 114,
    "start_time": "2022-12-26T06:47:06.339Z"
   },
   {
    "duration": 53,
    "start_time": "2022-12-26T06:47:11.039Z"
   },
   {
    "duration": 56,
    "start_time": "2022-12-26T06:47:28.495Z"
   },
   {
    "duration": 1406,
    "start_time": "2022-12-26T06:50:46.990Z"
   },
   {
    "duration": 4,
    "start_time": "2022-12-26T06:50:48.398Z"
   },
   {
    "duration": 67,
    "start_time": "2022-12-26T06:50:48.404Z"
   },
   {
    "duration": 15,
    "start_time": "2022-12-26T06:50:48.473Z"
   },
   {
    "duration": 239,
    "start_time": "2022-12-26T06:50:48.491Z"
   },
   {
    "duration": 20,
    "start_time": "2022-12-26T06:50:48.732Z"
   },
   {
    "duration": 13,
    "start_time": "2022-12-26T06:50:48.753Z"
   },
   {
    "duration": 21,
    "start_time": "2022-12-26T06:50:48.768Z"
   },
   {
    "duration": 9,
    "start_time": "2022-12-26T06:50:48.791Z"
   },
   {
    "duration": 6,
    "start_time": "2022-12-26T06:50:48.801Z"
   },
   {
    "duration": 13,
    "start_time": "2022-12-26T06:50:48.809Z"
   },
   {
    "duration": 12,
    "start_time": "2022-12-26T06:50:48.852Z"
   },
   {
    "duration": 8,
    "start_time": "2022-12-26T06:50:48.866Z"
   },
   {
    "duration": 6,
    "start_time": "2022-12-26T06:50:48.880Z"
   },
   {
    "duration": 11,
    "start_time": "2022-12-26T06:50:48.888Z"
   },
   {
    "duration": 10,
    "start_time": "2022-12-26T06:50:48.901Z"
   },
   {
    "duration": 39,
    "start_time": "2022-12-26T06:50:48.913Z"
   },
   {
    "duration": 51,
    "start_time": "2022-12-26T06:50:48.954Z"
   },
   {
    "duration": 47,
    "start_time": "2022-12-26T06:50:49.007Z"
   },
   {
    "duration": 6,
    "start_time": "2022-12-26T06:50:49.056Z"
   },
   {
    "duration": 36,
    "start_time": "2022-12-26T06:50:49.065Z"
   },
   {
    "duration": 84,
    "start_time": "2022-12-26T06:50:49.103Z"
   },
   {
    "duration": 96,
    "start_time": "2022-12-26T06:50:49.189Z"
   },
   {
    "duration": 74,
    "start_time": "2022-12-26T06:50:49.287Z"
   },
   {
    "duration": 7,
    "start_time": "2022-12-26T06:50:49.363Z"
   },
   {
    "duration": 16,
    "start_time": "2022-12-26T06:50:49.372Z"
   },
   {
    "duration": 420,
    "start_time": "2022-12-26T06:50:49.390Z"
   },
   {
    "duration": 13,
    "start_time": "2022-12-26T06:50:49.813Z"
   },
   {
    "duration": 65,
    "start_time": "2022-12-26T06:50:49.828Z"
   },
   {
    "duration": 105,
    "start_time": "2022-12-26T06:50:49.895Z"
   },
   {
    "duration": 6,
    "start_time": "2022-12-26T06:50:50.002Z"
   },
   {
    "duration": 45,
    "start_time": "2022-12-26T06:50:50.009Z"
   },
   {
    "duration": 64,
    "start_time": "2022-12-26T06:50:50.056Z"
   },
   {
    "duration": 11,
    "start_time": "2022-12-26T06:50:50.122Z"
   },
   {
    "duration": 32,
    "start_time": "2022-12-26T06:50:50.135Z"
   },
   {
    "duration": 39,
    "start_time": "2022-12-26T06:50:50.169Z"
   },
   {
    "duration": 20,
    "start_time": "2022-12-26T06:50:50.210Z"
   },
   {
    "duration": 41,
    "start_time": "2022-12-26T06:50:50.232Z"
   },
   {
    "duration": 28,
    "start_time": "2022-12-26T06:50:50.275Z"
   },
   {
    "duration": 16,
    "start_time": "2022-12-26T06:50:50.305Z"
   },
   {
    "duration": 40,
    "start_time": "2022-12-26T06:50:50.325Z"
   },
   {
    "duration": 18,
    "start_time": "2022-12-26T06:50:50.367Z"
   },
   {
    "duration": 25,
    "start_time": "2022-12-26T06:50:50.387Z"
   },
   {
    "duration": 38,
    "start_time": "2022-12-26T06:50:50.414Z"
   },
   {
    "duration": 112,
    "start_time": "2022-12-26T06:50:50.454Z"
   },
   {
    "duration": 20,
    "start_time": "2022-12-26T06:50:50.568Z"
   },
   {
    "duration": 33,
    "start_time": "2022-12-26T06:50:50.590Z"
   },
   {
    "duration": 69,
    "start_time": "2022-12-26T06:50:50.625Z"
   },
   {
    "duration": 9,
    "start_time": "2022-12-26T06:50:50.696Z"
   },
   {
    "duration": 15,
    "start_time": "2022-12-26T06:50:50.707Z"
   },
   {
    "duration": 27,
    "start_time": "2022-12-26T06:50:50.724Z"
   },
   {
    "duration": 7,
    "start_time": "2022-12-26T06:50:50.753Z"
   },
   {
    "duration": 32,
    "start_time": "2022-12-26T06:50:50.761Z"
   },
   {
    "duration": 7,
    "start_time": "2022-12-26T06:50:50.795Z"
   },
   {
    "duration": 29,
    "start_time": "2022-12-26T06:50:50.804Z"
   },
   {
    "duration": 179,
    "start_time": "2022-12-26T06:50:50.835Z"
   },
   {
    "duration": 71,
    "start_time": "2022-12-26T06:50:51.016Z"
   },
   {
    "duration": 16,
    "start_time": "2022-12-26T06:50:51.089Z"
   },
   {
    "duration": 72,
    "start_time": "2022-12-26T06:50:51.107Z"
   },
   {
    "duration": 12,
    "start_time": "2022-12-26T06:50:51.180Z"
   },
   {
    "duration": 166,
    "start_time": "2022-12-26T06:50:51.193Z"
   },
   {
    "duration": 16,
    "start_time": "2022-12-26T06:50:51.361Z"
   },
   {
    "duration": 218,
    "start_time": "2022-12-26T06:50:51.378Z"
   },
   {
    "duration": 15,
    "start_time": "2022-12-26T06:50:51.598Z"
   },
   {
    "duration": 11,
    "start_time": "2022-12-26T06:50:51.616Z"
   },
   {
    "duration": 40,
    "start_time": "2022-12-26T06:50:51.628Z"
   },
   {
    "duration": 170,
    "start_time": "2022-12-26T06:50:51.670Z"
   },
   {
    "duration": 11,
    "start_time": "2022-12-26T06:50:51.842Z"
   },
   {
    "duration": 3,
    "start_time": "2022-12-26T06:50:51.855Z"
   },
   {
    "duration": 8,
    "start_time": "2022-12-26T06:50:51.860Z"
   },
   {
    "duration": 35,
    "start_time": "2022-12-26T06:50:51.870Z"
   },
   {
    "duration": 1408,
    "start_time": "2022-12-26T07:01:40.840Z"
   },
   {
    "duration": 3,
    "start_time": "2022-12-26T07:01:42.251Z"
   },
   {
    "duration": 49,
    "start_time": "2022-12-26T07:01:42.256Z"
   },
   {
    "duration": 15,
    "start_time": "2022-12-26T07:01:42.307Z"
   },
   {
    "duration": 229,
    "start_time": "2022-12-26T07:01:42.325Z"
   },
   {
    "duration": 12,
    "start_time": "2022-12-26T07:01:42.556Z"
   },
   {
    "duration": 16,
    "start_time": "2022-12-26T07:01:42.570Z"
   },
   {
    "duration": 27,
    "start_time": "2022-12-26T07:01:42.589Z"
   },
   {
    "duration": 19,
    "start_time": "2022-12-26T07:01:42.618Z"
   },
   {
    "duration": 14,
    "start_time": "2022-12-26T07:01:42.639Z"
   },
   {
    "duration": 18,
    "start_time": "2022-12-26T07:01:42.655Z"
   },
   {
    "duration": 18,
    "start_time": "2022-12-26T07:01:42.675Z"
   },
   {
    "duration": 16,
    "start_time": "2022-12-26T07:01:42.695Z"
   },
   {
    "duration": 19,
    "start_time": "2022-12-26T07:01:42.715Z"
   },
   {
    "duration": 20,
    "start_time": "2022-12-26T07:01:42.736Z"
   },
   {
    "duration": 9,
    "start_time": "2022-12-26T07:01:42.758Z"
   },
   {
    "duration": 33,
    "start_time": "2022-12-26T07:01:42.769Z"
   },
   {
    "duration": 63,
    "start_time": "2022-12-26T07:01:42.805Z"
   },
   {
    "duration": 38,
    "start_time": "2022-12-26T07:01:42.869Z"
   },
   {
    "duration": 8,
    "start_time": "2022-12-26T07:01:42.909Z"
   },
   {
    "duration": 43,
    "start_time": "2022-12-26T07:01:42.918Z"
   },
   {
    "duration": 71,
    "start_time": "2022-12-26T07:01:42.963Z"
   },
   {
    "duration": 80,
    "start_time": "2022-12-26T07:01:43.035Z"
   },
   {
    "duration": 64,
    "start_time": "2022-12-26T07:01:43.117Z"
   },
   {
    "duration": 6,
    "start_time": "2022-12-26T07:01:43.183Z"
   },
   {
    "duration": 14,
    "start_time": "2022-12-26T07:01:43.191Z"
   },
   {
    "duration": 375,
    "start_time": "2022-12-26T07:01:43.207Z"
   },
   {
    "duration": 11,
    "start_time": "2022-12-26T07:01:43.583Z"
   },
   {
    "duration": 83,
    "start_time": "2022-12-26T07:01:43.596Z"
   },
   {
    "duration": 92,
    "start_time": "2022-12-26T07:01:43.681Z"
   },
   {
    "duration": 5,
    "start_time": "2022-12-26T07:01:43.774Z"
   },
   {
    "duration": 17,
    "start_time": "2022-12-26T07:01:43.781Z"
   },
   {
    "duration": 59,
    "start_time": "2022-12-26T07:01:43.800Z"
   },
   {
    "duration": 12,
    "start_time": "2022-12-26T07:01:43.860Z"
   },
   {
    "duration": 11,
    "start_time": "2022-12-26T07:01:43.873Z"
   },
   {
    "duration": 21,
    "start_time": "2022-12-26T07:01:43.885Z"
   },
   {
    "duration": 44,
    "start_time": "2022-12-26T07:01:43.907Z"
   },
   {
    "duration": 17,
    "start_time": "2022-12-26T07:01:43.953Z"
   },
   {
    "duration": 20,
    "start_time": "2022-12-26T07:01:43.972Z"
   },
   {
    "duration": 13,
    "start_time": "2022-12-26T07:01:43.994Z"
   },
   {
    "duration": 45,
    "start_time": "2022-12-26T07:01:44.011Z"
   },
   {
    "duration": 17,
    "start_time": "2022-12-26T07:01:44.058Z"
   },
   {
    "duration": 22,
    "start_time": "2022-12-26T07:01:44.077Z"
   },
   {
    "duration": 53,
    "start_time": "2022-12-26T07:01:44.101Z"
   },
   {
    "duration": 124,
    "start_time": "2022-12-26T07:01:44.156Z"
   },
   {
    "duration": 8,
    "start_time": "2022-12-26T07:01:44.282Z"
   },
   {
    "duration": 23,
    "start_time": "2022-12-26T07:01:44.291Z"
   },
   {
    "duration": 74,
    "start_time": "2022-12-26T07:01:44.315Z"
   },
   {
    "duration": 9,
    "start_time": "2022-12-26T07:01:44.390Z"
   },
   {
    "duration": 4,
    "start_time": "2022-12-26T07:01:44.401Z"
   },
   {
    "duration": 22,
    "start_time": "2022-12-26T07:01:44.406Z"
   },
   {
    "duration": 23,
    "start_time": "2022-12-26T07:01:44.429Z"
   },
   {
    "duration": 22,
    "start_time": "2022-12-26T07:01:44.454Z"
   },
   {
    "duration": 6,
    "start_time": "2022-12-26T07:01:44.478Z"
   },
   {
    "duration": 19,
    "start_time": "2022-12-26T07:01:44.486Z"
   },
   {
    "duration": 195,
    "start_time": "2022-12-26T07:01:44.506Z"
   },
   {
    "duration": 51,
    "start_time": "2022-12-26T07:01:44.702Z"
   },
   {
    "duration": 17,
    "start_time": "2022-12-26T07:01:44.756Z"
   },
   {
    "duration": 86,
    "start_time": "2022-12-26T07:01:44.775Z"
   },
   {
    "duration": 12,
    "start_time": "2022-12-26T07:01:44.863Z"
   },
   {
    "duration": 164,
    "start_time": "2022-12-26T07:01:44.876Z"
   },
   {
    "duration": 22,
    "start_time": "2022-12-26T07:01:45.042Z"
   },
   {
    "duration": 229,
    "start_time": "2022-12-26T07:01:45.066Z"
   },
   {
    "duration": 16,
    "start_time": "2022-12-26T07:01:45.297Z"
   },
   {
    "duration": 14,
    "start_time": "2022-12-26T07:01:45.315Z"
   },
   {
    "duration": 18,
    "start_time": "2022-12-26T07:01:45.352Z"
   },
   {
    "duration": 169,
    "start_time": "2022-12-26T07:01:45.373Z"
   },
   {
    "duration": 11,
    "start_time": "2022-12-26T07:01:45.543Z"
   },
   {
    "duration": 13,
    "start_time": "2022-12-26T07:01:45.555Z"
   },
   {
    "duration": 18,
    "start_time": "2022-12-26T07:01:45.570Z"
   },
   {
    "duration": 38,
    "start_time": "2022-12-26T07:01:45.590Z"
   }
  ],
  "celltoolbar": "Raw Cell Format",
  "kernelspec": {
   "display_name": "Python 3 (ipykernel)",
   "language": "python",
   "name": "python3"
  },
  "language_info": {
   "codemirror_mode": {
    "name": "ipython",
    "version": 3
   },
   "file_extension": ".py",
   "mimetype": "text/x-python",
   "name": "python",
   "nbconvert_exporter": "python",
   "pygments_lexer": "ipython3",
   "version": "3.9.12"
  },
  "toc": {
   "base_numbering": 1,
   "nav_menu": {},
   "number_sections": true,
   "sideBar": true,
   "skip_h1_title": true,
   "title_cell": "Table of Contents",
   "title_sidebar": "Contents",
   "toc_cell": false,
   "toc_position": {},
   "toc_section_display": true,
   "toc_window_display": true
  }
 },
 "nbformat": 4,
 "nbformat_minor": 2
}
